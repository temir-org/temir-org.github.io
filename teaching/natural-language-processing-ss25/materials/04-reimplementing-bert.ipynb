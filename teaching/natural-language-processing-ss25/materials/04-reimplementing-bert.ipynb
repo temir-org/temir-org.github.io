{
  "nbformat": 4,
  "nbformat_minor": 0,
  "metadata": {
    "colab": {
      "provenance": []
    },
    "kernelspec": {
      "name": "python3",
      "display_name": "Python 3"
    },
    "language_info": {
      "name": "python"
    },
    "widgets": {
      "application/vnd.jupyter.widget-state+json": {
        "341bf73f95cf4073b0f6ef4dbb894bb2": {
          "model_module": "@jupyter-widgets/controls",
          "model_name": "HBoxModel",
          "model_module_version": "1.5.0",
          "state": {
            "_dom_classes": [],
            "_model_module": "@jupyter-widgets/controls",
            "_model_module_version": "1.5.0",
            "_model_name": "HBoxModel",
            "_view_count": null,
            "_view_module": "@jupyter-widgets/controls",
            "_view_module_version": "1.5.0",
            "_view_name": "HBoxView",
            "box_style": "",
            "children": [
              "IPY_MODEL_8eca2e89185b4fd2a6ce2b01ec240929",
              "IPY_MODEL_cdad19153fde4d6486f4f4940e7f8432",
              "IPY_MODEL_96e6dc6340e74c3c8fbe002a1ee19caa"
            ],
            "layout": "IPY_MODEL_286d707a52d04d9e848af53b956a8824"
          }
        },
        "8eca2e89185b4fd2a6ce2b01ec240929": {
          "model_module": "@jupyter-widgets/controls",
          "model_name": "HTMLModel",
          "model_module_version": "1.5.0",
          "state": {
            "_dom_classes": [],
            "_model_module": "@jupyter-widgets/controls",
            "_model_module_version": "1.5.0",
            "_model_name": "HTMLModel",
            "_view_count": null,
            "_view_module": "@jupyter-widgets/controls",
            "_view_module_version": "1.5.0",
            "_view_name": "HTMLView",
            "description": "",
            "description_tooltip": null,
            "layout": "IPY_MODEL_c992e66871d143ffb0d90299d70d9d3d",
            "placeholder": "​",
            "style": "IPY_MODEL_fc9e85315aed4b438c40e31fcfa3bef1",
            "value": "tokenizer_config.json: 100%"
          }
        },
        "cdad19153fde4d6486f4f4940e7f8432": {
          "model_module": "@jupyter-widgets/controls",
          "model_name": "FloatProgressModel",
          "model_module_version": "1.5.0",
          "state": {
            "_dom_classes": [],
            "_model_module": "@jupyter-widgets/controls",
            "_model_module_version": "1.5.0",
            "_model_name": "FloatProgressModel",
            "_view_count": null,
            "_view_module": "@jupyter-widgets/controls",
            "_view_module_version": "1.5.0",
            "_view_name": "ProgressView",
            "bar_style": "success",
            "description": "",
            "description_tooltip": null,
            "layout": "IPY_MODEL_3ef05975eeae49659027837765259819",
            "max": 48,
            "min": 0,
            "orientation": "horizontal",
            "style": "IPY_MODEL_38ede7224a4b4d0aa46d681c01788c94",
            "value": 48
          }
        },
        "96e6dc6340e74c3c8fbe002a1ee19caa": {
          "model_module": "@jupyter-widgets/controls",
          "model_name": "HTMLModel",
          "model_module_version": "1.5.0",
          "state": {
            "_dom_classes": [],
            "_model_module": "@jupyter-widgets/controls",
            "_model_module_version": "1.5.0",
            "_model_name": "HTMLModel",
            "_view_count": null,
            "_view_module": "@jupyter-widgets/controls",
            "_view_module_version": "1.5.0",
            "_view_name": "HTMLView",
            "description": "",
            "description_tooltip": null,
            "layout": "IPY_MODEL_f32d1b872ed046af9618f789b55279bc",
            "placeholder": "​",
            "style": "IPY_MODEL_a0513ab7865b4d29aec47f1bfa2a3f20",
            "value": " 48.0/48.0 [00:00&lt;00:00, 3.69kB/s]"
          }
        },
        "286d707a52d04d9e848af53b956a8824": {
          "model_module": "@jupyter-widgets/base",
          "model_name": "LayoutModel",
          "model_module_version": "1.2.0",
          "state": {
            "_model_module": "@jupyter-widgets/base",
            "_model_module_version": "1.2.0",
            "_model_name": "LayoutModel",
            "_view_count": null,
            "_view_module": "@jupyter-widgets/base",
            "_view_module_version": "1.2.0",
            "_view_name": "LayoutView",
            "align_content": null,
            "align_items": null,
            "align_self": null,
            "border": null,
            "bottom": null,
            "display": null,
            "flex": null,
            "flex_flow": null,
            "grid_area": null,
            "grid_auto_columns": null,
            "grid_auto_flow": null,
            "grid_auto_rows": null,
            "grid_column": null,
            "grid_gap": null,
            "grid_row": null,
            "grid_template_areas": null,
            "grid_template_columns": null,
            "grid_template_rows": null,
            "height": null,
            "justify_content": null,
            "justify_items": null,
            "left": null,
            "margin": null,
            "max_height": null,
            "max_width": null,
            "min_height": null,
            "min_width": null,
            "object_fit": null,
            "object_position": null,
            "order": null,
            "overflow": null,
            "overflow_x": null,
            "overflow_y": null,
            "padding": null,
            "right": null,
            "top": null,
            "visibility": null,
            "width": null
          }
        },
        "c992e66871d143ffb0d90299d70d9d3d": {
          "model_module": "@jupyter-widgets/base",
          "model_name": "LayoutModel",
          "model_module_version": "1.2.0",
          "state": {
            "_model_module": "@jupyter-widgets/base",
            "_model_module_version": "1.2.0",
            "_model_name": "LayoutModel",
            "_view_count": null,
            "_view_module": "@jupyter-widgets/base",
            "_view_module_version": "1.2.0",
            "_view_name": "LayoutView",
            "align_content": null,
            "align_items": null,
            "align_self": null,
            "border": null,
            "bottom": null,
            "display": null,
            "flex": null,
            "flex_flow": null,
            "grid_area": null,
            "grid_auto_columns": null,
            "grid_auto_flow": null,
            "grid_auto_rows": null,
            "grid_column": null,
            "grid_gap": null,
            "grid_row": null,
            "grid_template_areas": null,
            "grid_template_columns": null,
            "grid_template_rows": null,
            "height": null,
            "justify_content": null,
            "justify_items": null,
            "left": null,
            "margin": null,
            "max_height": null,
            "max_width": null,
            "min_height": null,
            "min_width": null,
            "object_fit": null,
            "object_position": null,
            "order": null,
            "overflow": null,
            "overflow_x": null,
            "overflow_y": null,
            "padding": null,
            "right": null,
            "top": null,
            "visibility": null,
            "width": null
          }
        },
        "fc9e85315aed4b438c40e31fcfa3bef1": {
          "model_module": "@jupyter-widgets/controls",
          "model_name": "DescriptionStyleModel",
          "model_module_version": "1.5.0",
          "state": {
            "_model_module": "@jupyter-widgets/controls",
            "_model_module_version": "1.5.0",
            "_model_name": "DescriptionStyleModel",
            "_view_count": null,
            "_view_module": "@jupyter-widgets/base",
            "_view_module_version": "1.2.0",
            "_view_name": "StyleView",
            "description_width": ""
          }
        },
        "3ef05975eeae49659027837765259819": {
          "model_module": "@jupyter-widgets/base",
          "model_name": "LayoutModel",
          "model_module_version": "1.2.0",
          "state": {
            "_model_module": "@jupyter-widgets/base",
            "_model_module_version": "1.2.0",
            "_model_name": "LayoutModel",
            "_view_count": null,
            "_view_module": "@jupyter-widgets/base",
            "_view_module_version": "1.2.0",
            "_view_name": "LayoutView",
            "align_content": null,
            "align_items": null,
            "align_self": null,
            "border": null,
            "bottom": null,
            "display": null,
            "flex": null,
            "flex_flow": null,
            "grid_area": null,
            "grid_auto_columns": null,
            "grid_auto_flow": null,
            "grid_auto_rows": null,
            "grid_column": null,
            "grid_gap": null,
            "grid_row": null,
            "grid_template_areas": null,
            "grid_template_columns": null,
            "grid_template_rows": null,
            "height": null,
            "justify_content": null,
            "justify_items": null,
            "left": null,
            "margin": null,
            "max_height": null,
            "max_width": null,
            "min_height": null,
            "min_width": null,
            "object_fit": null,
            "object_position": null,
            "order": null,
            "overflow": null,
            "overflow_x": null,
            "overflow_y": null,
            "padding": null,
            "right": null,
            "top": null,
            "visibility": null,
            "width": null
          }
        },
        "38ede7224a4b4d0aa46d681c01788c94": {
          "model_module": "@jupyter-widgets/controls",
          "model_name": "ProgressStyleModel",
          "model_module_version": "1.5.0",
          "state": {
            "_model_module": "@jupyter-widgets/controls",
            "_model_module_version": "1.5.0",
            "_model_name": "ProgressStyleModel",
            "_view_count": null,
            "_view_module": "@jupyter-widgets/base",
            "_view_module_version": "1.2.0",
            "_view_name": "StyleView",
            "bar_color": null,
            "description_width": ""
          }
        },
        "f32d1b872ed046af9618f789b55279bc": {
          "model_module": "@jupyter-widgets/base",
          "model_name": "LayoutModel",
          "model_module_version": "1.2.0",
          "state": {
            "_model_module": "@jupyter-widgets/base",
            "_model_module_version": "1.2.0",
            "_model_name": "LayoutModel",
            "_view_count": null,
            "_view_module": "@jupyter-widgets/base",
            "_view_module_version": "1.2.0",
            "_view_name": "LayoutView",
            "align_content": null,
            "align_items": null,
            "align_self": null,
            "border": null,
            "bottom": null,
            "display": null,
            "flex": null,
            "flex_flow": null,
            "grid_area": null,
            "grid_auto_columns": null,
            "grid_auto_flow": null,
            "grid_auto_rows": null,
            "grid_column": null,
            "grid_gap": null,
            "grid_row": null,
            "grid_template_areas": null,
            "grid_template_columns": null,
            "grid_template_rows": null,
            "height": null,
            "justify_content": null,
            "justify_items": null,
            "left": null,
            "margin": null,
            "max_height": null,
            "max_width": null,
            "min_height": null,
            "min_width": null,
            "object_fit": null,
            "object_position": null,
            "order": null,
            "overflow": null,
            "overflow_x": null,
            "overflow_y": null,
            "padding": null,
            "right": null,
            "top": null,
            "visibility": null,
            "width": null
          }
        },
        "a0513ab7865b4d29aec47f1bfa2a3f20": {
          "model_module": "@jupyter-widgets/controls",
          "model_name": "DescriptionStyleModel",
          "model_module_version": "1.5.0",
          "state": {
            "_model_module": "@jupyter-widgets/controls",
            "_model_module_version": "1.5.0",
            "_model_name": "DescriptionStyleModel",
            "_view_count": null,
            "_view_module": "@jupyter-widgets/base",
            "_view_module_version": "1.2.0",
            "_view_name": "StyleView",
            "description_width": ""
          }
        },
        "b9a2e636c4d649a1a692bcf00e5bfbe3": {
          "model_module": "@jupyter-widgets/controls",
          "model_name": "HBoxModel",
          "model_module_version": "1.5.0",
          "state": {
            "_dom_classes": [],
            "_model_module": "@jupyter-widgets/controls",
            "_model_module_version": "1.5.0",
            "_model_name": "HBoxModel",
            "_view_count": null,
            "_view_module": "@jupyter-widgets/controls",
            "_view_module_version": "1.5.0",
            "_view_name": "HBoxView",
            "box_style": "",
            "children": [
              "IPY_MODEL_d7314f136ca7403e80937c482e9ef678",
              "IPY_MODEL_532d46c9e4f24c05b62d610099800fd7",
              "IPY_MODEL_e3e9b656d82b443aae1115e9683b5ad4"
            ],
            "layout": "IPY_MODEL_b3b52b9c30b1422caf82e70637664552"
          }
        },
        "d7314f136ca7403e80937c482e9ef678": {
          "model_module": "@jupyter-widgets/controls",
          "model_name": "HTMLModel",
          "model_module_version": "1.5.0",
          "state": {
            "_dom_classes": [],
            "_model_module": "@jupyter-widgets/controls",
            "_model_module_version": "1.5.0",
            "_model_name": "HTMLModel",
            "_view_count": null,
            "_view_module": "@jupyter-widgets/controls",
            "_view_module_version": "1.5.0",
            "_view_name": "HTMLView",
            "description": "",
            "description_tooltip": null,
            "layout": "IPY_MODEL_5703bd1cb3104547bd8fe4f8045e6432",
            "placeholder": "​",
            "style": "IPY_MODEL_b9cf164d3f5c4c0ca7b277460d4cbf69",
            "value": "config.json: 100%"
          }
        },
        "532d46c9e4f24c05b62d610099800fd7": {
          "model_module": "@jupyter-widgets/controls",
          "model_name": "FloatProgressModel",
          "model_module_version": "1.5.0",
          "state": {
            "_dom_classes": [],
            "_model_module": "@jupyter-widgets/controls",
            "_model_module_version": "1.5.0",
            "_model_name": "FloatProgressModel",
            "_view_count": null,
            "_view_module": "@jupyter-widgets/controls",
            "_view_module_version": "1.5.0",
            "_view_name": "ProgressView",
            "bar_style": "success",
            "description": "",
            "description_tooltip": null,
            "layout": "IPY_MODEL_db0a4b33844144d4be1270ae92e250dd",
            "max": 570,
            "min": 0,
            "orientation": "horizontal",
            "style": "IPY_MODEL_9c77917438ff4b8b93f9279d348193fd",
            "value": 570
          }
        },
        "e3e9b656d82b443aae1115e9683b5ad4": {
          "model_module": "@jupyter-widgets/controls",
          "model_name": "HTMLModel",
          "model_module_version": "1.5.0",
          "state": {
            "_dom_classes": [],
            "_model_module": "@jupyter-widgets/controls",
            "_model_module_version": "1.5.0",
            "_model_name": "HTMLModel",
            "_view_count": null,
            "_view_module": "@jupyter-widgets/controls",
            "_view_module_version": "1.5.0",
            "_view_name": "HTMLView",
            "description": "",
            "description_tooltip": null,
            "layout": "IPY_MODEL_95973ca9c48541209f5586ca0e3be986",
            "placeholder": "​",
            "style": "IPY_MODEL_26c55b96fba24e1e98310ca4fbfaa582",
            "value": " 570/570 [00:00&lt;00:00, 39.6kB/s]"
          }
        },
        "b3b52b9c30b1422caf82e70637664552": {
          "model_module": "@jupyter-widgets/base",
          "model_name": "LayoutModel",
          "model_module_version": "1.2.0",
          "state": {
            "_model_module": "@jupyter-widgets/base",
            "_model_module_version": "1.2.0",
            "_model_name": "LayoutModel",
            "_view_count": null,
            "_view_module": "@jupyter-widgets/base",
            "_view_module_version": "1.2.0",
            "_view_name": "LayoutView",
            "align_content": null,
            "align_items": null,
            "align_self": null,
            "border": null,
            "bottom": null,
            "display": null,
            "flex": null,
            "flex_flow": null,
            "grid_area": null,
            "grid_auto_columns": null,
            "grid_auto_flow": null,
            "grid_auto_rows": null,
            "grid_column": null,
            "grid_gap": null,
            "grid_row": null,
            "grid_template_areas": null,
            "grid_template_columns": null,
            "grid_template_rows": null,
            "height": null,
            "justify_content": null,
            "justify_items": null,
            "left": null,
            "margin": null,
            "max_height": null,
            "max_width": null,
            "min_height": null,
            "min_width": null,
            "object_fit": null,
            "object_position": null,
            "order": null,
            "overflow": null,
            "overflow_x": null,
            "overflow_y": null,
            "padding": null,
            "right": null,
            "top": null,
            "visibility": null,
            "width": null
          }
        },
        "5703bd1cb3104547bd8fe4f8045e6432": {
          "model_module": "@jupyter-widgets/base",
          "model_name": "LayoutModel",
          "model_module_version": "1.2.0",
          "state": {
            "_model_module": "@jupyter-widgets/base",
            "_model_module_version": "1.2.0",
            "_model_name": "LayoutModel",
            "_view_count": null,
            "_view_module": "@jupyter-widgets/base",
            "_view_module_version": "1.2.0",
            "_view_name": "LayoutView",
            "align_content": null,
            "align_items": null,
            "align_self": null,
            "border": null,
            "bottom": null,
            "display": null,
            "flex": null,
            "flex_flow": null,
            "grid_area": null,
            "grid_auto_columns": null,
            "grid_auto_flow": null,
            "grid_auto_rows": null,
            "grid_column": null,
            "grid_gap": null,
            "grid_row": null,
            "grid_template_areas": null,
            "grid_template_columns": null,
            "grid_template_rows": null,
            "height": null,
            "justify_content": null,
            "justify_items": null,
            "left": null,
            "margin": null,
            "max_height": null,
            "max_width": null,
            "min_height": null,
            "min_width": null,
            "object_fit": null,
            "object_position": null,
            "order": null,
            "overflow": null,
            "overflow_x": null,
            "overflow_y": null,
            "padding": null,
            "right": null,
            "top": null,
            "visibility": null,
            "width": null
          }
        },
        "b9cf164d3f5c4c0ca7b277460d4cbf69": {
          "model_module": "@jupyter-widgets/controls",
          "model_name": "DescriptionStyleModel",
          "model_module_version": "1.5.0",
          "state": {
            "_model_module": "@jupyter-widgets/controls",
            "_model_module_version": "1.5.0",
            "_model_name": "DescriptionStyleModel",
            "_view_count": null,
            "_view_module": "@jupyter-widgets/base",
            "_view_module_version": "1.2.0",
            "_view_name": "StyleView",
            "description_width": ""
          }
        },
        "db0a4b33844144d4be1270ae92e250dd": {
          "model_module": "@jupyter-widgets/base",
          "model_name": "LayoutModel",
          "model_module_version": "1.2.0",
          "state": {
            "_model_module": "@jupyter-widgets/base",
            "_model_module_version": "1.2.0",
            "_model_name": "LayoutModel",
            "_view_count": null,
            "_view_module": "@jupyter-widgets/base",
            "_view_module_version": "1.2.0",
            "_view_name": "LayoutView",
            "align_content": null,
            "align_items": null,
            "align_self": null,
            "border": null,
            "bottom": null,
            "display": null,
            "flex": null,
            "flex_flow": null,
            "grid_area": null,
            "grid_auto_columns": null,
            "grid_auto_flow": null,
            "grid_auto_rows": null,
            "grid_column": null,
            "grid_gap": null,
            "grid_row": null,
            "grid_template_areas": null,
            "grid_template_columns": null,
            "grid_template_rows": null,
            "height": null,
            "justify_content": null,
            "justify_items": null,
            "left": null,
            "margin": null,
            "max_height": null,
            "max_width": null,
            "min_height": null,
            "min_width": null,
            "object_fit": null,
            "object_position": null,
            "order": null,
            "overflow": null,
            "overflow_x": null,
            "overflow_y": null,
            "padding": null,
            "right": null,
            "top": null,
            "visibility": null,
            "width": null
          }
        },
        "9c77917438ff4b8b93f9279d348193fd": {
          "model_module": "@jupyter-widgets/controls",
          "model_name": "ProgressStyleModel",
          "model_module_version": "1.5.0",
          "state": {
            "_model_module": "@jupyter-widgets/controls",
            "_model_module_version": "1.5.0",
            "_model_name": "ProgressStyleModel",
            "_view_count": null,
            "_view_module": "@jupyter-widgets/base",
            "_view_module_version": "1.2.0",
            "_view_name": "StyleView",
            "bar_color": null,
            "description_width": ""
          }
        },
        "95973ca9c48541209f5586ca0e3be986": {
          "model_module": "@jupyter-widgets/base",
          "model_name": "LayoutModel",
          "model_module_version": "1.2.0",
          "state": {
            "_model_module": "@jupyter-widgets/base",
            "_model_module_version": "1.2.0",
            "_model_name": "LayoutModel",
            "_view_count": null,
            "_view_module": "@jupyter-widgets/base",
            "_view_module_version": "1.2.0",
            "_view_name": "LayoutView",
            "align_content": null,
            "align_items": null,
            "align_self": null,
            "border": null,
            "bottom": null,
            "display": null,
            "flex": null,
            "flex_flow": null,
            "grid_area": null,
            "grid_auto_columns": null,
            "grid_auto_flow": null,
            "grid_auto_rows": null,
            "grid_column": null,
            "grid_gap": null,
            "grid_row": null,
            "grid_template_areas": null,
            "grid_template_columns": null,
            "grid_template_rows": null,
            "height": null,
            "justify_content": null,
            "justify_items": null,
            "left": null,
            "margin": null,
            "max_height": null,
            "max_width": null,
            "min_height": null,
            "min_width": null,
            "object_fit": null,
            "object_position": null,
            "order": null,
            "overflow": null,
            "overflow_x": null,
            "overflow_y": null,
            "padding": null,
            "right": null,
            "top": null,
            "visibility": null,
            "width": null
          }
        },
        "26c55b96fba24e1e98310ca4fbfaa582": {
          "model_module": "@jupyter-widgets/controls",
          "model_name": "DescriptionStyleModel",
          "model_module_version": "1.5.0",
          "state": {
            "_model_module": "@jupyter-widgets/controls",
            "_model_module_version": "1.5.0",
            "_model_name": "DescriptionStyleModel",
            "_view_count": null,
            "_view_module": "@jupyter-widgets/base",
            "_view_module_version": "1.2.0",
            "_view_name": "StyleView",
            "description_width": ""
          }
        },
        "0462f6cc416e4ce7940b0829e46046e7": {
          "model_module": "@jupyter-widgets/controls",
          "model_name": "HBoxModel",
          "model_module_version": "1.5.0",
          "state": {
            "_dom_classes": [],
            "_model_module": "@jupyter-widgets/controls",
            "_model_module_version": "1.5.0",
            "_model_name": "HBoxModel",
            "_view_count": null,
            "_view_module": "@jupyter-widgets/controls",
            "_view_module_version": "1.5.0",
            "_view_name": "HBoxView",
            "box_style": "",
            "children": [
              "IPY_MODEL_f3e95f173c2041b08b4e60f296de0b54",
              "IPY_MODEL_6e1a3018dec74898879cc488d04484e6",
              "IPY_MODEL_a2413558d2b64219817ec45b0d257651"
            ],
            "layout": "IPY_MODEL_7d762e336fcc48f9acc8085f2788a7da"
          }
        },
        "f3e95f173c2041b08b4e60f296de0b54": {
          "model_module": "@jupyter-widgets/controls",
          "model_name": "HTMLModel",
          "model_module_version": "1.5.0",
          "state": {
            "_dom_classes": [],
            "_model_module": "@jupyter-widgets/controls",
            "_model_module_version": "1.5.0",
            "_model_name": "HTMLModel",
            "_view_count": null,
            "_view_module": "@jupyter-widgets/controls",
            "_view_module_version": "1.5.0",
            "_view_name": "HTMLView",
            "description": "",
            "description_tooltip": null,
            "layout": "IPY_MODEL_f352a7642fb44edf83e37ec629896fd9",
            "placeholder": "​",
            "style": "IPY_MODEL_579b163e1bd54ce284d83457cbc43555",
            "value": "vocab.txt: 100%"
          }
        },
        "6e1a3018dec74898879cc488d04484e6": {
          "model_module": "@jupyter-widgets/controls",
          "model_name": "FloatProgressModel",
          "model_module_version": "1.5.0",
          "state": {
            "_dom_classes": [],
            "_model_module": "@jupyter-widgets/controls",
            "_model_module_version": "1.5.0",
            "_model_name": "FloatProgressModel",
            "_view_count": null,
            "_view_module": "@jupyter-widgets/controls",
            "_view_module_version": "1.5.0",
            "_view_name": "ProgressView",
            "bar_style": "success",
            "description": "",
            "description_tooltip": null,
            "layout": "IPY_MODEL_b2e34f1af4a54e988370f25b6385f1ce",
            "max": 231508,
            "min": 0,
            "orientation": "horizontal",
            "style": "IPY_MODEL_d7787d17ea76477992e1f92de0db78dd",
            "value": 231508
          }
        },
        "a2413558d2b64219817ec45b0d257651": {
          "model_module": "@jupyter-widgets/controls",
          "model_name": "HTMLModel",
          "model_module_version": "1.5.0",
          "state": {
            "_dom_classes": [],
            "_model_module": "@jupyter-widgets/controls",
            "_model_module_version": "1.5.0",
            "_model_name": "HTMLModel",
            "_view_count": null,
            "_view_module": "@jupyter-widgets/controls",
            "_view_module_version": "1.5.0",
            "_view_name": "HTMLView",
            "description": "",
            "description_tooltip": null,
            "layout": "IPY_MODEL_1ed3562ad9474d2cbf2739cc7ee3a6ea",
            "placeholder": "​",
            "style": "IPY_MODEL_85726ae322c349c9a7090aab723786da",
            "value": " 232k/232k [00:00&lt;00:00, 5.47MB/s]"
          }
        },
        "7d762e336fcc48f9acc8085f2788a7da": {
          "model_module": "@jupyter-widgets/base",
          "model_name": "LayoutModel",
          "model_module_version": "1.2.0",
          "state": {
            "_model_module": "@jupyter-widgets/base",
            "_model_module_version": "1.2.0",
            "_model_name": "LayoutModel",
            "_view_count": null,
            "_view_module": "@jupyter-widgets/base",
            "_view_module_version": "1.2.0",
            "_view_name": "LayoutView",
            "align_content": null,
            "align_items": null,
            "align_self": null,
            "border": null,
            "bottom": null,
            "display": null,
            "flex": null,
            "flex_flow": null,
            "grid_area": null,
            "grid_auto_columns": null,
            "grid_auto_flow": null,
            "grid_auto_rows": null,
            "grid_column": null,
            "grid_gap": null,
            "grid_row": null,
            "grid_template_areas": null,
            "grid_template_columns": null,
            "grid_template_rows": null,
            "height": null,
            "justify_content": null,
            "justify_items": null,
            "left": null,
            "margin": null,
            "max_height": null,
            "max_width": null,
            "min_height": null,
            "min_width": null,
            "object_fit": null,
            "object_position": null,
            "order": null,
            "overflow": null,
            "overflow_x": null,
            "overflow_y": null,
            "padding": null,
            "right": null,
            "top": null,
            "visibility": null,
            "width": null
          }
        },
        "f352a7642fb44edf83e37ec629896fd9": {
          "model_module": "@jupyter-widgets/base",
          "model_name": "LayoutModel",
          "model_module_version": "1.2.0",
          "state": {
            "_model_module": "@jupyter-widgets/base",
            "_model_module_version": "1.2.0",
            "_model_name": "LayoutModel",
            "_view_count": null,
            "_view_module": "@jupyter-widgets/base",
            "_view_module_version": "1.2.0",
            "_view_name": "LayoutView",
            "align_content": null,
            "align_items": null,
            "align_self": null,
            "border": null,
            "bottom": null,
            "display": null,
            "flex": null,
            "flex_flow": null,
            "grid_area": null,
            "grid_auto_columns": null,
            "grid_auto_flow": null,
            "grid_auto_rows": null,
            "grid_column": null,
            "grid_gap": null,
            "grid_row": null,
            "grid_template_areas": null,
            "grid_template_columns": null,
            "grid_template_rows": null,
            "height": null,
            "justify_content": null,
            "justify_items": null,
            "left": null,
            "margin": null,
            "max_height": null,
            "max_width": null,
            "min_height": null,
            "min_width": null,
            "object_fit": null,
            "object_position": null,
            "order": null,
            "overflow": null,
            "overflow_x": null,
            "overflow_y": null,
            "padding": null,
            "right": null,
            "top": null,
            "visibility": null,
            "width": null
          }
        },
        "579b163e1bd54ce284d83457cbc43555": {
          "model_module": "@jupyter-widgets/controls",
          "model_name": "DescriptionStyleModel",
          "model_module_version": "1.5.0",
          "state": {
            "_model_module": "@jupyter-widgets/controls",
            "_model_module_version": "1.5.0",
            "_model_name": "DescriptionStyleModel",
            "_view_count": null,
            "_view_module": "@jupyter-widgets/base",
            "_view_module_version": "1.2.0",
            "_view_name": "StyleView",
            "description_width": ""
          }
        },
        "b2e34f1af4a54e988370f25b6385f1ce": {
          "model_module": "@jupyter-widgets/base",
          "model_name": "LayoutModel",
          "model_module_version": "1.2.0",
          "state": {
            "_model_module": "@jupyter-widgets/base",
            "_model_module_version": "1.2.0",
            "_model_name": "LayoutModel",
            "_view_count": null,
            "_view_module": "@jupyter-widgets/base",
            "_view_module_version": "1.2.0",
            "_view_name": "LayoutView",
            "align_content": null,
            "align_items": null,
            "align_self": null,
            "border": null,
            "bottom": null,
            "display": null,
            "flex": null,
            "flex_flow": null,
            "grid_area": null,
            "grid_auto_columns": null,
            "grid_auto_flow": null,
            "grid_auto_rows": null,
            "grid_column": null,
            "grid_gap": null,
            "grid_row": null,
            "grid_template_areas": null,
            "grid_template_columns": null,
            "grid_template_rows": null,
            "height": null,
            "justify_content": null,
            "justify_items": null,
            "left": null,
            "margin": null,
            "max_height": null,
            "max_width": null,
            "min_height": null,
            "min_width": null,
            "object_fit": null,
            "object_position": null,
            "order": null,
            "overflow": null,
            "overflow_x": null,
            "overflow_y": null,
            "padding": null,
            "right": null,
            "top": null,
            "visibility": null,
            "width": null
          }
        },
        "d7787d17ea76477992e1f92de0db78dd": {
          "model_module": "@jupyter-widgets/controls",
          "model_name": "ProgressStyleModel",
          "model_module_version": "1.5.0",
          "state": {
            "_model_module": "@jupyter-widgets/controls",
            "_model_module_version": "1.5.0",
            "_model_name": "ProgressStyleModel",
            "_view_count": null,
            "_view_module": "@jupyter-widgets/base",
            "_view_module_version": "1.2.0",
            "_view_name": "StyleView",
            "bar_color": null,
            "description_width": ""
          }
        },
        "1ed3562ad9474d2cbf2739cc7ee3a6ea": {
          "model_module": "@jupyter-widgets/base",
          "model_name": "LayoutModel",
          "model_module_version": "1.2.0",
          "state": {
            "_model_module": "@jupyter-widgets/base",
            "_model_module_version": "1.2.0",
            "_model_name": "LayoutModel",
            "_view_count": null,
            "_view_module": "@jupyter-widgets/base",
            "_view_module_version": "1.2.0",
            "_view_name": "LayoutView",
            "align_content": null,
            "align_items": null,
            "align_self": null,
            "border": null,
            "bottom": null,
            "display": null,
            "flex": null,
            "flex_flow": null,
            "grid_area": null,
            "grid_auto_columns": null,
            "grid_auto_flow": null,
            "grid_auto_rows": null,
            "grid_column": null,
            "grid_gap": null,
            "grid_row": null,
            "grid_template_areas": null,
            "grid_template_columns": null,
            "grid_template_rows": null,
            "height": null,
            "justify_content": null,
            "justify_items": null,
            "left": null,
            "margin": null,
            "max_height": null,
            "max_width": null,
            "min_height": null,
            "min_width": null,
            "object_fit": null,
            "object_position": null,
            "order": null,
            "overflow": null,
            "overflow_x": null,
            "overflow_y": null,
            "padding": null,
            "right": null,
            "top": null,
            "visibility": null,
            "width": null
          }
        },
        "85726ae322c349c9a7090aab723786da": {
          "model_module": "@jupyter-widgets/controls",
          "model_name": "DescriptionStyleModel",
          "model_module_version": "1.5.0",
          "state": {
            "_model_module": "@jupyter-widgets/controls",
            "_model_module_version": "1.5.0",
            "_model_name": "DescriptionStyleModel",
            "_view_count": null,
            "_view_module": "@jupyter-widgets/base",
            "_view_module_version": "1.2.0",
            "_view_name": "StyleView",
            "description_width": ""
          }
        },
        "361ea9a2465347dc99b7be2468032e75": {
          "model_module": "@jupyter-widgets/controls",
          "model_name": "HBoxModel",
          "model_module_version": "1.5.0",
          "state": {
            "_dom_classes": [],
            "_model_module": "@jupyter-widgets/controls",
            "_model_module_version": "1.5.0",
            "_model_name": "HBoxModel",
            "_view_count": null,
            "_view_module": "@jupyter-widgets/controls",
            "_view_module_version": "1.5.0",
            "_view_name": "HBoxView",
            "box_style": "",
            "children": [
              "IPY_MODEL_f9d4d51786004f1095f52e9adcc6fb69",
              "IPY_MODEL_28805e8831be498bb5f0095dc1a7cdc2",
              "IPY_MODEL_17d5491e9efe4bcbb9040aa6f9fbfb45"
            ],
            "layout": "IPY_MODEL_681a864ec548443c9b5a749bab0a4951"
          }
        },
        "f9d4d51786004f1095f52e9adcc6fb69": {
          "model_module": "@jupyter-widgets/controls",
          "model_name": "HTMLModel",
          "model_module_version": "1.5.0",
          "state": {
            "_dom_classes": [],
            "_model_module": "@jupyter-widgets/controls",
            "_model_module_version": "1.5.0",
            "_model_name": "HTMLModel",
            "_view_count": null,
            "_view_module": "@jupyter-widgets/controls",
            "_view_module_version": "1.5.0",
            "_view_name": "HTMLView",
            "description": "",
            "description_tooltip": null,
            "layout": "IPY_MODEL_69bbca97aeea437da1f1ee47dd0278bc",
            "placeholder": "​",
            "style": "IPY_MODEL_edc94978b90245d6937d13e580ae013e",
            "value": "tokenizer.json: 100%"
          }
        },
        "28805e8831be498bb5f0095dc1a7cdc2": {
          "model_module": "@jupyter-widgets/controls",
          "model_name": "FloatProgressModel",
          "model_module_version": "1.5.0",
          "state": {
            "_dom_classes": [],
            "_model_module": "@jupyter-widgets/controls",
            "_model_module_version": "1.5.0",
            "_model_name": "FloatProgressModel",
            "_view_count": null,
            "_view_module": "@jupyter-widgets/controls",
            "_view_module_version": "1.5.0",
            "_view_name": "ProgressView",
            "bar_style": "success",
            "description": "",
            "description_tooltip": null,
            "layout": "IPY_MODEL_928f16a468344ca4b16fde4abd8a24be",
            "max": 466062,
            "min": 0,
            "orientation": "horizontal",
            "style": "IPY_MODEL_fce4dee968a3406cace779f9f156c30e",
            "value": 466062
          }
        },
        "17d5491e9efe4bcbb9040aa6f9fbfb45": {
          "model_module": "@jupyter-widgets/controls",
          "model_name": "HTMLModel",
          "model_module_version": "1.5.0",
          "state": {
            "_dom_classes": [],
            "_model_module": "@jupyter-widgets/controls",
            "_model_module_version": "1.5.0",
            "_model_name": "HTMLModel",
            "_view_count": null,
            "_view_module": "@jupyter-widgets/controls",
            "_view_module_version": "1.5.0",
            "_view_name": "HTMLView",
            "description": "",
            "description_tooltip": null,
            "layout": "IPY_MODEL_480ddbbe66624d8d92b59bbc283723bf",
            "placeholder": "​",
            "style": "IPY_MODEL_d90571b66c494b80b64430ebe53d025c",
            "value": " 466k/466k [00:00&lt;00:00, 14.8MB/s]"
          }
        },
        "681a864ec548443c9b5a749bab0a4951": {
          "model_module": "@jupyter-widgets/base",
          "model_name": "LayoutModel",
          "model_module_version": "1.2.0",
          "state": {
            "_model_module": "@jupyter-widgets/base",
            "_model_module_version": "1.2.0",
            "_model_name": "LayoutModel",
            "_view_count": null,
            "_view_module": "@jupyter-widgets/base",
            "_view_module_version": "1.2.0",
            "_view_name": "LayoutView",
            "align_content": null,
            "align_items": null,
            "align_self": null,
            "border": null,
            "bottom": null,
            "display": null,
            "flex": null,
            "flex_flow": null,
            "grid_area": null,
            "grid_auto_columns": null,
            "grid_auto_flow": null,
            "grid_auto_rows": null,
            "grid_column": null,
            "grid_gap": null,
            "grid_row": null,
            "grid_template_areas": null,
            "grid_template_columns": null,
            "grid_template_rows": null,
            "height": null,
            "justify_content": null,
            "justify_items": null,
            "left": null,
            "margin": null,
            "max_height": null,
            "max_width": null,
            "min_height": null,
            "min_width": null,
            "object_fit": null,
            "object_position": null,
            "order": null,
            "overflow": null,
            "overflow_x": null,
            "overflow_y": null,
            "padding": null,
            "right": null,
            "top": null,
            "visibility": null,
            "width": null
          }
        },
        "69bbca97aeea437da1f1ee47dd0278bc": {
          "model_module": "@jupyter-widgets/base",
          "model_name": "LayoutModel",
          "model_module_version": "1.2.0",
          "state": {
            "_model_module": "@jupyter-widgets/base",
            "_model_module_version": "1.2.0",
            "_model_name": "LayoutModel",
            "_view_count": null,
            "_view_module": "@jupyter-widgets/base",
            "_view_module_version": "1.2.0",
            "_view_name": "LayoutView",
            "align_content": null,
            "align_items": null,
            "align_self": null,
            "border": null,
            "bottom": null,
            "display": null,
            "flex": null,
            "flex_flow": null,
            "grid_area": null,
            "grid_auto_columns": null,
            "grid_auto_flow": null,
            "grid_auto_rows": null,
            "grid_column": null,
            "grid_gap": null,
            "grid_row": null,
            "grid_template_areas": null,
            "grid_template_columns": null,
            "grid_template_rows": null,
            "height": null,
            "justify_content": null,
            "justify_items": null,
            "left": null,
            "margin": null,
            "max_height": null,
            "max_width": null,
            "min_height": null,
            "min_width": null,
            "object_fit": null,
            "object_position": null,
            "order": null,
            "overflow": null,
            "overflow_x": null,
            "overflow_y": null,
            "padding": null,
            "right": null,
            "top": null,
            "visibility": null,
            "width": null
          }
        },
        "edc94978b90245d6937d13e580ae013e": {
          "model_module": "@jupyter-widgets/controls",
          "model_name": "DescriptionStyleModel",
          "model_module_version": "1.5.0",
          "state": {
            "_model_module": "@jupyter-widgets/controls",
            "_model_module_version": "1.5.0",
            "_model_name": "DescriptionStyleModel",
            "_view_count": null,
            "_view_module": "@jupyter-widgets/base",
            "_view_module_version": "1.2.0",
            "_view_name": "StyleView",
            "description_width": ""
          }
        },
        "928f16a468344ca4b16fde4abd8a24be": {
          "model_module": "@jupyter-widgets/base",
          "model_name": "LayoutModel",
          "model_module_version": "1.2.0",
          "state": {
            "_model_module": "@jupyter-widgets/base",
            "_model_module_version": "1.2.0",
            "_model_name": "LayoutModel",
            "_view_count": null,
            "_view_module": "@jupyter-widgets/base",
            "_view_module_version": "1.2.0",
            "_view_name": "LayoutView",
            "align_content": null,
            "align_items": null,
            "align_self": null,
            "border": null,
            "bottom": null,
            "display": null,
            "flex": null,
            "flex_flow": null,
            "grid_area": null,
            "grid_auto_columns": null,
            "grid_auto_flow": null,
            "grid_auto_rows": null,
            "grid_column": null,
            "grid_gap": null,
            "grid_row": null,
            "grid_template_areas": null,
            "grid_template_columns": null,
            "grid_template_rows": null,
            "height": null,
            "justify_content": null,
            "justify_items": null,
            "left": null,
            "margin": null,
            "max_height": null,
            "max_width": null,
            "min_height": null,
            "min_width": null,
            "object_fit": null,
            "object_position": null,
            "order": null,
            "overflow": null,
            "overflow_x": null,
            "overflow_y": null,
            "padding": null,
            "right": null,
            "top": null,
            "visibility": null,
            "width": null
          }
        },
        "fce4dee968a3406cace779f9f156c30e": {
          "model_module": "@jupyter-widgets/controls",
          "model_name": "ProgressStyleModel",
          "model_module_version": "1.5.0",
          "state": {
            "_model_module": "@jupyter-widgets/controls",
            "_model_module_version": "1.5.0",
            "_model_name": "ProgressStyleModel",
            "_view_count": null,
            "_view_module": "@jupyter-widgets/base",
            "_view_module_version": "1.2.0",
            "_view_name": "StyleView",
            "bar_color": null,
            "description_width": ""
          }
        },
        "480ddbbe66624d8d92b59bbc283723bf": {
          "model_module": "@jupyter-widgets/base",
          "model_name": "LayoutModel",
          "model_module_version": "1.2.0",
          "state": {
            "_model_module": "@jupyter-widgets/base",
            "_model_module_version": "1.2.0",
            "_model_name": "LayoutModel",
            "_view_count": null,
            "_view_module": "@jupyter-widgets/base",
            "_view_module_version": "1.2.0",
            "_view_name": "LayoutView",
            "align_content": null,
            "align_items": null,
            "align_self": null,
            "border": null,
            "bottom": null,
            "display": null,
            "flex": null,
            "flex_flow": null,
            "grid_area": null,
            "grid_auto_columns": null,
            "grid_auto_flow": null,
            "grid_auto_rows": null,
            "grid_column": null,
            "grid_gap": null,
            "grid_row": null,
            "grid_template_areas": null,
            "grid_template_columns": null,
            "grid_template_rows": null,
            "height": null,
            "justify_content": null,
            "justify_items": null,
            "left": null,
            "margin": null,
            "max_height": null,
            "max_width": null,
            "min_height": null,
            "min_width": null,
            "object_fit": null,
            "object_position": null,
            "order": null,
            "overflow": null,
            "overflow_x": null,
            "overflow_y": null,
            "padding": null,
            "right": null,
            "top": null,
            "visibility": null,
            "width": null
          }
        },
        "d90571b66c494b80b64430ebe53d025c": {
          "model_module": "@jupyter-widgets/controls",
          "model_name": "DescriptionStyleModel",
          "model_module_version": "1.5.0",
          "state": {
            "_model_module": "@jupyter-widgets/controls",
            "_model_module_version": "1.5.0",
            "_model_name": "DescriptionStyleModel",
            "_view_count": null,
            "_view_module": "@jupyter-widgets/base",
            "_view_module_version": "1.2.0",
            "_view_name": "StyleView",
            "description_width": ""
          }
        },
        "103418ff9b40463ba6489069dd119f3e": {
          "model_module": "@jupyter-widgets/controls",
          "model_name": "HBoxModel",
          "model_module_version": "1.5.0",
          "state": {
            "_dom_classes": [],
            "_model_module": "@jupyter-widgets/controls",
            "_model_module_version": "1.5.0",
            "_model_name": "HBoxModel",
            "_view_count": null,
            "_view_module": "@jupyter-widgets/controls",
            "_view_module_version": "1.5.0",
            "_view_name": "HBoxView",
            "box_style": "",
            "children": [
              "IPY_MODEL_709b1983e8884686a0710cbe284114cf",
              "IPY_MODEL_701b9aa4747e49ec8890b2921072bcab",
              "IPY_MODEL_614672717dcb4835bbf4bb5f8a45c322"
            ],
            "layout": "IPY_MODEL_c0762a310c284f2a9e9a484bdfa098fc"
          }
        },
        "709b1983e8884686a0710cbe284114cf": {
          "model_module": "@jupyter-widgets/controls",
          "model_name": "HTMLModel",
          "model_module_version": "1.5.0",
          "state": {
            "_dom_classes": [],
            "_model_module": "@jupyter-widgets/controls",
            "_model_module_version": "1.5.0",
            "_model_name": "HTMLModel",
            "_view_count": null,
            "_view_module": "@jupyter-widgets/controls",
            "_view_module_version": "1.5.0",
            "_view_name": "HTMLView",
            "description": "",
            "description_tooltip": null,
            "layout": "IPY_MODEL_66f0e8d6fbdd42f4a5336f9e43179960",
            "placeholder": "​",
            "style": "IPY_MODEL_79baf2034c7946e1b8bae1865da50b69",
            "value": "model.safetensors: 100%"
          }
        },
        "701b9aa4747e49ec8890b2921072bcab": {
          "model_module": "@jupyter-widgets/controls",
          "model_name": "FloatProgressModel",
          "model_module_version": "1.5.0",
          "state": {
            "_dom_classes": [],
            "_model_module": "@jupyter-widgets/controls",
            "_model_module_version": "1.5.0",
            "_model_name": "FloatProgressModel",
            "_view_count": null,
            "_view_module": "@jupyter-widgets/controls",
            "_view_module_version": "1.5.0",
            "_view_name": "ProgressView",
            "bar_style": "success",
            "description": "",
            "description_tooltip": null,
            "layout": "IPY_MODEL_60921d4efdca43c4bcbebadd7b093cb2",
            "max": 440449768,
            "min": 0,
            "orientation": "horizontal",
            "style": "IPY_MODEL_24bd2b1f39094c0e835f10fef7e9bc7e",
            "value": 440449768
          }
        },
        "614672717dcb4835bbf4bb5f8a45c322": {
          "model_module": "@jupyter-widgets/controls",
          "model_name": "HTMLModel",
          "model_module_version": "1.5.0",
          "state": {
            "_dom_classes": [],
            "_model_module": "@jupyter-widgets/controls",
            "_model_module_version": "1.5.0",
            "_model_name": "HTMLModel",
            "_view_count": null,
            "_view_module": "@jupyter-widgets/controls",
            "_view_module_version": "1.5.0",
            "_view_name": "HTMLView",
            "description": "",
            "description_tooltip": null,
            "layout": "IPY_MODEL_5a8a79bc8bda4d3d9d17ebe3825af983",
            "placeholder": "​",
            "style": "IPY_MODEL_72de8c64477c4a77924189b0b243bfa2",
            "value": " 440M/440M [00:02&lt;00:00, 185MB/s]"
          }
        },
        "c0762a310c284f2a9e9a484bdfa098fc": {
          "model_module": "@jupyter-widgets/base",
          "model_name": "LayoutModel",
          "model_module_version": "1.2.0",
          "state": {
            "_model_module": "@jupyter-widgets/base",
            "_model_module_version": "1.2.0",
            "_model_name": "LayoutModel",
            "_view_count": null,
            "_view_module": "@jupyter-widgets/base",
            "_view_module_version": "1.2.0",
            "_view_name": "LayoutView",
            "align_content": null,
            "align_items": null,
            "align_self": null,
            "border": null,
            "bottom": null,
            "display": null,
            "flex": null,
            "flex_flow": null,
            "grid_area": null,
            "grid_auto_columns": null,
            "grid_auto_flow": null,
            "grid_auto_rows": null,
            "grid_column": null,
            "grid_gap": null,
            "grid_row": null,
            "grid_template_areas": null,
            "grid_template_columns": null,
            "grid_template_rows": null,
            "height": null,
            "justify_content": null,
            "justify_items": null,
            "left": null,
            "margin": null,
            "max_height": null,
            "max_width": null,
            "min_height": null,
            "min_width": null,
            "object_fit": null,
            "object_position": null,
            "order": null,
            "overflow": null,
            "overflow_x": null,
            "overflow_y": null,
            "padding": null,
            "right": null,
            "top": null,
            "visibility": null,
            "width": null
          }
        },
        "66f0e8d6fbdd42f4a5336f9e43179960": {
          "model_module": "@jupyter-widgets/base",
          "model_name": "LayoutModel",
          "model_module_version": "1.2.0",
          "state": {
            "_model_module": "@jupyter-widgets/base",
            "_model_module_version": "1.2.0",
            "_model_name": "LayoutModel",
            "_view_count": null,
            "_view_module": "@jupyter-widgets/base",
            "_view_module_version": "1.2.0",
            "_view_name": "LayoutView",
            "align_content": null,
            "align_items": null,
            "align_self": null,
            "border": null,
            "bottom": null,
            "display": null,
            "flex": null,
            "flex_flow": null,
            "grid_area": null,
            "grid_auto_columns": null,
            "grid_auto_flow": null,
            "grid_auto_rows": null,
            "grid_column": null,
            "grid_gap": null,
            "grid_row": null,
            "grid_template_areas": null,
            "grid_template_columns": null,
            "grid_template_rows": null,
            "height": null,
            "justify_content": null,
            "justify_items": null,
            "left": null,
            "margin": null,
            "max_height": null,
            "max_width": null,
            "min_height": null,
            "min_width": null,
            "object_fit": null,
            "object_position": null,
            "order": null,
            "overflow": null,
            "overflow_x": null,
            "overflow_y": null,
            "padding": null,
            "right": null,
            "top": null,
            "visibility": null,
            "width": null
          }
        },
        "79baf2034c7946e1b8bae1865da50b69": {
          "model_module": "@jupyter-widgets/controls",
          "model_name": "DescriptionStyleModel",
          "model_module_version": "1.5.0",
          "state": {
            "_model_module": "@jupyter-widgets/controls",
            "_model_module_version": "1.5.0",
            "_model_name": "DescriptionStyleModel",
            "_view_count": null,
            "_view_module": "@jupyter-widgets/base",
            "_view_module_version": "1.2.0",
            "_view_name": "StyleView",
            "description_width": ""
          }
        },
        "60921d4efdca43c4bcbebadd7b093cb2": {
          "model_module": "@jupyter-widgets/base",
          "model_name": "LayoutModel",
          "model_module_version": "1.2.0",
          "state": {
            "_model_module": "@jupyter-widgets/base",
            "_model_module_version": "1.2.0",
            "_model_name": "LayoutModel",
            "_view_count": null,
            "_view_module": "@jupyter-widgets/base",
            "_view_module_version": "1.2.0",
            "_view_name": "LayoutView",
            "align_content": null,
            "align_items": null,
            "align_self": null,
            "border": null,
            "bottom": null,
            "display": null,
            "flex": null,
            "flex_flow": null,
            "grid_area": null,
            "grid_auto_columns": null,
            "grid_auto_flow": null,
            "grid_auto_rows": null,
            "grid_column": null,
            "grid_gap": null,
            "grid_row": null,
            "grid_template_areas": null,
            "grid_template_columns": null,
            "grid_template_rows": null,
            "height": null,
            "justify_content": null,
            "justify_items": null,
            "left": null,
            "margin": null,
            "max_height": null,
            "max_width": null,
            "min_height": null,
            "min_width": null,
            "object_fit": null,
            "object_position": null,
            "order": null,
            "overflow": null,
            "overflow_x": null,
            "overflow_y": null,
            "padding": null,
            "right": null,
            "top": null,
            "visibility": null,
            "width": null
          }
        },
        "24bd2b1f39094c0e835f10fef7e9bc7e": {
          "model_module": "@jupyter-widgets/controls",
          "model_name": "ProgressStyleModel",
          "model_module_version": "1.5.0",
          "state": {
            "_model_module": "@jupyter-widgets/controls",
            "_model_module_version": "1.5.0",
            "_model_name": "ProgressStyleModel",
            "_view_count": null,
            "_view_module": "@jupyter-widgets/base",
            "_view_module_version": "1.2.0",
            "_view_name": "StyleView",
            "bar_color": null,
            "description_width": ""
          }
        },
        "5a8a79bc8bda4d3d9d17ebe3825af983": {
          "model_module": "@jupyter-widgets/base",
          "model_name": "LayoutModel",
          "model_module_version": "1.2.0",
          "state": {
            "_model_module": "@jupyter-widgets/base",
            "_model_module_version": "1.2.0",
            "_model_name": "LayoutModel",
            "_view_count": null,
            "_view_module": "@jupyter-widgets/base",
            "_view_module_version": "1.2.0",
            "_view_name": "LayoutView",
            "align_content": null,
            "align_items": null,
            "align_self": null,
            "border": null,
            "bottom": null,
            "display": null,
            "flex": null,
            "flex_flow": null,
            "grid_area": null,
            "grid_auto_columns": null,
            "grid_auto_flow": null,
            "grid_auto_rows": null,
            "grid_column": null,
            "grid_gap": null,
            "grid_row": null,
            "grid_template_areas": null,
            "grid_template_columns": null,
            "grid_template_rows": null,
            "height": null,
            "justify_content": null,
            "justify_items": null,
            "left": null,
            "margin": null,
            "max_height": null,
            "max_width": null,
            "min_height": null,
            "min_width": null,
            "object_fit": null,
            "object_position": null,
            "order": null,
            "overflow": null,
            "overflow_x": null,
            "overflow_y": null,
            "padding": null,
            "right": null,
            "top": null,
            "visibility": null,
            "width": null
          }
        },
        "72de8c64477c4a77924189b0b243bfa2": {
          "model_module": "@jupyter-widgets/controls",
          "model_name": "DescriptionStyleModel",
          "model_module_version": "1.5.0",
          "state": {
            "_model_module": "@jupyter-widgets/controls",
            "_model_module_version": "1.5.0",
            "_model_name": "DescriptionStyleModel",
            "_view_count": null,
            "_view_module": "@jupyter-widgets/base",
            "_view_module_version": "1.2.0",
            "_view_name": "StyleView",
            "description_width": ""
          }
        }
      }
    }
  },
  "cells": [
    {
      "cell_type": "markdown",
      "source": [
        "# Attention is All You Need\n",
        "\n",
        "The *Transformer* architecture ([Vaswani et al., 2017](https://proceedings.neurips.cc/paper/2017/hash/3f5ee243547dee91fbd053c1c4a845aa-Abstract.html)) and its attention mechanism is the most influential breakthrough in modern natural language processing. Similarly to variational auto-encoders ([Kingma et al., 2013](https://arxiv.org/abs/1312.6114)), it consists of two parts:\n",
        "\n",
        "1. an **Encoder** used for \"understanding\" language and\n",
        "2. a **Decoder** used for generating language.\n",
        "\n",
        "But not all Transformers use an encoder-decoder architecture. For example, (**B**idirectional **E**ncoder **R**epresentations from **T**ransformers) BERT([Devlin et al., 2019](https://arxiv.org/abs/1810.04805)) is an encoder-only Transformer that is trained to learn semantic vector-representations for words based on the context they occur in, so called *contextual embeddings*.\n",
        "\n",
        "A notable encoder-decoder Transformer is T5, and GPT is a decoder-only Transformer. GPT may also be the most prominent Transformer model right now due to its proficiency at generating natural language text, though various more Transformer architectures have since been published. But they all follow a similar basic setup."
      ],
      "metadata": {
        "id": "SX5DR5xOH5dY"
      }
    },
    {
      "cell_type": "markdown",
      "source": [
        "## Static Embeddings\n",
        "\n",
        "> You shall know a word by the company it keeps. &mdash; *John R. Firth*\n",
        "\n",
        "Deep Learning models cannot operate on strings of characters but only on numbers. Inherently, this means that, to process textual inputs, we need some way to map the text to a number representation. This is usually done in two steps:\n",
        "1. **Tokenization** &ndash; the text is split into semantic units (\"tokens\") such as words, [morphemes](https://en.wikipedia.org/wiki/Morpheme), characters, bytes, ...\n",
        "2. **Embedding** &ndash; each semantic unit is embedded into the same vector space\n",
        "\n",
        "Tokenization algorithms in this context must be able to map arbitrary text onto a finite set of tokens. E.g., for word tokenization this may mean that some words are dropped because they are not part of the vocabulary.\n",
        "The latter step, embedding, is where the magic happens: Theoretically, it would be sufficient, to simply assign a unique number to each token and pray that the model learns meaning in some form. However, there is a better alternative, so called *semantic embeddings*.\n",
        "\n",
        "\n",
        "A famous semantic embedding model is *word2vec* ([Mikolov et al., 2013](https://arxiv.org/pdf/1301.3781)). There are various ways to train such a model and we will refer to the original paper for details, but the core idea is to initially assign a random vector representation to each token and then repeatedly modify these representations such that a small deep learning model may infer a token representation based on its context (called *continuous bag of words modelling*). For example, the model would be given the token representations for `an`, `apple`, `a`, `keeps`, `the`, and `doctor` and must use this information to predict the vector representation of the word \"in the middle\", `apple` (this should remind you of [concordance](https://downloads.webis.de/lecturenotes/natural-language-processing/unit-en-corpora.pdf#page=12)). These representations are then iteratively refined using a large collection of documents and ultimately result in so called *static word embeddings*. These vectors have been shown to encode semantic information, as seen in the famous example:\n",
        "\n",
        "$$\\operatorname{word2vec}(\\textit{\"king\"}) - \\operatorname{word2vec}(\\textit{\"man\"}) + \\operatorname{word2vec}(\\textit{\"woman\"}) ≈ \\operatorname{word2vec}(\\textit{\"queen\"})$$\n",
        "\n",
        "![Word2Vec Symbolbild](https://upload.wikimedia.org/wikipedia/commons/3/3f/Word_vector_illustration.jpg)\n",
        "\n",
        "However, the *static* part of \"static word embeddings\" highlights that each word is assigned a single vector irrespective of the **context**. For example, the word \"mole\" has different semantics in the following sentences but always has the same semantic embedding:\n",
        "- *American shrew mole*  \n",
        "- *One mole of carbon dioxide*  \n",
        "- *Take a biopsy of the mole*\n",
        "\n",
        "This is the problem addressed by encoder-only Transformers such as BERT: As we will see in this notebook: they use an *attention mechanism* to update the static embeddings and produce *contextual embeddings*, where the representation vector for each token represents its meaning in the context is occurs in in the given sentence."
      ],
      "metadata": {
        "id": "KjGQfVQfYNC4"
      }
    },
    {
      "cell_type": "markdown",
      "source": [
        "## This Notebook\n",
        "\n",
        "In this notebook, you will **reimplement the BERT architecture from scratch**, following its inner workings step by step. We'll focus on how the encoder-only  **BERT** architecture applies attention to produce contextual embeddings.  \n",
        "\n",
        "By the end of this notebook, you will understand:\n",
        "- What WordPiece tokenization is and how it is applied\n",
        "- What *attention* is an how it is applied in Transformers.\n",
        "- How BERT computes *contextual embeddings*.\n",
        "- How Masked Language Modelling (MLM) can be used to train Transformer models."
      ],
      "metadata": {
        "id": "AAskzvGnYYd8"
      }
    },
    {
      "cell_type": "markdown",
      "source": [
        "#### Further Reading\n",
        "We may sprinkle in some of these *Further Reading* sections for people who are interested getting more foundational knowledge through papers regarding the topic. For now, here are the original Transformer paper, and the BERT paper:\n",
        "- Ashish Vaswani, Noam Shazeer, Niki Parmar, Jakob Uszkoreit, Llion Jones, Aidan N. Gomez, Lukasz Kaiser, Illia Polosukhin. 2017. [Attention Is All You Need](https://proceedings.neurips.cc/paper/2017/hash/3f5ee243547dee91fbd053c1c4a845aa-Abstract.html). In *Advances in Neural Information Processing Systems 30: Annual Conference on Neural Information Processing Systems 2017*, pages 5998–6008, Long Beach, CA, USA.\n",
        "- Jacob Devlin, Ming-Wei Chang, Kenton Lee, and Kristina Toutanova. 2019. [BERT: Pre-training of Deep Bidirectional Transformers for Language Understanding](https://aclanthology.org/N19-1423/). In Proceedings of the 2019 Conference of the North American Chapter of the Association for Computational Linguistics: Human Language Technologies, Volume 1 (Long and Short Papers), pages 4171–4186, Minneapolis, Minnesota. Association for Computational Linguistics."
      ],
      "metadata": {
        "id": "QVBXwGZ1YbTb"
      }
    },
    {
      "cell_type": "markdown",
      "source": [
        "# Background"
      ],
      "metadata": {
        "id": "qFr2ioGWBTjk"
      }
    },
    {
      "cell_type": "markdown",
      "source": [
        "## Notation\n",
        "\n",
        "In the following, we will use italic lowercase letters to denote vectors (e.g., $x$, $y$, $z$), and bold uppercase letters for matrices and tensors (e.g., $\\mathbf{W}$, $\\mathbf{Q}$, $\\mathbf{K}$, $\\mathbf{V}$)."
      ],
      "metadata": {
        "id": "oTIY3raGYpdK"
      }
    },
    {
      "cell_type": "markdown",
      "source": [
        "## Broadcasting"
      ],
      "metadata": {
        "id": "CunOA5WlBVic"
      }
    },
    {
      "cell_type": "markdown",
      "source": [
        "In deep learning, we often want to apply *the same operation* over multiple inputs simultaneously. For example, our model may simple be a feed-forward network that computes $f(x) := x\\mathbf{W}$ for some input vectors $x\\in\\mathbb{R}^n$ and a fixed weight matrix $x\\in\\mathbb{R}^{n\\times m}$. During training, we compute $f$ on multiple *batches*, i.e., $b$ inputs, at once. That is, we would like to compute $f(x_1), f(x_2), \\dots, f(x_b)$ efficiently and, ideally, in parallel instead of sequentially. Now observe that, if we concatinate all these vectors into a matrix $\\mathbf{X}\\in\\mathbb{R}^{b\\times n}$, the invocation $f(\\mathbf{X}) = \\mathbf{X}\\mathbf{W}$ is well defined and outputs a Matrix $\\mathbf{Y}\\in \\mathbb{R}^{b\\times m}$, where the $i$-th row is $f(x_i)$. Since modern GPUs and TPUs are specifically optimized for such operations, we have successfully computed $b$ vector-matrix products in the same time it would have taken for a single vector-matrix product by exploiting that $\\operatorname{concat}(f(x_1), \\dots, f(x_b)) = f(\\operatorname{concat}(x_1, \\dots, x_b))$. We say that any function $f$ that fulfills this property is *broadcastable*. This basic property is at the heart of why TPUs or GPUs are more efficient for deep learning than CPUs. That is also why, generally, most operations are implemented to be broadcastable."
      ],
      "metadata": {
        "id": "LTTh1vwLiWJ1"
      }
    },
    {
      "cell_type": "code",
      "source": [
        "import torch\n",
        "\n",
        "x = torch.rand(40)\n",
        "X = torch.rand(100, 40)\n",
        "W = torch.rand(40, 10)\n",
        "\n",
        "print(\"Time taken by a single vector-matrix product\")\n",
        "%timeit x @ W\n",
        "print(f\"Time taken by {X.shape[0]} vector-matrix products that are broadcasted\")\n",
        "%timeit X @ W"
      ],
      "metadata": {
        "colab": {
          "base_uri": "https://localhost:8080/"
        },
        "id": "XQ33fGxlg4wU",
        "outputId": "9ffc01ba-a4c4-4e52-c275-d4ff2fde0515"
      },
      "execution_count": null,
      "outputs": [
        {
          "output_type": "stream",
          "name": "stdout",
          "text": [
            "Time taken by a single vector-matrix product\n",
            "33.2 µs ± 9.05 µs per loop (mean ± std. dev. of 7 runs, 10000 loops each)\n",
            "Time taken by 100 vector-matrix products that are broadcasted\n",
            "32.8 µs ± 7.53 µs per loop (mean ± std. dev. of 7 runs, 10000 loops each)\n"
          ]
        }
      ]
    },
    {
      "cell_type": "markdown",
      "source": [
        "## Einops\n",
        "When working with tensors (especially in deep learning), we often need to change their shape or order of axes. Instead of using verbose indexing, [einops](https://github.com/arogozhnikov/einops) offers a clean and powerful way to rearrange and reshape tensors using simple string patterns."
      ],
      "metadata": {
        "id": "QbmOHSPFBXFO"
      }
    },
    {
      "cell_type": "code",
      "source": [
        "import torch\n",
        "from einops import rearrange\n",
        "\n",
        "x = torch.rand(3, 4, 5)\n",
        "y = rearrange(x, \"a b c -> c b a\")\n",
        "print(f\"a b c -> c b a       {tuple(x.shape)} -> {tuple(y.shape)}\")\n",
        "y = rearrange(x, \"a b c -> c (b a)\")\n",
        "print(f\"a b c -> c (b a)     {tuple(x.shape)} -> {tuple(y.shape)}\")\n",
        "y = rearrange(x, \"... b c -> ... c b\")\n",
        "print(f\"... b c -> ... c b   {tuple(x.shape)} -> {tuple(y.shape)}\")"
      ],
      "metadata": {
        "colab": {
          "base_uri": "https://localhost:8080/"
        },
        "id": "hDKZLScLBZH_",
        "outputId": "47c0483c-d80d-49fd-d2cb-ecece3466812"
      },
      "execution_count": null,
      "outputs": [
        {
          "output_type": "stream",
          "name": "stdout",
          "text": [
            "a b c -> c b a       (3, 4, 5) -> (5, 4, 3)\n",
            "a b c -> c (b a)     (3, 4, 5) -> (5, 12)\n",
            "... b c -> ... c b   (3, 4, 5) -> (3, 5, 4)\n"
          ]
        }
      ]
    },
    {
      "cell_type": "markdown",
      "source": [
        "### The GELU Activation Function\n",
        "GELU is a smooth, non-linear activation function that has become popular in Transformer models like BERT. Unlike ReLU, which simply cuts off negative values, GELU uses a probabilistic approach to decide how much of each input to pass through. This can improve performance in deep models by providing smoother gradients."
      ],
      "metadata": {
        "id": "7d_Vdeu1NrYb"
      }
    },
    {
      "cell_type": "markdown",
      "source": [
        "\n",
        "## Questions\n",
        "1. How many different GELU variants are there? &mdash; [GELU variants in Hugging Face](https://github.com/huggingface/transformers/blob/dfbee79ca3fde6411ec06628f1080a69e9f41092/src/transformers/activations.py#L188-L195)\n",
        "2. What is the advantage of GELU over ReLU?"
      ],
      "metadata": {
        "id": "0-oagDXLw2O0"
      }
    },
    {
      "cell_type": "code",
      "source": [
        "from torch import Tensor, erf, tanh\n",
        "import math\n",
        "\n",
        "def gelu1(input: Tensor) -> Tensor:\n",
        "  return input * 0.5 * (1 + tanh(math.sqrt(2/math.pi) * (input + 0.044715 * input**3)))\n",
        "\n",
        "def gelu2(input: Tensor) -> Tensor:\n",
        "  return input * 0.5 * (1 + erf(input / math.sqrt(2)))\n",
        "\n",
        "from torch.nn.functional import gelu as gelu3\n",
        "\n",
        "gelu = gelu3"
      ],
      "metadata": {
        "id": "ucHrUGdPNbjZ"
      },
      "execution_count": null,
      "outputs": []
    },
    {
      "cell_type": "code",
      "source": [
        "!pip install -q seaborn\n",
        "import seaborn as sns\n",
        "import matplotlib.pyplot as plt\n",
        "import torch\n",
        "\n",
        "sns.set_style(\"whitegrid\")\n",
        "\n",
        "x = torch.linspace(-5, 5, 100)\n",
        "plt.plot(x.numpy(), gelu1(x).numpy());\n",
        "plt.plot(x.numpy(), gelu2(x).numpy());\n",
        "plt.plot(x.numpy(), gelu3(x).numpy());"
      ],
      "metadata": {
        "colab": {
          "base_uri": "https://localhost:8080/",
          "height": 430
        },
        "id": "1D0jvjCd5BLR",
        "outputId": "cd47da1c-3ca5-4d30-e9bb-b61140e8dcb7"
      },
      "execution_count": null,
      "outputs": [
        {
          "output_type": "display_data",
          "data": {
            "text/plain": [
              "<Figure size 640x480 with 1 Axes>"
            ],
            "image/png": "[encoded data removed]"
          },
          "metadata": {}
        }
      ]
    },
    {
      "cell_type": "markdown",
      "source": [
        "# Transformer Hyperparameters\n",
        "\n",
        "The following class contains all the architectural constants we will need for this notebook. They will be explained in the following sections."
      ],
      "metadata": {
        "id": "PZNjaADEGiZ3"
      }
    },
    {
      "cell_type": "code",
      "source": [
        "from typing import NamedTuple\n",
        "\n",
        "class TransformerConfig(NamedTuple):\n",
        "  num_pos_embeddings: int = 512\n",
        "  num_token_type_embeddings: int = 2\n",
        "  \"\"\"\n",
        "  The number of attention heads per encoder layer.\n",
        "  \"\"\"\n",
        "  num_heads: int = 12\n",
        "  \"\"\"\n",
        "  The number of layers in the encoder stack.\n",
        "  \"\"\"\n",
        "  num_layers: int = 12\n",
        "  \"\"\"\n",
        "  The dimensions of value vectors, $d_v$.\n",
        "  Note that h*d_v = d_{model}\n",
        "  \"\"\"\n",
        "  value_dim: int = 64\n",
        "  \"\"\"\n",
        "  The dimensions of key vectors, $d_k$\n",
        "  \"\"\"\n",
        "  key_dim: int = 64\n",
        "  \"\"\"\n",
        "  The model dimension, $d_{model}$\n",
        "  \"\"\"\n",
        "  model_dim: int = 768\n",
        "  inner_dim: int = 3072\n",
        "  \"\"\"\n",
        "  The number of words in the tokenizer's vocabulary.\n",
        "  \"\"\"\n",
        "  vocab_size: int = 30522"
      ],
      "metadata": {
        "id": "KxF0RaMUN9cG"
      },
      "execution_count": null,
      "outputs": []
    },
    {
      "cell_type": "markdown",
      "source": [
        "# WordPiece Tokenization"
      ],
      "metadata": {
        "id": "jMJxhdDEHqfV"
      }
    },
    {
      "cell_type": "markdown",
      "source": [
        "## Encoding and Decoding Algorithm\n",
        "As the name may suggest, WordPiece tokenization operates on a word-level. That is, the input text is first normalized (lowercased in our case) and split into words by splitting at spaces and discarding empty words. Then, for every word, the longest matching vocabulary term is found. For example, consider a vocabulary consisting of `a` (id: 0) and `aa` (id: 1). The input sentence `\"a aa\"` should be tokenized into `[0, 1]`. Some words may however consist of multiple tokens, here the *continuation prefix* comes into play. For BERT, this is `##` and is used to denote that the token is part of the same word as the previous. Consider the vocabulary from before but with the additional token `##a` (id: 2). The input `\"aaaa\"` will be considered to contain the following tokens: `aa ##a ##a` and thus should be tokenized to `[1, 2, 2]`.\n",
        "\n",
        "Finally, BERT expects *special tokens* to be added at the beginning (`[CLS]`) and end (`[SEP]`) of any input.\n",
        "\n",
        "## Questions\n",
        "1. What datastructure may be well suited for a WordPiece tokenizer?\n",
        "2. What runtime complexity does WordPiece tokenization have with a well chosen datastructure?\n",
        "3. What do you think may happen if a word cannot be tokenized? For example, with the vocabulary above, how should `aac` be tokenized?"
      ],
      "metadata": {
        "id": "zgmFOH0_ncOm"
      }
    },
    {
      "cell_type": "code",
      "source": [
        "# Install pygtrie (https://pygtrie.readthedocs.io/en/latest/index.html)\n",
        "!pip -q install pygtrie\n",
        "\n",
        "import requests\n",
        "\n",
        "# Download and parse the configuration from Hugging Face\n",
        "req = requests.get('https://huggingface.co/google-bert/bert-base-uncased/raw/main/tokenizer.json?download=true')\n",
        "config = req.json()\n",
        "\n",
        "vocab = config[\"model\"][\"vocab\"]\n",
        "print(f\"The vocabulary contains {len(vocab)} tokens\")\n",
        "print(f\"Tokens 100 to 110 in the vocabulary: {list(vocab.keys())[100:110]}\")"
      ],
      "metadata": {
        "colab": {
          "base_uri": "https://localhost:8080/"
        },
        "id": "spOtcVKkMkPc",
        "outputId": "75a811af-e53a-4f0e-a3d1-fbe772605715"
      },
      "execution_count": null,
      "outputs": [
        {
          "output_type": "stream",
          "name": "stdout",
          "text": [
            "The vocabulary contains 30522 tokens\n",
            "Tokens 100 to 110 in the vocabulary: ['[UNK]', '[CLS]', '[SEP]', '[MASK]', '[unused99]', '[unused100]', '[unused101]', '[unused102]', '[unused103]', '[unused104]']\n"
          ]
        }
      ]
    },
    {
      "cell_type": "code",
      "source": [
        "import pygtrie\n",
        "\n",
        "import re\n",
        "from typing import Iterable\n",
        "\n",
        "\n",
        "class Tokenizer:\n",
        "  \"\"\"\n",
        "  Implements a rudimentary WordPiece tokenizer.\n",
        "  \"\"\"\n",
        "\n",
        "  def __init__(self, vocab: dict[str, int]) -> None:\n",
        "    self._trie = pygtrie.CharTrie({k.lower(): v for k,v in vocab.items()})\n",
        "    self._begin_seq_id = vocab[\"[CLS]\"]\n",
        "    self._end_seq_id = vocab[\"[SEP]\"]\n",
        "    self._id_to_tok = {v: k for k, v in vocab.items()}\n",
        "    self._continuing_subword_prefix = \"##\"\n",
        "\n",
        "  def __encode_word(self, word: str) -> Iterable[int]:\n",
        "    \"\"\"\n",
        "    Encode the word by repeatedly matching the longest prefix in the vocabulary.\n",
        "    \"\"\"\n",
        "    while word != self._continuing_subword_prefix:\n",
        "      prefix, id = self._trie.longest_prefix(word)\n",
        "      word = self._continuing_subword_prefix+word[len(prefix):]\n",
        "      yield id\n",
        "\n",
        "  def encode(self, input: str) -> Iterable[int]:\n",
        "    \"\"\"\n",
        "    Encodes the input sentence in the following steps:\n",
        "    1. Pretokenize the input by splitting at whitespaces and special characters\n",
        "       E.g., \"AB C!\" will be split to [\"AB\", \"C\", \"!\"]\n",
        "    2. Encode every word by greedily matching the longest prefix from the\n",
        "       vocabulary.\n",
        "    3. Return a sequence of all token-ids in order, prepended with the begin\n",
        "       sequence token and end sequence token.\n",
        "    \"\"\"\n",
        "    # Lowercase and presplit words:\n",
        "    words = re.findall(r\"\\[mask\\]|\\w+|[^\\w\\s]+\", input.lower())\n",
        "    # Convert each word into a sequence of tokens:\n",
        "    yield self._begin_seq_id\n",
        "    for word in words:\n",
        "      yield from self.__encode_word(word)\n",
        "    yield self._end_seq_id\n",
        "\n",
        "  def decode(self, tokenids: list[int]) -> list[str]:\n",
        "    words: list[str] = []\n",
        "    for tokenid in tokenids:\n",
        "      token = self._id_to_tok[tokenid]\n",
        "      if token.startswith(self._continuing_subword_prefix):\n",
        "        words[-1] += token[2:]\n",
        "      else:\n",
        "        words.append(token)\n",
        "    return words\n"
      ],
      "metadata": {
        "id": "2Auk9qUvHpsM"
      },
      "execution_count": null,
      "outputs": []
    },
    {
      "cell_type": "code",
      "source": [
        "tokenizer = Tokenizer(vocab)\n",
        "tokens = list(tokenizer.encode(\"This [MASK] the way!\"))\n",
        "print(tokens)\n",
        "if tokens == [ 101, 2023,  103, 1996, 2126,  999,  102]:\n",
        "  print(\"Tokenization seems to work!\")\n",
        "else:\n",
        "  print(\"Something is off with the tokenizer :(\")\n",
        "\n",
        "print(f\"The decoded text is: >{' '.join(tokenizer.decode(tokens))}<\")\n",
        "print(f\"The decoded text is: >{' '.join(tokenizer.decode(tokenizer.encode('321az gadiugv 812t3784 178g')))}<\")"
      ],
      "metadata": {
        "colab": {
          "base_uri": "https://localhost:8080/"
        },
        "id": "4U6H6ux0Pfsr",
        "outputId": "af12e677-55cb-4adc-865d-bc4321d5875d"
      },
      "execution_count": null,
      "outputs": [
        {
          "output_type": "stream",
          "name": "stdout",
          "text": [
            "[101, 2023, 103, 1996, 2126, 999, 102]\n",
            "Tokenization seems to work!\n",
            "The decoded text is: >[CLS] this [MASK] the way ! [SEP]<\n",
            "The decoded text is: >[CLS] 321az gadiugv 812t3784 178g [SEP]<\n"
          ]
        }
      ]
    },
    {
      "cell_type": "markdown",
      "source": [
        "#### Further Reading\n",
        "- Webis' NLP Lecture on [Byte-Pair Encoding](https://downloads.webis.de/lecturenotes/natural-language-processing/unit-en-text-preprocessing.pdf#page=37).\n",
        "- Hugging Face has a nice course on how WordPiece tokenizers are trained: [LLM Course &ndash; WordPiece Tokenization](https://hf.co/learn/llm-course/chapter6/6)\n",
        "- Xinying Song, Alex Salcianu, Yang Song, Dave Dopson, and Denny Zhou. 2021. [Fast WordPiece Tokenization](https://aclanthology.org/2021.emnlp-main.160.pdf). In *Proceedings of the 2021 Conference on Empirical Methods in Natural Language Processing*, pages 2089–2103, Online and Punta Cana, Dominican Republic. Association for Computational Linguistics."
      ],
      "metadata": {
        "id": "ZFZ7zu_0nhn1"
      }
    },
    {
      "cell_type": "markdown",
      "source": [
        "# Reimplementing BERT"
      ],
      "metadata": {
        "id": "t7hES0M9GoBN"
      }
    },
    {
      "cell_type": "markdown",
      "source": [
        "This section will teach you how BERT works and how you can reimplement it. Note that *reimplementing* BERT is a far easier task than *training* BERT. Run the following cell to download a pre-trained BERT model."
      ],
      "metadata": {
        "id": "kDfJMgnFH2Tv"
      }
    },
    {
      "cell_type": "code",
      "source": [
        "!wget -qk https://huggingface.co/google-bert/bert-base-uncased/resolve/main/model.safetensors?download=true -O \"./model.safetensors\""
      ],
      "metadata": {
        "id": "oehCm5FRUSt_"
      },
      "execution_count": null,
      "outputs": []
    },
    {
      "cell_type": "markdown",
      "source": [
        "## Preliminary Jank\n",
        "\n",
        "To load our model from the Hugging Face `bert-base-uncased` checkpoint later, we need to have the same names for our submodules as Hugging Face uses. Because this should not be a major issue in this notebook, we will initialize all submodules for you. This also means that we need the following redefinition of `LayerNorm` since PyTorch uses the names `bias` and `weight` for their weights but Hugging Face checkpoints use `beta` and `gamma`. All the following code does, is remapping these parameters."
      ],
      "metadata": {
        "id": "dvhzot9RjM-x"
      }
    },
    {
      "cell_type": "code",
      "source": [
        "from torch.nn import LayerNorm\n",
        "\n",
        "class HFLayerNorm(LayerNorm):\n",
        "  \"\"\"\n",
        "  PyTorch's layernorm uses the parameter names `weight` and `bias`. Hugging Face\n",
        "  does not, so, to load our BERT model from a Hugging Face checkpoint later on,\n",
        "  we must re-register these parameters as `gamma` and `beta`.\n",
        "  \"\"\"\n",
        "  def __init__(self, *args, **kwargs) -> None:\n",
        "    super().__init__(*args, **kwargs)\n",
        "    self.register_parameter(\"beta\", self.bias)\n",
        "    self.register_parameter(\"gamma\", self.weight)\n"
      ],
      "metadata": {
        "id": "bbBmgxRHjNTB"
      },
      "execution_count": null,
      "outputs": []
    },
    {
      "cell_type": "markdown",
      "source": [
        "## The Embedding Layer"
      ],
      "metadata": {
        "id": "oDFdecB0HaK9"
      }
    },
    {
      "cell_type": "markdown",
      "source": [
        "After the text has been tokenized, we now need to map these tokens into vector representations. The transformer architecture, and by extension BERT, does so by learning static token embeddings (called *word embeddings*), which are analogous to what we have seen above with word2vec. To further encode positional information into the input, a *positional encoding* is added to each *word embedding*. The positional ecoding (which Hugging Face calls *position embedding*) only depends on the index of the word and is usually precomputed and stored with the trained model though it is not a trainable parameter.\n",
        "\n",
        "Let $(w_i)_{i=1}^s \\subseteq \\mathbb{N}$ be the input sequence of size $s$, where $w_i$ is the token id of the $i$-th token, the output of the embedding layer is\n",
        "$$\\operatorname{Embed}\\colon \\mathbb{N}^{\\mathbb{N}}\\to (\\mathbb{R}^{d_\\text{model}})^\\mathbb{N} \\quad\\text{via}\\quad (w_i)_{i=1}^s \\mapsto (\\operatorname{PE}(i) + \\operatorname{WE}(w_i))_{i=1}^s,$$\n",
        "where $\\operatorname{PE}(i)$ is the positional encoding at index $i$ and $\\operatorname{WE}(x)$ is the word embedding of the token $x$ respectively.\n",
        "\n",
        "**Note:** BERT additional introduces *token type embeddings*. However, these are unused so that we will ignore them. To ignore them, we simply add the token type embedding of the token type *0* to every embedding."
      ],
      "metadata": {
        "id": "jZcgo_LkjV6P"
      }
    },
    {
      "cell_type": "code",
      "source": [
        "from torch import Tensor, arange\n",
        "from torch.nn import Module, Embedding\n",
        "\n",
        "class BERTEmbedding(Module):\n",
        "  def __init__(self, config: TransformerConfig) -> None:\n",
        "    super().__init__();\n",
        "    self.position_embeddings = Embedding(config.num_pos_embeddings, config.model_dim)\n",
        "    self.token_type_embeddings = Embedding(config.num_token_type_embeddings, config.model_dim)\n",
        "    self.word_embeddings = Embedding(config.vocab_size, config.model_dim)\n",
        "    self.LayerNorm = HFLayerNorm(config.model_dim)\n",
        "\n",
        "  def forward(self, input_ids: Tensor) -> Tensor:\n",
        "    posemb = self.position_embeddings(arange(0, input_ids.shape[-1]));\n",
        "    inpemb = self.word_embeddings(input_ids);\n",
        "    # We ignore the token types here by setting all to use the 0 type\n",
        "    tokemb = self.token_type_embeddings(torch.zeros_like(input_ids))\n",
        "    return self.LayerNorm(inpemb + tokemb + posemb);"
      ],
      "metadata": {
        "id": "E8fKqnUfkwfS"
      },
      "execution_count": null,
      "outputs": []
    },
    {
      "cell_type": "markdown",
      "source": [
        "## Encoder Layers"
      ],
      "metadata": {
        "id": "LSHKncKxGsd1"
      }
    },
    {
      "cell_type": "markdown",
      "source": [
        "### Attention\n",
        "\n",
        "The *Multi-Head Attention (mha)* layer is at the heart of the transformer architecture (and the **attention** part in _**Attention** is all you need_). Intuitively, the idea behind transformers and attention is that the static embeddings from the embedding layer are iteratively refined based on the *context*. Each of the encoder layers has multiple attention heads that update the token representation as a weighted average over the context words. The *weights* can be thought of as how much each context token influences the token, i.e., how much *attention* does the token pay to each context token. [Clark et al. (2019)](https://aclanthology.org/W19-4828/) observed that some of these attention patterns can be interpreted syntactically, such as determiners (the, this, a, my, ...) attending to their nouns or coreferences attending to their early occurence (*antecedent*). You can explore this on the interactive explorable BERT ([exBERT](https://huggingface.co/spaces/exbert-project/exbert)) website. Have a look, for example at head 7 in the 4th encoder layer for coreferences.\n",
        "\n",
        "Mathematically, this attention value is calculated by applying three linear transformation to each token: The query $\\mathbf{W}_i^Q$, key $\\mathbf{W}_i^K$, and value $\\mathbf{W}_i^V$ transformation. _**Note:** BERT additionally adds biases to each of these operations but this is not part of the original Transformer description and does not improve effectiveness of the architecture._ These linear transformations result in query and key matrices $\\mathbf{Q}, \\mathbf{K}\\in \\mathbb{R}^{s\\times d_k}$ and a value matrix $\\mathbf{V}\\in\\mathbb{R}^{s\\times d_v}$, which are usually interpreted to hold abstract information about the information \"asked for\" ($\\mathbf{Q}$) and \"provided\" ($\\mathbf{K}$) by a token. As such, to have a high attention between the word at position $m$ and at position $n$, the query vector of token $m$ and key vector of token $n$ must be similar. Similarity, here is the inner product between each query- and key vector, calculated as $\\mathbf{Q}\\times\\mathbf{K}^\\top \\in \\mathbf{R}^{s\\times s}$. To avoid numerical instabilities, the attention scores are *scaled* by $\\sqrt{d_k}$ and additionally *normalized* to form a probability distribution that sums up to 1 using $\\operatorname{softmax}$. The result is an $s\\times s$ attention matrix, where the entries of each row sum to $1$. These are then used to update the token representations as the weighted average of their *values* $\\mathbf{V}$:\n",
        "\n",
        "$$\\operatorname{sdpa}\\colon \\mathbb{R}^{s\\times d_k} \\times \\mathbb{R}^{s\\times d_k} \\times \\mathbb{R}^{s\\times d_v}\\to \\mathbb{R}^{s\\times d_v} \\quad\\text{via}\\quad \\mathbf{Q}, \\mathbf{K}, \\mathbf{V} \\mapsto \\operatorname{softmax}\\left(\\frac{\\mathbf{Q}\\mathbf{K}^\\top}{\\sqrt{d_k}}\\right)\\mathbf{V}.$$\n",
        "\n",
        "This process is called *scaled dot product attention (sdpa)* and is performed $h$ times in parallel and then aggregated to form multi-head attention:\n",
        "\n",
        "$$\\operatorname{mha}\\colon \\mathbb{R}^{s\\times d_\\text{model}}\\to\\mathbb{R}^{s\\times d_\\text{model}} \\quad\\text{via}\\quad x \\mapsto \\operatorname{concat}\\big(\\big(\\operatorname{sdpa}\\big(x\\mathbf{W}_i^Q+b_i^Q, x\\mathbf{W}_i^K+b_i^K, x\\mathbf{W}_i^Y+b_i^Y\\big)\\big)_{i=1}^h\\big) \\mathbf{W}^O + b^O.$$\n",
        "![ModalNet-20.png](data:image/png;base64,iVBORw0KGgoAAAANSUhEUgAAAdgAAALVCAYAAABjr/DaAAAAAXNSR0IArs4c6QAAAJZlWElmTU0AKgAAAAgABQESAAMAAAABAAEAAAEaAAUAAAABAAAASgEbAAUAAAABAAAAUgExAAIAAAARAAAAWodpAAQAAAABAAAAbAAAAAAAAAEsAAAAAQAAASwAAAABQWRvYmUgSW1hZ2VSZWFkeQAAAAOgAQADAAAAAQABAACgAgAEAAAAAQAAAdigAwAEAAAAAQAAAtUAAAAA26vKTAAAAAlwSFlzAAAuIwAALiMBeKU/dgAAAi9pVFh0WE1MOmNvbS5hZG9iZS54bXAAAAAAADx4OnhtcG1ldGEgeG1sbnM6eD0iYWRvYmU6bnM6bWV0YS8iIHg6eG1wdGs9IlhNUCBDb3JlIDYuMC4wIj4KICAgPHJkZjpSREYgeG1sbnM6cmRmPSJodHRwOi8vd3d3LnczLm9yZy8xOTk5LzAyLzIyLXJkZi1zeW50YXgtbnMjIj4KICAgICAgPHJkZjpEZXNjcmlwdGlvbiByZGY6YWJvdXQ9IiIKICAgICAgICAgICAgeG1sbnM6eG1wPSJodHRwOi8vbnMuYWRvYmUuY29tL3hhcC8xLjAvIgogICAgICAgICAgICB4bWxuczp0aWZmPSJodHRwOi8vbnMuYWRvYmUuY29tL3RpZmYvMS4wLyI+CiAgICAgICAgIDx4bXA6Q3JlYXRvclRvb2w+QWRvYmUgSW1hZ2VSZWFkeTwveG1wOkNyZWF0b3JUb29sPgogICAgICAgICA8dGlmZjpZUmVzb2x1dGlvbj4zMDA8L3RpZmY6WVJlc29sdXRpb24+CiAgICAgICAgIDx0aWZmOk9yaWVudGF0aW9uPjE8L3RpZmY6T3JpZW50YXRpb24+CiAgICAgICAgIDx0aWZmOlhSZXNvbHV0aW9uPjMwMDwvdGlmZjpYUmVzb2x1dGlvbj4KICAgICAgPC9yZGY6RGVzY3JpcHRpb24+CiAgIDwvcmRmOlJERj4KPC94OnhtcG1ldGE+Cv0Z0/EAAEAASURBVHgB7F0HYBzF1X5X1S1Llntv2NgU07vpJNQQOqEnQKihJISQQCiBJPyhhB4SCCUJgZDQOyaU0IspNgZjY2Nj4ybLliVLuv5/3+yNfDrfqaGTrrwnvdvd2ZnZmW9359s3VURFEVAEkhFwxR2uxnZCfN+6JfvVY0VAEVAEFAFFQBHoBAKWSAfBbwx6VjyMtxNh1YsioAgoAoqAIqAIpEHAEul5OE+CfTXBnyXfBCfdVQQUAUVAEVAEFIGOELAE6ofHj6AkWOpuUIrH2eivIqAIKAKKgCKgCHQFAUug+yIQiTUY3/41Hok9Hz/UjSKgCCgCioAioAh0BgFLoA/BcyLBrsLx8HgE7s5EpH4UAUVAEVAEFAFFwEHAEid7DTdCSbBRaCi+fw62FEvCzpH+KgKKgCKgCCgCikC7CFji/BV8kVwtsUbixx+2G1pPKgKKgCKgCCgCisBGCNjOTT6c+RxKgrXEai1Zbr8DpVgydo70VxFQBBQBRUARUARSImAJ8/s4awmV1cPcp1pr9j7sU2x1snOkv4qAIqAIKAKKgCKQEgFrwT6JsyTUcHxrCdaSLdtmx0IpNoxzpL+KgCKgCCgCioAi0AYBa41uCtcWKEnVEqol2ETSZRstxU5I4RzpryKgCCgCioAioAi0QcAS5TVwJZGyOjgVwdpq4lk4XwSlqBXr4KC/ioAioAgoAopAGwQsQVbAdRGUBJvYuSnRguV+IO7nYGwptu3WOdJfRUARUAQUAUVAETAIWII8FkeJZNocP7aWLI/XJfh5HPsUG9450l9FQBFQBBQBRUARMAjY9tf/4ogE+w50PyjHvPLYVgvXYp/TJ94Sd+e5iVCKkqyDg/4qAoqAIqAIKAIGAUuMe+JoOfRsqCXcZIKtx7lxUMou0E+hN/IAYsM4R/qrCCgCioAioAgUOAK2/XVb4DA2AYsS7CcT7Fq4TUnwQ3LmpBOWpBNO6a4ioAgoAoqAIqAIWJIlErY3MWdzSkWwk+Nw8byKIqAIKAIdIqDVWx1CpB7yGAG2pfIdINGy93BnhP7oX9+dzqClfhSBAkbAfrUXMASa9QJHgD2FKYnWrOOS/pfETFVRBBQBRSAtAvoVnhYaPaEIKAKKgCKgCHQfASXY7mOnIRUBRUARUAQUgbQIKMGmhUZPKAKKgCKgCCgC3UdACbb72GlIRUARUAQUAUUgLQJKsGmh0ROKgCKgCCgCikD3EVCC7T52GlIRUAQUAUVAEUiLgBJsWmj0hCKgCCgCioAi0H0ElGC7j52GVAQUAUVAEVAE0iKgBJsWGj2hCCgCioAioAh0HwEl2O5jpyEVAUVAEVAEFIG0CCjBpoVGTygCioAioAgoAt1HQAm2+9hpSEVAEVAEFAFFIC0COtl/Wmj0RA8iwA85TqbflQn1e/DynYqKaePE/3wnUqXTvivc2gUCsJu1wsUImE5dlCBrb5EmLN8RsIVGvudT89f7CJCkSKy2oO/9FHTvis0IFkoKyjysjrsFk85l+yEXhc+1e5DtmGr6FIFOIaAE2ymY1FMXEWChznVT7RqrI7E/CToYagt87GaV8IOARMR3YlA8ZdaS9eP4ROgiaBE0my1YprkR+jX0I6j9WCDuatECBBVFQBFQBHIVAfvRRuv1aOhL0FVQklcuqSWjXEpzYlpbgPdc6PXQTaBWtN+FRUK3ikCGEbBf6Bm+jEZfAAjwWaKSmHaC3gzdFmqFhT8tWm6zXfiRkPxuhOGWC2kntiRRWqxWmPZroZdBmQee471QUQQUgQwikFyIZPBSGnWeI8BCneR6FvS2eF5ZsLsoA2pqXEVFflc0GoND/KxuMoJADBRav7Y+1tS0nmTKe2JrFd7E/vehK6FKsgBBRRFQBBSBbEfAWkskVxbqVLb9xaoHDIgNHTbUuul2Az4Zx2LY8OExv9/P65Bk2TmL+3Og/aEUrS52cNBfRSAjCKgtkRFYCypSawlNR65fjeecBbp7yNChsnzZMuN04imnyJbTthQU+BKjiaWSMQRWrVwlDz7wL5n3xRxxe1xSUVEJi3Ytr0eSZYetx6GHQvn+680ACCqKQCYQUILNBKqFE6ctoNmz9n3oZlC27XkGDxksK5avkFN+dKqc9MOTZfyEcVJeXq7kCnAyKaiNl3A4LCtBsm+98ZacevLJ5nJV1dWypq6O+6y2Z5Xxj6B/hdoPJOyqKAKKQE8ioATbk2gWXly2cD4bWb8Vagpva7n+4cYb5NjjjpXS0lIJhUISiURgMrlgMqnRlIlHxX7tkGS9Xq/RWZ/MlpOPP0UWfDkXlmw/aWhYZ2oXcP150C2hHPdrg2JXRRFQBHoKASXYnkKy8OJJLJTfQfa3h0YGDhrkWbVypZx3wQVy8a9+IT6fz5ArC32qSu8gwGp4amlZmbz/znuyzx57SvUAWrFr6G5J9iik5mEoLVp+HKkoAopADyJAC0RFEegOAnx2aIqyWvhSqM9fVOQKh4OucCgst9xxmwwaPEiCwaC43W4lVwDUm2I/aFhzMHzEcFTP95Nnnnpa0OFMGhsaWY3PDk6cneppaOLHEg5VFAFFoCcQ0F6EPYFiYccxHtkvgYb79690NTe1yPk/vVDGjB0jgUDAkGthw9O3uacVyw+cnXfd2SSE98Tj8dj3fhocfVASrlYvGIT0RxHoOQTsi9ZzMWpMhYbAaJtht9upEJk4cRMW4tZZt32IAC1ZdnriB8+UqVOlbnWdeLxeS6ZDkLTiPkyeXloRyGsElGDz+vb2SubYnhcXp/OSF+2uKtmBAAmWwuFRxcXs7G1MVdvLLOHemVP6owgoAj2IgBJsD4JZoFFZa6g1+6yWVMkuBHhPohvuy0b3LLtSq6lRBPIDASXY/LiPmgtFQBFQBBSBLENACTbLbkihJ8dYWtFotyekiCIsVUURUAQUgb5GwE4C3tfp0OsrAgYBf5EfHaS8EsbwEnbO6YqwvZGTWkQxzDMYyLV10buSU/WrCCgCuYCAEmwu3KUCSuP8L+Zjmr8VMnr0GBkydIgz+1NHE1SgydeNkSdNTU0y84MPpAyTK0zcZBMde1tAz41mVRHIRgS0ijgb70qBpokW6JOPPSkHf/dA+fijWWaqv85AwakXOSxo3bp1sv8+35E/Xn8zqom5LJ725ekMfupHEVAEMoOAEmxmcNVYu4lAZf9KE7K4pLhL7bAkWXecUBmHUms3b4AGUwQUgR5DQKuIewxKjagnEOCCAJRYFzsqxWCxen1+uegXl8iYsWN0XiKCqKIIKAJ9ioASbJ/CrxfvCQRYFUxixlSNcuFFF5go6WbH49otTyS6p7o2z7cniXEZfxzymxCkvfDdDWvD2bjtsZkJGte27u2lW88pAopA7yOgBNv7mOsVM4QAicYu6M5J7q1gakDxYD5ekjCVS7m1TuVIQo1PwMDhPQyXjrBIbJzXl+GNH0vGcOc5G3+q8O2FZTrbu3ZRUZGJn2ljPFyhyC6gwGt2tbe1xUW3ioAikFkElGAzi6/G3gsIkHQ8Xo801DfIq6+8ZpZl22GH7cXldpbIa0DnJ6wgIxX9KmDl9jdLtn0480N5/733QE4hIYGNn7CJbLPt1jJi5AhDssnJ5jVIrFwd6NPZc+TDmTNl2bJvDDlXVQ+QadOmyWZbbC5l5Vj7NtiWpBmWxN/S0iKzZ81GB66PZemSr0GSHlzbL5tMmizTtpomw4YP20CW8Z7RLc0tcvutt8nIkaPk4O8dbMh10aJF8v6778snH38ku03fXfbZb592PwyS86LHioAi0DsIKMH2Ds56lQwj4AFZcZjOD088UX5w/Imy3fbbiRskVVxcLM8+9YycfMKJ8uSzz8jAQQNlx222M6mZPGWKlKIz1cwPZram7uHHHpE99tzDWKPW0VqNK1aslNtvuU1uu/lmc2qLLbdg/ax8AsKkHHHU0XLxLy8GWY83KwnRkrXEvOirRXLzH2+We+++uzWsC9bwxx9+ZI758+C/HzZkSYuUnbYYPhKNyFW/vkLOPvdcOeCgA+WpJx6VU0/+YWuYyZOntO7rjiKgCGQXAkqw2XU/NDXdRIBERouVwrbY1tpbHLvjK/vMm/elHH/kiXLWOefID044XsaOGwOL0Cu1tXXyxv9el9NO+aEceehh8uobr8vUzae2WrL0Q3I9/5zz5MXnn5OrfnuN7Ped/WT0mNGGBJcvWyFvvP66nP3jM+S5Z/8rr7zxoozBOVq7rM6tra2VM079sbz7ztvy57/eLTvuvJMMAtGTQNeurYdF/Klc9/vfyzFHHCnPvTRDtt1+W0yUETDkzAbe8eMnYkzwUHnhuecNuV51zdWy5957m/TTqiYhp6qWNmDojyKgCPQZAkqwfQa9XrjHEWCHIwitPiukXJIv5cKfnCskp9POOF2KsLIMq3I5XnbgoBpYn0cYkjr15FNkxoszZOoWXEfe6UAUgZ9H//2IIde777tHDj70e+IFaZNAKSNGDgdhHwfCGysH7PsduevOP8uvr7zctJOSIF956RVDrn/75wNy0CEHwzoOG1Jkuqqq+sNq3RsLopfJfnvuLS/h2lttPW0DYdJPdRWqgz+Wa6+6Xu79+98Qx0EmbtsmaxKhP4qAIpB1COg42Ky7JZqgnkbAjo/dfc895ZgfHGusyuam5lbiDQVItFHZZrttzaVnz/5E1jc2GpKjhbh0yVK59JJL5Eenny7fPWB/0+7K9lQrJNqW5mbZHu2+v/u//5M/3Xa7zJs337S7BoMB+c/DDxuvrLYmuVpipiOtT7azjhg5UkaP3UTmffG5SYu1SFlVXD2gWh5+6CE5/+JzDLmyYxOvbz8cbDp0qwgoAtmFgBJsdt0PTU0GELBVx0cdc7TUDKwxBNfaixjXY49cEl0VOkAdcPCB8uW8hUICtj11P/7QaWM97PDDpLSs1LTPMjxJkGrj4nb3PXc3OXjvnXfNlvEeCKv1jr/8WYpLSsx1eMKSow1Pi5gfAoEUcyhHI87iBbRc6Z8Ey7SpKAKKQHYjoFXE2X1/NHU9gEC8hliGDBmaOjbUI9OCLa8ok4EDB8r8uQvQnus2HY0YYOGC+Sbc4CFDsAhB2Pi1BJkYIS3TyspK9AYeBat3iSHCIn+RHIfqY/onOdIiJhHb4TWsoub+h+jstHDBXJm29dTEKFHB7DKdt7bbHu22gwcZv4xHRRFQBLIfASXY7L9HmsIeQsCLoTyUdARFIjZkzCZb7NBKbIIlu3TpUhPuyEO/LwGQqOE3+kngOYZzo5MVh958s3QxhgC9L42N67G6T4khZA7Tqa9fh3NL4d4gCxYslM/nzEU7cFCeR+/mouIy6dd/gOncZC5mf3ANVj9PnDzZxG2ddasIKALZj4ASbPbfI01hDyFATjSSRI7WmVvLmfTidrlNdXL92gbj5ahjj8F0jF7HGjUu4OF4GBs3q3lprfavqjbESmt1/fr18uTjT8otGKbDsauUs845WwZjtaChQ4fJ4UcdjnbWAfKjk05Dz+U0S/QhTjVcDXT6owjkDAJKsDlzqzShvYkAiZbVxsXobVzZv8Jc+tTTT5PBQwabdtR0VjA98hxJlr18169vkhuvuwEr/Nwgl15xhdx1391SXV1tlBZyBNdg+yuHAbU0B4zVbC6mP4qAIpDzCCjB5vwt1AxkCgEu3M5VfUaMGGkusWLFCjNkJoAxqukIlsTKjk0kZ84a9fabbxlyveHmm+SEk05obX9lHPRLiaBdNhKOiL/I1+pmTuiPIqAI5DQC2hUxp2+fJj6TCLCDEeuAR2CaQsriRYuNhUlypfWZqDzPKRcXL/paRg8dIffcdQ86JEUx7MbpILXvfvsa/81oTyUB2zgYjtXIHM7z0cx3TRx0U1EEFIHcR0AJNvfvYV7mIArrjlZgZ9Vagz0NBuOdhokfKHf/+S5ZXbvazB/Mnr8Unqc6Fq1L/vfqq8adszGx0xPbXymN8S336ZdhmDeSNGXGCzPM1i5WwPMqioAikNsIKMHm9v3Lu9Q7RMU5hIukrKwMvXBLzdhTjj81ymPrFt+nP58f1aumyxEhsV2VugEPglqyZDRsRx01aiTaTy+Xl2a8KPf+9T6QZrNJC8mR1ienQ2Sa3kJ18M9/+jP5/uFHyBZbbGHIc9Rox/p95smnzRAbVjnbcCUYF8tex5wC8afnny+bI8w6LEzAOEm0rcLeTVQVRUARyCkEtA02p25X/ieWVh3lvzNekpUrlhuCs6SbKvc8x2rXXadPl8p+/YyXja2/zluDDBvGbEusG2YVMY/dHjcWEPiBzHx/plxz1ZWyauVKOfKYI2XSpEmGy2tXrcZUiO9gvuHTzPUvvOhCjKktNz2Qt952G6ziUy2/QQcnjoE94KADMK/wEDMT08IFX5l8/v6aa+SZF56XN994Q66+8irM2vSw7LDjDjJu/DjH0oW1zAXlVRQBRSC3EFCCza37lfepteR48403dimv/378MSz5tqUJY6dGtBG0R9DWj926MDSHFqm1ghmWk0sMHjxY/nDjdTJx4kS56cYb5M9/usMGad0eePAhcsmll8ikTSeZDwOeGDZsqDzy+L/lZ+f/VC6/9FKjrQHiO/9+7FHZededW+3vc844U2646Y8yedPJhlhJzKxuVlEEFIHcQkDf2ty6X9mUWs7awIbIc6Fcvy0My8y7fNly+dNdd8mRRx9hLLiukBviMJYdOwFxDCrDmmXbeCKtOH5Ypcol69Y3rTfbEkzwQGEc7LFL5dJ1to0zXXRc8o4k71TfbmhBoRuJjmlbuACTRHz2uaxZU2eiKSkplQkTJ8imUzY1VcWc0cnmm+FI2HV1dTJn9meyaNHC1tmYuMYrV+0ZNGhQq6XOdWvDsFhLUJXMTlO06Jkmxsc02XjTpT+VO6ukaeV/78CD0ZHqQ8YbAx589xdA2cDMgb48VjMZIKgoAj2FgFqwPYWkxtMjCLAtszskQiIimXGqQm5tVTP3SawkJ+unvYSWl5eb69tOTNYv02SIH5bkpMmTDJkmppNx83wiuTIs/bAdt6qqSqbvsRss0d1tlCadiWGY1n6VG6q5GSfD90PVN5kvGu9Y1RqB7igCikBWI6AEm9W3p/ASx4ntN3RW6nz+LdmRsCj2mPuWWBPd6J5KLLGm8ks3cKAhUZJhovCc+cM2WXiO6WJVc3LeTLiEMKnSn8ot+Rp6rAgoAtmHgBJs9t2Twk4R+MmMP+0mCiSsVJLOPdlvZ/wlk2JyHKmOTbydyFuq66dyS3UNdVMEFIHsQmBDI1N2pUtTowgoAoqAIqAI5DQCSrA5ffs08YqAIqAIKALZioASbLbeGU2XIqAIKAKKQE4joASb07cvKxLftrcPkqRthllxX9okgvck4b5sdM/aeNYDRUAR6BEElGB7BMaCjmSjZ4iLiKtkBwK2szOHCgUDzn0Bu9qeYHabHYnVVCgCeYbARoVjnuVPs5N5BJbaS3A4DGXhwgVmMgXrrtu+QyCGJfc4QQZX+fl09mysbVuJpfHC1oJdgZS19F3q9MqKQH4joASb3/e3N3I3DxcJQL319etimKderv+/P8iirxaZWZMs6fZGQvQaGyPAamGO2eVcyRQujICxvs6XkMincApBOSuXJV3sqigCikBPIKAE2xMoFmYcLKRZxfgJ9GNCEGhpiQ6oGcxdeeifD2EGo7CxnpRkDSS9+kNSJe6cwWrWx7PkYqzy07+qv3AqS4itGn41nih73Ktp1IspAvmOAL9cVRSB7iJgLR/O7/cdaBTrn7q5WgyXYBs9eoxMmTrVzKnL2YiSZz/q7kU1XAcIwBb1eD0G93lfzMMSehfJ14sXSxGmjGxpbuaHEe/bIuhPoGyYVesVIKgoAj2NgH659jSihRUfnx8WzhXQD6HjoVwAwFMzsEZqV9XKT3/+cznqmKNkzNgxZtJ7JVmg0wuyZs1aee+dd+W0k34sjU1rZEBNDRaLr+WVOZckZ3DjIg23Qkm2zurx2FFRBBSBnkNACbbnsCzUmGwBfQAAeBpKwqUaSzZeJSnnXXCBjJ8wwaw2o+YS0MmA8GXmXMqralfJay+/Ki88/5y5SlV1tazBaj4QtrdyLb4XoKxxoNiPJOdIfxUBRUARUASyCgGSLOVXUPInqyHNquWDBg+O9aussKSr2w0fIBnHYsTIkTFUC9v7YauCF+LeDIVStA+Gg4P+KgIZQUAt2IzAWpCRWkvoF8j97+IIkGRdPr/fjeXaXFyX1OGX+FndZAgBl1n/tX7tWn7oUO2iHrOwfyh0AdTWPGBXRRFQBDKBgBJsJlAtzDjts0SL6SDo/0E3TYCC7Xw8lytCArIfDSSpXEo7MebXjLVQmfY7oRdBG6FKrgBBRRFQBBSBXEKAhGSri4uxfzr0bSgLdRbyuab2oyDX0m3TuxiY3w3dEmrF3h97rFtFQBHIEALW6shQ9BptgSKQbCFtBhxGx7UEW1qE2frs0eprgB4F3Qv6NfQWKDsIWYsQu1kpJFZi/w10CXQO1HQdxpZpt8SLXRVFQBFQBBSBXEUg0ZrNxTy8iUSTkEism+diBuJpJuFm+4dBDsOrSVcE0iOQrVZE+hTrmVxDgM8Y1VpQ2Zx+khF729ohR9z3Qx+AHhffz4Uxo8SbHwe52HaMZKsoAoqAIqAI5BsCJFjKw1ASlB3ashr7I6AUtQYdHPRXEVAEFAFFQBHoFAKWODeBb9spixYgq4hJtpxWkGJJ2DnSX0VAEVAEFAFFQBFoFwFLnJfDFwnVEqvtScwxpNZPuxHpSUVAEVAEFAFFQBFwELB9EYpw+BmUBGuJlVasbcu00wsq0QIUFUVAEVAEFAFFoCMELGEeAY+J5Mr9RGv2H/GIbHVyR/HqeUVAEVAEFAFFoKARsBbsU0CBhGrmUY7v89hasM3YHwulKMk6OOivIqAIKAKKgCKQEgFLlFNx1ra7WkK1Fmwi6V4ej8XO75syUnVUBBQBRUARUAQKHQFbPXwtgCCRkmRTEawlX3Z24jSQFGv5Okf6qwgoAoqAIqAIKAIGAUuQ/XG0GEqCteRqt3SzGojvH44txZKzc6S/ioAioAgoAoqAImAQsAR5LI4sibL38Pr4sSXZJhxzxXLr51HsU2x450h/FQFFQBFQBBQBRcBU71oL9nXgQfJ8Dbon9P34sa0WXoXjfaA3xt3p1y7FpyQLMFQUAUVAEVAEFAGLgCXG3eHwDfQ0ewLbj6AkUUuw9dgfD6VsByUBX88DiO0k5RzpryKgCCgCioAiUOAIWOt1GnAYmYAFOzB9CE0k2LU4npLgh7skZkvSSaf0UBFQBBQBRUARKGwELMkSBTvsxof9VAQ7OQ4Vz6soAoqAItAhAlq91SFE6iGPEaCVSpKlsnNTZ4T+6F/fnc6gpX4UgQJGwH61FzAEmvUCR4AkS0m0Zh2X9L8MY8Ol96VnFAFFoKAR0K/wgr79mnlFQBFQBBSBTCGgBJspZDVeRUARUAQUgYJGQAm2oG+/Zl4RUAQUAUUgUwgowWYKWY1XEVAEFAFFoKARUIIt6NuvmVcEFAFFQBHIFAJKsJlCVuNVBBQBRUARKGgElGAL+vZr5hUBRUARUAQyhYASbKaQ1XgVAUVAEVAEChoBJdiCvv2aeUVAEVAEFIFMIaAEmylkNV5FQBFQBBSBgkZACbagb79mXhFQBBQBRSBTCCjBZgpZjVcRUAQUAUWgoBFQgi3o26+ZVwQUAUVAEcgUAkqwmUJW41UEFAFFQBEoaASUYAv69mvmFQFFQBFQBDKFgBJsppDVeBUBRUARUAQKGgEl2IK+/Zp5RUARUAQUgUwhoASbKWQ1XkVAEVAEFIGCRkAJtqBvv2ZeEVAEFAFFIFMIeDMVscablwi4kCt+lHFLzSdhfqJQHzRV3uhO4Zb+8kliyIzVfMtbPt0nzUuOIaAEm2M3rI+S68F1WQCz8I30URp667JhXCiUdDHmfUXcLZB0Lh8PWS7wPjPfKoqAItBNBJRguwlcgQSzTQiWVAci3ztDR0OHQPn85EshTKuVeeHHxCgoxea/BPu/ha6E5lOekR1jra/Cdjn0A+gcKD8yKMTC3nvjoD+KgCKgCCgC3x4BFq5W9sLOw9B1UJJQISit9ULIZ2Ieg8jzO9AfQ4uglMTnwHHRX0VAEegUAqnamjoVUD3lNQLWchmMXN4MPSoptxGXyxVzuSQWY/Gcf0IrNfndoFWXl7nFTaSlTk3M8ywcnwV9PX5O22YBhIoi0BUEEl+oroRTv/mLgCXXTZDF56FjoCxcqZ6KijJXzYBycbmiEg6HsNVHCLjkrPD+eTx+aWgISO3q+lg0GuVHBO81PzIoJNk7oCRgJVmAoKIIKAKKQHcQYCFKmQBdAqWVymrDaGW/0tiwYVWJ1Ym6n2dVyNVV/tjgwf3tfWVHL7t/JvYpWl3s4KC/ikCnEFDzo1MwFYQnPgssUFmIvgndHspC1jdkcJUsX7EGuyLfP/QgOeSgaTJs2ABYPj4EYBCVXEagYV2DvPnWl3LdDXebbIwcUSVfLzH3mxar/ejaBft8LmwNh/GrP4qAIpAeASXY9NgU2hlWCbKd8TLoVVBDrkOHVMuy5XWy9VbbyE03nC5bbz1eSsvRqdatjw4wyhsJtwRl4cIVcsedz8iNN90nI4ZXypKl9cwfnwk+G+9C2YOcvYrtxxh2VRQBRSAdAlpKpkOmsNxt+9ogZPtjKIfgRGtqKt21tfWy/3f2kDvvuEBGjsUoHbS7RiLReO+mQnx8aLHnW75jqI1wi8vnlXBLWG669Un52UXXg2SrQLLGkrUkezQy/y+oWrEAQUUR6AiBfCspOsqvnk+NgC0wj8fpv0HDxcV+bzQclCCK1s8//ZdMmjJCQs0t4najINanJjWKOe6KDk7i9XkkFIzJ+RfeKbf/6Z8yeFClrFhZT6uVz8hT0IOhfAK0bQAgqCgC7SFg21fa86Pn8h8BW1geFM8qegpXGHK968+/BrkOh2XT4lg5Sq55+zTw4ykcioivxCvnnn1IPJ+m47AtJ3aF4wBoPprxeXtfNWN9h4B9cfouBXrlbEDADr/YionB0A1XNMomWJE9pm+G4jSmw3EMGvn/43KhSAhHZPToQfKDYw+D9dog/ftX2IxXYmda/EDLDouKbhWBNAjoS5IGmAJytjZpDfLcj/kuKyuRb5atk2232xWFazkI1vJvAaFSoFll9T/b2EtKi2T6rhwKLVLZr4TPCB8CbodBKfa5cY70VxFQBDZCQAl2I0gK1oFtbEbY4YVSXV0mLlQbamubgaNgfsz0XB6P1NRwCmaM0/K1KSbsqkIFg4dmVBHoLgJt3pzuRqLh8gIB2w7LGmEjzqQ+eZE3zUQ3ELD3v/XBcOJIOuxGxBpEESgQBDi+TUURSI1AL1UCOoSeXG67tLdy6rvSe67x+99Lj0Hv5UuvpAj0EgJKsL0EtF5mYwRoIbHNz1RJu1trqE2nKkyKa9oC2elGhwVtjJ26KAKKQPYjoASb/fco71Jol+DxFqM5D11n1je0SCgUaF2axw2yLS0twXARtAFGMLEFerXqogLpHwOOX2WfI7fOrpUeJD2jCPQBAkqwfQB6IV+S5OrxwlqNuWTunKXy35c/kBdmzJHHHuMcBlaK5NJfnijTd9tMtpo2UWqGVEokEASFwNzV+koLktnyw8NbzM5IUYkGnaFVbTzogSKgCPQZAkqwfQZ94V3YkCum41tbt17u+/tLcv4FfzAgHHbYgfK3ey+TysoSYbXxx598I5dfeZs5N336TvK7q38kO+88SaKRiM5wEH9s2G7t8bhkfVNAPnj9Y2DXT6ZOGQMrtvCeK82xIpCtCCjBZuudybN0WXJdvnStnHXuLfLo4y9gtqDj5KwzD5KxYwZLEcZdiovtsDE56MCQnHXGAfLiSx/LD47/pewy/S154rE/ysEHbYPqYszdqI2yBidUBWAd12bZfa+fyPHHHyV333mmIV2u6KqGfp69QJqdnERAv3dz8rblVqINuWJsbeO6gFx2xf2GXG+5+RK54brTZPLUkVJU5JFIMIjpGJugzeDPqNQMrJBjj9tTXn/tLpPZQw49Xz6cuVA8RVgiz44jyi0Yej61wMG2u3KJOStKrhYJ3SoCfYuAEmzf4l84V8fEBU88+Y7c9deH5crLz4SFur94vS4QahC9hZ2pGDkXLpXCjk0k2112myIP/uO3xu2Bh/4rwaZwK6kYx/gPOTcl8eJESvfWcDFTLW052/HbdsgQ3dqLw6Yjnb907jYct+n8pHM3Y1SRLjtWNYhVGaLxY6fTU2Lsuq8IKAJ9gYASbF+gXkDXJEF4sELLN0vq5MQf3YKcj5CTTthP3JgdKAwSTbc6DzvvmJ7D6EW8377byLhxU+S66++VefO/wbJqvlZiIZS8BnnZU+TH1mPC2fBur9dYvdYft4lCi9hbXCQe0wMXacWxG1WvrIU210dlq4dx+Nu3nEl07LzFNDhDi5z0Mw4P0uvxe9OStAmL+OnPpttuTdgUVruv2I8MF0sJ0k7xoW27uAT5KCoy+UnMo+4rAopA3yCgbbB9g3vBXBXch8XZvfLe+19gxM1yuf3WS2T0mIHoFRwy5NoeECSZSDgqVdWlctedZ8kHM2dLkR/Mh0hJgBSHwLGOaTAiH7w3R15+9VN54/U30DbZIpX9+8u+++wie+y+uWw6eQQI0N1myA+rVxfMWyL19etl4sSRUl5RKrM/XiTPPve+PPX0i+JFJ6LhI4bLbrtuL3vvubmMmzgUVdmhOPE617dp4JCjxrVN8u57XyANs+TNN17nnPkydux42Xuv7TCv71QZPXaQxCJhZ2rnhHpcLwh06eJV8ur/5qBX9Xvyxdy5ZorK8ePHyK67bCd77j5Vxo4fKlG2P0OI6by5X8PyD8nq1Q3GbfmKWpn18Tx8HIj4QdTjxw837vqjCCgCfYeAEmzfYZ/3VyYRsKdrqDkob789y+R3GobdCNxiGFFiSbI9IBySDcue+0yDbotwqFKOk5wl15XL6+WPtzwmv/u9017749MOk0GDSmXlykY597zfm+iv+c15cvZZB4B0S0D0XN4UAkv1ttuflBv++A+Z9dG/ZPbsd+XY4y+VQUMmyakn41rIwFPPfC5/+/tVxvvLM26XPfbcAuE3kKyTBp98gSFHv7zsHvnPI8/B7zA5/ye7Sr9+RTLns2Vy4smXmfBPP/FH2f+7WyPjXLDeyT9Gr8qzT38gBxx8nvFz7NH7y267wQ86e739zhK5594rjPuM52+VvffdUqJIO6vUv3vYHbLgs9fMuYE1pXLvvf8xahzwEw2+atJvj3WrCCgCvY+AEmzvY15AV4SlibbXNbUN8uhTn8mIodUybswgLtfSKXK1QJFkwy0c4xmMVymDoMFQrHpevapBTvvxTfLEUy/KH649X446Yg8ZNqwK1aQ+YyWff94xcvdfn5VfXXaTrKqtl2uuOgGTWMDihWVMqa4ul8mbTpFHHntHLr/iennysRtll12mSFUNVhGC/PxnjTLjpY/kyGMuBsGfB4v3IRk7DhZ4CJYoSJLXmfvpEpm82THG/wN/vxrW7lYgeCxMhCrjlsZmufiiE+TCn90mBx5yvvz3hTsQz+YSQtuzD1W6b73+mSHXQw7eR66+6hTZZOIwKSpD9S+kYU2TzJq1CB8J18k+3zlH5sx6SDadOkzc0bA8/8hZgPE0qYUFu+vuZ8kpJx8uF5x3CKq6Y+LroDrbRK4/ioAikHEE0HKloghkEAFMdRiC1Tl3zrsggp1MdW8M7ZUkza4Iq3NtByiGY3jwjNxz3wxDrrff+kv56QWHy6hxNfAXBSEH4Cdmeilf8esT5bJfniZ/vOleVP9+AOLb0B4aw4QXn382x5DrG6/+RQ763o5SVVVsOl+xA1b/6hI54qjd5NabL8ZVQ6im/hxV3h7TBuxFlXPj2ma58uoHTFaefepm9HzeCxZwBcgvbNLAHtLb7jBJbv7jT4yfm277t6yvbxZfkVeaGwMm/Txxw3VnyObTxqEt1en4xWtXVPhk5+mby9W/OcOE/WDmF8i4M3XkhEkjZNLUTWSzqePMucGDa2TzLSbIlC02kYmTxxg3/VEEFIG+RUAJtm/xz/+rgwgjYWeGoZoaLDkLQmP157cRWq9uWK+L0W550cU3yHf2212OO3YPWMsxUx0NFgLJOgQeag5IWWWRnHHGISDOoXL5b/4pq5bVw8rjbFKwguNL8137u/MxmcVkVK22mHZfh9BRvR0Ai6NKd4ftp5okL/jyG/hhT2Ycgqjfe3+e/PPBJ+TXl/4Y6ZiGcwHTHswPAMbBDkyRQJNMmzYGFurZ8vjjL8mHaOcVt1/W1K2Tv9z1oPz49BNk9KiB5tombwjH8KEQrOxoQEaOHGyuXVe3Elta76B6EDAilmZ8SFBCsKhbkNdIANePu5kT+qMIKAJ9hoBWEfcZ9IVzYUunXk6R2DXDNT1IsOTefX++OX/OWYdIP6xdS2KxhGkD8pgdqoYNr5KrrjgF1a2/lS/QsWngkCkgrw2dpfbea0sQpluiLeyRvOG70xA1FiAfPqy/ibJ2dTPILIKxu4w3LP99ZbZxP/Lw6ejdDLcW9ozekEkSJQlRYE0fefjuMmbMKFQfV8IBcfj98uAD18q4sUNwHB8uhD0vwjsED7xAxFZiCQvfm2vQH+KnGELHPt1plasoAopA3yOgBNv39yC/U0ArkV1bIfX16/BLtiGBWdrFbifFIQ8anggLnTdvngk5dtxwbA2LpY8JxLP9tuPN+Vmzl8jOO02GxQvrGu3BlIoKtrkijjhhGceEH3ZYojANJDN+KYTRq/ftt9+SzbbYUYaifRnmasrg9M82200mDZFNpiCtuCbnVh5QUyZHH7ML4opj4SKZguQx6UZLS1giqANvWl8vD//nFbhTlDgdHPRXEcgNBJRgc+M+5W4qQYReH4ljEwwt+UICIA5/Bdsw03JZyrySVFvQ0Ylk5ceY0ubGoHy1sBZ++0l1f5BjGnJjZORjkhhnh6LU1tUbkuZ4Vecc00LygkVrfGz8Y0idPhCX2YdlXFu7Hh2gPpRzzjxWysqKMQTHWdVm49BO/Jw8Iwbrl9cypAv/HuyHURW8aPFqfDAskrVr6+R/ry+QeQvXyeq6Rpn53ity4glHmCjtx0Cq+NVNEVAEsg+BDXVh2Zc2TVE+IADiKystlpNOnCqvv/mJLPwKpIiqYktYHWWR/tyYROHDD7+Skop95fY7Z4CcOElFVOrXBWXqpgOluBjfiYYp09GjvYpznosGpJb2wiedAzG2sH0WUlaGySpAuOTxJF/m/MY/zsxQHuTryy9XyFk/uU0mTDpc9j/oOoyF/QrW9Wi58Nw95ObrT5D61c/JJRcfbaIw1cIbR6YuioAikKUIqAWbpTcmH5JFK41EWFFVJrtPnyr33f+ozP9yiWyx1eguZ+/DT74yYcaPHcDBtVJS4kXnn3JUn34Jq68Zw2rKcJ6El47iaCk6hFiE2Y5SizF1U59q44proP22GmNqB/R3yddL1qGzUcj0+uV6P6lSQP43y/Rh7C16UdGklfnzVqDH75Em5pdn/Em23WYc8lVsZoOiNc12WlYZL1lS3+bqeqAIKAK5gYBasLlxn3I2leARcEVUtt/O6YX7jwdekXosV8chLh1ZsYaUYBk2YljLiy++ZTCYPHkUtlHxYpjL6DEjjVvdGhBQQnWvcUz4cdIQA7mvMq4ci+tGvLR6zbkEv53ZNWFAsBX9iuW7BxwgDzz4jDQ2NoFBU7ctM58e9Fr+9NOlGEp0k7zxBibdcBfJI4++Yi733tv3yR57T5Py8iJ0WuIQIy56gEXoMUEH6p0N1XYmXepHEVAEsgsBJdjsuh95lxpasTF0Bpq0yVC56GenglSekRdenIlqYr8h2PZI1kxa7/XJm2/NlYf//QLC/1DGjB6MmZwcS3TqFMwKBXn9dfTkNQsGbAwfSdpY0oEIlr9733iYsukIkCGYv7MG68bRIu0geQzTmb7bNjgblI8+XmhInhPuJwuH6nApvlmzF2LWqIcEI2nMcJ6ZMxfJTjtsItO2HGWG6ETQJsvg7MXcWh2McLWr15go3fiIUFEEFIHcQUDf2Ny5VzmbUhKMFxMu/Pi07yIPxXLUMb+Qt96Yg1mQSgyZ8DyJ1qo99pWUyJdffCNnY/1Yyg+O2VP8mIXJkDLadreeNlq2nLatnP/T62TOnK9RtVqMnrckKScuJ54oRroUYdrBLzDRxP1y6o+OwMIBmNeXJN0d89WkxPSpwkeCCwSL4T6Qa//wT1m9Yp1wEn6HKJ00cN+H2Z4a1qyXv//jRXwgTJCttxovXP3G73fLW0jX6tXrMV2zM3kFQpn08+PCV+KXdbD2b7r5UXMNF3ow86vA5J8uCVxODicpM89UFUVAEeh7BJRg+/4e5H0KTI9ZEMp4WLFvvuaQ5c67/kieevxtMxzFrGbD1WTiyukHuYLNR5jE4Yyzb0TV7ly5/57fmMka7CIB7JFbNbCfXPf7kw1+v/jV3bIQK+34itGGaeOJr5Tzwbvz5PgTLjf+zjj9YHSWKjIkyMZSpq0rYi1LbpmWyZOGmwUMXn3tbfnDDf+RNasaQYwb0sDpEFvWh+TPdz8rTz/zsvzmqpMxO1QZVr7xwnIday7NZfw4AQcJtTXtyMfqFQ1y1dV/Qzt2RPzeYrQ1t8C/B7M9sZMYdk3S+TNYZs78TNaAxPmRwcUDVBQBRaDvEXAGKPZ9OjQFfYeAKaZxefYSOhNaXlTkjwUCQde48ePlyMN2QscbLNUGq6irZJSYJYaNgihGjRksBx8wXWZ+/LVcf8M9smDhCgkFXVIMCzeE8Z8N9Y3y0YeLMH/wM/KDEy6TBQu+lnvuulKOPWY3WGjgIRALOZHxcVgMJ2kYN24sLMi75aZb/iVjR4+SUiwZF4uGZOmS1XLffS9hqsOfo8dxgzz95E2yO1amsYsFuNFZasaMD+TV1zDU5uwjZQCG8UQRZ3I+WWUbxAIDv7v277LN1ptjhZ6t2M/KpIVpmjplNNpOS3D+L8ZSrqrsL6XFHmluapb331sAkrwPS+3dh97Ap8kZp2MdXIR1IWB1dX+59fZ/y5NPv4bm22J0mOoHzgzL4kW18vxzM2WnXc+XrxY1yCP//pXpHPanOx8BTpUyYni1VNf0M3h6UIW+fEWdPPros/L5F8vko5mz5LM5X7XOPJV4Dzq7TwvZjXjnfPolquZfMfM1161ptJT+OOL5CMqPc45LUlEEFIE0CGgv4jTAqHPPI0Di4ko02+wwUZ578jfy3PMfyFXX3IepBp9PebGfX3SKHHHY7rLdduNBmBFT9UlytWLIFvMOH3/cHjJhwp/ltyDAk3/oWKrWD7ennPx9OfvMQ2UbTDTBJd8MOTMw/ocOqZbp03c0ViEZMyH6eBRwgT+G+d4h28uokQNaozb5ASGXlvrlV788GvFPkAt+ersceviFrX7szt1/uUyOPXoPKSnFIgT40OBEypMmDcNk/38FAd8vv77idqPWP7fnnXuc/OzCo2QElvc788eHI/8hueSX18u+e/9ZxkwYBis8JCUYInTl5UfLiBE16ET1sTz62Gty8EG7Jkaj+4qAItBHCGxcnvRRQvSyfYYAnwFQiGCZG/kYOqRfv/LounWN7n32208e+vuFsGBKDSmQUHpC2EboRTUnzcB6TKawCBbbmjWrwW9RkEgU41pLMQRnKLSKDYtYos1ZuSbV5Q3JIlluVAs3rWuGpbdC6upWIS5OeeiRgQMHwcodJMXlaBtFlW6qPNg4Osob/VGS08FrmSkaUa1dt2odrO7lWI92rfHr95dgTdhhMozEDHJnm6xNgwmH6tx1WDVn/vxlmOmqDgSPP6R76NAhMn7cIKwYhOkXkX8O8QlhzVuGtdYzL2DiwHhaDhsidolxmwR044fxsH384YeeR3v5FTJh/BDgupzWKq3WH0LvgfLjHA3ZKoqAIpAOAbVg0yGj7hlDwLRf0oqDVmKoizMudlzC9cBktFhxPgYlaSSTmvVs3bn6TCmsw43j4uxJILY05Mp4bBw2znTbdP6YPhIn6p7xMVIm1QM3QRTkIgrzwutjyA3JMyESEw7p6oc24a23m4DzNgzDIf9otya5Gn/AwYtOVRRL9Nw35+J+nHPxrwAeqCgCikCfIqAE26fwF+7FLdFw8fCYWW2HBLRBeN7qBtf0e609aOPrxm7w6UyAb6+3wb1n92z8EUyswekQnUoBXsP5OLDnk69KdwcD5n8DOdLdqokFx4nEmhhPurgT/ei+IqAI9D4CSrC9j7leMQEB8IYhEhJRT4jTy7dn4upOerqTn+6E6U7aNIwioAj0LgKJdVK9e2W9miKgCCgCioAikMcIKMHm8c3VrCkCioAioAj0HQJKsH2HffZfmY1+G5oFsz+9msKeRSB+7/UR6FlYNbbCQUAJtnDudUc5ZcOlabxkmyCFc+32UNOoE6H+5hQCZugRUozuVonpbnOQeEL3FQFFoC0CSrBt8SjkI3ZjZfdXM08ut/MwpjSK4TLohcRDlQJBwPRKxrCg5csbTY6Dpld0a+ZDrXu6owgoAu0ioATbLjwFcZI1gGRQLtmymjlubm6RkSOqMdH+TFn2TR2GZ6YfIkL/KvmDAFsFaLk2NDbLU898YjK2pm49nxGWFZxYYp5xxOje+FY3ioAikAYBJdg0wBSYszVR34vnGyvMOS1vjz6OiejTLAVXYBgVRHY5ixPaBmT27EXy7HPPyfBh/UG2623e+RH2WfzAeUDsGd0qAorARggowW4ESUE6WIJ91ua+trZBagb45fIrb5V33plnVmlh4cup+VTyEAHcVrO0Hlb0WVvbKFf/7kGTyaZmMxuiaTqAw/+g9VCWG/ogAAQVRaA9BJRg20OncM7Z6r6nkWVaKJ4Q1kgLBJ15SA496nfyyYdfYn5aLMPGOYQLWvKTV7jWLJfWW72iUX7/f/+SZ56ZIcOHD8Ac0WYVHXvTb4vfevtBVtBPgmZeEegIAX1ROkKocM6zEKWlcgL0/vi+p7qqQurWNODQLX+79yrZd9+tZNDAchzrowMQ8kaam4PywcyF8tvfP4hVjl7CkngDZMlS0yTPTk1cYPYp6MFQfpTbDzLsqigCikA6BLSUTIdM4bnzWbDm2SPY/z7UFK6VlWXoWbwenZ9ENp08VQ48cHupqRmg1cV58Iywx3BLS0A+/miOPPr4SyZHw4cNkKXfGHJl/TCrMVgtvD30C6gSLEBQUQQUAUWgqwjYJoP+CDgLSsIlyUZ9Xl8MPYt5rJqnGAwbWh7Dx5S9v7zvdv+72KfYqmLnSH8VAUWgXQTUgm0XnoI8aauKuT7sA9C94yiEYe24Skr8ntLSIvF6dJ2IfHk6oliHNxAISGNjIIaOTmwm4DPAsoGW67FQdn6zzwV2VRQBRaAzCCjBdgalwvNjC1M+H5dBfwEtSYChUNrgaNFbKy4h+53ete8X4+iuMI5vE76z1+V1bHoZ5gno+dCFUPs8YFdFEVAEOotA4gvV2TDqrzAQSGxrG48snwg9ELo1VJ8bgJCHshh5ehn6d+iMeP5YVWHG6sSPdaMIKAKdREALyk4CVaDe+HyQaFltSPFDR0HHQGnR0pLNx2eIeQpAd4POha6CsidtV4TYlEEroEuhxK6rlijjqIRyzsJMYG3Tw/wugZJgMXWXEbpReV0VRUARUAQUgQwhQJItxEbXj5Hvnb4Fptsh7CnfIjyD7gAt/pZxdCU4q4OpKoqAIvAtESjEQvNbQlaQwWnFWAvKWjb5CgTJhQsffA+6BfQs6FtQWrCdteaIEatV94JuCX0SWgvtLHHZ8EMQZiqU6fkQyvfVWp3Y7VFhvFRbW9GjkWtkikAhIqAEW4h3vft5toVw92PI/pCWwI6LJ/UAbEdBWX1KS74jkiU5Mo4R0EnQIujOUHYaonSGwBgHZQyURD0cOhvKoTMqioAikCMIsMBQUQQUAQcBS6AkxoOgJNNq6BFQiiU+5yj1r/WzO06z/ZXWJ6uZ+TFLcrXnsZtSeJ4EzfbbYVCG7xffx6bD8PSjoggoAlmAgBJsFtwETULWIGDfh+ORInbiovVIORnaGYIkOZKUSY5sf2V4dpYaB50CpXREsI4vx2ouxYElZcZBsRa2c6S/ioAikLUI2AIlaxOoCVMEegkBEh8JkaR2TPyabDMlYW4OtbMZtffOWPJkuyurdWl90o1h9oZ2Rkig9D8GymvbdA3GfhWUYq/jHOmvIqAIZCUC7RUWWZlgTZQikCEE7LvANtcJUFqOJFhrMZ6EfYo9do7a/tpzeyX4IxmSaNlZaSjUkiZ2NxJLnOzcxOkqrfXKeGlBj4WqKAKKQI4gYAuVHEmuJlMRyBgClhxPS7qCfUcs8ZIgrVuiV7oxjvHQTaDWeiVpsnMS23J3hFIskTpHG35tGkikieROHyTbkVAO2aG/dHHglIoioAhkAwKpCopsSJemQRHoTQRIZiROVu3uHb+wfTdIZLbq+MSkc/HDNptdcMT1/BjGkiDjIuHuDOWEE7xWsli/DDsMSlK2btySYNlpilXPKoqAIpADCNhCJAeSqklUBDKOwHG4Ask2kRx5UfueHI192/nJkh/Pc5+kSXLksm4tUBsGu+Y8CXY0dBs6QBLPOy7O7xhsOLTHWrOOq/PLa4yNO6Q6n+hX9xUBRaCPEUj3kvdxsvTyikCvIWCtw0pckQRLIckmCt8TkhurfvePn0h8d+w+h+OwM1Ki9Rn3bgiT/uiHkkyQPGY76ygor5UsNp01OMGVjih0U1EEFIEsRcAWDFmaPE2WIpBxBCyZHo4rsWrWdixKvrAlxJPjJ+wxDxmGYsnTOWr7y3etGcpqaLalMrwlSLvl9dlTONmChpMRhuGMUmPMkf4oAopAViOgBJvVt0cTl2EESGwkM8oJzsaQZSJ5xp3Nhu4HQjlsh1Ym3x/7DtG6nQxtgqYShuW1WI28W9yDJdb4YStxprs+/dE6HgG1nZ3opqIIKAJZiIAtHLIwaZokRSDjCFiCY7vo9PjV2AmJ7okkRzKlpUt3vjPHQimJ78+eOGYVL93YTpsYnvu0PEmKbJ/lJBScjMKSNM9zWA6rfknC9GvTht1WoTvDMP7RcddU/uKndKMIKAJ9iUBiAdGX6dBrKwJ9gYB9/k/FxblPorsP+gWUxGWrftdi/3ro11DK8VASJMmQhMdqXVb9snPSOuh7UJIh46Nyfy50PpR+RkG5kADFEiTdGCeJfBmU8dj0YdfIIvwyPhL5aCjD8lhFEVAEshCB5Bc4C5OoSVIEMoIAn30SJImNnZs+gLLq9mRoA5RiyYukdwN0K+gd0JHQk6BWGG4E9AXoxdDnobQySb6MgwRLcrwMej+U1cgHQSkRKEl3IrQe+ib0ZajtiZyYhplwnwFdDB0CZZstxZK0c6S/ioAikBUIKMFmxW3QRPQhAlNx7auh20LfgJLsaCEmCyeKWA09C7oXlFW6FJIvye5K6G3QRmhy+yhJklXPlCegF0CXQCdAKQz/FfTp+BabVoua+wxPJVGvgb4MJREPgKooAopAliKQqiDJ0qRqshSBHkWA1iUtv+egz8Zj5gentTrjTq0bWrsUkhwJjkphmL9CeZ7vE7eMI1lIkBT6qYXSEqaVS1kKpYVLYZro1/qnmxXrRj/zoYzLptn60a0ioAhkCQJKsFlyIzQZfYKAJSxaodwnMXK/PWGVLv1YImavXgqJzsZnHNL8MJwlxea4H5IySZPSmTjoj/4ZTkURUASyFAG+6CqKQKEjQNLsiNgsARKrZP88l2i1Jvql/2RJ9GvP8fqJaUiMI3E/0b/d160ioAhkIQL5aMGmKoyyEHpNUpYhwOeGBNfR88PzqfykckuVxXThE/1aok30m7yf6F/3FYF8QcA++3mRn1wm2OQCLfk4L26QZqLXELD1qcfkAABAAElEQVQElu45su7WX6qEsUaI1q31k7xlGOvG/fbE+uOWYo/tvnHUH0UgzxCwz3sy0SYf50S2c5Fg7Q3o7DYnboQmMisQIEHynbDPVmKibNssz6eq4qVfhmebLP0yjkS1zTE8Z/exm1JYmNCPVXrivg1r00J3FUUgHxCwBGq3zBP3E4+tG7c5IblEsLbQSyy00u3nBPiayKxDgC9zewRLkuuIYJkpS7D0z2fUEiX32Qs5HUHjlBGmw5Ipw1LstXn9XHpvTeL1RxHoJAKWVNNtbTQ8n/WSKy9qMpHaAotbe84WRDxWUQS6igCfGxIfCTD5GeIx3TmWtT2CJCnyPNU+o9g18fFd6yg8/VphHPb95PUZH90YB91zooBBOlUUga4gkIpYbadCvp88zy3fiax/B+wLjLRmrRBIW8DYLQuyxC/8RKKlH4rdOkf6qwh0jABfWJJYqmeHxMZJKDiJRDoLlM8hq4gTCdY+s3zXGJ7aUcFg08EwNi183m34XHhvkVwVRaDTCPCZt++FJVIek1z5XtGN+/bds37tFqeyT7L9RWXhYgsogmyJlenmsXWzfqx/nFJRBLqEAJ8dvrwkUu4ni7UeubUvebIfPo88n4pg+ewybmq68DjVKjYe+0wzbhuez39WFyytudAdRaBrCNjnmu+IVRIrle+C3dpzcMredyGbCTaxYGHhwrRSWVDxnC2w6Gb9ckuxW+dIfxWBjhHgM8OX1pIjQ9jniFuSm7Ug6S+V8Dm1FiyfT/t+cZ/xdhQeXoywkGEYxsctxRIs42C8tiDiORVFIB8Q4DNtyZTvC4/5rnFCFT7/fA+p9ENJfAcS952zWfBrC4AsSEqbJFggCSqV6aTSncBzDlauYMK1NXlM4TkVRaC7CPD5sQRLEksUPoPj4g48l+5lpj9O5D8WymeTcVIZhvMNc97j9sLjdKu0YG8F1F6L8YyG2i947KooAnmFAN+/AJTzeXPhC850xneKmkiyODTCd4Nh7DviuGbRb7YSrIWIhYr9kuc+Vw8ZBe0Xdye4lKwF2Eme/uYAAny++BzxneALnSg8x7bXUigJ0j532G0jNhz98Lm17xf3aQF3FB5eWoVpsdMwWkfGa9Np3XSrCOQLAny2K6A1UBJtHXQllETL9yd5alC+I1SGo3A/q8QWANmUKIJFtV8u3KeVuil0JJQgsoAzhY/H47HgwklFEeg2AvZljUYitgZqQ1xutzvmcrn43FHTvcjmfAwSjUZtfHw+se+O4lHtKPyGCzp7yc+2jTPZnx4rAvmAQAzvnn23WOYPhbKmcjGUZEu+su8At3yf+PFqw9gtnLJDspFgiQwLFqv8ctkKOhgahFJc1dUDXSwH6+tXOS76qwh8OwTiRJg6EhAmTyQTXrJn+8ymcI+a5zX5hB4rAoqAg4DHUyLV1ZWu5uZ6aW5uJlnSYmX5Px7Kd4vLRVqSTSRXGmO26SSrSDabCdZasJsDPJIrqwzcfr9fykuqpa5uOQ4dKS+vlFRWhz2vW0WgKwg0N6+H97bvaVFRifg9RRKOJddStY3Z6/JJILheQpG2tbuwgKW0qKLD8G1j0yNFoBAQoBEaAak2olxnbbCAaAdifxVJlURKLhgX36clywBWed5+2LZ9aXGiryXbCNYCxS2/SPjlMhxKy9VdUlLu3ITgcjnlxLNk5x32luHDR4nfz6YtFUWg+whEoxHxen2yfn2D/PLK02XWJx9JUVGxBAItUlVdKldf/leZNmUHWR9oELeb7/bGEg6HpLJflbzzzivyyDP3SllpuaC22MSx6aRp8oOjzpKmpsa04TeOUV0UgQJBgLWRjatl7vxZ8o8Hb5dPP/1UBlYPkVV1yy3J8qUbBeXXLzsA8pjEm8gZ3M8qks02ggU+BjCCVAadACXRgkRLDLly/7ab/ynTNt8BFoVfLVcCovKtESDB+nzF4nLFxONxOqajzdXE63K7pLSkREorKsTlc4s7zSscjkWkorRCistKxef3grBZuxWVSDQsfpB1RUWVIdd04b91JjQCRSCHESivrJRRw8ehbN9JHn7kLrnn/tsTSZY8UAIdBF0MJbladV5UOGSbZCvBEswRUJqmrGtzkUyD6Ez2lz/9BzdgZwk2N0tzJGg+Y3BeRRH4tgjEIuGg+WBDFyUTF4xPR7CNoA2WnZfYFNHqnnTFCAiW56PhsKCXE/wxnpjZ8jgC9/bCJ0Wnh4pAYSGAd4dVldXVg+TE435i3pX7/3GnVFZWo69NHUmULxR7GLN9kFYs3RIVh9kl2Uaw9kuEn/5sd6W44lUFcukl15pqOpIrmTV1RZ0TSH8Vga4gAAvWJS6PRFzRuN3qvLmMAxRponK5cBb+3F6Ppd62l2DzLB5Kdje2Qg8ul1vwb6Td8I4X/VUEcg4B81y707wXXcgNy/RgMChsDjzysFPl8RfukvpVdahVwrvp9DDmULVKKBtrLV/YLZxaa0C53+fS1wSbCAzB4DELL1qu/aEY2uB3oR5e0MFMtttuN8GNFPTHdL5l4EFFEegJBFhAsDXCZbZOjIksihE6LlixLjyAINnWF7vtpeknwnj4od36aIOw8R/DDwi63fBtY9MjRSCnEHDeobZJRn+FxNeo7ck0R+BSQ7IDBw6Vc0+9Vq7+3c9g1aI9dtVSxsUXi5O42P3WFy1NdH3q3BcEmwgI9+0xt/zOJ3Bsf+XA/khJSYmrsTEoh+1/ovQr6y9NAbZxqygCPYsAydPnlWggHEYTqS0T7NYtoVDEHQoF3YFwi9vXOnlY2zSEwiF3sb/EHQmF3Ozc5GhUoqgqjoC4g6EWdygacnnC6FKsogjkIQIcL26zRXJNJN2ukq0H1UETJ04x0dGqjVuxPLYTuThtOc4FLY84R1ny25sEawHgNlFtYcMtawh4g2jBch+dQtDDBDJg0EBpbnG6cDv9nsxpnlJRBHoEAfQCdoeCzR48gfZZNfG68CgGwwEPhu94g8GAJwwSTnVBFiZNzU3eUCTMOECyUfhDhTGed1i27sbG9d6WliZvVwuaVNdSN0UguxBgtxkPy+uYJVk+5574cSLZdub5Z+mOHg1Sgs6tZALOd8AhmuzDkEvSWwSbTKgsoFKpZU1ar6YLJq0ASjgQkPXNDah9yy2ATeL1J+sRwEQSLhYMLaEWDyZhsgRrtmxPDba0+Boa1/oxzKbI6/Umfjm35i0cjmG6p1gUJOqD2erG57sbZixcou5oJOxtXL+2qL3wrRHpjiKQgwjEXO4Yvh5RYHvE5XVFfSBYr7coyvfK5/WZrSXazpCsAwHKe1Pksw0290DpDYK15EpCJYFa5bXtfuLWWrAk2agl2BaMR2yoX2O+auCuogj0OAJuly8WDDV6HcsTtmf8446dlJqaG4rWrVtb3Bxs8oNvna++pBSAS12RWDDWHGjyo1oYpBrxgInRrBv1BIIB31qEDwRbED5dP+SkCPVQEcgRBFidi09JcKw35vV4oyTaoMcT9fkCEZJs2BuO+v1FEY87CtL14XuWfRVYQ9n1NtocgcQkM9MESxCtpUoS5fU4yJBKC5XbZKKFk5nMn9XEUYyd4LG0BJtl7XossKAWrMFDf3oWgRisVhYO4XAzLVg+s63CTkrNLU3FdWvrysLhgA/jYlMSbCQSdQcCZahKbi4muYZhtTIStO96QqGQv37d2lJUQfvThW+9oO4oAjmIAF4gVAl7om4QK9pLo6jpiWBseaTI2xLx+0rwGoRcJFtmzalKdtpo85lkM0mwllytdUoyZeM0NZlUrR+6s/Cy5zk7uvnSiYQiEoIVG58TFl5UFIGeRcDlCoFgA17zBCZGjVZUtLt68Px5g5GgN70FawbosJ3Wiw5PXpfHY96vcCjojURCnlBLizeA+NOFT7yk7isCuYCAfZbJmjRgwZzGokLlJCxWEizfBF/EVxwKhSNF7qKikLGYimDNWmKlNWv3cyHPXUmjKQC6EqCTfkmKiQRLa5VVvpZIuUIC18fkrBxceo7psP6xa8Y5jcEWBZ4zv/+KlUtl/vxPTY9MelBRBHoUARYOrLuF9doSaOKMMWZIGLfNTc3uRYvnT1y7bs2AKIoL+qP7RsIaMrcn3NDYUOUvKgmyqox+3EXuUHPT+srP5n24Bdpj0UCVJvxGEaqDIpDdCMTMkDQU7B5fCD3om0tLKxow61mT11cUDoWafawiDvmLQkWRoDsWLnObFyIhS6wuTjjMu91MEGwqcqXVShkG3Qm6KZSLptvqY4ZhoWW3LOB4HuWRg//yFcukoh+XCuxzsWlMl5COzqcL15F7e/G2d66jeJPP92RcyXG3d9zRde15u20vrq6fY89hjFbF8+Zualpvnlfs81qYn3i9Z9nyxWPQyWkQ2lMxa4SJPjXJ4hlGVVm0vKy8MdED2l5Lvl6ygM99orOJKM1PZvKZ5mKddO5smjrrr5OXVW8ZQODb3CMbtnWLghxvkBvVw+5IeVm/NQOqh3xTUzNwOfoxhNAD3xsOl3owVA0EG3EKfbTR2t7Gtk02H63YTBAsnwUCT2uVliu3rB7eF7oHlBNIcPpD9glzGlixkyRMF8+1Fka4GQKLYINDUgA9VAS+FQJ80vDUYslWEGRbC5NtS163L4wa3xC6BGMsQgePIeICU/MdaBXUncU8HnfbJXZaz+qOIpAHCGAClhg+QNfW1w2qX1c3cOWqfqNGjBg/t7pq4GoMcXMaX5FNNyiB5BqLd3Cy7bF5gMBGWcgEwbJgoWXKuLlPs/Mk6DZQLjnXBHX5fH5XeXk/VxHGOXEAcaKwcOLAfLq50f7VYqbOKotPnt7KuYlBdF8R6AEEONES24P4+OIh5QhWs8Ukil4fJqLwudA32DiZE13/cSLsejgNoQhkNQJoWsE0o5yn29CnMZwaGtdVfzHvk+1GjpwwZ9jgEV8HQLJ8s9gRisN48MEaDbt98SE8+dmbuKcJlgUIlYzJLXsC/xDKBdMboej34XFXVtZgrb8VsmZNLZw6J2vWrESsGAer/No5wNRX9xBAU2xDI3qrQ2zzBHoHy6KvZ0tpaan2AegeqhoqjxFwYxhbkb9SUDVs5hBmFRDGfcNw8oZhLLkXLZq7Oclg2NCRiwOBZp/X7Y14fT60zQbDXm9LNBTGoB5YtIQo36qJe5pgiZElWH7qHwIluYIZMZ1wSRlWFBFDrhMmTJD99v2+jBm5ibkp8bZyeIuaxaq5+K4TFTgVwwZLikuw3Bdrl1UUgcwggGpcCUeD8vcH7pA33noFhFpu1ocdOLhafnTipTJo4DD0JtZa3sygr7HmLgIxWbNulaAjoHz6+fuCllizNCM6qKJ1BVU+UXGj/8Hk0pLyhqqqmjq0yfp8QX+4Odjs9fj8ET9qLNnfId/IlfezJwmWxGrJlV1/t4TuBWWVsLusjIUVSVPkiktvlB23393cBB/W3mQV8YauZCDYUABWxBr4ZHQ0WkGwWFS9tAyLKGzwaM7pjyLQMwhgbkMspB4INcuzNf8xUXLBdS7AXlZRJptvto0MHzJGgqEgnkrnueyZ62osikDuIxCOhiS8fUiWrVgsr7z2lMz69F2p7FeDaQvChmTRpdj/9dIFm5SX93+ffRwwr7cX6sE8B26Oj3VGb5qe+xxNmzf1lD1JsHxKWPJQWdXOTk3sjdmE9la3Jde/3vmEbDZ1GzOnJAbjm1UT4CcuDnsGQi1YXL0FbWB0RtdOrLOJaULEjTVhVRSBjCCAV5pVXcFwS+t8p3YmJ1YVt2AebGoQw8Zs22xG0qGRKgI5iABHv7qx3OOYEZPk6COGS//+A+R/bzyLtVxBsuEw+jB4I40N9QPWrF1VM2TwiG84rhzlvzuIeb0xoMfNxTZIRsaKzcEpEdPdskwQLOvQJkKnQtmpyVVZUS21WHLuj9fdJ5tP3U4C8Un7MaMNenYbFoU3CptuY7Ro0cEM5/gdg/Oc0pWFmgc3cMNKJ/Svogj0EAJ4DGmZmmcy3rnJxkx3WrcuKJ9BHKooAopACgQwHE383lLZb6/DpXb1Cpk3f7aUlVaYOW/xoeqtrV02fNDAocvRmdDNBTAwFy4XHzWdC1snnCAN5AnJ9gTBsrghFXJLaEiqJFf2Hm7qV17pIrl+7+CjZastd4TFyhVxYKmip2YyWWKUP9gUkUWwRbsrl93EHXBixzH6qeFGIbiKItDjCKCKmMSa9gFDD0k+f3zzUZuiogjkGwKswfm2wh74nByotKRCpu98gHw2931EybmE2ATjjjY3NVSif02J319aT3JF46tRe91WkrUOOb7tLsHaEobbRCXBsh53OJT7UlRS7hL0ytx1l32w3FCxoBeZU8WWYmkEVMnBUMVQqlgYvdA4sw6LNK5VjYIN/tmbM5mUeQ0VRaAnEOBcE+Eonj1LsvZjDttIGB0x8OEXCUdQDrUdJ9sT19Y4FIG+RYDlLKwbU5q7zCeknVEFVTddShpJFnNvy6iR42XCuC3R+ekLdmRl9VAkEAyWBgKhYhTza2lQGaOqS7HnlueuEmwimRJ1e8x9EiqVi6XXQDGw3uOpq601d6e6usa0YbXXC5Ngc1A/F7ZGWxcMCqcgY1uY2xUSPzo/qSgCmUCArf8sUMIRzCURc8Zgt37MwbINRULuYBALpqM9iS0bmUiDxqkI9B0CeKjBsU6THUpeWDdYXw4POv44JwQf+a4QLcpsTPQvw4eNlvlfzjIWLVbbgaEUdQdDLXZmP9YH5bV0lmATidSSqd2SVLnPuLjPOYdZPQw3lzcSC7j7V/U3bVjrsRpOZxbMRWHmRV0+yzHHhmD1MEnWjUtYqwIXUFEEegoBkimLlXAkyMXRTbS2kxOrhLHcnKuppdmN6i/l154CXePJDgRQultrlZ2MSLJYEQdPPSaN8GJKwxjnN+PUhl0l2ihGilQ6ZT4ZhGU3SDwSDnJmv4KQzhAsoUkkU4ahEiS7n7glwfILBVXFYEWEDUWCHO4QK/aVurCEF24eBxU7aOM8yZNlG8szXgs3JOTDotWtk6rzhB/jD2Nsn2UwFUWghxFg7QkHu9OCDYfjFmz8YeMGC6V7GxvX+QzBorDp4ctrdIpA3yEQJz9DriiIMRcQax+x9JxZ2zXm8WHrxTS1USg/L9F9prPttZzhCYawU9zbHMZrJu1hPm9JjO0JobHkSkKlxsmzdcs210TC5XlWE3PLW4eOS5gdp6EeU2T52lqwjNmpmzNb4M4VjzD5R8SPzlA+0K5pC+BN8vmKBLNGb/CPoK1i42h16OKODW+3DJ6435nouuo/Mc6uhO2K38Rr5NJ+T+WxC/Hw4401YPi4c6GJwnzo2Zmc+C0IcvX6vSWYtDzENtgNaHbhGhsC9fFeb6U51XVSuaWDoyt+08XRk+7p0pPOPfnanfWXHC5Txwnp4cclO/mZLaxYzMLEhdNjPr8/6g35Yv4if9Tv9eNbEyM8WNzTmoV/hx7SJZAFPITXKVBpj2CJDtWSJwmTq9xw+kMSKImVVcLcWvLlMf3RisWy9fhFuUXztLFxPdpR/eikGQbjJhRQxkvbn2gs6uMgZGvlsvrOh/mIYVnAoxoPbdHSox5BAI8VTFh0YA+5WctCgVXrRI2aFaywg6F89Zg8NWxr05xz+qsI5DACpiyOfzCyVDYLW8B6xVSGUa/PH/MHfVjXtQh9TItcYX84inVcoz6W9iz6DSknsHQO45CppKcjWPtpwvMkUBJmeXxriZV9rwdCSagkVvrllucx5RLJOMpbwR7BUt9Qh7FOIWd+V/PlgzNpJYaquDDjNWxKgsVqJpjvsjmlYWlvsd2mjTbNie6GS4yuozgSzyfuM47E48T9xPjtfkfnrb+e2Pb0tboSX1f8pstrV+KwfjlMIIT2f8ZpLVj2Xq9ftwYzukVBwFgnGp/v9po2nD3uqW134mUYStxuMPvp4knnbgL1wk9nrt9TfjqTneRrJR8nx9HR+WT/PO5OmFTxpHLratyt/lkW0y6FtVpUVMRpl1xBPkEul8cPkvXDgvUXFYNgIxE/etHH+yWAZFnMI6ypLk6VInUjAqkI1pIryZIESauV5Er3auj20OnQ8VAunG7j4HkKt7RwPfGbYXoPv/jiY6jm9ZmGVnrqhCSWE6YDCgf7qygCmUbg6yWLzDONmZvMM11bu8r9wouPDsG6lXikW7k108nQ+BWBXkGAz3RRUWm0qv+A8OAhw1qGDRnV2K+iMoD+Bh507vMUhUIRDE9zlZSEIwnPf9yS9cKQRRteV3oY90qusuMilhxtaligUMlkPEdytRYqJ+4/FToJ2iWhJTD3i8+6FEY9KwJ9iYDT647f+Zg5JRCQT+fMSn5X+jJ5em1FIBMIsKwvGzp0WBXmim+YMGHq2n5llUGwqxcmrAtNd3wtYOxQ0RmKy86Z4Tzsb6ySCoFUhQaxorJamFtaqZdCj4BS+AnP1ejZ8YgrIMSdeKqNkKjj4sJi6fDHO9PtNtSOWm7ttXSrCHw7BNgG63ypO88rnzyPF1Mlmm/Pbxe3hlYEsg0BFuggUTSJoDEOxtCyZd+4H338n5Vjxowv/+4+3181bOiohmZpxirpIFL0oEftMcvzWBC9jItK0NUJYdycfEWt2I1ubTLBskShmrZTbFklfCt0V6j5nMeXC9ZzrXZ53X7ML7wMziqKgCKgCCgCuYyAx1UsNQMHyJq1texJLMXFZbGvvvrS86e7rhtywnFneCeOn7qmpbkJU8RjhKwXnaC8Xuz4zBAel4+roXGMrEoyAokEa8mVblZ/j32SK7tVetCbzMU5JtfiJlDGThgjgwYMN51BGFhFEVAEFAFFIJcQwChK9JZ///23ZcXKpSbhVf1rSLSuIk5ti8n7//aPP9WcefrPQ8OGjW5Em6zbF/C7Q36/O8zexaGwy+f1osKHA2S7XT2ZS4B1Ka2JBMuA5Em6cUb+M6EHQ0muXiyWK01YBD0YDMiPTjlXdt5hHxlYMxhfOsUJ1WnwqaIIKAKKgCKQMwhwOFpD4zpZsHCu3P/PW+TT2bOlumqw1K1Zgc5PJWb++BdeemzgkYedEnCXVwaDoYA7ECxy+/1BQ7Jh9C7GiB1MV4CqYq0mbnPfEwmW5MoGVRLqGOi5UIqbIJNcKbf+8R+y9ZY7i8/rF6zh15VewSa8/igCioAioAhkFwJV/QfJ6JETZcsttpdHn7hf7vzLjTKgeoisxkpoWG4u9uWXX3jnfTmn/9Zb7rgyFMT6rehVjJE70DDsVqczYC/miFyVEzXSiQRLfJhozqh/OHQINIwps7w+TxEcm+Uvd/xHttpiZ3zRtEgLqg600wcQUlEEFAFFIMcR4PTb7NjXv1+NnHDsuZg1LyR/ve9WkOxgWVtfS0KT9z74X8XE8VPWVlfVtHDGM44OgZqxsewcxTG0vVRNTCOQPEWD0KQN26yURIJlQtmhjGNYvxdPrbuy3wBUFayUi3/2G9li6vZmTCuzpFUBcYR0owgoAopAHiDAoTeYQQ/LihbJEd8/WV567SlZtPArKUYNZpHfE1u86CvP6rqVJQ7BYvlGTMpCUjYkixUxMK+ts6B35oxLchSn8+NERkOhn0PJYbbmFbvZJYlmNhPPLwOu5WrGuqI3mWt9Y5NJMdtcrajlapHQrSKgCCgC+YMAexCzn03NgCFy0g/OMRkrK+vHOeTJD7Jq1bISS6hmdW5MHk93EC3IlnsZFfIVCWlb6Azob6Ac6dIAzUpr1hIsQbIEOwb7nG9YyssrJRBqlCOPPEH6V1abifrNUFaeVFEEFAFFQBHIOwRoyZIsN500zeSNpGvnL1hVuxJzJHLyWniIchU0h1e5NUybeTSYmCB0APRn0FegnASJHXMtj2E3O8QSLFNj8aHJbdw5tSFlIBq7MU1cvEOT9WZO6Y8ioAgoAopAHiKAzk1mRoTVtXWm/GcWm5tb0F8YO5iUYoMk7m9wzdAeL2YZnzWuY6GPQ38O5XFWEVQiwSJtSRLHjd2vVRQBRUARUAQKBQGn8K8Ax0bJW3Ha4mo7WYAA08AU0RhkmyzlWuhPoTxmdXFWSPsEG09iVn0SZAVsmghFQBFQBPIZAafUNyuEWnbNnuySWCm0/Eim1gK8DvsHQbOGZDtFsEiwSjsIsCfdRmo6ZLcTSE8pAoqAIpC1CDiGapYZV0wUyXUltA5K/iK5cmstWZIsFy3gcZ8nXwkWd6G7QlKleD1edG33t6oP7dVuTIhtSbe78WcyHNPGcWx9KRvS4ODY2bTYcGy6YB7aaNyNs9NkM/4d5bXdPNo8J+XVdkTpKO5sOG/zx62KItBJBFhgcYW3T6H7QF+BWnK1lixHwOwPpfQ5v1lT20mO/nYOARYK6GnH8WIYcG0Wk29udjqxscDw+31SWlqGGVD6mcI/HA7Be59/TLXJG9PONHHcW18Vcly0GROZmDR0hextOKY7NaqcFBV/JCL44Uohxm+G7wGvYa/zbe83P9I8Xq8TX5s7t/EBKYr4OSuicMB/alQ2Dtl3Luw0iQnjhe8GhoD0XUKSrtyT9zApaj3sGQT4uJO3FkFPhXK4zhgoyddas7tg/zFon78ISrC4C10RvoDsts5CbO78T+SNt/4rT75wnyz9irUWG+Q7+x0sO+2wt2y/za5myjEWJNkkL7/6tKysXS777f096VdRZQrn3iqYiSGXf3t/5usy+9OPZP/vHiqDaoahsA13SA7E/qNP3pLZsz/GPNglmK6zbeHMPIRDYRk0eLAMHjJEhgwcJVVVA8SPqT2D/NDJ0E1gntjrnsQRCpE0eL+7fjXGQ+KZ88VHMvODd6S4BHlsh4BIrAMGDJBx4zaREcPGYkKAEkNavXUvuwqnkz+fzF8wR15+5XnZZ+/9ZezoSZ269129Vlf927TxPjr3kJ1SVbIQARJpf+gi6MPQi6CJVSHDcEyhvz4VJdguwe+QK6sfn5/xqFx5DTutifzw5HPMLFclxeWmTF28ZJ488fQDcsVvzhc3VtW99doHZZtpu0jIEEiXLpgZzyj333x3hjz+xL9kj92+g+psV2sDRmYuuHGsvOYX82fLHX/5vUzfbS9xDRyxsackFxaAJI4Fiz6XW/50ddLZ9Ienn3aB7LGrU5CbNS/x3vXkZClMFy3OrxbNl8/mfoL5XLeVoYNHdps0mMdvln3VpTwy94d+72g58dhzZNjQMVlNsvxIWrFqqdx93w2y5bRpMm7MpulvXi+dsffw66UL8dH3oWy22VYygjii9iNbP1Z6CZpsvQwJlV+wqUi07Vd3H+ZACbYL4KMcNVWaM15+0pDrUUecLMcfe4bUYL5OWi7O4vMiW26+reyz5yHy3sz/yc8vOV3OOu8YufO2f8u0zXc01aHZ8ML2rxwgFQPxhGL60MRPvy7A8a288polJZyVEw0lqCbunPB9iglXdqLc8Id7ZIdt9kjClIPko/LN8kVSX79G3v/wTfkzJi6nXnPVrbLndHQyxIRuPSksnFmd++XCz+WKq8+T22/5pwxH4ewMy+velbjABuXqK2/Bx8GBcbJuGxefI1r9S5d/Jf9740X58103yLszX5U7bnhUBg8akcUki2YUNA9QuGhINoi9h18vWSBXXHOe3HjdvTJqxHh0lVErNhvuT1Ia+ALzxmAQkeyUcM4WZewARWEbbCoCNid746fPG4F7I5M9cQ2+gCTRlbVL5dIrzpXNt5gmPzzxfBk2eDTav2KYXiyIQdhNRlnoFftLZc/dDpKbbvibufwtf/qNrKlfBYJ22tXSpck+IenO95Q7qx0bViG23rpgioS3jq/uUhqc9SsZHdtv2bnM5ytKUD+W2CqW8WOnyLZb7yY/OukC+fs9z8k22+wov/r1OfLaG8+aKljez54UxleM61J8XnRi/Jbx2/TR2rMd6Nrmswj58KOavFQmTdhCTj7+J3LpJf8n33y9XGa88oT5yMiGD7l0GNv82W06f73pzrT4sQYqhX0Uvu097M20F9i1yFvroTtAp8fzTjf7pf5+3K3PN0qwXbgFLOz4hUs5+rBT0bY6UJpbmkwVEgsznqdyn22DnNNzOxTyPzz5JzJ71scyf/5npioxVaFi3biIglXWgDju7ZMBLTZKchroZuPlfleE4agmTqYpni/r3lFc1l+bNLXmp6PQnTvPa7AN0ukxvGFLN3beamlpllgkJpMnbim/+vkf0E45Xn7xqzNl0eL5IGR/SmycdG+Mpc3PxikjTk6PZS7fSMEk6KZzlZO29u/dxvG1dbF5TJVPm+9AoFk86LW+2877ydSpm8stt/3OVMHajzl7D2zMjJOCSQOMWnduN+Qz8Xl2igkbLtF/qn0bh71uZ58dhussZq1+2/lCtOllPlvfzfgzaM/Z9G+4h07tYk/eQ3sN3fYYAnzROM3gL+Mx2iphPqi0Xv+b5B4/7P2NEmynMXfIpraWZh8mwgS5kgD5n0pYuLCw8Hn8sjnacygrVi1Dwdu2l6d90YtMr15MshkKSADEzC2KG/Ml7YoP+Ul1HYbnVzcLEHakCgQQHhrCPt34JW6vkSp8Kjf6Z5ui1+f08mR6GCfjpxst+fbiNOFBYD4bnmlCHNFYxBAbq9LpJw10qZLUjlvqWGzhzovwI2jk8PHyk7MuM/G8CiuWBSj9JArTxKpLLzpgtWKJdHOfHV9YnZmcb+aFVmQJlPeQQguaxyUlpWk/qBKv2/F+23Qm+2caeL8r+1XLbjt9x5xet26tuf884DnzsRH/EODHBZ+NEJ4xKmjVhGHePIjLeWYizrOE/NMPoTI9zwFoMgYmcPyH5/6fvbMA0LLY+vjZXbq7JQUUsa6NGCh2ItiJ3Xrt7mu3Xmyu3fqJ3YWKgYFBSCMqDcvStd//N897lmfffXeXZlmfs3vemWd6zpyZMz1+bI1dzc476MMmsGJncBS3ZiSqadnAp4/j4cb1xEEecJuTXXSVy9MX0qslENIP/9LhhQeZESAud0eHtkgZqk5V1Sa6UIYqe3cbT0eiXysUoMBnCE8SdhUibBm5upBl09NfQmTbyvVuFcDKQlHuXNkQy7N/FZe3yfNSI9d8TQ/n6/aw9MYaMoRGTI0bl2Y/2fctvbVYLzTW7pZKS2O0eMki++mXb+1H7Y7loeNoB6rZsUefZlttsYN17vQvTT9WL+Q3InNWEAYjRw2xgT99ae++/6r99tugYLX55tvaLjvvaVtu3lW7NDuUuBM1CmvpLw3hxEnj7YdBXxu7jT/7/MNgueMO3RXm3iHMhtr1yyjR81LgWzSK/P9h3//0lX3w0ev21YDPgvX++x2sTVV7aY16m7BzmQ7ImgDSyLT9Bh02sU4bdbLX3njO9t7jYKtfp3GhTSw02n/8NTrsbv78i/fty68+CcnrtvPuyve+tmnnrVJrm9GxHxrpvFm5NlwzE6yZDhv+W3A/eMggW7Rgic2eM8tatWxrTRqvmfVQ8lmnbt2QBnZSA5TFpx+/FZY13nj1G2vaaD0bOWaofTPwM7vnvmut08Yb2Z3/eT4cKcvJyVZnZLb9NPAbrV1/Yc88+0gUhmZNTzruQk25d7X2bTcKHY1Mm3/gZ2io90O10/sb++yLd+ztdzgtoXm8HXe13XY5wLbYfHtr3LB5msBi82AFy8vLtcFDf7bGjZvq8e92aW5CMMGMDt4ff4yyP/4cYxtusIk6FnVDh4neLmmgXGhbhwzTTuxBA+yVV5+28XILHHZob9tmy51sk85bKs+1g7/Zc/Ps9+GDJdgr29BhvwR3Q4b+oha6os1RGTZv3tqaN2uZof4Fp8nPmqMABTtTuKPwilS09D4RpMgyeov3CcsMJAJ2mYtClVd/DRo2Cj4++/I922TjrSQo6knQLExVcMpZ+1NdCuuLqafaclOvTiO5ic4qEoAL15mzptvLrz2uDSp3YWwnn3CeXi5qqN72PHvutXvsiacesIN7HW3HH/1vq1u7QYFAYBcsvfF3P3xVu5XPC35POv7ftvfuhxK4jf5jiN1x1zXB/J47nlSj0q3UBiKkSZt1fhn8nZ146kHBL0doLjrvxpD2IcN/iOLS5Mz/+rxunTr+q5CQdf/f/fC5nXnukcH/QQceYRf9W/5Fh+Gjf7XzLjredui6q11+8e1BKAVHq/mH8mAExdvGO2y3lz306B02adLfOhrUPIzuQnmpmvYf8K5dcPGJITU9DzrKLjjnejXWFeznwd/aldecHcwjWu4caInd1GkT7YxzRfMUNNZu6Fvv8LpvdtN1D9l6LdoUopO7XR3qzJm0P2ptKvoITSM4dfIAvT5pA777xM76d1Q2vY85Sx2AdmFJgqNB49W5YGfvW2+/aut3aGdnnnaZVa9aK5zz7vPgrQrhNuutHfOH9zop8D0je+d1yh5hPnzUr/afW/5tQ4YMsZ126m4XnHu93OTY35PGFtDw1Rf6h9FwSJR+8ItQnJ471c698Cg7+6zLrHXL9YO5u3HV4/n51+/tupv+bc888a7VrdMg1YGMwqGT8Oa7L9idd18bvPU+9kw9WKJjYOKBDz592Z5/4X86HrS3nXHK5WFm48+/x2gj4iEehTVRJ+SueyO/GF55yZ3WulW7NVaGBQlJNHEKZKttnScD3oFlapjpInroMg8bnpBlMCm93PiIVp9rDxIBuxy0p5Hu0K6zbd91J3ut3/N6zq+m9dj3GJ2zbKDecI1wexNrr2EdScIUocIolg1FfpaRBskblDlqCB549Gb7v9ees3POutz22LWH1VFjUaliFYWxyPbZq5c25bxr1994YWjoTzvx0jB6II7K6m0P+O7zIPCOOeo0O+Sg3pq2bhxGEIQ/b/4c67H/0XbH3VfZOecfYy8996m1bKZGItYoetYlW0KamOIcMvynIFzXW6+VXXvFPdaubSflrWawnzP3YOt1wHF2/U3nWe+T9rfnnvwgHLFgJAswJYdwRriu16qlXXfFfzXi6RTOqypJIU2H9TzRTjl3X3vy2fvUkLUI/ui4rAlAILZSQwnk5eWpixIBwuVjPS596RWn2U47drdTTrhIQrGtZg2qBQGy9149Rd/j7IZbLgi0vP/uZ7S2vmNocJs2bmn/98JX4VHqAd9+YtfdeJ7detMj1nmDLZTfuVazZm1boOlJ+GDFoWT6hKUITV/nzZqhkemnIRri5aKNKN58a96imc5t/2LnXXCCnXfOVbardrnTYWPEif8Jk/6w8y490saMGht2Lm+71c5Wo3rtwG8LFy2wfcWLdObu73OzzZ4900478bJw5jZfnTzKlnD+/Hu0HXXcniF+OiLMVFAvWAOdrw5jrwOPtYf73m433X6RePvg4C5e9kxPAzX0/mhJAH8zdQtUyIle/BIHK6+a2tf542defNAe63uvndD7LDtg3yPDLn+WUcjnvnv3sm+//1xr8aeGDurlF94Z+NDLkFmXK645I+w432zjLppanhvSQxlmrVQZlpSjxK4UClBVNSWTz9Z6zkYyTcOUMAwj8zB6/UHqf4TAmpkai+Iq8Xdlan2JAZc3y2gUtNhq1qhjZ596lW211db29DOPWM/Dd7Db7rnE/u/1p+27Hz8Lm0tY88nWdBsXIcQbVu/tQxsaHYQnwvXcs65IbZpqYksWL9FO5NlhzahWjbq2R/eD7KQTzg297pE6nI8wYEPLrDkzrd9bz9iGG3a2Iw89JUxdIsTZycx6G1c1bth+M00znxmKYtSoYaEBylQuNN+MIGbPnWXPvfRwcHLHzY9rGm2b0MB6mBVyKstsa7v5hmjqkJH3goXzghBCeE2fMdnu+e81wf8t1z9mG3faUnY5StPcVJoq2PoSuM8+9rmNVHqef/Gx4JYGc00A8SB4gCnT/g6dDaYFx4z7PQjXzTbbwi4890brsP7GgX4ISPLO2uvGnZTv6x+xqtWr2GXXHWlTpk4MNGNnb9MmLaxp0/WsnjpaQIP6jayJzJhWRFjQsK8wqEMG3yzlHe8WRCrmlSU8xE729Xef2ve6nIJzv0zDMmKTR/1n25/j/9LI/Ta79KKb7NCeJ1mDuo1DuubPnxfW+19785kgXG+96WF19A4K06dMq88RL6KyJEDn6OwzL7cXX3oyCHLWqtlBD4/PXzDXXnr1fyGb/73nWeuyTffQUZw3b16gIX2oZk1aib7/CUsW9/W5LrhliSUdWB8vDZymzjuwEMst333fPwjX44453Y498uwwGlU/N6SBvFbTWfWdu+5tF553nX388Xs68/p9WH9t0rh5KMNobwV7LBqFcqUM4Zmwd6K0RCX2q4ECUadLAS8UX5wqtYPQhSsVi0Eia7LHCpki5rsoU8lwbUAiYJeD6jRmTAe3btnBbrjqYQmah6x7973tnXf62c23X2qnn324HdBrW7vpzgvttbee1jrU15Y3OzdMndE7jxoDprEkjHRk578P32Ct27aWEO0RNmuwCYM4aLBAhBej2V122iek8pvvPwvxc+aSTSw0ELt221vTdXUkkBF00TQgYdBIEV7D+o2D3xnTxYOhTS7Ke6QLATt6zDB7993X7eor7tQa2Ppaf5odRt6E52HOnq11RdldceltWtt6xsb9MTLkh/SO0Frwzz//ZFdedqut32bD0KgxRe75YdMWa9dNGq5nRx9+ui5T+HM5qL9qnJIPgOlNRk+k6duB/YPZSb0vCA0yHZwwIpJgIu005myUotz/c3Ufm6l9igN/7B9oQv44ogWtCRNgloBOFmbMevhQGToXh8W2CcGPbJEgAeIqa8sLbawuNnnp1cfsiqvPCi5230X8JB4jbUCO8gC00rTr7rseGITigtSsAyPPvyeMs77/u8+YFt9uq26Bx9gHAK3IPyp5qaDjR3vv0ctat2mrGYh71aGaEoQavPP3hD/suRf62nHHnBbOe+MeHvSyJ/4wGtS650EHHG1Tp9AmCqLiiPQr+ivaMHql0/lKvydDKPvvc0SYgSBO4vB0RDM42dZ1u+7B3WcD3gnrznQiipSh8lBQhiuatsTfSlFgUf4imFcVMv8I4c7Sw9RIXSqCy6+TpP9VyKHq0ntncrSmIJkiXk5K09ggZFlXRfBtt80uduoJl9iff421MWNG2g+/9JeQ6heQoLfccjs1Sj1tJ90kxFQr06mVtLsWwTR54lQ77bJLw9RupmnEMOWlit9EtwI99tD/hZEKDS0NV/XqNezB+1+wBg006pUAiBruaCRKYwJU1giaKTMAbqQto51Ob9Mi82hTCG632LxLGLXhlhuXCkBaRiyM2jbbZOtgjFBlxMdo75fB0fGzzTfpEsUjv9DLQV+KXLtXNeXYsf0mts22Xeybr78qkh53vzpV6MWIZ9r0KfbWB89rM1kXbUbbVJ2aBaExjlPJ84CwZKNU3caVtfnr3VCmdIAIi52oymxIMr+MGiNMmcmOndlRIaTlTE6YffBRGbYuHPs+fr9mSh4NcRT2FQmV+VoKGDl6WLDaccddNHV7abgyER4lfsDV3bodEEbUjCrhEdINsBkIYBMS0+Lz1FlzHgoW+uEbYV5H69hHHHqy3XjzJVqzHWOdN2wQ0jp85G/B6fbb7ib+rlxMGDlhtNyiWVs7+qiT7amnHxY5Ivp4PCui0k1iZmf0uHH25ZdaYz79Uo2WWwbhSB2KA/mgHOvWaWiPP/q6rIg/4lPK2cva9fEyjIeT6FcvBZCS+YsX5tSsWSdPYrS7phAOU5nAss4w3qSxHvuykOljRrBlChIBuwLFQeUL02/iAqYPuQO29Xrtw+5E1k3PO32WjRn/u/3447f2+FP328CBA2zffb60M06+MjRQNAgTJ0wIMbduvb5U8YzCzAQ0tEwBMkUJd9HI0RCzA3LzTbanaVBo0TQdjcfsOXmhYaGBzR03XTtmny0INmpOCz6XahQ3O5mH/T7UWrVpqTW2WWo8xyoeHWUhbTEgLo5GMHUKTJk8KTSwSyQgRo4cYhtvurHWpoufFiWb5IOjLAhZBGxxeY9Fuwq1ERVYTwv0Ul6H/jZUU5+XhnXUSLAVzjORU+YIQW7A2rvbsfbM8w/b9DOm6KKR1hEvlJDCwC8qt8m6+xmZlh469KhZq3Y42oM+gsgVm2taibcoi3Q64YKztz0POto6dugcRtg16MQpLuL0sHjwAGjUsGkUfywB5Hf48N+DfeNGTdWOZd4RHxzoB4HFujrwx5+jwkY3gvv77z+CGdPkJYVBUhjxsks4QCwtkcEK/CrM7JwsjYqnBM/t23eKOjzFBAVdGOF36vCv4AJ6UafSeb0Y74nxGqCA1vaztTF01hdfvttZY9azuLxl0eIgP+EYX3d9RvrbhdWF0UhCmrIEiYBdztKg4ZKMKWglaaAW6VViP7LCCzo1a9QO6zlbbb6Ddd9lX+v71N325lv/pzWdVnbckeeoZ7bAJk2NpkdpsOMjl0zJoUFgqgoI8Uv16bc5OmLwp64F5JjB5EmT7ZehA2zB4jkStDNs3sws7eTcLfgrLg6ywuhrltZf82ZNs7Gjx9nhx3QPfpblZ+iIn8IGFtwO+ulH23LrbcNowhv3omEwfR0d52jUoGmwXlMNGzWTzgPQoG6TsEEmN29q+G7cqHm4spHjLU7jYBH7IU/cntS0afNgytRwAT/E3MW1kZ+KYbfxAQdvG7cqpO9z73M6/rRjmOrHwtOw+2772W7deugBA7Uf8F5xoLSx+c2FayFnsgMqVfYz0YQTdcrYDDdpynjr0GFDzYrUDHwVHJfwA38DebPYsUyXK8smTxYdNWCupI5T8WWPL8UrAcuGPGCVlL3owhTv1OlRp7Ve3YaKpXTwaXKndek+EhdrggJqT7NrVas5/+dfBzZ99PG7L1ScFTS0UL8tnykZF65fSM+GJ0auYcArtcxBImCXo0hoOBi5Mm0an3qignolZfpJAx1BJIU37LCZnanjAOP+GGGPPHa3posPCZsnuEgCiIcTDEr48ThwwpQYr/ncff/VGikPtB136hZ2tvba/0QdR6ltNWrWDJtKuKe27//uD+nL3DwrnUo/mzgY/W7ceQs79UTtWs7W4fqw3JHZF/lbuGChVa9RPQjoxdpNOkmXcLDWHE9n5uyokVWcOUyZrkEgj3/8MSbEWEs0ooTCGqlUZiKWrbGPBFMIJIQQ6Yr7hRaMfKtrs9OD971cMIJ1AQB1EYyM6EhLOu0QmKyvI0DS7TLFWZIb5KyXJvGTXzpeTNlzv3O0bhvYIVPQkVlKWPMR36AUOgA6OFFS/B4oaWAfwcpAPJ6Qj9DRjQYxvht5WcKPh7Ms7hM3q5cCTCRUrVRl0cw5Myrf899rzx8xYlgDLVssVkeQuX5aVhiH6RLOzS1IfVPwztrSlh1YOS4vO/lYrSlBsLIZZMTo3+zIY/ewiy643g7Y+0jFWbRMl1bYaIqOzTG8rLLnbr3s/uE3h+MQNKb1ajcKaebIw1I/xWeDxg+gESYtw0f+YseesI9tv/0u9uIzH4fL5TmAD9Jo0qgzBepHaIqmNIqLxonjHFV1kUWt6g20RjbeOm+0mUbhPGFX9LajyFfUkLKmiJu52rWclbVI69FdbMbMKSGNJeWJdS2msGdokwzAGGh1AuUH/Thz/O0Pn4Zia9BAu2iVdnaFA1OnTyoxv8GRfghrZm5u+GQktixpZ5ajii6i2FKXLGRgmRAWU/8I0XSgfHwdsCSapvvL9B3ngVDuShcXZNSr3cQ++eQ9bWrLC+demZFRvyADIKGjDU9YVqlSJbjBad16Ojmh/URhJieYFv8Df+bmaqdYsZAx8uAaGlAH5szLS/mmBJYEvuf8OMDlH8sCXqfC9PuyeEjcrFYKiC+yKlbMya9QqeKiu26/6uwBX3++QbWqNRdrlg7hSiOBSiW5RoiQZfSqDVDF1SrZrGWIdkGs5USsC9HT4Pi1bKPH/B5GIqWl2xtE1Lp16gfnNA6MWhtpvQv4e8KfQRDScKcDZkzfMo336BN32KOP35Wafsu3Dz9+Mzi/4JzrLHrui81Xani085cRD7tY8U9DWhrQRDH1ydnXn378QUdQJiuM+WGdlbXWdOQY0IwZU+23IT/piMsIBR+N6tq2a2/9P/80+PW8p8dNXNgxMhs3fmRkXTTr6d5W6hs6MOLntZtvvxmgu6HP0u7qphJoC8N0PoEzxU7ZFFdXQ1mo3GZrp+qg377V+eAO2uhWJ3RmistrPNH4p7OVTkv/XtYRajzMldWTpoo6R9qqdZsQVG6uX69YXIHQaVyi865jgnvOMdOJwzXv7wKzZ2tPisyi9jAYFfqBH5lJmDBxfDDP3EEpLn7ke9Rp5NwuEFyGnyxNO0cCdvz4MakOQuZwKC82/73w6iN2571XpTZDkY+4+7g+RJX8rGYKSMBm6zKY2X0evenQ1954cSfdXrckJly9IbtXyRgmZN2VEa2bS7vKgVHNSk2zJQJ2GcuEdUPWnpq1qG8vvfxUWFPz0WJxQdCAhcqskcnosdFGknp1G+kFrEXWcr3WwdsXX32gs4azwsYP3BcGCS6dp6VH/tj/7lE/fUHoqTOVO3rcMNtx+z3DIXkEHqB2IzRuUYMfHbGYMOmvlJ0ax5SbYBD/Cek0bZSJNq+MGTc8pIdwaCzjiDc2Xf2uG3sOP3bXcFyFkQCj6k4bRJtGeK+VoyFF86MGUXRk9+6EiX+E402EV7hhw2TlgbgRBqiMHidP+cueerZPCJi3YSk7hFrNmrXs8MNO0HnkZ8MTd9xGxAgrHQgHO67cGzDgc9ut+35hlF/c6CdT3uN0TNdHZZYe6+r/hic6dtgoRPSjrhWM8lO0zSI/dPa4MKK/eBZo0byN6AvPZen1og2DGTuSEaCZ2j3CgFdm6MYm+B5YSqeormA2fXq0Lr7UDtPILXSbJSHOVY9uBuPTOWrSpJnVqltJF2L8n83Mm664it4hTJgIaY6L3X3v9TZ3wUxNV/sRuhBkwU96bSywSDSrnALaY5LTqGGzmS++8sgujz52zxEcCVuwcK4zohcFOzY/EdYUhoW4VZ6QwgHS415Y2Gj5vhIBuwz0ciHJ5olDepwWfHzwST9V6oXh9iIq7VL0IzNRg8FlE0N+/ylcSrFLtz3DXbCsv3IDUO9jz7DXXn9e52UHFFwdFwkFwuBRgOioBzfPADtst3sQDIikypWq2vc/f2q5M6cHM4SCCxRU4kWoPPzYrcEveYimBTM1fTjJCsdU0D35zP0axf4ddvrGw0WPkJkzb5a9p3uPAe51xZy0dmzfOZi9qrOIM2ZODXlK949gW6jdgO+8/3Jwu7p+iIfbe4JQ1A1DDzx6i3311Wd22SU3W/v1NwqjV921pZ27NWz7bXcNyXj7vZdUqeeF4zRRuiMhjZ4L6GfpTPPrbz8f3G63dTcJlsINs7cGOEAQpAuI4LGM/ZC3dq02tK237qJbv661UbqnmIvv4/kPvCj+qKhL8hHCr7/xkp14/DnRZRaaBaDzydupm2y6mf1Hx3f+/HtMjHe8bkQ8wm7fLwd8aIMG/RhRIjSd0cY3ppxbt1vPvvjy41Sns0IqHUt5m4v6uSf5l0GDUpSM6hkCtr4uzzjx2Evt22+/tK91qxazFvB9VC+ieokneOKnX74J/jkzzNEk8huVX6oUla51pQxThFgnFXXa8hcuXJyjzZ5zPv/y7Y36PHJT1MDSTdOUsdqVxfwocwhWKl8NYdEesAxXMcAI1wtvE0a7+oprOkuIOBGwJRCnsFXUg995x72tVdsW4cq4l/s9rnOUE4OAo9Jy1SBrWlwZyDejAa6uO++SI0NQBx90XDi/ysgJAbDvXocF83POP1YN11cy00smOkPICJEwGL0O+O6jcOaw50FHWts2G4TpLK1L6JLzTW12HqOJ98SKi0KDhj9GkpxTpZG7474rbPPNop2rXHjBWhVHJKJRR7ZViJYfxTZMLy/QbVDN7dKLb1Lj94M98ez9WpecGMJFUJEejtYwtfvmO8+rY/CCXXLRjTr60SzkE/8cV7pM/j/55H17/uVHNfKersYLv0v9I8BeerWvHPuZ4wAAQABJREFUPfn0Q9b7uKguLcs09tKyUIOaagoRcOkjQb5pVCdM/sNGjBwcLh7occj29sabL9mF519ne2ktPDzQICIwIluoncCb6naqo486Rfc+PygB+pzNWzBHea0c8kzayffM2TPsed1yxcXxZ5x+cbiRiilm4iI5EiOhQSedw0cMDvSkjIP90sQvs879ubrMHjM4LAgjpHOpA8wRTLVq1bETj2NDptk9umFp1BgeLyD/0du60ABeHPjj5+GqSNzttXvPwMPoCaNO7XoSbhfwaQ/pOkQur0BgBr4R76DqGGO4kvI/N1+s28nOCm6hHSQkDO4U3nXHHvbb4J90K9UnKltuqVpaH+g0DpJgvOGuM+2QQ46J/Kd4AZ4Gdt15P2vXvq2uOzzbvvrmQx27zkqlgbRELzzxqMbFl51iXbvuHB7i8L0GBJFTIWoShw3/NYzWV6YMQ4KSnxIpsHjhwpxq1WrMHzvu9wZ33nvN+bqApKp4ZYnqVpZmOxarc5SjjupQtVsPKCCfrk2VdolBrwpLmJSKgVAHxKnLB8wxJ7AMFKAxQrgw8rz1uiftjnsvD5eJc6H4GadeYu3adZBd69Bos74zcvRg+7z/BwVrpTf/50E15Nuo4Y2ekUNt0ay1Dru/YceduJ+ddHrPMCrgDtjaNetrQ840Cc/37fEn++iyiq10vOes0NNGkCEkd+y6h15DuSGMGMb9Mdq6SfDXrF7XcuXv18Hfh+mvHgccbr2POidcS3hfn//Ibor12OcYbYhqFabQFukyHQRD4Br9MLNHj37ylL/t0cfuDa/KnHDs+bqVqVPo4U+e+pe99c5LerXnNb1KcpyOj+wfhLWP1BjJdO92oE3Ss3yP6i7YH/Uaz5GHnWrr6WIB7Mb/PcpefOUxjTC+0sUZ/VJTgQ+ENCxDEaScZBUcC7r3/uvtlaZPq3HWbBGttIBfduV+9fVH4Zuf/fbrZfvueahttOEW4ZpJ7F3oMJ3JDuKjDjst3LF76+1X2ICvP7EeBxylM66t1MjnBIHzzAt97Jdffrbje59pPfc7VuZ6BUlCgXD4Y8NUC13qD9x251UapX1qQ4f8Ztdfc69G+TuEjWAI/2UFhDcAz604RGULzwDRKC2ik4cZ+Fq7wTfZaEu7/eZH7YJLTrRDjuxmF5x3bbjqks4cSxSf9H9TF0M8FLw98eib4t22oRPhdISft9isS3j0/YabLrL3Puhn1115j+7u3lg0yg5XU77/0WvWTx0z6kKzJutpV/19YYMd9IOHcvS0Y/du+2k55F67/KozbfTxw7Vxrlvga/YUfK8Xo+6851q78br/hmspX3zxyUB7EkU66Lg20PGfG69+xM6/7MjQGTji8BO1lLK7Xk5qoqtAZ+rWrs+sz0O3me7LsHNOvzq86gR98A8fNWvaMuSRN3W/++4rGz16pF1ywY22w/bdl7sMQ0DJT7EUUEc3K6dixcVz5+RVvO/Bm84dOXJEo6pVqy/WTWraZF4RIZtTu06tydpwefv48WNh4krCNSVcSfdkIQ8MqGVcMUgE7HLQLTRGqoytW7YPlZipqgHffGb/ffDmjKFstVUX3TN8pXXZdpcwhbZY9ww7f0Rh6Sk73Rfc7+UB9vZ7r+iputslmO4pFNZZp18eboJietqFM41v8yat7Nkn3rNXXnvSnnrmoYAFHnPMLjr/hnAFI7tkTzzu37oIo4ON/H2kze/OpeVZ4RHyIw+vFc6CRkJWDYwET1VNlx116Bnhvti33n3RLrsyNWOTCrxd+/Z2zZV36xajPYPAdyGDNSP2qlWq6xrEM7UJaMPwStD5ej0nDof0OtbOOvWKsF478Icvbc/dmaKrGhrYuLtMekQDDXEj3Yt74H5H67KN6mFDl1rZAojouki3+Vymi/3bWku9A9uoUbNwDIWGNC5c8YR7jl7VqlFPd0xfrZ2+O9jTLzxo513YuyBMNF267BQE0FZb7KiHFqoEP/gFQpyUSdPW9vT/3pVw/9imTZshwc1Mht6QDW6C02X6IY+M5nbZaT9Ne7LbfEXbFDYU6QWo+k1sv30OTdE5Q1uhbMCbXbUE8ewT7+te7Wfs9juvLpLW0065MFy1yJ3CLpTcETzEjMDeux+sY2jrhbu5r7r2HLcO6m7d97U+9z4fnjscp+fmuu20l9bA64Qyjcptgfiuoz352Fv2wst9Q12I14f2HTawe+54Kkzp+7JJvNMShbFQR5462MP3vRWeSrz7sWvt2eceLZSOE3qfa/vvc1jYvxDPB/WqiV5Deu7JD+3Lrz+0qZOnaRRePUyNr2gJFIo4+SiggHhcXJetRxuqzH/y6T7Hf/315xtWrVpDwnWWhGuFfJVFdrPmzRccfcQpt/d748WJ8lhdHbBFixcvWPZeakFsK6xBPq6UjIxaiKjjz/CbXsK+wn7CbF14nT912qSs004+Xz38M2TkzqX9B0PU29al+xpJ8qzcdL1/madnwtjFy7QWo7Vq1arp6EJ9HX2JGpBw81MGmhEWx10YSTElO3369HDhPw1Hnbp1tNu1mXxxg1Phc5DBnxpvLllnxDkrb3Zo6HnTs179Bnoer2EYsdArZ5qLMGiAGMUgCNlswsgBgUNYDuiJm41IM/U6y5QpE5XHBXKj7mOlila/fkNNB+rZPKWHcAgzDgX+tf7FRpOwI3ledMdyrVo1w5Qym09o2KAfI0SEdDwN8fAy6aOpYY/X1UwuIzNokCmtcR9RunPCNG9u3jSbyk7qkG6unKyiKykbaSRVO5Vv1hMzxwvdomoCdaPRNDRfXqAMyCfpXhH/8ficXtChJDpHZVwp8PQUPcM3M5eLJFiLjN6ZRdjziASj6kz5944anQouQJks3pk7Z04Io6rqQ2N1dFjvdKEGD6bnj/Sx3j1XO+cnaoPe3DnRBr4qVavowYHGuuoxKgOOFLEXoFbNumFZJZ4v9BHPm02bMcmmT5uqchOvKh+1a9USDzZX+qOrHzPlo2gZRnUmZOQf8AP9WOKC/oedsI3Nya2gpa2qYYf4Fv/qOr9Xj6PGVK1SbUnt2nUXanlhYbVq1Rerk7xELxstgVcQnPQJs9UGfPbFG7pk5ym1ZToWpyGr6noFdb5/bLleh9GNGjaa8dHHb+z5zHN9e1SqVHXJggVzxfbZ+dlZFbIW6TIezf7csc0WO3y8+36ba1NTpcWsbknAIvA44zVEyPQOFwogt9iQBNKYLW3Q9LGCQEZGCdlQtbHwbyENqcchbQANZ0J8GSv5SknnVAT/OIVKiVCIRm/ZQQjS81WtLaAFTMpu4dJuiyEsnwZsUK+pNo4onBTQINKrBtIbguAPIaULIZiuo0F2IF5GuwDuPAz/RgIgIJd+B23BN5tCSHd1TQ/WalN3adzKk7qQYR0Y6ZGeJg+PvCOUudWK93LdHYKCtHgDyzd5dPulqShZF9G+ZDeFbItJa9wNaaCxX7BgsdVQurlr2tNFfqAXeQLcPO7f9V6W/l2SW3eTSSUtEW2wXcpXmdyWZub0Ki0tsC83hiF8WApp3jTGU4EXxfNq04oLJ+pSRGFwR3OrFusHoUb6WPeGNlH40ZRwxAfYLs0fYcN7TNtz/ShCEVhaBmpPZcStU+zqT+8g4pYwnOfpaHIkyyHwoOqGamex+Ugvw8DrsTR6WIm6YhRQGeTUqF599tff9t8G4aqzCiqv+aGgdTQnX52zrBN7n/Pc4Qef/NHXAz+rpVi0BsSmYWTZWgGvCJnWa0gYQOJcHwz4SQRsASmWTxNvZKjMGoOFbgxcQvfJG5u4u+JicDcufHBHYxdCiTR8FIHInxouNUhR7PgAFHvMX1zvgWQyc7vIfzT6WiyBQ+NGwJnCXuqnsI7wERA07t6dhCaYx+OO6wuHUPzXivgpPrSlNh5ulG7lO5Vy0h3+YzRd6quwzsMobLoiX9BpRfwV9bM8aXK3cZ4iRGgQ2ZWeKNyFThZnsWM0xNzDD2EWk8Hi/MfLIHRAdHtYPLx4zt2cjhH1KqqTqZyQDgIrBtxvMdaJ8cpQQGddq1atOmfkqN/b9X387qMJShvoGNlmaXkpXCqx7769Pj3t5Eufmzp5So0KWRXiI0MvNFfTU4K5Nzfpdiv6jXBllAwcIzxO2EWIMB0nfFP4P+FgIW7j6U0ErAiy0hBVyKVVtrjSLy0iwlmRyh38ldBglBZvcfaeFleLc1eceeRvKV2Kc1fWzD2/617KVx0locHK5n9lwyjZv1K3DBUtKsuVzcmqo+s/NiTKavGSrOycCotm5k6v/9WAz3dbtHCJZqIrLVFnLls71ZfMnTc7Z/suOw89/6zrHpw3e35lTc65wPSS9n4S3wgz1HTEvCQhi11J9rIuAMJm2oobTJ4R7i6cIOT5KUasGwjZOs9u415ChG2hkSyJSSChQEKBhAIJBRIKrD4KINK0jKUp/yWf9f9wjyFDf2vMTmGEq9bi87WXJbtjxw3/+vdZV92mNfKZFSotWaR9LPOqVqnM6DGFWa5nZy+L+yzQo4LYse7FyJJRZHG4rMJVQQThTVwPCbsLjxS2EW4r3Eq4vvBBoW7htoeFjYTEj2AOkEwROyUSNaFAQoGEAgkFVjkFfM5UD3wsHjFyRPsRI4Y3TB3DCQM8nf1fMnfxIi6bmPX0Cw8foWtaq+BWT0pmzZqVZ9pXx+4mNvsFMa0EIkzZgZcuTF14uhrPC8lgwxLC8j0hcXvSpC0C2CNcOwibCrsKBwgBl5vsbuaYBVfg7Shkg3BfIaPYsMnFHeo7gYQCCQUSCiQUSCiwyimgSyNyFo4ZO2q9oUMHN2HEqnXxIFx1B3o+U8PE+M23XyDMwIwQ9oJktFkuQ64QQ8AWjDJL8B3tBDW7S24QrpWEbHRyc76ZQn5RiIBltzFQIOATARsRJPlNKJBQIKFAQoFVSgFdT2n5WbqhbtG0aVMb6nrMNqyJs6GJaDSKlaBdkLXVll1H1a5VbxYSV5IYT0FC8ewgl5z4vdWRTOT8bBBqs6QiyBiFgi7UXJVRIWC0y47kX1KmxblzT9i7fHw5ZUgYcX98A0MjJTxAgLbAjQeQsk+UhAIJBRIKJBRIKLDyFNDhgywJyUUzZ86sOXbMXz4yRfhk6b7rxXpwIWfXXfb+9sLzb7yjfu2G89jwpOssdTeiRrgaJHJd50hdd7rH/h9ozlVXbVYwCeT5yKypQi6jZvToo0lplxkQ0gjlkoB0MkLlzC1nYIECwRl9FvxOT+mKhJkI2AIaJZqEAgkFEgokFFgVFNB0LsJ1ic4pV/rpp587Vq1SUw9sZYcL/LlrGOG6ySabjz3s0OMf1xRx5UnzFlauUq3qItxoCTMftVKFylmjRg8PArlBw/o2cfJf6JFZbG5iPRWBhpBl2tbXY4sTgnISAD9FBGHKLpNCeKW5D9Pdcldk2jkRsJlImpglFEgokFAgocByUaBAskmDgNTNTFnffPdFRwVSVY8o5C+Zt0TTxRV1Y9P87NatWuce0qt33xpVas5fsmBxTsValebrisTFunUsPzs/JwSla2lswLcfhzTM0415AswRYnnC+alvH8X69G1BMmS/1sEl71pPSJKAfxoFylQ9KDvET8hSdsoiSclyUSA+fKtQqeLiN955tu1rrz1XR+ur+bNm5WpTcLZvblqy7z6HPdOkcfOJ8+bPq5RTIavQCBFJWalqVRs8+Ec9nfmQ1a7d0HJzmakNwhW3TBFTU8qkUFW6CiARsAWkSDRrigJsdIjux03YL53mPAunhijdOPlOKFCGKBDvBUqfEo/c2rVYb7hqfXVR/y/fbXHbHVc30Qtf+bqTPCV7I+XAAw99d/12GwyblZdXTW0Bl3KFW9/IIPeT66YnGzHiZ7v4muNDnvUAACqRstuY9U7QBWxcyMYTJidrH5KavPbL4B+XAh4+mDNntp7/4nx4Ak4BjiHMmTvH5s2LLrh380RNKFCWKBDu+NId0dxZHVCdQlTxb3a1qtUX/fzbNw3Ov/iENtlZlfS28uws+FqCVOuvi7M22qjzhLZt1h+l+871vG81/VQO7wZX1Vu/CNe5c+faFwPesePP2MOmTc612rpvWlPN8eyP0wfTwwhWEPFe5gSr0hQgWYN1SiTqaqcAFY1XOj75+I3wIPZGnTe1m659SM/PNQ/3xTKyLQlSFbUkJ+EO3NLCKTGA1W5JW1A4n+RL60+WO3O6nXVBL9viXzvYaSdcGj0lKLsEEgqsdQqk2JDhJo8xZC/I0VORdAZ1n2E4erMwq1qV6gtHjBlc45Y7Lwk7hqtVrxqmhpV2sXi+RrZVplSuVHnM8BHDKs7MnZMvCatnJKvrcY2a4SnFGXOm2td6x/njjz8I2a0h4ZqrYzoChGhl4XjhX0KA3cMuXEldmawoiYClqBJY7RRAiHCubdbsmfbBJ6+H+H77dZANGTrIGu/Qotj48cfzZxMmjrfzLznWjjz8FNtj14OCIHVPwY2e5JsydaJdctXJtu8+B+uB9cPKTJULeVfvfM7c2XbLHZdamzbr2xGHnBJejMFuKeTb78OGWyc9DJ9AQoGyRAF/tGHJkkU2f9E8y1qQpRmo2XorV08O5i/Oyrfqi2fNzq303wdv7KjLJCrUqVM/f8aMqfQkYXDUWfPmzRv+w4/fZwvJWpzx+S6AevWa2KxZ04QFwpXjMlOEvwp91LomhCtpJJ7SwPPiaoH7ZIq4gBSJZnVTQC8p29hxI+yzzz6088692lq3aWfvfvCypoVmhTXZ4uKndvIqz4iRwzTK02aHwgPAyBu9aPWuf/n1B5s+g7pY1iB6Yeb9D/vZXxPHpjoIMivUzmTZlttsoU0dOg9fpKqWtfwk6flnUoCp4RRGewWy9J615oDNXu33VIf+/T+uVrduwyBc2dSkt3WprRyjGSZcpJkajXRr5NeuXc/q6CnBBnrjt1Gj5tas8XrWsGGTsP46bdoEnob0GlBF/iYLvxOypoTASxeyMlotQNxVhZlanHiELkd5L7YQJCPYQuRIPlYXBaiUCxctsP5fvR+i6N5tX3Ftlt1x9zV2/LGjreP6mxS8FZopDfgHtM0/k3Uwcze8JboswOgxCLhUVfaGY1n8upsQRmoUGiUxanzcPl1t3Li+ValUNVVjo4iJVwcG1bhUt2sueTCM9NkEVnh0GwsppFsyeDnijfku0BbKv8hLeTgNCxwlmoQChSggnoVtU3UGVbf1L/7w47dav/DiE3Vq166fP336ZHYMi5uy9XD6onytzw7TmivCMUfPB2onsTYthVM3IeBYSAURUdmp6BzBQTBzUxJCGkC4egrcb7BYDT9jFGZ1YWmXWfia8KT0NCQCNp0iyfcqpwANOdO8f08cZ/974r922ikXaN21hXXaYLMQ18Dvv7T123BfdtGOYiQEECZRsngMnuq1VLhEI8PgLuUociPRGW5VCxssCuUJtwgS0hTfsRvegdX7oQjdTIImPU42dujmmSgMhUn0vD3KSLqIfyyF8xfM1pRauA0uuA9NhbJNnOrtW+OGLWTOG7/U2aKAHVPtzAboQvTggKDZOMYoHygSdzCNaIad54P4CIdQFASXqUdvpyrA4sJIBZUo/1wKwHVwrLb/LsmuXKXKoh9+GtC0zwO3NK1WtVb+zJnTgnDVvfxwZdbOO3cf9emnH87Q/cMVxZ+MPhntsRsY2QPbobrQRAXZ1TRWOFrI+RxYFMQ/fhylXW1AHF3SQif+OJBW4GdhXJYWuIsbBpfJT0KB1UWBwUN4RtFsu627BeHSutX61rVrN3v02Rtsj+4HWr26jYtsdmLzD6NWVEC95aDP18Ma/CEUsWPzVGE3dIARJksKjgDgH+GCYGU0/deEMZY7IzekRc9oWYP6Dax+vcZBuPBQd7qQIXyaDTZ6EMaChfM05T3G8vL04oeanUqVK1njRk2tVs26EpB0uKmjWWF3ZJQHNoRwCD/KA2kmLPKAf4TzpCl/BUFbp3aDQvGTbhfoebNm2OQpE23O7DnBTaXKFa2Rptdq16wXhLuHR34dstnxqd2eSxQXnQqOA02bMdkmTpxg2t4Zwqldp44EfHOlt0KRcvBwEvUfS4GImS17SXZ2hTnCJTVr1Jk1Zszwejfdcllr+Hzhorlhx3CdWg3yp+dOzrr84puH51TIGSoBW7FGjVr5OstKGEwvjRcOF9KLnC1kdMtoFWThFaHqW4cRxvhz4Spt+EYt85AI2DJfROt2An3EpQ0Q9urrj9sOO+xi67VoG0Zo1avVkmDtYV988YkNGTbIduiyZ0FmETgLNIp74ZVHbOzocbZoCXXP7K23X7URvw+36dOnmi4JtwP3P9yeefEBGzF8hGyjjuN7779u48aM00XhM22jDTe1ww85MRJiagQQjKPHDbPX33zOnn3+0RBm/OfsMy6zPXfvafUl7PVWZRA8CDa9V2kPP3aP1apdxw7pebyNHD3cnnjmPnvv/Tfi3u1f/9pKG5hOtS7b7CJhHE25vvX+i/b1gC/C+lJu7nzpP7d5sy8PaapXt4GddMJ5mjauYnnzZujs3xG2xabd7NTel6nDUDF0CAIN1bFYrA0mX3z9qT31bB/78cdvC8W7UedN7NCDjrcu23a3mtVrq7FbGNJOB0OPWduPgwYovX3sjFMvsfWatxEdX7Rbbru8UBh8HHfM6dbzgGM1w9CsIIwijhKDfywF1D/Uq+nZc7T7d/6M3KkVH3vy3vYQQzuC83X9YVY9rb9O0xTxsUefPn7/fY8c+OZ7LzDyVKeNDm8QjC5gf9c3ApZn5zjoyqSxj2Tx4+ijRBmtO4KVxAKJgI3okPyuNgpoSlMjv7F/jLCBA7+1W/7zkCFY58+fq0pXxTbsGE0Tf/X1x7bVFjtahWyN6iQUEGqArlXTzuM81ayoni2YP1+bombbzLwZtiiMEuVGgniWhKmuY0v5WRDc5OXlslkimPGj3rTpjJ6ddFrPYHbu2VfYVpvvqMahus3InSzh9YHd+98brf/X79k1l94fpmv12kcY8SGoEFD7739wCOOMs4+0/fbtZQ/e95I1RBgpDb8NHWjX33iR/fDDd3bTDX2s2w77SYhq6lbCjrTk0wFQXxzhx45i0l+tmpZ46J8DUseMHWOdOyrNoVmSkUau4Xygzgw//8rD9vAjd9mmm2xht970sLVq0T7sRP7z7zHW762n7arrzrW99jrQzjr1SqtXp1FqupcRc7byN82+GvCxHXLw0fbhx/3CVP2Vl91mG22wReh0TJ76l7334f/Z40/2UWfnB7v28gesdq36If3pI/mQ1uTnH0kBdgyLH/O1MbHyK/2e2nTUyBGVq1evlT979swsdg4jXPfa84DpxxxxxtcsZYj/qZTi7IJZU759iphKjQxC+uKAaR9UR2nXbUgE7LpdfmU+9QhKpmO//ubTkNYNOm6SmpLMDgKgiXYQ6sJve/6Fvtazx7G2futO4ZwdAo3NSiccc75GYJXtz7/GWv8v37ceBx5uvQ7oralVpJJElqY3jzvinOBm4qQ/7bP+79p++/S0Iw7mHeRIQEXTyBV11GdsEK7Nm7ey2256xNq13rBAkK8nM9aEt5aQP+2sQ+2hvrfZRefeaJUqVAnTwsS2+eZb2cyZuXbrPefZ9dfcY7vstJ/SyPE8gQRhu7YdrcP6ne3o4/e2m+8+3TbutKWmnZvqyNAR1mO/Y222Ogo/DPrAdui6i5192tWmh6ZD+kkf090I1dq1aobp2yjQ6Bch+9Z7zwfhyvp1zwOOC9PQ7qZFi9a2ycZb2dZb7mg33nKp1dEOzdNOuEQj4EphlEzaaOyAd99/VZ2POfb6KwOsSaOWHoRmFdqos7OpzJrbAw/fbl9/94nttdsh8l/gJNGUEwrATw7L23nS8gHCzz757O0NBg4cUL2GhKuO3mUhZDmW075jx/mnnnDxlzVq1FmwYOFCdXm5vB+IOr/S8A26EI2rbp7yI1frOBTkeh3PR5L8MkgBKjIbaSZrXfHhx+6yk084VwKnSdiQQ8XGHiHTZZudQ+p/GvRNGL3Gs+JrlGwcAhCoCCRGhuiXmrHJx91Ea7ORO5cQ+fbxZ28H99dffa91bLdJWCdlhMz0L6NghPZWuuThhmvvs7c1Fc20dQWtk4YGSVWe22Y+/fR922vXo223bgdKHmZr05L8Eob8z9fousP6Gxsj41ydFJo46W+NPrXuGdZZlT5N8dK2sf/D0+ZpDgnTz6JFc6P4pA/0Uedi1Jihdsdd19peexxgB/c43rT2pbhS8Spu9Hp5xPbR2d/TT73Innu+r/065IdAe8IIrVVqRPzuu2/YGSdfoWMRrdPCmGvVqtS0XXbeNyRl0KDvQ8doeRtgz0eilk0KwA/sJQCZGQm8vQxJVYfX51SyBn7fv937H75ZTzM/Qbhq2SWMYAnm0vNv/apFs7YzFsybW0Gb8PKXytVCkcCSxWEhh+v6RyJg1/USLOPp13qNDdZlEsDWW+4URqUuGKljCJt2bTa0eo0r25vvvmS5edNU8dlMFMSCfHF4pGDGlGDCR9GGPxwyKbAPnqKv0JhMnTYxTP8e0utYa992ozBFG4QPAkhRgQg7ppS32Kxr8MlDz0xl+07jaNRstquEUFYWa6LaMKQROmnxKW08tmu7QfCvjR6hEyBrwdJcLNWljIPrtB+lhxwtWrzQfvrlm2DZs8dxEq5cHTc/pCmKl3udNRugDkcFrXPt1m3/4Pb9j17TNXVL0+7pO/esK61li3Y2L5WveBhMXdetU9+23qarjR0/PHU+OVyBl5a45HNdpAD8XrlyFRs+arA98ex9WnrJDTM/Xg9KyhOb/oBBP39Trd/rLzSBn+bNm63qnaM6zVFRs1tvfPj7TTfa6s858+ZU0oa6UIEXL4z8adoquEn9pI9acRvcx9S4+3VWnwjYdbboynbCqbT0kNnx+vqbz9p22+0UBA/CFQGKUEBldNewQVPrffilNvi3n234iCFBIC6tb8uRzyDICruP0sEoOjqitkPX3axWrbpsytCmo2qFkPVQNgQ1aNDITjn5PHvmuUfDCDUIWIXNFO92XbaXEGoY0h2J/nh86rCr4alXu1HcsER9hiQH94w72THNdO77H/2fNk9taW1adtAIt+juZjwEISs7Du4fcfgJ9lq/523a9EmhDOIJaNumg6aLWRny9sxtox3XrI83rr+ezZnHi2BAcSmMbJPfdYUC2uWu2ZBBv35jR5+0pz3w0G12531X2h/jR4Y1eD9fTn2hjnpnUtW0EDBphFB1/tGO+fw5c3Oz1HH7faeuewxFuIaRKy40IzRhwl/Bv89A6QOGYmMTkpfpJdCZEbVcMVyyBqsSTWD1UAABO2bccK2/fmGXX3KLRliVwsixQDCpKnFEhIq/4QabhkR8/d3HtqnWE7OzMgmBFU1nvoQNl8HorrVff7TpU6enppOVAK/OoYpH9RxhNU6bjYDZc/IK1juZSq5fr52EFqO6YF30R8NVHWEI5h50UUfLZsLokg1dPw/6yY7vfYaupasUGi3MM0F+/mLtRq4WRujYT58x1ZpqnZVG0xOsC9alZQBRNAzcMTJhvTZykymWxGzdpMASva36kZ1z/jEh+S2at7Z33u0X8Oor7ghLI3XrNNAIlz0F2m2vHezU3zk6LKODZjJbyvDwBryiTXD5M3KnZB11+El/7rf3YYN0R3FFzezIJloakp19+c0HIT5mgkLA0W5hdg0jWBGyPpr1CFyV1boPiYBd98uwTOYAIcBo65uBn4f0/efmiw0sDZ5+5hHbf58jwg5ZjsmsLJAOpn5nauoZeOjRO5YrSARs6BBQ7RWWT28XFU/xYKM2YmVbCuKdM5fOvlkD3c9aSUeMFi3KcIlFPGrpq1WvEUw4V0uaI0ipCNsCs5RVISW1ZlvILPlYVymAIAxH08YODcK1VvXGVqV6to3/c4w2w9XX7vIZdu0N51ujxnVV747SRrd/WeWKVXWNRL6NHjPElujwTMWK1OWldZE6VbNG3fzcmVOzDu519N+H9jrxOzpljG4lk4PIzKmUYz/+/K3u1h6mWZUmNmXKBKoDu4UZ0mqHQhCs7BrOJGRlXD4gEbDloxzLVC68Uv/19xjtfL3Tduy6h+24/e4F50rTE4t7pqj++GuUPfl0H/tNDy1zBGVVAQ0Cm6mARx98VSO8zmGDE+bFAVNapIupZNY3C9y6nCrO4yo2z9Y0OsC6a3R8qfg0B4fKE7MCQEGaw9ey/5QSw7IHlLhc6xSAB+hose5+52197bwLj7eZutqhsXaLT5qsS010dK12rcY2aeJEe7TvfUXSy/nVhbpQxYFRreVn02HNOuCAwyb2PPDY71V3ddOnju9kSyprL1RlHXv7feTPdukVp8pbts6sh9kjBCzid5SQ3i7fSG0XsHyXO0gEbLkr0rKSoXwbrF24gHq5tuN2e4adtr7ZJp5KF7B/TxgbBOzb771oXbfbzWrowoQwCos7Xk49YbNmxM1IwDztuK1evWbYzFScAELAMB2LvV4ACYI2eF7DP0zF1axWJ8T6p2izUBuwKqqjUNwUr0SqRhGLwy1PeKJzEPJfQkdiDWcpiW4tUYBLT7bfZnfr+/DrdtvdF9uQwUO09NFAPFLJpk2bFEa51avV0J6EGmEfgVhJvD/HpsrOAeEa7XpfrHX+E//ottM+QytUqCwWy9eqSs4SZlioa78OGWgXXnZk8FZdSxKz585y4crU8EAh08MuXNFHPcL4PLQMywOkLWGXhywleVjbFKCSzZ4zyz7QTlYqatvWG4QH1nlInE076Yg5G4hq6aq/k08817777mtduPB7aoPOCnRs073ou2bNWoEs48aNlNCO7u0Nl0BwEUQMEVALNB32gS5jeO7FR5VuXWChNdlVNXGK0F6WsJgeZoc1a2L77dfTXnrpqXDhBuvDMi4C3pHgOcAfBn0ZZoEb6kgU+QkfRXwkBv8sCnC/9QLrvOG/7O5bnrN/n32lRqFTwiiWGZrKlaoLq4W6wDN07DegHjugR7hqA+Dik048Z+gWm203gotS2EmsI2r5cyWMR40ZZs+99JD1Pmk/mzJ5ZthMKOFKEAhQXqb5UjhGyKiVW5yYIsYOzMDVMl3HIRnBruMFWNaSz+iKNZ9Rw4bYp599YGedcanV1eiR6c14hU1PN/4qawfvFptvL6u7w9ptpw02l2xAuC2FMOqUhAnTpRJCmUah3CuMwHGPHHVp3Li5de68uT39wr228w576SrEJmFEjcByYH2VtE+ZNMEuuULvzu6xr+2798FRWO5oJVXiYKcxeSKNCNGwxpshXIQjL+xss8XO9sYbr9gPP31pe+7WK0xv49zzjsCO6F5FswbD7JNP3td52AtZJwuNoo7yJpBQIPALSw3c0HXIQSfaNlvtbAN//ML+7/UnbeSIkerATc9AJeZzAn/BslkSsvN/+eX7KQO/+0IzwxUXcZ82sz1Tpky1336L7hqvXrWuJOYCXcoSwmOEyqaAIcIPhQhXRq8gdmCoDlLLHSQCttwV6drNEAKRm5u++/6LkJCtt9ghrK9SsV0gZE4hZz4XabTb0bbVOcxH+96jixMOtqaNWyKJCrwwQmO9ljdgECp+Pq/AgTQ81BxeitFuXl3tFgRSHY2Oe/U42q65/jy9Qfuq7hM+IexeplePoCNtrNMymn1fVwYCB/c4QZcvVJcg1p3E+lsVUL9ec5sxc6qErNaqdCaRUUHGzVyp6Mj6Zptsa/UaVrUrrz3H2q+/ka2vNWRGGAhrH7nqVRObMOkPe6TvXSGZXbfbPdAgHOtZRWlfFflPwli7FKB+RssuWWFmqXXL9jo7fYCN/2u0TZ40yaZMnWgz9dh5taq6UUw7+R/63/U2O2/pHgTuANepAIa2jD4LQfWqtdUhrBIekRBvutCsKUfDhI8LucgfgcroFUELMnott5AI2HJbtGs+YzT2jADZPPGQNjftuute1qJ52yAESxau0WgMYcNLNHvs1iMc7Rk2/Fdr1qR1ECT0lLkV5qWXnwoXQTTSFYSMPuvXbxSEDHFzO02zlrXtf4/3sW227BaEM3IKN2xa6rLNrrZzt93ChRPcj8ylDLyew3lcOgW5eVM1rd3P/vvgrToWc6beqN04Eq5qlIBqWp8q9a3ZlLDGPSPVCKIRNWtYbdq0tw/ef9v27H5wOE6TmnaTM1KaZXVrrRc6EPiDZuzebNSwqd149RN26pmH2HmXHm3XXnZ/ELShEdTUHQ/WDxsx1B585Bb75tv+dp2ucWzTukMq7dGUNKN6D1MEC/rifujAEHYEJbstLozEvOxSwOti6PSK51ia2bhTQ8vuzIUlC0OHj9mkadOn2MNPXa2M6OYnHU3zjqbqjt54JX+6CBH2Ep9rtkX3E+flz56b6wKzUvBoxqsUzwhnCAGEK0I2LlzLLZMlApYiT2CVUYBRZf8B74bwuu24ty72r1HihqL0iBkpsk4EXHHzqfb2poP0OkwdPWXX0K68+Da7/qYLdZ9wj2C/w/Z72O03PabKvSD0yjl2cGrv6+2qa8+WMDo4uGGaue9D/cIotnbN+nb+mTdIeFSzu+65LuDpJ19iVSqzEWOmjvDcHvwcc9SpdmjPkyTouMt3kQR5mCSzH3/6zhZnz49GvMFl4Z8gt4JQpO1gQ1U4+xf0YbpXo+ED9jnaPvroPTv/ot7BnJ9P3/9do+foCNDIEaOtxXqto0kzLBUet0tttvG21ufe5+30fx9mJ53e07p338s6deCi/so2UscpXuv3LK7tpuv72E5d97L8xdGo3Efn87XODdBIEmbxkKXLB8bYjz8MDPlE6CdQPinggtb3IDivcAUoA1DOri5OiUuXgCxHaAQMU9B7BBnN4goVeQIiQMcLPxR+nvomCCoGdqALYg9aRuUPvPagslLDvPi+wn7C7Pr1GuVrF1nWaSefb0cddoaM3Lm0CSQUyEABpmRHjByqt0pnWbt2G1idWvUKH3PJ4CduRKXnZZoRo4YZQqGtLtCvrZuXqPwI73G6eSZv5ix6zKY3JnU7VEfpo7qKX9z98ecom5k7M6zT6lktW1/piPxrhK3RGVfEDR72kw384Ut74qkHQvQ52ZXsuONO1YH7HfXCzGZhpOrHcwgX/dBhv0igVVCcG4bpV8KMA9+Mhll7GjrsV2vZqk24PN/TR/3JVpf/z7/HaOfmtJAmRt0dNO2Lyp3CjNqraOqY6xaZznMgbB53nzxlgtZiv9Jl/J/rybmXg3VXPR6w8w57hKnkFs3aqFPA1HH0xiv+CPvvCeOD4GyrEbTqdZia9gbW40DF7PfhvwVB3LF9pyDA0/MZd5/oyx8F4B1maiZqJuqwE7axObm8t5ydr6UMBADvtw4UIiw5v8OIlOliZMdE4VjhUOHPQhZhOR9HBcU9KugVx1UZlU9wiYnqAnYf6V8XJgK2fJb5as8VNzPRULO2yBRopoa8pETgnqnmKIyFQZi6e8x9YxKCK9P6JY0DD4oDNBbxJ+tcCHIbE6O5kL5U4AhHjhpwJy9hp6ebaTN68FF4mduGKPycsL7LLksEcxywJw/hPGFIH+HRRkXCjXXgKI7ILFikfrzho59L2nX4UGmM/EX00vq3zNPTHeJk3VrIVPhi7aIOHuOBx/Sh/BQJDxjgN4F/FgUiHq2oxyoKCdgl4i0qFRdFXCFE0E4RcqaVezV5NB3EHKZniphRrY9WYaQ46rP8Q3yKOKlJ5b+810gOmVqiXaahT2/slyUBVHCO7gCM+BRS0PODMPJGv7jwg2BYELFzJICWjgTxE02JpQSThLF3qAl3fmozVqZ0cxQBcAEfPtJ+ovAXh2NJmdKHGUJwQSp9ZM3XaomfONLT7FFEG8iivSXcnONP0GHPDU+0a5nSHeJUpyGsoSnwTG48DlQvv5LyGXef6P9RFGAEihAFOYODcOW6MSoHgpXKRqXyUau0QbCiAv8oOeMCNp7puD4iSfKbUGA5KIAgQEisDBTXuCMcShMQpbmJ+2dUGIe4XdwcfXFpSne3LPEXF09pcbg/72R43BG9iyd6aWnycFBXRfnFw0v05Y4CzmguK1ylMtHT82/PePq3m5d71QVsPKNFiFHEIO460ScUSCiQUCChQDmjQCRDw2Gb2AySMok4QIj61K+rCFcQ+0RkiAjA0rmzpURxIkUu9Ou95gKDRJNQIKFAQoGEAuWXAqzxCKqGK7y1j6JwTl3AJsK1MF2KfMUFbNwy0JPNFgAbQdKn0uKOE31CgYQCCQUSCpQjCrDmoOafe/qrVK6h4zqMuwIgFFhrBV3QFlgGF8lPAQXiAjaSptHWarZchztjUYfoSAM7J1kfSl/7wT6BhAIJBRIKJBQoPxRAvk6ayoZh053CErBLd8Ozcxj5wG47MD6K1WcCcQrEBSy9EEaunGEK7wvx2HO9uo2tf/9PbJzOFnKMIRGwcfIl+oQCCQUSCpQvCnDZC8fLvhjwQcgYO+tjMFJ6dgxjiKBlJOvLij5Ik1ECUCAuYCEO55bYcv2FEFiycFFE3GdffFBHD/LCGb6lB+cjR8lvQoGEAgkFEgqs2xRg8ETbXkkvOP025Ad7/Ik+VqNaXd3tHW45DMuGyuH3Qs7QgQgHH8UmwlXESAcEahwQuPRGIN6RWOhS8ax6dRvZr7/9aNVrVrMNOmyiNwSrhcP/5UPQJnxBOSdQGgUSPimNQon9uswjvJtcQeutunpz9GA775LDbe6c+eHCFp3bRiYgG4YJHxH6GVhGsumjWBkl4BTwXkn824XsezLcTcgUQIW6dRrZ9BmT7LBDjrOeBx6nS9hb6rYa3WzD4nd0CM/DWAdUVYRQF+IVQqQI1EgnyTqQnSSJq4kC8EmcR4gm4ZPVROx1NNgUf6TzSWgT1522hA2tc/Qm88+/DbRzLzva8jU2rVmzjuXlhdGrC9hrVEgvCfnGwqeK49PEMk7AKZCJA/x6q43l6GthNSEL2TkN9IDzlKkTpDU77pgzrH27Tla7dm21OfGZ5mBdhn9oNEme75GOkhoIsY5VijJM5HKQtIhPCnOJ98HglkxVpxxkO8nCclIAPknnErhD/BE1KssZ3pp0zoMQul5Ta6yTJk20b77/RA9RRA911KxR2/L07KMgDLCkfig8X8iIldubGMX6FDECF0wgjQLFtRLcS8zc+lHCp1J+AqF5sYQZg9lzucc5gYQCCQUSCiQUKC8UYBA1M286V5IyDGFgxWVEvwpPFTK6QqjGhStucAsmkEaB4gQs5oxkEaonCB8WMkzlO1sXlWfVrl0/KycrR5eHY7RuAZnLxA3Fma9buUtSu6ooUBw/FGe+quJNwll3KLCUF2hR+AI0MtRfpjYmsi9bv9maucupkKP7v+cwaiXZPiVMhn4SniYcL8QO4errrjT+mK0rWVVS1yw4R2SKFTsXsttLf79ws5jDVM+lpCBirsuWlkSDxTGGm8fdYebfqHGIT4+4Xdws7tbDiJt5fJjF9XE3iX7NU8DLqrgycfO4OzejQ+q84CmP84Tbxc3cHaqHGTfzsEszi9sn+tVHAS9D1ExlQ8xxc3iCbzfDX/r6Wtxe1gXtlPvBLA6Z/Mft0RfnN+UuWPPDaNXzhN0TwluFnH3FnM2vzGwiWJORq4hQGsSJmckt9hAdolYVHiU8UdhZyNpsAgkFEgokFEgoUH4owB0Inwv7Cr8Q0v4jfH3UimClU4hZkMxSEyiGAqUJWPcGkb3HQo9pc2EnYWthPWEcljXMuJ81oSddjMhhiiZCbtlkIdkZiF5ZvHfGWkM7YUvhQCG9t+rCLYR0NmAyaAHj/S7EPdBRSLhc2EGcuAOIFz30apTSSwlu2DTA+WPcQOeEiUWEtQSUGeUKagefNRDykDT7ErxsvLGhPCn3ZsKNhPAJU2jAVkLKGr7yOjFCenaOUM5thcAPQucTzAHCrSFsLnQz0gMPThUCuPH04IbvBNYMBSgvkPaEp9koJ3bVehlQLt6WUP580850EY4V/iHEbSshgxX4CSA8eG2ckDKtL2wqhEfYsQtg7oj7NkJ4AzPSRHxThMSJmfMI8bk/aQPE/fwpE65uIq4xQsKinSM8EP/xMPCbQCkUgIjLChQiCEDwdQ1IOwwzT3i5kAbxCiHCjkYSBvb3DXFDY7ahkAZzvBBoKLxUiB8qBY0ugvH5lEoYxMHonrULKpkzurSBwRHACGn8Q38qyVjhKCFMS1qw8woqbQJrkAKUh/PJidL3EJ4nRNhSLvADfAI6n7SWHl4YIaTjhrsrhfAYPOH15hXpKWcve/gIoex8QgMGT8AHTYQ7Cb1RI3wazp+FhOd8QljeAEqbwBqgAGWEYEVothQ+JaS8Jwkxo+2g0wyPUP581xK2Fg4RApTfnsJThAhnyhTe+Vb4gRCA11oIRwrZYES88faENOwrJE54hjCIa5DQ+cL5BB4BSwP4DCQ84nL+49tR2gSWhQIUzLIChAYpZBohChM9RAfQl1UgrTBNFWFd4WFCKgaCEYasKaQyQA/ckj/0vwvJH4xP3gkDu3SE0bHD3TThOCFm8QqBHgbHDXYOxIMZaSMu3Hka4gwu4wRWMwUoV+cTeOIg4W7CrYXjhTSSlJXzCeWEHjvKyu0oR8ydT3AHEDZIGTOSRVhm4hMELmHhlrA8POcTwnM+QQ9fxRtefSawmigAvSlXOtGU0z5COswIuheE8AjC1csf9+jpjNHpprxB/FK+Hh4qiBn2lDnxDBZSvsSHihmAPfyAW8KnfcK/8yH8gbnzCX5B5ydpCwHuAPyTVgfcA65GX8nvMlGAAlhegNAUAujghePfZUklbTAljEuPcFchI1NgZ+E7QhiVHp8zpLSBYfFHPrEj31QKGDkdnXlRARgdJnX3+CUdhIWbOP0wxwy3uHM937gjLswTWL0UcB6GB+j1by7cPhXlnlL7CuET7OJ8QhlR3oDzCaqXHeXngJmXK3r4iw4eZvFyRu984v6dTzB3Pf5AzNx/wisixmoC6E5ZO/2rS08nDOgm/EhIucIn1H/nCy8b2iDKCsCMsqO8vIzR4x836FHhEXgOxM7LFxU73JAej8P9Y+7oPMI3/jwMaTNCafYZPSWGRSmwIgK2aCilF1gmP2vKDOYDYXawp9BhL2m+Sn3AhIwiqRw0el45nNlgYK8I0hYCt8Mteq8I/o0aD49vEHB9aWrkOvldXRRwPqFOwAvwCaMGYAchHTFmOZg+hj/S+YRypwxdlbYIuJ2XNXyCmSPm6XxCIO7ew8dN3MzN3S1qAquHAvCJ88hW0m8npPzotDOSZcofvkEgwiMIVQQh/uLlr89QhqhxSC9LhGLcH3qHdB5Ynm8PI1FXIwW8Mq/GKNZq0PFGE8bsKNw9lSKYsb1w09Q3lcIFLBWDSkTFgEaEszxA2AmsOxSgfClnypuyayncTwggBJsKmSbGHQIWhEd8es55pDQ+Kc1eQZYKxYVRnHmpASYOlpkC0Jiy9rbBR6/wCLCLEL6AP2hLvD1xIet8IquVgqSsV4p8a84zBV6ewSsEDM6o5AAhayRUCBeC20tPpfAKgUrD6ZWCMBKGFhHKMcT5BN7YUdhKSKfMy35n6ZkShFecX1CdT1ZV46kgEyiDFHAeQbjCF+2Fe6fSSccMoLPeRohbF7IJj4gY/1QozwIWJgd9VMIoxKeH3Y5y31LYTAgtXMhSKRCyKzqCldcE1hEKOC9Q/pQ3MxlHpNJOJ8zrSEfpaVSBeOOZPoqNXCS/5Y0C8Am8QIeKTtiewvopPeYIXfhiWyFuaUtoR+Iddtw5v0mbQHmngDce5TWfMDM9TtYxGKnSSFIRnNHR06CydoLeBWy8UtDoJpVCRCjHQPnScDLLAS+wrgZ4/XCeYZoYM288vSPmU4YJn0C18gdert5u1FEWD05lEzvAVXiEkwrwRJxP4K+kwy4i/JPAG5DymGcYnvx543doKpM+NRzPM5WCc45UABpNbzipFPj3iiVtAuWMAvAJ5e4dqQOlp8wZpXij6Sp80jhl7o1nfDkh4RMRp5wCZUt7wA5xOmCbCAHnDVTaliZCzj97h93bE29LnM/kJIHyTgGYpjwCzA7SUFIhNhPuIgTieUZPpWgp7CikUtBgglSM9F6nVyZZJVAOKEB5wgM0es4HnGsE4nyCO+xZv2edDT7xTlgiYEWMcgyUfZxPaBO8sx7vhEECeAToIoQ/aH+8PUFNOusiwj8J4o1Iecu3N5w0hvsLmQpmqpjKEgevFPRKsaOxpSI48k1Y6f5klEA5oADlSlnPF+4pbCZMbzhlVNB4biM9a234o7H1TljCJyJGOQVvS2g/2gl3S+Uzvf30706yby6k7YE/4C/4I+EREeGfBM4Q5S3PNH4gDM5GhB5CIFN+cQdQKZoKGfHizjFeKdytrBNYxyngPOJlyg5hpoeLA+edDnLQWohAxgz/6Y2nhymrBMoJBShjypzjW34SIVM50+YgUDkj6zyS3pY4L2XyL28JlBcKeEGXl/zE80GF4Oam3YXthIxKigN6poxw2VE8V0glAR2oCEllcGqUD5WZC8oUPpkjZBmBjXBuLm0hwBw+AboKaTzhKZ8BkTZAwidOifKhUp60k5R9PWEvIRBvHyKT6Nf5gd3ECGJudIq7JbyER0SEfwKUVwELA8PorHt4haAhJb9eAaQtaEzpcQJM/zGlQ4PLjlJvQON+ZJxAOaIAvELjeVgsT6XxCdcoslN0lhC/zifSJlAOKQCP0PGmA8YGJsqbdiIT0M4gUBsJOwtnCuERkHbEUdoEyjsFyrOApefIdJ6vl0yWvr/Qe48wOvrRwr+EQCshm52mCRGwTBdTMagwuE+gfFGA8odP1hP6zU0Iza+EmfhklMwBhCsj3ulCeCThExGhHIPzwiGpPCJEvxROTX37CBVh+qvQ29Wu0sNfCGfaEzBpS0SEfwo4I5S3/HqFOF0Zo6f5rHAX4ctCACb3SjFY+kuErwqBQ4VUCkaxNJxJpRARyinA//ABDWdj4bvC3YUPCoF4YzhO31cKnxTS6TpCiH+WIRIBKyKUU6CMaQ/YPU7bQIe8t/AkIZ0xwDvfjGwfEF4vHCvsItxAiCD2tgQ37l7aBMozBWCe8gYIV4QiDWYdIccujhb+JkTYpgNmuUIqxvFCKkNb4QyhN5xeKZKKIaKUE4BPKF/Os7YXHivcX/iNsJIwHVhGoKF9Qni4cJCQRpfZDgQumPCJiFDOwOv89srXvcJ/CZ8UUtbp7Sc8xeiWmbIThY8IcQ/fsGZPu4Q/79xLu9JAnAmUUQr42mMZTd4KJcsrBNM1vYUwdi0hvU0a1HSA2ako7CL9WfilECAcbzj5jo9m+F5d4OlfXeEn4UYUcDpT9v8WzhXWFHpjKG0h8PKvIdPRQvwA+IfH4BUPU9oVhtLCwJ5GNd1d+vcKJyDxWIgCLkgflymzWnTI2RBJW5IuKCkD3HOMi077rUL4A6ELX8Ej+OEbWNEyi/uL66NQC/+WZl/YdfK1SilA4ZdXoMGkEjAa8cqQXiE875hTMRjN0HgxegW8QpTGpPgBHdL18W93gxo3d326mu4u7j/RrxwFoDWNJrwCnzDCAIvjE/gAnsAtdYdGFPBRSWl8glsvX/QA347+jQrE3bobN4urbhf5Sn5XNQXgBxeu0Jr2hDJPBy8TeAQ9gpiOPW7jPOJ84u5lXQji5nE9jviOm7k+3dwDdHv36+aJugYoUJ5GsHFGctJhBrPT61wWoCLB/PiLN7LLUiHwkwllXGAe1+M2/u36dBV3nibsyiI4fcpi2tLT5HR3cy+zOJ+Ulh/svUyWh0+I0+Nz1c1c9fSlq9g7pNvFw3I3ZU0tjaZlKb1O33iaMENILuvok/ziHn/OL67KqFiIl6Xr42rcI+YAqtM37jZuH9cHT2Xwx/NQBpO2Ykla1wVsJqZxM6cI3yWN1LF3xJ3rXY37zWTv7lCxT0cZFTTGMNDyhIF7wkWN6/VZJoA0pUMms3Q3a/Ib+tBZXWUAAEAASURBVDm43lU3R8XMzV3NZO/uXPXyRAVogL1hdTceXtwtehD3LqS9jPl2t9IG8G8P0/2junv8exhlpRw8HaTb9a6GjJWBHy8fV0lSXO9JxMzNXXU7V92Nl0/6N3nHDkB1+0yqh+Eqfp12Ho6H4W7Sw3Fz1HRek1GZAM9TPDGZzOL264R+XRWwMBGQzkxulq7CWM5g2MWBMLADcAdNXKXh8sYSPXa4dT8eP+7TEbcwCf68AZS2IB0eDv5cH7d3BkN1PfZrG+Jp8bS5maukMa5fG2mmbAAvo5L0bkeZefljFgcv80zl7HyCe+zjfOLxo7rfuDtGztAKPkPFHaq7JWwAHnE+iaeFuADns+hr7f96+cdV9KDn0e3WVmpJB4Caro9/B0epH8oFcDX6WvpLGXnZuUoZUb4AeXb+wJ54MpWrjAvCwT3li1unobTB3uPDHn16WG7vtObb9dKuVfB0eJ7i354wN/PvdUr1yrmuJDrO9OjjzBlnLPLjbtEzRQziJh1w5wwMw6MHcU/hergwMOZ8u5nr3R+VyP17hYo3nB4X/rxyoXo40gY9ZgDuibesQbxCuJ50uh7VIa53s9WtQrd09DJLN4+nhTKnvJz+cTv0lK3zAW69rMkj4QOYAfFydTvMsCcN7h8VwA3hePpwh3u+MUefHiZ+MAOc/tHX2v/1cnf+9fRh7maeSnfr32tCdTq7Ci1dj+plhj4O7s7LMW6H3ssJFTeO8BVhkVfMKHfceJyEC7o/aQv84h5/2Dvt+PYwPBz3j+p5wM7pG/cv47UOnq503sDc0RPpbv17nVApuHUFnBFdhVmcoZyZ3M5V8oaefDJSyJRfwoBRqQCoIC9h8A04Q6P65haP11X3hxv8+qgEe2ce0uHrfLh3hiFNVALcelpRPex0RpPVWgdPk+ctrqJ3xB158byuiYQTn9PPVaev09jdoDqgpyxIe3F8gjl58fJ2PsGv8wtu+I7HSbwAdvjl2zdVER7fTkNpwzfuPD6Pk2/cEjbuAY8r7j+yWbu/pDmOpM/R8xtPM27XFEAz0uAq+jhiHkd9FgC0Byg/3MSBby9j5xEvZ9x5u4Abb4+IlzDx63r8AvgFoRP28JjTCRU75xPc4D/OI/hx99g5vd1MRmsVSIejpw01jm5PQstKuknLMgGFsS4AjOIIozgjwpiObu7uyJfrySeF5ozrdqj4w5xwYFgaTW84scMfQOFi7gzs8cX94Y5dqFQeANWZBfd8E4enR9qg55twcAOgx58zV1lirHiaPG+u0gCgd2HjbmW0RioH5Q0NUZ2eqI5eZu5OVsGtq5QDEOeTyCQKl7ID4nxCfgnf8+xliUp8ng5pC/zh1vmEtMT5xL+d15yGHq7nhfA8fNLg7jBf2+BpcdX5w3mD/JNPADMH3K9u8LJ3XnB6Oi35xo27Iz2eVvTYA5RP3DwY6odygj8oU9yAnl/syCMq+cadp8NVeA8/gPMIeuIlHKcpZvgnLA+PMNDH8+T5wJ/Tek3QWdGVCJ4PT5er5BF0XkH1dBNgWUg76VgmoDDKOsAgjnEGckaK27neVfLmetRMELfPpMcP5hSsh1GSu7id+3V/fJMHKoYDFQp7KiQVA2ZKZ6K4f1mvVYjnzyuFVwYqBvlwN15RnHbp+VqVGSFOaIsKHeEPEDM3T1dlVWyZYpcJPG/YpeszmcXdZLLHzCHulrTCJ9AM9MaURheAtk5P/JUlIO2Ap8v5w9U4n6AHHTxP/r0qVdJD2kAXQs4nTnvsXO+qjAoAM9KImgncPK6id8SP6zOpyxImbjwNzhd8k3bqH+j8Ac0diM/9udnaUj3vHj/pcl5wFTfOG/F84HadAJirLIMXAirM45XBKwHCiYP/XBIBo1FpHPDjzIQ/zjrWS1m6HZ+cfW0gxC1h8O0XDtCYUbC4R+VmKOyIDzunX6OUGefj/Fwlehgdf84Q6PGfJ4RxCBd3xNki9e1uUV0vbZkA0kO+uVgBeqKnLACvFHxj7oCfOL3dfFWqhO88AQ94pwVzypSLRjiTmM4jMgqAOxC/5I0nDtOBUUVDIWWKnjLjjGP8AgF9hjDIf20hcZIupxH+/QwlafKz2tAunU+w5xpGB/wB8AnpdP5wHnEVN2sTyAc0go7UBedz6orzCPZOc2lDXuL5x2xVA/F5WUA/0oOKGSp1mraEsvV6LW0A/Dp4WdKWuDu3x66u0OsH/EaY8XLWZ4gPM/gBHoEu+IVvaWOaCgHKH3eEB82cRl72xI+9p4l0wHtNhIQJOF+4n8h07f6SFvJDWuEReJu8UQ7F8YisCvKPfp0AZ5CynlgYyCsFaYUpmwkRbNyagh0IgzlDSRsAM+xoCF3ABovUD/4JB3+ES4WAsSl0Z2rCgAFo9BCQuMPO44ShYRQYxisEepjFK4W0AfieKiRMAJWK2EoYT3tcL6syA6SffEEfLlqYIoRe8BLl5PmSNoDnA3+Af0dfK/9LfI6UB+kgDsoJHmksRBh6+qQtFvBPudHhAuJ5IQwaRPKezidezrIKPAFvuIB1HsEO/9ABhE9cOLv/OG1wM10YTwNhtRbG3emzyDdmaxM8PwgG5xHy62Xg5eVpjOeHfMe/3c3KqB4fKjxKOtBT7+AP6i/1HnNojJvi0oAdQPniNg7Y0TkjD+QdoR3vhEEXAHfUH2+/cI8Z8dNGwbeA8whunaakK5426EteHAgH/5jF3cX17nZtquQZpL5BI9oRz4vXmXi+PN9uVtbyo+QXBQq0rAKEBGEY0Jm5hfTrC2FeCsgJT0EVB+TTBV66G8Jw5qVhdMQ9euxJhzMDqqObp/vBr8eH2zgz4MfzIm0A4vfKh0HcfXBQhn5IP4jAQdAgjCYL/xKSB+wcvGziqtutSpU4nU/QtxLCI3SevKxQ4zTWZxHAjZebW5J2wkTFv5e1q+4evwCq8w16kLQB7h/VeQS3fOOOOOKAv3R60tg6pLt387WtkmYQ+lNP4ZEJwklCt0Ml/aDnHb2bS7tKgXChJ20B8dDZ6SBkxAh4GiiPksDLkvLLBF7GhONljOrljB/CSBeaxA+6f9KY7h97ADuHdB7BPD1tcffuryyolAmdHPiDjsU04XghnRPMnRdIv5cP+rKaHyWtMMBsZRkgsFcM1I7CdkIIHJgoJycnq17Dhla1UqWsxYvhzaKQny/nOZY1bfI0mzePQcNSyM7OzqpUubJlZ2VlmcKqJMyuWNEq6LtCBX5lnmoUFi1alJWXl5cVwkuZYV1JcQeQ8+wsfrKzKgrxByyNrUBXGoNk8lPgea1p6BaIxNOmTbO5c+eSBxoNKjg9ZhrSUUIaDviKCuEqbvj2fJWWfzldJgg0lktXia+zsJUQZoBHssQj1lA8QjkVxyNyZyrXrPzs/KwZ02dmzZ3NoDxASLP4xCpWrpyVQ4HCJ+IN+CO7YnZWjgXT4I4wgNzcXEuPS/GLxXLEZyYWqSheEY8pXClEFH6iKAv9lkSr4vwUCmBNfkDrBQsWBB6R6jxCubQUwiPjhC7E4AncoDqSJ7CkfMt6mcHDgwe9Y9tK+k6pb09LVr169axGjRol8oj8BJrPnT8/a/rUqfCMjCKgHAvKWPX//9k7DwC7iur/z+tb0jY9AQKBkBBC712KioqIgEAQfoooFhRE8Wf527CBXX8oKPKzIGBDEZUiVRB/okiRkhBEEtJ72WTre2/f+38/5955e/ft25bsbjZxJ5m999077c5855wzZ87MgA/zutcNlMHighFw0CiMNTU3Rxs+Fk8mXSaVsnDEgT4FVEiRg/hkaO99vrq2FyLyMHJbHj7yajvdCif1oiMNDQ2UnTagjDBaMPKyfIO8px+E8fjg3n+vv+rR0HR8wFB1VDiejsEV5jpDnsagYmMTJk9w2easW7sK4bh3DkJZKNBWSkB4575FIPcOPW9fXVPT1sTqay5DK/zkXXZxG9aujUFM5WgTVGa0z0vytI/vHBA1Kpx25Hl/d4ooRmCue8hboSBiMNb6+g1uVR8woviuEk5aIzgpsV8C99JJKOllyJ0gmFp98uTJbq0wIkGDNgcjqE/BwUL5ShgBJ/2NDyVZoiOkv7v8/vLcG2GHsSIYqKwmGOh5rx00JGCywbW1lcHXtrmtwda25bj9Yk/eZbJrqG+IidFSCNoDzZinI1RFOR2h3ejzA4ETJdu/jsIPRUcF4uiMVOge8nvL+xGJRq1jxVjX6pFzV1x5hZsz5wCTHu1B2R+YQFVVlbvj9tvdb379a5dIJlxRqRYKbW7fOfu5Aw862CWTcUmvo9yo0SPd6NGjkWRddXW1nieNCXPdsGmTe/qJp10+n9OIV/ElvSbVMafuMtUxCk4pDPmkqzOuKl3lNLrRSDhpxLqsSDvYTwaDGpm0Zd3yJUvc7bf9zj377NP6zrTVkzoH7UXnYN5zN/lF8jBW70nAt6lu+82RJhghfdR9EE+Ya4yRBG3oGeuVH/2o22efvYURtJaVHTihnR+4/3536803G9GFeCKEzZw5yx186GEuk0m52tpRbvSYkW7UqFFu5MiR1ubEw+WkRWFU+thfH3MNWxqVRrw0ypk8ZZIbKWxpvOuqa2qs/qpVHpi595VLtiM8DTGiOly4cKH7xjXfsbqnDRjJS7jwGKnT10yVXyrv8cGVBHxbeqz0BxH1GIGOMEKaI889PoYQ4DHyjne9yx188MHq/0zHUqTOTlosPWxzy5aucNd/9zq3evUqwwnfCBZeddLJbsyYOpcRDYCOjJEHJzWiJSlhEpcv5g0z8599wS1SXQXYKbq2QtHoz6QpU9CgGT2DBkFbkpnkTkJLVHuqq7Ub1roH73vQ3XfPPVYnaCER2PUDHMBkp8u/KA8GPE48Rqztwne6DF03VBksNUZlU5EQbUavVK6BmU4Lc/3UVVe5s845002ZPMWYIe8rOUaoNVW17qWX/mUMNiUVcKGtIFVWm5s6daqbPWeO49nosWPcpEmT3C5TJlonGTNmtHUKAAHBXr58lctn84qXk45PLa/SpVJJt/c+M92I2loLM2JEjRsxcoQ6VI3eiemmpUAUE95ZHExo7gUXuEcfftRdcvHF4mZZN0JEpKG+nvaC+kDEOI0I6YcPh2hGvSea/qrXW+XIDw8umL+BwXJvzJVbVNlf+frX3eve+Ho3kWkEEavuHDhJplNu9cqVFgxM5NX2MNjJInrgBAFqDDgRYZ4yabybMG6iqx2ptg6JZy6XMyxJheg2rNvokilVgQin/ru99t7TTZw40SX0bLQwYkKcGG0qVSWMBNjurnw7yrtmaZUufPuFRkAvf//7rdjUfchkaaNJ8hi0gJMoRmhPsAI2thUfSsLwQZo48pktj6WuCeqeuc6de4G79LJL3Z5qH9qkOwf+oQcvLljgbr7pZmOwMEiewUgRxMarjUln4qQJbtLUSW7i+PFuzMgxrqoWviFkKmyt3o8d85CrMgaaNiEMmjRWYWfOnGECFzSFcLUjql2NcAId2VloCXVwzjnnuHnPznMf/++Pu3nznrVpHDQeqiLoCA0xRX6xvMcI77zXrd33B05Ia0DcjsBg99CX18rbyAR1Dqqc7994o5jrWQY4QN+d+o15V01muJwYI45pEz91khfxbFN8Rip5EcWcfEtLzmVblKbiQWABA75Vv3O5rDwMViohUU3iETar9LlPiXgmxXRRHeWlGcu3xXeaTmGVpz+0wTlzz3HTZ0x3rz7hVJirMa9IG0BAsYClwiGYA90p9lIeGXlhJBGDuMFcb7rlFvfGM96ox3rRA0YIA06SGqFk1b442lN/7B5tR1te7ZyNS8gSBkKcwJTRVIATHNhglGNhhBXpOISTgnGLbGvOoUJM5BOuKaF5fhFmw0m+KIyo5DuRIAbzuuBtFzimEs5985uNRPJ96kdUKAQTjGyW53cUI2AFxzWofPu51X9Ih8bZTX6CfAfmipB+yXveJSFRI20J3BEMK2hnB45IDRph+FAQX0g0Wrk22h+cyKu9cwoHrpqTzU7z+5YgAhsaixbRDfCCuQZpteULwk2r4rUavUKrlhBGmLb3Go6dCSP00+NPPN7d/Kub3Yff/2H38MMPGm1R36XNGFwhrGMYh6rYC+m8895XvR4NTUehh6KjAqk8hhxIMXQQU+fAXL9w9dXGXPXMgMy1B0d6SiG82L09sZYSevkvFwhKRue4DZ0HNWEgiLJiUjyuanX9AfxBGiSCDyTNnY1o+vpA2IAQHXbYYe6Ou39jjyFQqicqmI6B9InmgXsqJKj49qsebbPzeSF8scwCqVcYkapJzPXa664z5mqEDqLYC0c78y8EQ1lpyc7jJGjvyjixFBRWuDA1B0ABLz4uyft75SVAxWIFM8TqRRF3mCC+3k957SnuRxJ0mhuabYRiFRP0Z/CBFTr93HecKE76g3j69Eh/V3n7jYCIWviCC94WMFcRemw5wHWvnJotQh5KUQKEBH+NnpCrnCEijBDQkuAHLW8YsWIBE2hKGEkXphcCGhI8I67K6L8pSHwH/uvpyJ7T93Rf/ubX7Evou2gL5aAd3KCd8hjh23eo7w9bU8UeOs5XIhXMfA0EtCgVU0ydIjZjxqyYRq4WRp3Yh+3pasCMxYqEU2t17LuSHmMSKkuuUAg4MWBWl7M4Gr8oTMHuSwGNLpBWQR1DFqjhe5lOxQrEDb0C9FS+wXsfoQzGINo/ps93MNljjjnGXXbFFaayh3DJ+c4AAfX48t/X5zy6iUCa5MWoBEGshJGjjz4u9vo3vr7P9W/EK1I/SrOTK8dJWzsmLD8or8cMkUU0i74S7HeIJ6Wj8rfjyfIeOjjp9N1b+wDt0CmnnOjOOuscY2rMS8rRbtQ0GMHRljiule7t5Vb8IS3yQuBjOU4BIVAE3PJ5+yVvR9sRE459vj1eRRqMDhSMlhC8o5NSyx4aOTG6IloA7WgrCB8uwKR+h+0dRPa56pd1HnFnZRKkowzBmI8bMOhSPfmYg36Nlr8/6Aj2EWglcRgmRhwY8b0y+p2RIEP3diioiA1IYRX5CoQmgVF6I6q/VhHv2PLly9073vUOUyN4VY4aWq+7d4WsAJ2UN6IWhgXJcsyjwmADn9e1LZbPt8bzuVxcnaJQyOXUQUQn2+KFQl7dinhFgV882BizmTuJqCqQ7JM1X5ePSe0TkyGVmdjnpLLsTRmtMAP8R51TeqiAAATSsMqt+gs7LbmHtdL7ghD3lFNOcd/59rfL00Ew8rzFt2vvE+4Y0mPEX3nrMYIQxj3LtWIYYb3tHW+zObC+YIQEwUlLsSVOu/I7Whtq95gEM8MJbVzQki2Bwwinph7CsiQ0t5+NabogVhBG8PGCOGxB8ZQYhBL1YFHxgXcun4vFWoCJoKZ2GAo4MYyETM5jBJEhxEif8cE3oQo854Jz3O2332aGPyxhkqOOGcF6x++g3v2Tvl2jcX1atAsEAgZLXm1i8HFGr+eef76bPn26jaxV872u+zb1bVLMixaAiEoOGlJsK8bahBGwlMuJQRYQ0IUX0QkTvrUEh/dCgwnmCmYY0Wy9YYR0iVdd3YYaOZZKZhW2+2VmlcoyUM/AidqWpY1Ww7RziBGyrFwx3RSG+Eccc4SFgM4jBGkApdoygyfmzW2KsJskhuSr7cVgfWeIXn2n4IrEgqdj0EnirEHV1YySmLdgXiPSoLyq6JAcW1tbEoV4MQGwLVCH5hfTNJDnlUchnsvm4zJ+ire25uPJVEscxikEQQVdVoxXBFLeekMcAsqoVfHMEAaRgI6X07NYLk+5i6mkJaCP0ASMl8OsEIP8R0Sh1bXa96fSKckNwTyjvouOQl0W5fUeeiRG3Ae3t6RPXINGtHJBHQfGJNHfpOnf8bwn58Ny9Z44/p7aJE0YuYy5E21Fj5HdptrcVm8xovhGzPK5lkSqmG4T4aPtOjgEK7V7XMwxwElbgJHm5tZEPKE6VDMn4syx5hKaNysKd8ao0XrAYElMzwwnbYWEcJKLteZSWnUrYDVpRjaZMqCQVoeMB/lHa0trjDKAhwoY0Ud6FXjviSg0eNq0afYlWKIrbc/QIJw4qx9d+/rtPl70yr33YIS2hLmSV1Fr3C3sjBkzbA68sQVLbwUz2CtENw5aksshqOfU5yMYCUsdYKQQ11xqvK0tJ98G3RI9ySZUr5rGb5ONRrqY0/tCsSWR0zvoB/RE0jo4IQ5pQ28E57xoVyvLpeNNxWIimZLgHk9IIzLAtKS7utA7odjqsIQT1VklOpJIpI22dFOlpVfQoCkTprgzzjjD/e53vzM1seqNmqXdLL9S4OCm0rOyINv/52AzWF8pXPGA31+j93QMHKNXylgQ0CwuyyA2SALONcNgO9FB4nRwjBqyrQJ4tk2DDlmXyAUq4qBXIEHms7lkW8oISrIl25LUutZkOp0QbSzEkplWqKI0fcnCli1NSXUSMd08S8cxDGV0asxfI14lbNrAhLpMsi2bL+bUmePqGuSZUIfh2pPrDtvE7el9V+kTj8hxfWeiScWBiKpMcXX4lDpsIV2gMxhhVUA/J9hjmekYzJnMmjXHvfjivGjHoN2szboqUxfPfRyPi66utCWeDogvNIUYadjSpLWv9Vrf3DuMKK5DKMoLJ7L8hrAFODF1BW9xqOlyCdmswXiSrU1NqZaaKhkaQyMDnIDGfL4Yh2Dn2vIilnnMV+LinLo61a+0GzKAAjMKmswXxYcjOOktRijNQLgOGFEGJYyIUIbfCQfAIks4oW3D7tRDYQSRkhPR1D3xIg9Lb3t9AyZwXPFR2hH9bQXUe9SMxmC9EMayGTCSk2FTL/mraSBkFGkjWNGICOEvdRNpNPIJjVYTwlBSwlZSm0kIIyn7WC21KSTjzcW8GGkmlSlkxWARxApxMVommZQ2WjLFhWHFZFTJDiaGk6Q2JkkmRYvktidOShgBAyH51UqKgkCvMqcK6ZCOWDkTgTCl+1IF8bwrhyahWtoOnAk9QUDfxsGvHezvYDJYX1G+AwB+mqj8asQnrEfs2mGypmrhWePmzW6jJsKxzgv6t0ifgIkExftyJ/FQqoa2eDrdgkGUfW+UbgJwAT2VFLHTiCetDpFJpzJtGpzGqms0GhGjlQ0KrqD1nunWbC4hTh2XpjUhzitNcEqj3Vbex+OJbFLWpAgDWA1qUxYBT+XSuMeIcFdlLC/zQPzmG3xZtMtUUZ1BPl6kjMlMqpBqjRerMlUFRrdhOcMRbe86RyYTrPEzarX1H+AxAga8j+LD3xOOtsSwyWNE8k2g5WgQRtaVYUThunUeJ6oPVFMQzw4fjmAl7UZK8lhMQlhaBDa9uaEqL/hoCUUb2+0UKRwMVjvxxHNi1m052LFD08G3YDUab2xuNroETsSoi83xoYET+hBjU8OI9JowVDASYLi5qPW/BQhppqpKQRHGGOW6PmGEOgjGv/3CXD0+uHpccPX3/jnZMkffgY60arndxg1isAjGxOiFAyNijjKx0CbBDc0CfDiVEMZVtUntn09KoE8x0tQUBfQkR50iVIlpaA44wEiV1pC3NjSlmIoSmKXJkB2IVBuiRTHhROrgQkK7hRVk0V7MNKdikvys0qAlYf/sRYn7P0g5HaHyjIZA64QZYb8AHUE4U+4IBH3GSP+XevulOFgMNko4fScg73LvOwXPaSBUO3SOhABKGm6zdvxgy8NWdQwC9+SYA0Hll0xVJQA+4ekI3olYJLLZ1rTkWOlgknkRzkwqkRI9zcWbW6ryMpVXYKz5YhrBNlapQyTa8jn2MCOdhJJPtLY2o1NNYM+CiX0imVZnsh3OTOIU823P0Ge8na50TnH+YkqdnY7BSF0j0DbuW6tzbb6DwGhVRDMK0bXH8pdIZummzx8YxQjtD07K8eGxQ9PzDgYLRqrUFlLNBRip37SlTxhRfNrScKK2S0qdV8KJh4oYIqq+tDQiqIDzTammTEI4yUn919TkcWLDKSSZpNZKa8WPhLFiIckUBKQml22JtzQ2a1RSlFalhBPEtyGFEzDCt4H9KEa0SUdbdS7f5hmtqo1yDyYB9Rjh6rHgMUKbecz4d1zBrmGE9xodGh3RlqcmhGlOVY9772CUzKNubtgiSSPQ0HiMIKRoGV9KbZtB4k6mUlJiaepCz1uaW5OpdDBfpAJom8RUrKG5KS1coQvgG5hCSGj5V6K5pUnqM5fIJWKpREsu1iQepgGuCb5DhZZ0oiPQE43Qs6IlrWnRkSpjtLEyOsJn9khLCLSzOGvYAf4Y3yk86MmTzoBEybCH35U6hh5bxyCczU3woLmx2W2WakeSXq8YLNOlBTHLdLo1nhX4SQMGa1ZK3GtOVUQyLfmymGxJ5LOpVL4x3igG2xZPZbL5QB3DMgtXYOSCejAvNZABXQxWPSHByATtqj1T0ESsRdE08kXaHELMlW+njDCTuAhoJp1sExEQwUy1aSF7PqWhfm2VRmVtLh8siSdG75gsDbgNDozANL2ARTtVwojHkL/Czj3xjGvESDqaC24QRhqksWjViIwnPTtwkhdOJHgkpaUIhuNGOQN6AE5gsMwRZFPJfEtzKh+LNZg62eOEtlbdaeAnSLW2JoXRRFL4MLipCM0tWc2jNQsVworQMhRx0k7ANdYUutOZZBvXTCaTr67O5pvVVWqrajVyL7RppBLLVGVog8Fgsp6OeIyU0xHw4nHB1dMVGpB5eiCttghGnaxph46YOlYveuPACAZqSBUI4mbsaBE9RrTuXVoOGa+ltTDeJbMtmUSTGKzyFK/Na9MRE6TQjonxYL2cRmCXEBZoNQqFpBh0oklCmEawMpNEVrM5WM07BELYUKEnUToiwaFNu9gV5Nu0Q1k+U5PNVwsnuepCviqTjNVowww5hHVroK2Xwa2yd6g/gHAgne8UHvieaMI0/TMIJB6i5jsP73AcD4dSXns2BB1jc4PUf+s2BB2jl8QT4yWN0nIamQR8A8JppBh1TVtS6jzta6jJMk2YUQLmUKTmlX5YU26y8IRIq2eg0qsWM46LwcKpZDQs3GtfPFTHbNKNFTGrdXSvNedGnXtN4PnYgXCqtqD3K3E6hUYkbSKWMnRti7c0M5CNFVPpqrzU43ntUpTLSS0+SgQgX8jJ/HMkI0Rcr0eyQfA+/fUYoTU90fRqX56BBXoomgzw45/xnL7K/BrvpdcPtRwinBu0FVtWasDeMlgaWPNrqPWpC8NJ0IJKWS6XyyfENavaZI7uiZyEMGk/ZEJsGAlwIkGLDd5zSiMprMQ0W4+aWFXvis3BvJ1GPnmhhvBDAyflGEllUnn6i4xpEk0txbQsyArpVIiR5qpccZTmDgsjcxpxGa0cBCZbjhFwAg3Bc8977qEVlegIqxHAiJoswAgb7W/oIx1RfCUQ0CH1+Vp1cbAogZ2/0A3NsWdzmZaW1mrJH5gMiuNqhjWbzyaTzRLINI2g/gYtS0qn1tjQiMCuOYTQ0FJLGsR0k0o7o3Jq+xJN/GuuU0kbYyaPXuOZwP3ooGu+EMF3JDSdlM6lkm0FT0eSyUxbq/pDRgPz3IgRZutZcFV5enCNVb++I5i7L9GkfizikExqIBlstFMARIgjRJLn3O8lP0ueTQJYQEnHoOJ9PN3a5uCsX5PGVubxcs//81m3ZuVqmKBt8sCznhxWehqYtC1ZvGgaYZEoPQNcs3rVmJerq2dLVJTFrwhLJpVLJpI5/WbWUossII8WyVAuSz8RleIWaCbF5c+KZcsO0V0AGsJHnIhx5Nfg37K7DM4oAd+YTrWMHDmqYUxd3fqJEyet1ehVWqmcmEFKm8i0ShVfzKLqGlWoFROW2lxdQ8yARAZilELl4CkeDBMMwNx4xv0MeY8RiCS4oSw+HvfsCDRSZRZ9C6wb//nkU2750mWBENaH+gcnmjsqrFuzBkwKJzKBC+tv3bq1o15+6eXZMqyT6jSVS2fSwkkir/DCA/OVYburRPxXeVJSDWs9CkU1uc2tXLliH90GdCqCE2ubPpSTsvWbU2H1lZYcehpZ82m0WtU8YtTILXV1Y9ePGz9+g2FE3SKbS2mzs1ZGgXGWkBQKNSX9qjFZDF/6rWCdEqIiSR6aZdNGulJ1u8jvG17Z+Qf88EEeI7q15X68a2tttbXz7oX5812TmGxf6AgJWX/SSDaXazV7DXumJThcZTSVfOWVhXvV1o5oRjg3BpRKapI1wTKEdlqisIIV/6XgKGwkrjkREdk2jV3475ePtd8RjPB7e9KSDnREZZEVaGvtiJENY0aP2jhedEQasGbVikbgLUkJ6lmmVKAjLE0yMVia8BobyKYkrIedwj5y5/4zkAyWmvOdAsKIhAlxmS3/avm95Rm58swkYV1xvnNwz+jEhzEQNzc3yVikWRyXwZWRJsL16GAWIg4QbXOecEqCTEhirErqfT6TlmGndGKioOIqLHQLiKGPpKvoYPkzMWvr8JFQQ/i2sTBy47r1k5YtXbL7yBGjNk/dbddXdtll15WM/hjBoQZjnSdfgJGLrDU0TA8MFkQ0AkrcP59neZCNPDikbcAJz/eTP0keIQyC2RVGeM6oxTCiwlmaLa3amk4nHPUVI0pH3xwraovMYAQbpsdzqe7ijY0NmWQyIQOgjGziisKJmGsXOFFJGOp0qC/9kFoxKCNpDlXX2NAwat3aNVOWJhfnJIzV77bHtEVTpuyyCoMcjL1QceaFEQx2zFhO+GCuDekMYwV9V4fv3srv9GmQHhjxzBU6wjsEK+jIAfJounDQER+Pqy9LhI4EI9DmpkZZmQsjrAXos4sx/ZCWJ/2SQ0ZqasL4KcZEfbG60JYs5KULltCC1/OOmVXGiAzprC+U0h2SN83NIzZt3DBh5bL4tKqFC5snT526dLdpuy8pFKpbJHxJ0yOpUwMZym4Y0eqFTJsZULJCoWM9DMkP7J9CDRSDpWLxnnh6wnmqnp0mDwHjXKcmNGiqcGkdrC30yJz/oUEFJgWa4FcAqU1sFBVo3ZJiBQGxEmxpSoujP4w5fHxuSEHrx2SoV6FhBXyba9LQxRgJc6d4iYtisEidBhMpd9rz8IWMXE3H48sQeV66jcbvVMZI2oQjUjStaPhoOqXEe3ujmtQYTd9JBk5n29aPfnFe/UHr166dNHPf2fOku2qVpGp1x6iVuVksA6k7OoWvf4vd2zy7Dwc+PEYoFTh5k/wp4b3HCJ3S9Kx67h3lFD5sqxDDiEaUGCrpNBvmDxlSRjDCF6tmO9RrtN71CpwgiGn7OqVnIAJLdsuMgL0TNhjFak5Mo1ZwEghiqqIS7rppIyrXlndZqpRaRDZapiC7jn87tL/KGcW3FS7yrJu8OyaqX6RbXieIMoYRQgsjmzdvGjvvmU11G9auX6pDLRbQWNYj1FqaSDZDOTAirJgRDq91pnIHiZmktsHRznjwgRBGkxwu/xZ5RqVgxBZgQ0fAScQRj/AhHWGqI9iY3zaCUVgUCuxO6PsdcX17UD/UdfQKRoxm5EUn/LaGRAod/QacGEY0BcDcqWiLacOsqQXL8vbzccMr5cX3yUXb3d9Hy02K/rt8wv49v30cf8+V8L5eOsQ1jGhKLazrltbWKo2691m/bt3EmfvsM2/s2HGbEEYtLVOLBzhpkiCmE4cGgo6Q1ZB0A8Vg+Vi1n3UKEM+9dvx2b5TnxHM6RLyuri5eXVPtVixfoZ8dHOE9yLj3joXXpvpjFxTrGcGbDmF84PBquMbUBOJb7tghAEMHGdbKyEWbtpfCiKObbVMp6dJNeRqlfLp4UeF9eVrR39F7n2L0WfTev+/VFcKgNUiKH3ynJpBNc7Bm9Zqpmp+u3v+gA56qjY1sao41pWX9WNB8EPO1BelDxVu1IEXDOxhtrzLrXSC+BXxAt+mQb5M/Rp4Ddk1FoR284lXVVV1hxNeFXTXCUjRRXGFEc6baPL1LjFg4/fHx+R3Qv7jG8qYdEQAjo01poG1EDMXR1KutVQwQ2gknQVr8reyieRKi/HelWNEw0XsfNvoseu/fd3XtFFam8DoZKKPnQb8QRqzTLF+2dA/Va2a/A/d/RvQ1KzPYtJaRtMn8QExWGMnkZPeEibUEMa2jVrNuK04oG2lwBSMIX+CVUev58jhwot2OquNs01lfv0kHeLMvfMkRN+pieeECJ6teO9RBja0UgF/FdvDxy65ShmpTfwn/xEPgKF3BidbCWg2Ilti4AczY+MH+VMzH4m/jH19GkvH35dfyLPz7aJzu7i0+dCSd0kIKMVgtXZOMKYFTfkt9fd2zTz91+JwDDnpK2x2uZymbThPTHG2j0ZGMrIx1SIKClqacysuz0/0eCAZLo+FBLR0DRDMqgbmCfns3VadsrNCWWBs3BlMQHAUmOTOIFXYrmJ3MFS0homEQUDd2nJ27KHofhFWCpkC0PsKPCk5jBhmU6MQXNIk4RLOgY3DMWI2YPGBhwwSOI+NcV35b76C4pE1f6i4Pku3OdRc/+o57XFd5RcMGIXv+qzjQEE73QJjh26dMnSz1mAbeqked/pPT/FHdC8/P33/OQQc8rQSzramWZLNIqOqjjWU8LM0Imeu2Ek7KCwZwfCUYJE0EMOaeGuQZScYnauP+VStW6Wfg5uy3n51aY4YeHiMimJyIZNWljo91aN3YuhAjgl5frEIMJ3HX2EQRVAjDSJA3OKkWo5cZsIQUnfdblbadgDrhhOB9aaO+hA2KMjB/Q4xQf4tfWWLfOknHNoqAqhaEkXQ6u27dmsnzn59X2O+A/Z+RzsmMttByYIGuZXPxKrP3QtuR7g+M8J3gBA9GkJ7YS2+uPLUGs437I+eWi5bgZs2eBcEPQoSxtXzLzuk1jCg56MiEiePd6FEjJSypqMELi99j25GzgKH9aEQn4Pn8RDaDxiSMfiAQJpOiJToTFppCeaxMfEo0L4s9SH96wln0fTf30BGE1zVr1rot9Zvd7tN3Z27YNEeyEJSM25Z+4blnD0ofdujjo0eN2YJhH4aVqXRTm2hJXvaVmoLSut7+w8ggVeDWZTMQDNaXBOZKpzhQ/nR5Rq0inPEYmznDXM/WeYDnzD3P7aVtyyYK8BKADX/WvgLlxo2b3JYtDahwDcBMtI/XWZzsbcrcCf2nJ0dPx+pXhMD98a573ON/f0yHGo/SSLVNB2JvdieceJI74eQTJZGl7HmdzoDl0PVqzchrXsnUjaH2uaeshux740ViPk2NTW7p0iXuyb8/4X77m9+58RPqjEmwfhQmu37d2klLXl6056x9912gMz1TGdkqYF1cU5PR7lXVqOjxIhpsdbfNn0vzgRG29jlOnukDE8BElGK1I2qNuf7XRRe508843c3QGZnjx41Xvprc0T8tYwBMZgnaqPnWKEYmjBurQ9Freo0R5WscHpxw1CBn3f75kUfcSBFgjjiUJO6OO+4E95rXv84YDwdr19WN0fmfI1yVzumUVsCI646ME4+RRq0PXbxoiXv88cfd7bfd7nbbfVfVjvqf2l4LOXMyCpy6dPHojTNmzvq3GJU2VWhNCiOJqmYt2UwFG5WojZhSoFr7w8GSIAkT5Rm58hvMxDmTl32FZ2oXsSs+crnbTwLYbtN2M2YGLcGBFdbOs2tTIDArMdEOGefozOdRfcII6WHjSF2tXb3OXfnBD7m/PPpnCXOjbPQ8ffpebu6FF+o82AkmtI8ZM8by4UxXGYGxfdp2NVSi/NviPEayEsJWSPCdP2+eu+3ntynJQtBXctriUUZ/zS2tNS8teHH2wYce8qT2bNHyxqx2yMvK4r45kcsF2jDJZdCQ/taIbcvnDUjcgWKwXk5jrvUMeeZOTC08VsRv9erV7lvXXuvOOvssN7putEmUXs3CVxqjFfHUukFjhJ54EkbrrETkqnvdMQCFMVgRwbRGHjjx+FJn47xFnkMkpQ6VBFrtqjLVRkgZtTCftyMTTvvg8A/1NmnyRHfggQe5Q4883H39mq9Ljdpq3y1rSphsfuWK5dNksLBy3PgJG1tbsslctZYlaaMODFyUjGgnTNaIJ1W7LQ4GSxrYFjIvD0WEMMerdTD1xg0b3Q0/+pE7TYelc9g0jLUcI+CiuabFLDs7YETfydQDo5PeCGHKN2CwBaYKklYfPLM5AoaxcoYT7VYl62F7D1YyGqlQpzuLIMZ38j1qf3fwYYe4gw492H3jmm+IgdRgxKD611ASa/wlS/acNGXqqmSybot2RGKpkjCiLSHbciaEcYC8nG9f7vvqfLNxNdzpigA2VX6LfGLSpElutZjrFVde6S559yVuyi5TDB/gxDtPR/JS26qMpT6vlQCuupY+3ns6QpqAVRNNdiUuI1acZ9yMUqEZVXgx1Gq8YURYEV2BwRLWf5xF3gH/8E3jJOzut/++7ogjj3A3XH+DW/DCAgmdo51U8IGwvn79xFUrVk6evteeS3Q2sm2g0So6ohUL8ZoqbTuaauNUo22lIUO+9gaKwYIhpEws/PaRZ941PllqSVR+37n+ejf3grnWIViPBjCJEK1tOod2ahUjZY4EYMseQx0DSxSpNu1q4X1Ef1U60cSMaiu8rB+tc/A6INRBbpau5lKQTMnTPPcizqhPTQ8FkSU4eeD8vb929ayr59F40TD+nqvPyz/zv4m7NY740pjKxM8EjMOPOMx96rOfdF+86gtWx5xXKkOGgjZZyKxYvmwXLePZxG5WmNvDYFmWgddA35gdDG0rnf8SEsBAhdHrdHkTwMZPGC/Cudr96Kab3BlnnWF5aS44wIjaIcpkIaa0q1mC6mBBj5FgvjTEiM/N15v/rQxLgNMzQcvaW/s5Gc54TQAfLcBJgAn9xSm8TGSEkU44ISr5ENnn5+/9lTA+cR+WZz48996VxykP49/79Hy8vl5Jt4SRhDvhVcebOvzzn/28tAd11LNgEi8wX79q+fKpIqgvYlWsuW4tyeCkGAlflqeNTkyr0NcilIX3zHWCnqMeNjoyXhowhPTLPniF+8jHPmKMknl3XLQq+e2xAB3xjNDoCLih7ViKRcCoK0/Ev9Nzoz36HTByH9Nf1aTChda5Wtqkb17gAieQESidXgeuPB9+99WRlk/Hx48+i6YXDefLEH3fm3vSACM28+fcnnvt6T783x92V3/halsaZ5ojfSANt3LFyl2naIWCaAWGTXEdaG9Ld3I6cUoih9XhNtCR3pR2u4ehHgbC0Qykfag8TLyIEQLM9aJ3vtOd+ZYzBTI7hqnUCaPtbcw1RKHHDIlx77uDKYD8y+i10j2JRzPQz44uiAT9tuf2N1AxlcL5dHng7/21q2ddPY/Gi4bx9715TxgmRDp4nlV6Tu0FYRm985XNTc1OBivubRdf5FYsW2UjNAWCkRV06PEESfwpyRt0AkYntp6Ncy0Js40u2hIMdQ6Rp4AaXU825nrlRz9qh6UzVwYhoxNaxtGYkebxK6dIJFrASJCwXsgl4ggcjRCm385WI2H9rZU0gFO0OP51UP/hr2ja/t5fCcK9/x29D6OXLj4MD6L3PoB/5tMoXYM27xojYXoeQyWMSPYR42nWYQmHH3Gou/BtF7ilS5bb6J4sBaHiug3rJrJ+WoKpjAODk4VsZwE793SrceK/hGz8V8CzWbbFWnnm8WLr1q5106fPcO++9N3GXKWi1ivv2pMI6Ejw3D+15lPDGTb00F9LufmAXMt9mIUPUrH9I2HE0EuIssc+gk+Xh/7eJxrG7/XFx/NXn6a/lqfvw0WfW/srgsdB6R344XnknaUrxbt2rmZdbpOE30mTJ7l3vvtiw4uFleIIA8r6TRvHbtm8eaTM5HVABnSE08ik5bD1scGadZLbmV1/jWBpAhxXMIzHAmBveWAVq9KB6bq68zTninqNUQmEM5AEedPuZJ3H0U1IfXbVnSHVRg1Ih0id8uHRpkEO7dGDUliuehiG1+I9SbMe4dHASt3OarR1FlqUY6NYgUAigDgMCh3TiJZH5WvKn5Fs9Hn03mfpn3H1zpeV39E0fZjwGRJw4HwimrMuPeMN1Q7JwHPfhVNHYhZTe+W6I4863M2YtbfmuushoExrcuhBtX6PGDmytlmnF5nUyTycGosRvs2bMIDVz744CkRp/ZW4rGHdU95MC1ta7eBrd/qbNGWvkNoBR6rJDh9IHHPCgiwr9J+zN9WuUYwwgrCRicdIpTolFf+cLEKcOIQJjTY6O9IEK4qkdO0edblUHdrpzrYBs+rokGbnVEpPLM/Sr/ab8uf+N1cc6ft7exB5pncBRnwASqRBp/9pVU/1e4z4BCpciaPvJb9jjjvG/fa232r0pvZQh0AIk4BWI+Kp6cURLQhhtAfqHqYaKqTWm0c+ni8gV7Qc2HHsKw+tah03bpydC/2hj17pUBNDRxiZwkzLnacj6sm0KeVWy+GCtrTRKBhR0Ts4/5O69o5nVIfy4VOjzNsHA4UBRgJ6JaxIMNVmC9J0sMuTNkikRoP24yZMk0fm/G+fv39eHta/9xlH45U/82lErha99IcIsmsw4HSuw0i0CrdaYqkVbToOVKdpzXLHHH+se/xvf/dz2xzZmKyv3zhqwuSJ69RPRUfIhCbt4HzpOzzcWX5sLYO15lElcC331CDPWKPGAu+imGtcRk2x3XabrvmdybaMAoBW6hQKT//Xqmw7tknWaWoYNsuBJUjNk5MlbFtaXlClB/bkoIccjk3vECGgXNYJOsejM3AWoyQt9Tx2jhL91m7n2g9RwhbQ601+ndPt+Uk07eh9eUyxFNubDXWu1TABMHm3r4KQ+g7iS9pNaopDx6+Vwc5BBx/k7rzjd26i5md1tC3twqb0NaJIohchkVDvaC9Pr4ycCI+nMGCCRgRvvnC6Le3UVcwII/Ub691rTn2dm7rrVBthQ6ys4glZ7tC4yZRV7cQm/x0xIutzSczCCAZRvXFqX+UFTopJ7S5dASeebkE0NbfLdpnsj60VGdoeTzgR6Wbf6d5kNqBhOmNEZdKa3SDTqEBGzXi8VC4S36O9/WVxO9EdfuRh7k8PPuwmThoPRoqak09pWzwzahDTsf4KM1FKllcfVH++0jxOfFVzBTdsIoGBEwJ5TLsOWvh95+xjthXMrTLFVNFRHr3DEroTRmS8hoBJu3cR25Is70Fmdaw+wRKcinnaQwQxdjEKDlqXJkYGtmw5zOKEjtHK0+86zf57A0ZITWPQEh2BiKg/6XlUIOseH75E0FiMRBHW7/rdHxx2NjorimmXmLaDHEnvICw4YbrJxwuat/3XznjXVwbr0cGViop6/4yRKxUKg8WAResYq5Mtzc2xo489SsCTlYKOExP4aEq9Dpwg2eE3nV/SqU60aUHytO0eILjs4qTF22osw4KP3vVVwcQ0tbl2UkQh6BRGuH2+jEZUFh2SbAZVIhqxdEuwwTbzJxI7pe7wn911NgP9hpG0/RfP517WehAW7Qmg5e56JZWNBlJ0DjHhDoy26y7MvDNGXdP33N3UxBiKSLhA8kxo2UWGtPx3hcTT/+zpSoXhIZAUwOMMJkuanuGO0z14iekUn6ImYSWE7WZrFNURrV2iGFG4jk5VoAPPO2GkVepvtpnoNUaUaiCIaUe7ZEIHSQTbcgonlJXvIK1gNCIOi9Ec6mu23cOJeEOc1A4WlODbxYELT8w6YES7J3PUk0qomg+IXTtGKGpXGJFQK4xg1DJ5yhT1xyaFVRo6Crktl08V8rmUPj/ACEn03nl8eIyQBhjhClEI0gxwgoEkjFxax2Ry7eq1el9tc5oNWmGg/Z7pDXqNq/QdoiNNzTqhpiMd4fhKrULrE0bIwRisrtotLLD64qHBJLgipItumBZEh4twFrWaRJyLfctV99uVlqhW1V6GaGEhpCOqPW2MARFhc1hJrWzUBY0Ve2yv2aBu+dgKTt+vjTu0EmSiW7d6g5s9J9IPSEWMtSjNkPRfnSJLaGJ+ttPzneWBJ3y9+R7fKUAzBDLqScf/9gwWyZPOwRobiytOpSUPjXbKCcTPOIMClDvRNVq62NTQlGxu4XgvWIjtH6yF5CkDOSpAa0b+0B2jVxIMuygXAM96NKwdeQVzx6IHR9+Qx/oRCzhOTGGrPPFcnSOrTfvN4thClv3pIr+gUGVh+enLWOFVh0dhuUvpRH5TJ0YkRSilzdUOS0l2jHEJnWYr606RGS3ut54SjGrbiagHtidE5Kh7EU+liWWoEaqgEoPS6LHlTOfwsTuUs/KPoFIDIgkewAKZgg/PXHVrWCFZFibzrpQHm4Fs1lIRvqsnjKhtCjKS42CGMoyk0VYEQpwvUbT+y+9VAB6BE3b4Yf9+/RQuBBKrBX4EUwdI4CpjQUsV4s1qB3CSSGWlWYClRVyHH8SXL3/mg3f1rqvn5fEi4TxGwIkOohA+QoxoJxW1czFJSUuMVgTUysTn0hz22T718IowW7BlbtGdixRa0Ag2u9cosKsvK0vLfvqwXD1G/D1Y4Gtw/hk0BC9uWOR9XPtVusaGJlt6w0YHPdGRlmat6W5uKmFE5XbxJPWgbwvpSKQKO7dT+NLzUYqo+WlUHfYtvsAqG7TEMMGhINrku8imxOAom8yq/oPNN5RtOx46ZBx5TmK4rt5Xek54pU0ZLA9+4wjrnd57jBAoCdMXXZZgqW1RhQ/VLRbjnHvDDm7oJHoUHMPvYUCikbrPqeO1i8cdA+18vwBsbxxVSO+jmnyngHiWe9LjGW60PJJnRiMieq/ORGx2G9dvtLWGkcGBXnV0Gnuo6bWQXcc5iXjqfPBg6zo6Olhp1TFkdJLeOoiglqBotNNsFIS4HoAQB6m7oDQxTdhboqh/tG6WJSMCXyDx9zavgQpnBUfKtK381DHUISCeOgJLHTdVlADBYelsWadOAvFQM9nUoG86mgBf7tAdUB9lxFWPNGgjckWyW56KNnEmrM8MHHDPpuzUKRn7BuM57/ntMcLokN86zLxV65832JKGdoKmN+VOqeh/UWtgdf5mtgNGeMN+xH3BCMkbTnTAHEw7/K1CBsWmdBqpQpG1EQXndYpoavMinZ2gUQlEavvipNR6IUY48JtRBUQSTGi0xiEFxVQmXWK0GKpI6xFqPEiBZiqlRBWUHLUQ1ETwyEJVDlqKU+GGtvfe0wpoBPdRgBKG1H0YBDGYLEXQMZJxY64162ukdZJJqyWpS7kjFcWAhqjvd8CIWZ8rbl8xQnoS9WMaPSc41xEX0DJ9gPqABDt2i4q1cFKl1NPaBEWYzqnuhwYtCdoNcheMWlOUS3ROu0HAXEVPUsUMtEQq30JK+AmFsY5MtgwnHhiq74BCW7XQLPbGBNXw0X/aBQD35KJgJzxAp1NgAQoBNSaqK4zVv9etWf0RJiNJjxYR0WuOrd+wQQxWk/3Gc3na2dEgSFk69imtDsRhw0a9GdHQoZqlskLy7IoYlKcI4eSsQk84IZKAH8e2ZjayhaPrOXNqyRatfhXo9BcVbHlyg/9bLUAjIBVAyK1sIYPVdnXFtLYzlNcoPVWs0j1E1BgtzWFM1qq/i3IrTb3xfaRjoO7iBSFVFkaLUjjZaEZJ2YEqXvBiigBmRfG9JztwQpaoiMEIO0pZETTaiHGMGN8ZHRmBB48LhYeoGUakIhZGpKqUEEYGYAR5Tkdm9QkjlqbiaWRTbAgZLCUUYaFcyrxNR5G1xjBVUfrM1QsnLSFOTFVPEtvNeYFR9UDFMF/J6VAwWRFMHZ6eTsczmXQhk88UtE5TZ1pUiejTODBZbLR8W/tr/34KfVAp0oi0v8cAtAOMcOU9jivvwQ0eLMFgdcyfpaGD3uJu06ZNtuZUQo96bTCC7gojTHfoSMoOdERTQSaoK3IfXVA/m7c0JtGSRB1tICzGtIwpnkvK5kv9gimnZKJJA0RoCaHtTzTaIN2r3CqAVTJ0RD0WwVA7tAWCuugI26KCEY5ZzFRVFdIFT0cUqySs++JSD9vrW3wZhv4VQted82AnHECnIwB2rD9htJ6Qch/9rZ9GOK2ThB1DKtg216jdhESV9NroFuE6OyOeWkibRR2XhWL30kEeAABAAElEQVQEDFa9gTkMtsaDQRtYOsfu9ARoIZ1J9WdRWHurEa3d08H4rzI6LfQ0wo1kKgIvzVOQb6cEt+JBN1/bIbVO4UIGD9H0jnt+0jm02WdBu8QUtFlGQZsrSDDPx6pZAwW/EutKlpgs8ekQAYHwaW3rFSKi9bFYQ5G4TpkxTMA0aWSmCfgk7whj4XTlOXginEbLAYNFRdzQKMvQQHepV104YQTBS0wvgVAkjFgMlcPUfzml0xeMkAsFklagIGJslQ1OAAHvBA8zrBOHkF2r0lb+CHtRnBDfAhNhsFxEAPQYsTKo2BRdxiem2YBgioC2VVerT1Wr1fRBEsZ0bktaDeCZ7ICVXvNwVo/gBFpCm9P2YAEthicIuq3IYIlDWMNKUi3NEqIGqYmxbO6y1qEjeqs5c53l25GOBHob6/h9ajPfxhL+mXu3CtN2gHbFjsPWRjOWzUnDoZShfTlN0IucBIVReQbC+XJ1mXZXdEQRGL1KKGfUWtQGGiyFEh3B8jpfkPWhgNIVHelfWtJl2XfgF90xWEDjQQ0jhWjCWLnyDiOm6fJ7y3NmK2F9eN1ax5mmq84IzNH+TtusuWeeflp00fDIo26dYJoWVlPKrcRg2SlFIzXjH91Gjr7UTIIk+oI2MKias+9+eTFX6DD71sY26wzHBfPnj6EjKJBUInQElc9fo+lsj3tfVSovar8xdWOyo0aPztXU1ohmJGJNsZZ4pjld0P6nHAgv6+caVo64oi5qDU2e+c7hVYF8BB2Dptp6h4yUzRqBkXpXx5gVCmBJQlYb+AAvZMIIdYo8OEAww/FFZA4m6uR3lZfwxWoMpy3YlrtnnnqS+rffPf0RE82oLTU6acdIOqP9pKXeEn4UvXfpWD7CCSr4DevXp6M44VgyEdH4v15YMBqcICCa8KUyCivt8w09FXag3vtPlNo6IYaqpSytWj6TByMaQSXimhnJNLcII9XaMEQLryRAypINBZ5WqMQ0wpW1GFMCut82VHT+QAg1T2XTzRUGSeeDuaL9gjuy0gCM7CEPHmg0ikF4rvhZ8mMkFBg31VZ87vnnnrMtCsNHet21U34pyW/pKEakRdNyQchL1/Eqv5EAp3bXFpox7WFemDNn/zzaAr4TAXfhy/8eKWGGYTXGkeiJLRkJasrJqqJysgP9NJq1cDK6ri47ZszobE1tbQ7GGpM2Bkar6ZZ4tqZVcnpO8oOMk+hDLKJQiyVpPqZDStqOgS70jp9+VwyW5vAAh1jSIVDl8GyS/FvkXyM/Uz7adPrZ2WFxCdN67tlnzHcOMXhPtG+ojVYBDurNF/+1gO/C7zBu3zlz8gcefHDj7Nn7bh43YXwLc8hZlqtoTYURz5BoMK+qDl7AgjRoJt+k8L5tcOpnotFKTExMo9d8a15yiTFVcIKbLH+Y/J7y0+V7dB4jTz35pMNvb+dxAr3XKNUtWPACAoIXErZ38XrM/6CDD8kdeNBBjTNmzdo8bvy4FqQxw4hG+5qxkVWrOGwoRGqeVtuvi8gaTPoJI0EJSQwDOnbxMeYqAQUBDK4Dg2V3pn3lZ8tDZ7p1aCRwjTKUvPWnN3UbdjBe6mB6hH2jJ9A3TRskn/jH42yIsUO43Xffve2Qww5v1hFzW3adtltjXkadYAR6whSIcML2aEa7JSCEdCQQGIIm3EY6skPU0rYVsisGS6rUJJ0C1S+dgc5ytvwV8rvIexeSc/+zw9U6GE9gaIAQyXFbHGnofyDnllLvIUVKqEgQ8S1bNneMpees4bIgJGOJB+lZwI6hgxeD+re9ANQhxhnaZDspP1oHpo864+wz60VMN0h6hrlq4wUGrszVYgiF4YLOyJTXC7Vm+Sh26z4EUJAXoznVaaKppUW7PhVoWEayJ+p6qjzaDu+GPkYoaYgT1kd2woleY4keBtGv9nbZ/jhpLwsYQRvwz6efSsmPmTRp8qg3vulNm/Y78ICNGtGreTBDYfmZGkvzs1j2gxMN3U0N4GSdjuIjcP4a/uzlRXlQIGvzACexeEu2GVqTkS02z/eRZ4/yafLeWXj/o8K1/SP1EjrCSLKnSBXSsUd8P7QkaNCuQlV4ToZE02ewwYJ8xXKVMgmTsEAdQlZIe0AfdcycIxkXL16ckKefjjjjzLMajjj6qPV1Y8Zmt+jUQegITgt4oSHBPG0iqSrT8+FRrNVNb/50xWBpDRgsRBMGi/uY/HvtDo2PYCbVQlzb/cSqdcRblDGFYYYv/VgD0ALNIYvwbzHCIDVUESZwy003jVm6ZEnVqaedtmr0qFE5HUej/hAs3Uml0nGpSotSG8ryPinSEFIHa9qtI558EkTTX1s1es3ns1qKYFqOc0Xgjw0/mwzASAyMaF4nhEjHjh6GHb70Qw3AMNiTF4zASFXnxdWrV8V/eOMPxr7+DadVnfTqU1ZLJss3NmIEJeMWIYWlGWBEDEt7UgIRecC2DRjBQM1/jspkUwhaMwwtKcig8ERhZK7ukdMMhNIkxXWgQ0zqSpULsjOMEVXCgDgwov6rk8S2uJZiiw4hqDL19u9+e/uIFxcsqDr7vHNXT506lQOktCeGDi+Q+hgDLW9hzEYZGEcFhaOttp6ODMgHDrFEKzFY0I2nA9ApqMxPyMNcuccnJk+ZbHOqG2UVvFEPht3g1QB1v27tevWVOEfsFR/505+qdEbjlDed+eaVOkot19jUItqZ1tIMW55RlAUp1oIaxaq51Vl6sh/qzZcwStFIKZFtbU5qWWisoWHzBYqHys8Yq65xNmVn31gwMuwGtwaC/rkW2wMnxlW85+67arS8bcob3nj6CkrS1CTmqtGJDJ/MujifzmmTDRHUEvHctvJ6IQz1sATDlIgy86cnaWIPnODASXy0jnTL5bImFCAYDLvBq4GJkyZyhKUtn1Q7FBe8MD/5g+9eN/W9l31guTYW0f4cLQmdHqWlaClhRIaU2jgDhmsG+0ZHhplrT61VicESx49eOaLiQvlL5U1qEVHXOYwT3aqVq/RIXPfS97t9Zu+DVa4Jv/Zw+E+/1wCSJ4el3/WHO90z/3zKjHg4r7R+06aYTr4p/vUvj2bq6uomaKvBVYkkSxBa4q0tmXi2Oh/LsO1jPq3lAoxicf3QMTQHq1GJjgityj75xBNn1m+qh7nKuEP7X0jtOGLkCGOutTWj3TsuucjtuddeNpeJ6ppvGR6l0A796ZgrTrglixe73/76dvevfy2wc42xbNXOaTEI6EMPPFA1ceKkcce+6oQ1GunGW7MZYaRVGKlC1a/dzrR8R6udClIJtquJ+15GhC8Mf7jKmltn1CfzK5Yt30cpXaDWJ0FjruPGj3fr162zDM45b6475LBD7ZhBwoCRACf2evhPv9RAgBEEmUce+pOT0GWpshXm2jVr0DQV165bG/vDHb+fNPfCC5Zr66ycDMrimSphJZeNZ7KZQj6jZYwSzAJ2YG3ZLyXbWROpxGCpNRgsEufu8v9PHicjiHh8rI6tgrl+8jOfcWeefabbZdddNCgKzjkMgg3/HagaQO33jndd5B5+6BF3yTve4XI6RFrM1W3auNE6x11/+H3t3jNnjpw5e/YmnXSC4ZN2JdJZnTnt9YHlaGntsG/ijuv4eltuCGdrriWRyKRz/5q3YO/FixafXl1TpeU1WzRlo0PqNRKSdbb7xKc+6V5/2hvcFJ0visWmOmaAFZhsQGh7m+VwuF7WALvpvPOSd7r77r3ffeC9KJ00waYDvxHEsMD/xc9uHb3HXns27rHHng1aaiLVrLbzk2GLbEYLWs7ChiwyQRf9NCFo21SAjGIxqGppziaff24+hpFYEGsquBj3zPWsc85xF118kZux9ww795ezdTk3FcMyyjBMwq0J+/WP6t+dr+NC//nUP91Vn/6se1pW+8FJVqtiWqFQ/OfTT6bm7L9f3THHHbsG+iFBOp7VOa75qqzO/GXfINa9Y3dOscDI1tGRfv2oIZpYOYOlyvA85wyoi+WxGobZJidO0jmMOqvz+h/c4M4+5y1M9pnhEISfRht2A1sDSPRjpFI7+5yz3d4zZ7i5Z5/nVq1aYYSJEQi5/+2xx8bsMX2PLVLraI0olsXBIdiyL+aEIHUMaSIs5NaNYr3qj+GFLJra5j8//9W6ZU9aG5XU6CBrjWbdJz97lTvv/HONsUKwYfDkC04YxQYwG9j6+k9MHYzUja1zb73wfDdrn5nuNSeerPWiDXaCFYKwVLbu73/9a90uu+7alMrb2nCsz21NZ2BdrPn1flATI4QxhaDlY61PP/W3w7Zs3jJL7aF9nNvi4YjJvUfar4svudiNHj3KRqvQEdYWQ7ulUhZcAgY7TFn6F8lgBJuIE046wf3klpvc5z/7Ofeb225z46VR0FGVRh3uu/uekfvuu2/9xCmZ5ryWJLGBhvb0UPsUYplg/Vv/FmonTQ3xo9xRwTDUqfJvDl/GGYXAXL9w9dXuLecijGJFhwY5cDTasB/YOqCmIUAceMAJOD/48f9a5aOOlaoPgwT3t7/+X1oahhr4aL4tF9OqR87rDI50EwGTEad1oKDVtu6vhsPsv9C2ZPGyKeqQB4IFtg4cOWqUMdf3feAyd9TRR4mpalN8GWbhDBsQTOFEf4y/DuOl//FCXQcY0VmuRx7hfvXb3/DIaamOcKP+qqp/5MGHqtatWVel+i+yHENqXI00wYi0HCYDbTtGyFPrhYuNDQ3pRS8vOg6LX7niiNoRqCPdkUcebdoNWb8bdr18rhopYYWygpVhnPRvHdAQbBHJmdDTdp8mYfjTEspk1yF1PTREZxBKVbwmvnDhwhGQDKMhtmwnWDkAf5X+3xqUtIZd1zVQicHyDM65n/wMee0QVBNfuWKFmzp1mjvjrDebmo8RialxFGDYDV4NeGLDIdNHHnWE++gnPiFjszU6RmyiWQRSEm3WwLIqkzaDUYmRTYinvJjhtg4JVAhhonXZkmUzRcy1UUBMu8AkY5ySdMihh7ujjzlGeaDV0BsbrVKajg5COuwGpgY8RrSRijvm2GPc2zWdwPz9WI1sR40aTcvEVq9ZVSUiybIvU+NCcFnAYxjZOuVGh49B0xGPp9o2bqgfs3nz5pnhS6k9gnY/U1qY2lrtJaxdsRSwHQ3DsOhQjwP1A3kH+q09mt0ee+zuvnXtVy0rDBOhGfxYtPDlam04Ycvx2Bwub5uTAA6QgqxOqH4AC8nspK4Sg/UQh8Hiiszh4Jj/myILVunlh5mr1cj2+QMBRZ3GuswTTzrRCoG63qvpV61alc7KiAV2ynFjkjg5YEyLBr3UaT2jz4VnD14iQZSlko5vqt84ORSy2PvY0jvuhOOxbGZjfBt52JDJI8pf+5zzcIS+1gAYQQjWbk7ulNe8xqIzv+mnEtasXJVBXWtsVSwXla7RSragNNz0Ncfy8Amn3fULa9evH6dyjAgRF9NcsDvu+BM0ctpDO06y1WQIimFslFfgoPwGJ9CNAw6UIkpu3bpVdvQc9zoaMNXU2Ggd27aFFEclrP6HrbV1dIS0+8Ft18x7W/5yBhuF+USfiEYndjtrn1kh0fRvhq/bqwY8AcU4YcKEKTZCEbOz9mvYvCUh4qW29f1AUma/wVEGKFL9tbTkkjoyzO9aY8f9UReUh06ofht4q6AorLZXjf3n5WuCmIyemIvFofVAMMPJMI7NQaxh2qFhBHSbGgvhyzLQ1ojxdLygbScnkb4elrLZe+Yss9+AUuPASoDVMGp44emwG/gaYEph7Lhxbu4FF0hdn7f5WXJdqo0omltbtCrAduA2QT0oDTjxwvrAl085ABTvByXD/sqknMGSLvDGlzpE8FM7TmQywwyWGhpCjuVRo0aznSutFFAmP5KFgGnzcXuoO0/Ptqn0noAWC/mENBls5m/OE+5abRbQ7lQi8XwjoPrjy9f+fvhuMGpg9JjRlg2E1DuYKx0c1bDwEmBEDyKd3gfdqqsxb2kxCnntwqgUSBeGj2N5GUuK4K88Czz37Rgm3DBeqIWBdSaESegaKTuOqVOnWGYMqDgTdtPmTWypadxVtt/WeDaVYO0m5cfgOfIq94OX+zbkVInB+uSC3uB/6Voi3JFnw7fbuQZEpTxz8+QxpGMhsQz6QafG3MZi21Zemnv1yaCOxDGfFrjgNJcSAQ2fDl8GvwY8PjoyLPFXOFwAjwErlOyoLAfw5202INKWsR56fJgRlHFYSsmLASvScMK9qYGg2SD6ge9NnH4Iw8lOFVwImBKTrRBkaD7y1HBolm64VL2oASiRp0b+qkcl1teLJLYxCNbCa2QZak4dEkGMNa+21KI0QhHZDO+3Mbvh6H2sgY6M1Uc2vud/DPgVy9OSEBbClAtM106csYMpwpJGYDzgBRvOYEjVQH19sOubx0pYOMAKRdvhGO2gMViILpL01o6Ciesl8SGFiP/Qwng5E6a5uX5zey0wCpHD6MqIJxai+PA57yoTfATlrcfItsSlTMNuYGuAvW/LHUKYzIpNEMN8wDAi+HSFD+JvazsP05HyVhgav1mjvXLZSnfnnXdqlYoz62aVDGLCihbW+sFgo0xWPwda/0IW2+YGjcFi8aoNvW2dVV+LTMfTQcBO51n2Nepw+AGqAdnOmIPgLVz4cikXegREjLa2UayNUALi6QloKXDZjfY7LcUTJS17281PBaWDkic4G3ZDowZs0kDtr32y3QsvzLftVKMlo0/LgsYEMS+EdcdciYu1+ra0MzSEfKMCX7RMw/eDXQPB1BK5PvbYY5b55Mm7oO2AAMCfmuRhsvyuxGT1eOi6QWGwjGQe+7/H3Je/dI176omnjBhCmHtyhCGuNqR2N97wA/fLn/0iWDcXGQ31lMbw+22rgXb4R9Kxh21G7JYtW+b+/rfHWJxuAWgzmN2IEZyMEhnFqs26Imo8Z4u/O3//B/fNr31D6+9esePIeosRDL3YvvPrX/2ae/CBBw0zkdIO327HGoAhLlr0snth/jztQhYYnXuM1AojTCPYAfbq54FBnA1hO41ifZx5z89zX7nmy+5PDz3cJZ4qfS4Y0/pO96uf/0K05EYdLtDQazpUKb3hZ/1RA23q9zoLVQLPSy+95C5///slICe0O12wz32YwyZdYbAwVyiPH8Xqdui7AWewdAzA/eKCF8Vgr1Zne6VPBJBOl9VpGx/98Ee0j+qvnNZiWnq9Ib5Dv/r7u4Sh0FKSXUo3JV1K+xOfNyshvev8lpcFw7VntQWXUCdIa6u1ZcuXul/+/FaLLOtiuzJ3wtpLbRxu7RSdh0XhUz5C8e3IPsl/evBP2rbtKrd+/XrDiKDToyM+eejoPvfFqz7vnn7y6WF89Fhr3QQogYHK75qWWbDwTylKZE/aRCptqw5e/ve/3R9+d4dpMzxGGNFitVorjQMCdDCKBRldC2GUmLBsmHHNF76k826f6eYjKr9i85Nf/fyXoiVXOq0TN5xUDjn8tHMNCA/d9MfSq3YwKInS03bWGGIEcoEADnNduGihu+aL11iWI0aM9nP18CYY60p7EewuSOo+UX8NXw/NS7DAdRDKpp1/LBf2wOwN4YwWyRPlGjXGsOuuBlDQysHIBE+rN5vbYqcciFcwSsBi0+a+ZATMPfNfbNAfPAusf+Oc+xhPupSeJ+M63FojETpEIpGyLdUeffRR9/3rvmvZMUrxjJIHk3Q6B89IF6KIgIXv3sW001AwwuHAAFyPUXyC1tWC9HVOn386fO2mBqxN9N6wYNgI2shGkbSbtZlGl2KyXn3L+aC814E7LqH3NvJUO6cMHworpsqBAolE2q1cudL95ZFHJPRcZaUILIeDAjF1MH7CeFMZgw8bxYZpqyiG1SBk579+CmBkqDHpHKL7J6Vppl6Dq/v0dv63NIjHA0JOeO+vare46Ah4MjqSZl49CIPxmo5V0vOk2trOltV9QEdox4aGZvfXR//qPvKhj2jg9W+t55/g1up4Szl6NB15kTwGHvyOjl6tx+vZkHeDRo3Ylg1nHa0nWhtWm7q8Nh/SSd6am/vFr39t0o4O/zVi3iPBpgl6mU+YXelirScpgPz7nEaY7zZkLzgp9lYQANnv2jfkpQpjn1EdpmyMTgev23do31mNKkQAtQYRQknd6qQMbTpQ75Ysf8VNWmLnQ9ocKtJ+vQxTUuoctdo/trZWaUnA2aj9Su//431u3rzn1FkC5qndgaQirrWNDCZpy8a6sWNYlG4MmU5GuKAqu2+QkuVgHyQwcEA8mPNNt95qpzsxB9wjPsLW3qp2skhbFbOEMbvpTRJdhenqecccOv8K65Y2a9ap2jC7pHZ4MiFJK3ey2VbDSDzWjhFOQqqv3+SeeOpxUbmC7eSWl1YpIea6Yf1aE7pqamqltaixvopF+R133OEWL1xo6dI+OheiNAfLoSGjtBaWNkqExnDc96bNvCCHJquvDhy+WycMsXVkdXWV4bw3adCvjBb0JnA/h+l1M1cKWOlZb8pHvNCx73mzpujowoHwxJx6m6vSpiVROlIV0pHlKxe7JUumaFqvwaZ9mhUun2s1oatG+05Xj5B2S4Mttmh8XHOu999/v+VE/y1jrhwz/rI8pSlnrpESWvQh+2fQGOxW1YDoMcRSJ3K4175e272pWtmm0XcyrnjfOf29EfQwQ571huASDkdcpHfviOvT9c/Kr9G4MC7vLG+sgfSoEvHw5SQPHOF5xoiBe5+uT6/Hawg7nTtmKrAWMdmURoM6eN0IBNsXplsZWcpMT99I+lmp6zZvDiw8X3nlFduInXwwSunOTZkyxeZKfN36bxg/MRiZ2FaJqgv7br6fShgAR/rkxWb2b3rz6dbWMA/vfD12hxHKjvft4eOWX317MJL3jmf+2yu1sQ+HYImEbyPESF30lDejO/8NPv8AI0H7+Wc+n56uPjxMj8M6Us0cEhHgBPjkq/Iu1ZKzsnqMIJR5jLz00ovOWwS/+OKCbrObsusUswz1gXy9oRaEseNslAM6wj43UDjhu6m3E0483vIFI9Q9+fIOH8UIgXx5ued9b9qZcDhro/Cb+E1cBNoofeB51HUVt6e8PW59+QjPt4AdnH8ezau7+5CMWJCsDuuASUKT0ikYbUKMsygmy3a57XSkJdtORxYvXqT90Vdb/AUL5ut4za5zm7zLZFe/oZ5TfAhE1gAD1fCz8s3yuHIGGzzdAf4ObQYbViAAYUQGmU6EoAFESN14OgseQgCx5WQZpE4cnYQOHe1Q9iLyx6fFo+h2cnR2dq9Kac4xKwnNE4FIVBup6Wg4Y1gtzWxFBxYCBxFBJd5V3khxpBmoUwVgqU3Inx136DSeCPn0erx6HmYMndFlMMKEiFFvpgJm9Kp7/ulcx4DAhUIBI15PVLim9O10UR3yGqgEVSYc5ZYKMNoP7Tl/EgmFVR525Bj5w1T0b0CdkodhUM9GWMJy0q5oP/gWmAk44jdCGvXsHfWPEEcbd+VIi/YhDeLyG0d+VVVYpWotQZh/eRqErarKWBl9OXwY0gSfPCdcFGP8btIok/KDBa745hBn/rdPq29XtYoKTft4fDAXGmDE9zMUxJpz12jWC51M0zDyxVEmym/pUEbiJ5WmVMgckadlFxUxQnjK7r/XGASYHWicqMxgF+cZIGXw36HzcA0DldqZ8LQTOMNH28kS1B+fFmHBCOG8I82MMOAHCOXxfVzfvqwtp9dQgTxDtc0cNrShPK7Ho28LMI5miueEBd9b64hvPhQOKYufPogxjaRSqkuozwdYIh9oJuFw1AX2GlAOndTukkrP1z11sXbVWuqJz+RzWQJQL/+0/Hp5orH9GO8ZhVTEk54PWRdQzCFaPEBHQ2FF/K2vf9v99Cc/NSJGcekUWLDefeddbvHixUY4/7XgX+7671zvdps81U2TqTf+85/5vHvg/gctHnFIM+r4DTBRa/329jtkyXZ5Ke4bTn29+19ZHJKuB2k0OnEzirta0tqvf3mbu+x9HyjFJe8vff5LZtUKkKJ5A1g6yhUf+KAMNq5WmYQejXQfefgRlfdzlsb3vvv9EhGKlrdP9xLOBVuljoROzHBULEk6wKs9KcEWNb4nIJS5ccuW4hb5+o0bi5IwizrOynxjYyOJIZwF+NH3eEdHowNZJ6LTWb/xb/v/ShvQNitXrHSf/Pin3b333Gd585w6nz9vvvvj3fe4jRs2Wn0+8fgT7mrVucfHMYcdKcvlb7rH//aPUsevVEryWLRwkbv5ppvdBee+tRT/nW+/2P3i1p9b/uCIfMsdcf/90r/dj3/4Yzf3LXNLcV91zPHu29/4tnv8748bEaPOiO/LTpn3mLqbu/2224VvHWgvpnXn7+90H778CkvjgfseMNz3dYQSlM9gASJE2pSjFRsGr6N2tP1SeF6KYIIRXPs3ERCCCE4QCsCHTssxjMg4rbhu9bqiVH3FkJGBkfbhflgxHh/+CkQGGif0Ocp8049/qjq/1qyIyR/6glHdPcLIgvkLrD6XLlmqcDe5ow87utRWH7vyYzLW+oO1Ae0ZVlipqflN+7Mm/I/3/FFY/GQp7oH77ueu/da1dsB5IMAE7ewj+7j1ikv7fuKjH7e4u4U0jLTuVN6qZ8N6NG/Kf92133Vvf+vbjE6C+X88/g+zqAfj//2hj0YO3vA59v2q9tFeiZpDEI0ooUEsrxLXi9IRhE5PRzZH6AgYqa+vp02gITBWiMhC+b/I20SsrjBXsqiUjR4PfbdDjGDpGF//ypfdqa8/TQdJv9VqFZC/+MICd/4557mf/uxnbsnipe7MN54uij/KfenL15gl6+JXFqszfdPd8L3r3X9//OPusisuL40k6HAAlXTmPT/ffeC973fPPvO0jvc6zn31m1+3jjd/3gvqKB+3/G75xc+V/6nWSXng40KwTz3lVD1pc+e99a3u69/6po0K1qxe676is3Ovu/Za96GPXOmuuPJDJQmYvHHrNKHPxD4M6wff+7772pe/4vbZ9wD36c991h140EGWhw9rEXr6U0K+MU7IJkMQbRpqGbJpnT1TT5HGku8XbhWnqH4TcRQO0OPBB78RgT3IPeAxnw+GMrrxzhOQwSCa5Ek7UEcQ9J/88Ea3665T7TfPITbMF3/us5919z74oAStB9z73/Ned+LJr3Zf+9Y3jKE++8xzqvcvm7/+BzfYWcfEjTqMef788KPurDe9yR6fO3eu++a13zYh6f9kpHHZpZfa8/ulCzvk0ENslOLbjevdd97t3vbWCyzM+y+/3J2pIx+p+Jf/vUiW9V8yf+311+mA+vNKZSewLweqvlWrVroPSvi7/9573Rve+Cady/wlt+tuuxoefV6WQa//iIvC1QwTtLVOXCoU46iyYdga1QodQR8xeHSsE48PmKfHCFc/VOI5OGEUEm7xJSAFsLdvhLmZtkfPBpq5qgzmqM9HZXh1z1132clgPAQjq7UsZO7Z57ivfOMbGvW1ulNOeJWF/8znrtIm+HUSoNdKEP6iu/Xmn7q5asfPf+nzdqi9H02SLnQEGvQFWbLf/uvbZBMwqUSHXlm0WELdF8x/6zvfURrnGfa8YETcf734LwcT//Mjf9LpR69VWb7ukmp3VPPXfedGYfuH7qy3nOOu/urVNh1ix/yFFYp2b8P6DYbHW2++RTi5zMr/iU99Ugc97BP0YHuyFX/Yp1oYkU1GXNoMedm4CR/gJJbQjv8iMdAR6sDjNcylnI7w2GMEbIAh5nIa5NfJL5aHsRIPz/CfjtixM+rBjuT44KHvVN3Tp+/lxtSNKXVSGhOJEWdr40RwvnfjD9xrTn2tq6urU8cJVGnnzj1PjC4goPvvv797w5tOM6JknULxdRi0O+HoYyydX6hjHKEzVomP6qyxodFddPFF7ltam3nh3PPdbXf81p18ykkmuZM3ku6pp7xacePu/of/5Gbvu4+tB0WFgnrmwrf/l/vZLbfYsoKZs2aFB9VbVvYHdSrLWW775a+Muf7q9l+7gw891M7thGgyiuyTA5bmdD5rMtUo45TWqpqqbE1tdXbkyNpcTXVNm9TABVkMC7QicOoYLNofKSMmXKjWAdAQysXyz8sDdCZpYaboVSmUv4fJ4tQLA2fEXj8Gi2h66gHBxqHm9o7RGRvL4+4To/3G177ifvuH37tDDju0ZGSDcHOeMHLpe97nLn33e4wgHXTwgSVVHuq2x/76N2OuB+qQ+6+K8O07Z1+lO0pzagXFnSvDmXe7iy74L/eaE092f/n73wwHtD9qvSc0moC5nnHmWe6Tn/mk223aNAlaQRmbRBjffvHbTQi8/NL3u7322ssddcxRhi//DVw5tP5/vvk/xlxh4jP23tv6Qpu0IF2ppaPxK97rgE9hpEE4zlXVZLIyUsqOHDUiLxWwMJIpSF0cYER8MpOucn4VQDivB4HEpH+hPBhhpAGhBBfMn4ETPIRzpnzoApSAkQAnoMQjx4cZuCt5jdHBB3tMn1nKFbDTD3Fr16x1bz37Ave5L37BIURNkD0BzA91Kxj5/vXfl+X8de7ggw9277jkHfYN0BGY9Lp1693ll17mHv3zw+77/3ujO+mUk9142QXwjnaGFtz0ox+7D112maV53vnnmsoXq/dNGzfZqBXm+hstaTrsiMMNt6jsoQFv/a8L3V1/QHPxQWFrX/eBD36glDflBuczZs5wD0pTB3O9QYLmq0480Rgx5fcqZML23tEuLIFLNKer0luqq6raaqtrW0dAR2qq28CJvq1ER6plwDRKfQKXTJnSgqqFQC+T9xgppyOog1GHgR0yJCLxwBdXnL8Gv3awvwFV2gEKrXMJDZCl6lZzYKmK+4qY6w9++L82Ahits0hbW1tsVIhktd/++9nIlXAPPHC/LNqCeTo6OPe/1MJz3O/vucu97g2v0wYJI2w0hFoahnPAgQe4L375ajd79n7uyis+bB0J0OL+/PCf7fr7e/5gjJnnzE9BtJHypk3bTdJqMOJ++KGHraN6RkDHRGC4/7773Jc+9WWNsB7QCPl1bvSYUdapkKS3wgUVonGqCGGrOkCzCGiz5qabNMfYqG9rqBlZ3VA7oqZh1MjaLVqLaF5zSwB/izqTXXUP4JEm6RxL5F+RXyQPQV0sD+GkgHSKjk5PBpNodsxcvVH1XnKqDYQIHMz17vvvFeE7yRgcI17mNxHEjj3+WHfVFz5n4Z584gkJV5LKJaHTnpt0fuk3v/p1ewfGjjzqSBPswCNpMHd7/KuOd7/5/R0W5icioqhOjbDp/R2/CZ7DXO24RwGYfPGCoJs9Z7a7+JJ3Wdynn2Lqqd2BEdyvb7vNPfn4k+7p5591Rxx5hCy6g3nQrWSuIUZcIZlItsgArjmTSjdXVWcaa6trhI1a/BZtHNKgU5q2jBo5Uhip3ZIRkVVRtsTihhHwgceSZal8FCMvh78ZvTJC6YLGgJLO8FH4AXVsaNLU6G1nAgD7ekZL9r7L3+3e+/73uYmTxpvwQl9mPnT6ntNNkKJwt0poRl3v+zLXe++515jrD2/6iTtn7jk28gUHxKedZ8zYS1q0j7rzL7hQ2rL3uldeWRxa5Sbck088KUOgh9z//uTHGr2eYvhsEXaIC42C0Z959pkS7l+tabKbbc13KAzbqDGdzoiOPOA+cvnHHJq2c8+fq2VQ42xEC862xoUtU9S3ZVOiIzpLuFkCe5PsDQI6UlvbIIvgBjFcYWSE4USM1zAiG4woHcF6CToCThbLezoCLUG7AYOFsZIlwjwdFox6r9sd13UB/h3jg0wKVlHPOuct7jWve60BCqID4D34kd6madRw9DHHuSf+8Q+TFnmHZLlk8RKpnr/iPvzfH3GHS2qEYHqiRdowSc0xuUk6ZP5zX/qcW/LKIgcRJD7hHtaoFbenRh4sXEeVzTvi0mlJj8X0rz/tdPf8s0/rWYT4Kx4GUM8984y76iufdocfebh1KLO+VXwsTrfCWST+gE4RMFTCKgxqHKl5XAG9oFSB3Ot1cGRZEIbfwbFlRMeDDe/pANxHr/pp2XBtd2Q8hBwGV7hPfvYz7tDDDjNp3rcTbQXBRdW3z2yp0uQWvvyyCHBjsDZT759/bp57SMIPo5IZe88I2kjtTBvjSQuMwCi//LWvac7+BptvRcOBBuR7Wit81lvOdVN0FBhLHqges5xVXPDVKnzW1QXrf9etK2lTrSz82XXX3d1f//IX9/FPfdyIPISdMnuclQL2+kYZm1P+uho+wqumCvRJeg1WhA18+F7YsHgeG6QQxYjHhccIv/F8bjeI6OaVIg62mzV7tjtbtATawKiVuqCecfTlCRMnuHe95z2aSvqnrQXnHYyO5SVXXvZh94bT3+hOfvXJYoqBsRTx8bQzzBLh/d3ve7el95c/P2rP+fHcs8/ZM0anGB6Cx/b2jRlGENgO0Mh56ZKFneZUOV5uy+ZN7l2XvsO9+rWvsfBZWfVGy28Z9OFPtGXAgE0ThPH5bbhgDkE4UFj7rZF0+Du48i70UTriseExQ5ioOpiso9nr547rAvTsoOUHQLiTTj7ZjR49ugRM/zke3KM0qj3w4P3d/OfnGWPkPQB+Yf4LFvR1b3iDqWQAMZaCWMHhUTfCBCXBuQMOOtDCPv7Y36xj0Gneq7m3ex64z3aloVN4Rwe1tKQ2YTS0VnM4iXDzBB+Gq0BqP0886US7p7z+m6Lhtv7eKKYyseUIlpnSRyq1e2P3YRkq5MFr7+kAXrr0z4LCV4g4ZB6F+KA8Rx19lEaeKWu7aB1zD5OEeE7VspJ6rQlmvbB/jgES7tjjjtWII2VGMOAC1bH58B7cHKMwOGwDiM8Wjr+7+y53+YcuF94SyjuYp2L6AYzAhKura0qE1iKX/Vm2bLGEvyM0dRDM7bYT3rKA/fzTYyRIFkMnQ0t5Lh4L5fjwWCG8x4m/lqex3X97PLzpjDPcpMmTTINEPXvHe/oqbewPr8finGe0I1t75gut7nxpq7CpgOkS1mMEGsJvnu89c6bZktx79x/NYhnswRTByWTlzXSAOdUWaYMhrNS53yIjKBwq4ajD7gF32umnlTC+lQJ6NFm775hT8Fr1gSRWoiOdIrU/IDq+K5z458SolBXPd2iX3KFLHzbJ2LHjSgyq/HvoBACduU6c70w8Xy4rZFxO8xyvLFxUGr3aw/CPgtloprGhyZ0oRr5ixXKtHc0Z4A897BBj1KQFI6UDodqp3yQiLbUSo2fm/p544m9GoAkXdaiQ9tlnPxMOYNjbxYl4BGJKp9wprCeUFI7fHT+gU5Sh98DX+YgRIytiJEo8x40bbx9gYnfIeF+Y/7zbb78DTFVcXBgcuaZXHRzNCgFklINbv2G9YYn57eOOP9YwRzkg2sxhNmgfXFR3jHQaGra4n938M4sHofTlDR7YX3fo4YeLQLMDmnBWnnkQZED/8n0qeZhHJ5x6jIANj5NK5SmrtUpBtu+zSZMnd1m/1D1CM6NQHFoIc2qPdesCo1f6/ytaSw49KW8nKoeeBkPdfY9pshb+nWvRVBZLd+bst6/RDhgnYUgHDdkm0RHm2ZmHRdD74Y03BHnSIKEjH1TYuHHjuqaDYfA+X3pstPaidEUdPC7AhseHv/a5PDtahB2bwYa1bWDuhvDQOfzcnBELETqIIdu54U479XVhSr27fPbznzMDApgi4F+2dLlUic9pn9Rl7kVZA978k1/JkOYgHWzwmFRC73PHn3iSW792tXUenwMdiVHvLrvtgiGBHkeR6kMN7NWIpiqETh+4DmXwHSNKQHnWIdDAlrD/Ui8neOUpe+tZ/4Ewww1aJrNu7Xr3vOY+jz8qMIQrj1fpNwdatLytxZguGGHd6iuLFgkjz2s52GotCXpc827z7ECEVSsWyWDmEksmnw/sA3yaXvQZJe0M5e/AfH2gQbiSNxsL4NoZreHAYyNKPHdIfPBtPWGE+veCsDFDaSJgpiu1PzLureeeZ9fe/lm3dp2MrsZY/0Ptv0r0CIPNxZqKWiIDyu9fd73m/I/XYRqPurdddJF7y3lztRxQNiNltM6XKSkBYNAxAgcOW7wkdLRXgH8LTqJY8d2sPeROerdTMFhauDtJq2PHCUYBgJJ5FtzPbvtlCHQWd1dOCURAAGUYYqpjpEzWXt7wvRvcd779bTd1l2m2/OJ1MlSa+9a5sqgb7SZNmmSWpO991/vcqhVLEWE7OH62M7eylx1C9v8POiILxZkbek7zjDjmDENHZ+CH7xi+c3ji6a8+/I5zpeQVqrojzQIjErcleKxbs06ai5O0zOrDxjCt3ip9rcLzDoFr1MhRyiJQA7/44ouyIr/GRiyHHnaEe61sBS5650VSG48Wgx1po5mNsiL97v98u0sC74XDStkO5DP7VlVEs3Z7wigHlwuEMYZvGLlh6ARzZQgVxciOiw99SHcuSktoY+qIKQXcjT/+oZZO7WaGSdFw0fSoGPo8bWqrFVS/zOH//Jafu0//v/9nQS+6+F2249RpbzxNRo9jLNxE0ZKvXvNVe18O3xLNUllUpMF15CnHN63UUjJcXvO/obPP5ZG8pyX/MaNX6mAnYbB9QJUADXNlCcWkyROpAzdnzhwzYIE4dtUxeI6KiA7VLGMV1p195Iortaj8bjHoX5kqkM0A2LcVkAfGSk7h2FJTjxS/kuvqeaWw/f0MIYHF3r/99e2WNPdyEE86BHovOgOTQv9RnQOCxYh2hJb47LLbFAlibe6QQw7psPZRddLJMeoFIzkJYsylLXx5oTv28KNcVarG3ffQg2bRzigDjIAjiBJzZatXeeOmyhgZfKrZ/ml8D4Y1N1x/vaYyRslIcCNEE5ULzJVlWlGMRIlnQHkVYOd0AXOlfthbGTdj75my8j7chKwu+3VIR2jp5ubAmpxNKK791rfcdTd8XwaRr5eVeK3Nz4MnY8bQHNu9i+rt7Noruiv8dI7TX0/Im2+Fdj5030OW7GYZ4kUcdAT6AR2BrniMELW96PqxM7qdhMH2vmmAIMTNOoZOfcEtX7bcFu2jNgbU5c4DaPny5SK9MTdzn1kykNIOQWKuP7n1FusUqIpg3FGzeJaAEJdOgmHLUHMwWI6I4ySLyVOnapS9AsBDPDGtZwmG7xhc/yM6hL7TnAlhmYzWps7Q+sfvmaUoa/26EsLADRa+aDUgkCzr+PMjj1had95/lzv8KFmpaz0kmyugNcAJhsZsvezlr/ZyiPyhHu69934rDQZZ7DYkB0ZgrkgGEEwvhEWJpx7v3A46Qh/yp0Ax/3rAgfuLGXZBR0Q7oAUrVqwQjlrN4GnZ0mXGXK+RBTpr9ulmhImuXQVbYAOhDxf8tdvt/gd8sGzsH39/0v1EI/i6utG245QKBsFDRbhYHsbqMfIfRUs6cxPVxIC7IYAQgLH7HtPtU1l6w286C2COegJgJMWmEmyr96Mbf2TbGjJHgjtQ62T9HqH89nG5ZwE725vde8+dUkHXGWPn+UA7X73YfurDwuw0aySCQOfFYdX45D+edO991yXaKzTtNuiUHDmissj3RXkoKR2DTsJ10DqGL3/vKEkptIrYvw7haP8DAutxdtrBkIlnvo39lVzBCLt6MVf72F8f05xl3r304ktWoL1nzZTxW/v+xe3xAgK9Rhsc4MAfbTSwzqfvr8pNt6z7pQ+QP1e+E4z8TVbzn/rYx4yJRE47gW7Ml2eRJYQTHx2d6OcQcpFP7c9SeeF50uQplizLqWCMCO/lOOE3VuibdCrREQcf6i55+3usL65aucriHnb4ocKX9jyXoI7z8bmCC0awT2mNNm7gMWLZBHmFt+1VGNATXwYwsmLFKm0L+wULCbkRjSGQVHm2PpoPhHZ4OsK7IBHd7Oxu+zBYZJvt6AAtjIYdeY7ULk5sh8iSHcACcYl6wE3Ye+6820rMdnYs9/BqO+amAiMleJkIVEio6GQYMf3slsBCFOkfwjoYjlE2u0lRdo4Ds6vug2UhbMATs5Hra0462YpTpZ161LHpQ4xM0O88KU+HYJ7NS550ivZ+ph8D5UrwKN0MVE5dpKt8ISC0F+uTcd/59ndsdMqSiyg+uIe5siHFz2651cKe8KoTLD5LvXCMaql7H88zMfC2ceNGzb9+x8KRH9j0xMse9vcfpY/DYjmhOXiOpTOMaDlISmf9Uk42zwDzf9TmCae/7g0WHs2MntH+gB+JAIxAONmxyWOE997rdoi4AcIRbcVGENP33EObhVzibvz+DWbABh5wvr254qjnP//pEbv/9Oc/peV9I/9/e2cCbklVnuvdDVwQQSaFphvoBkcmo8GBeBXNZBJHHBG5IkGNEIlRoighmkcC6jUGjZoYuWowxohDNBij0TgQIIjRoCKDAj3SINBMgsok9P3eqvpOLzb7TN377D676vuf599VtWrVqlrv+te/hqpdVXEm4Morltc2pzR9nG2Q43iT07nnnF0dOyo/wsnqbwBr4IEvaZSOJrbLAOLSiy/V26le1zv7m9+s/qLU3GaCOHbwHSkvncA+ygZ2/tmILnAuZDQeX1eOMSJ81QUDman6OP5mQwFXEw8kpCJqkqyWlNhUUn1ayRF0KTR+O+lNSq/V+4mRP/+zt/Z+dNmPq/+9+n9rVBTOf9bnz+qdqneJHqPX2T1y30dWFeGhD9unOu5jH/l7PT18TWVwHMdj9xzHXzF4tdq3NQI4Qq86+69zzqt6oRNP+ukaeE0a/3Mbltgx89g+DpFrYErvZv2386Ybb+mt1jtReYKVV0c+79nPqU7L/4cZZUvwAttIz5OulPY7zzlvYN1RmaltEA+bsI3omqu/S7G0eJ9tZcJ+HKFYUn5bYmMSjmM0sXTZUr339+298//r3N57T3uv7pdeN2EjxEdh/fcf/vveF/QN1Pe8/33Vfyn58/9+B+xfpfXPn/ls9SALTgmlEcNGaHhP/vO3Vf+jPvhJT9I7b6+vRr50zkohn8MS2wh/EfuZ/np2289urf5WdoueFVinl94vv3K5PpR+Xu+tJ71V7+d9YXVaprwZmUmoZlzc2VJuIeA46YR59Fq3JAqYK3F5ztqP6BYNF4+96O1DG/yIwmwbM/nvqM/vY3ibHGXJg43IK496RVXHKENsg/JmP2V+9tfP1is5j9H/9n9Lr0N8XNW47rV0r+q498m2LteMB8+G2K44hpmQT3/y070Pvv9vese+5jVVXN4yRyPnspywj9rFVnE29cf5+4XuE/9ctz5u0/MZPIyHMq194f9c2DtdL1V58sG/phm6L1cPdDYzHPgN/MjF0gul2AT/X3MnbM79iM41b2R43n2aLPk/gm896S29T+q+JT1kG+ugQzEgRpXvOu2vekyfLF9+RW/ZPvvIqOrYHOuXO2CE09kW/zdEMEpGeD6eN6/85Wmn9d54/PG9gw96XHU+XipABb5WzpSeIz3TJx9ySO/Y446tKgzO5oADDui9Wn/B+dAHP1h9F/U1rz2ueh8of0C/6AcX9U7/2w/p6dwf9L6rDwjwHzZews27So86+ii9L/m3K+d9rRzsuht0K8uZqrO20b/mcZm+IMP7TbeQk1+oXmY9MoHnCjXy3F7t9R6iBzNuu5UGuHqwiUrBH/x4pcxXpWzjON3rZLshP7FU0HCF/w8jb3j98Xrz0aKqfKeyEZzliuWremd84mPVtBzH1p81ZK32oU3DIHtrfD+s7T3qaBO/TJk/5MGLqpz6vCyPOPKI6r7ZBz/wAb3S7uzeCSee0Dvg0QdUNkyn5R//4eN6of8XZR+v6R36vOdW6VEWhxzyFL0g4vHVhwRW6f4cH6pYrHvdMOdcJ55wQm9vvRf3S//xRd2H+2u99elv9HDUPb1XHfPKauRMHUF+ro9XD0sYcSE/vOj7GnXfXNkHnQqejt9iqy30xRcGprUs0v9C+U6n7hlT9gDkz+QXSM9ttml1+x0ncaerjoqyceIp1JPedFLvG3r1KTLVCfEjfG2Luvqiw15UdZBWLP9RNdPkK7BtTPd6UmyBjgnC168QwvjP6mN/9bG9j8mvvVyvQnz6b/xm9eawp+u96HymkL97fePr3+j95TveWR1z8tv1Nz/9ZxVbpQN3qj42wSwaswV/8Y5TdVvigCreZZf+qPf5f/6cfNC/9r6mt8Zxjx8b4aMPvNuY1ydizjSACE8m49s2VfCRzt9n9OrFbbfdrvrHwZYL9HIU3U66/rob9dzKyuo0eq2mvhNbf1FMARgsU2TrpLwj1LcQ7EeA1lRErXVA5ryBxQApsCV7LOm9Qu9c1TtOq5cx1E6OqjFYcJ5+mo7X3b329a/T03q7aeRbGxDTKDvqpfyHPv/59X9SsbRJhF7m/moQ//C44ypH7J4faXAejJUvk3zqn87snXD8n9wvlVPe8Q79B+2Fenl3/X5SIjCN9vo30BAs1hc03tV72eEvvc9xRx19dO9DH61fr0clP+HEN+s/sj+unBpM0N971jOqHirX4Gu6TyKz3WgY8JTzihXLBx69ZMmS3p0ama3T/zuruag61oO0oHE9Q0ptZUTikQmVxpUCyJteg5WIBQ4Ii0c/5tG9V//hMVUZVd9mrfZNVq6a3pQt8HcoXopOr/+wlx7eY2bBLCnfvZYurV6W/sAHbluHN+fz+cvlG098U28n3Suv3kUsllwbjRwvMT9B++hU0VF65VG/Xx6m1yQeUL1K8RnPfMbE9CoRdt1tV70j+0P6EsoZ+iLK+3qfOfPM+xz35pP+VLZ3ZPUaxRfr1gMvoaDc6s5o/dT6q//wWL3gfd/7HDeMDRqq5Vdecb+kwLNYdZX39V6rr8xIKHsKicaV1pd7HjSs2IgdZ2kjCp4boVx32nnnyo8wo8VTuNMJvoM3ueljBlXUX1eHmo82MJOE4Bt4IciLDnuxPsSwZ2UjZHaQYE+LlyzWO89foo8fPGDCzmjhsZNnqD5/8Sv/rhHnmb1T33ZypWU6b9C97Je+7AjZ5J71vVadCBujA4ev+zt1ynkmopRnP+e51RPoj9VLbW7UBwXeduop+q/sD/VhAv2vvrLl9Zop2U+du+P09rnBn0ss05vt+tqrrhp4yCJ1gLEMRq36ex+VFDvZVkoP/gzpGikoSz+CnSCTVep6b4t++22JuShuTgPlXdI3SO9ZvGTJFtfoCdpP6mszT29GX3aM2j8joRGZmMqY0RF1JIwa462mUlUsHqWx11OE7CfeVMJ0LG0z/1mzAyY+6+SF6RimU/mzN6MebJdpZZ4Q5D2ypM+5nW+O8zTNT/Sgws3q6deiv3ds9yBVxN2rqSEcGfE4zueix8s24UiZpzqN6X9Ji2moq9de0zv0WYfqdW2aXtpmm/W6diW94BfifYmWdygTd4rTnbone5cexrpH5/6l8oKBU/b1zaJe73ytf0bKXDH7cJxUBjtOwlAEG8E7cfGflj5DDdI9euH3FvD7z/P/S39H2b9yIORxNmJOszmGuJS/y8P24jRsd7wRxx+H8L7+5WTlQdqkg+Lk+HYw/4lWcFUGu+ppdF61SFlzfueb47Ar/m/Nk6O3aSqefWDZUe8f3l3vuMaGsQfKkvjsZ4lNsI9r6s9T/3VPtk06pMtXYvZ92COqjoL+c6ng6p3DP1Od+KEu5e7KPmQjOvnd4oTcU9jINkqfxvSbUkYlTPdR2Ri5Eo6N2D5sIxS8/cixWv9b4siPLMCP8Mm2I9TQ3Hsvh8/ORmBCOcxWzNRlbJshHZjPhDNpEI9rEKOqnMrrYD/TwTwlzvQ/S8qa9HfYYceq48KzEa7/HMsxttHrdYtg3Q3rqpEoRPmCER347TRKZORsG1ThVJ1K0kG4R0u6/b6t2jmDH64BOz315FP0beR36xbHouoTfjp0/cItt7xkiwULblKmf6knBO5QJ1B+ZL2yf5cQVsN4ChB/gP5I+gnpaimFVDau2IztRKvdkDkfwRojBrmxgoH6HZ2sW3h6l4qClOHeXy49NdYfz9sYMKOc6osntMSNqyB9T0s5rs/nPC1Rr5Yv51hwiBg/x3GM43m/03EF8bb3GbvsygAANMpJREFUb8KygqMKs0DnxMApXwzbvQ9g0aiSO4x/ufQr0u9ImxxPTPkR18d5n4LmTsxjtmcwv0HlZPaOM1XaPn9/XLaxA3SnnXeqGtO6XcBO6saQUSfxymNZ55oYae+997JqhGrKpMW1sSSez+3rIwzHNyhPjrORyw02cvfd2AdlW5Y1dkMcwhmpXiL9svQHUvZhE3h2HzNSG3E56PyzlpIz65aZcuaYqeyJ/fgRGquHPfyh9fMATc3h71l36b/RQCvPzbrzxG0bOvPuc/DAJHZBmsRj2rayF6VRpsMrN5Ey3SpgCD/3yo+ogN1O0IiSIzrZBsjJr5F+U3qulGkF7ISOmG2EJdLQqDe68Gtwc57XTS38gcfL6FzK02Vg4PHFQeyvDJ0RbmEHhE92rMOpBHaEJOljvN/L4nTV6mTh/fFmsY0BgwSj5w0XGDtOEmOnQWVdc8O9q6UXSZkj5E+ZjDZwlBzHknRG6jh1vkk5s28mMojnoLDJ0poqrvfhYAc1hoxqBomPwz5w5BbCrYQ5nvd7OVm492/EsrQRpl2wC+wDpeHEHrCRtVIa1eVS4uBcPbOBbdhOtFpUGLYGi887eO8MQzeVx2THTxbef1nTxWM/5cysxaDy7k+PbadJQ+mBxIbwwv+oZtvjlX7Pxw9KewhhzGrxHz5sA3+CLWAH2A4Pul0svVSKv8GPIPgZ28jI/Uh1BfPkZ7IGlsqwwRvMk4ud68uoDLUw4pmej+Pm2MhneimOR6X4N+n1Ul4IgMPkCSLur1IxqCi0CJQ/vU0qjB2my3668p9uv5Jsn2xsWW/scXNIEId4lhT7wCawEZ4ERNnGSWIbNKz4cxxraRteV/CMpGwTZnTAOEfamPLemGNGwIhR6YVSfAYNLfaCH8F+sBXKFT+C0gj3+xEFda8tIdNIfwM720pTp5Lf+UYAI6dCUAFobGlcqRiEUcZMEzNtgzJqLcud9elkJnGmSyP7Ny8BbARHiY1gH1ZGsnS+uPfabx8udy8VZVJxHC8njZgd844AZeYOEfaAjTCzYT/COrZhG8GW2OY4l7eXCuqu9DewJYkAKmmM37qNvexRsk6DSmVg3TKbsi7T9fFZjicBl6WX5AK7YCRih0kYMlsbqY/KbxsIUPbYBWpbwY/4lpJWK5mNjfiYVi8HNbCG5GWrAYx/5rhjfL+iIgAHaXWj6obVFWVTss85SKcSXwHTXJH5RWCAfXCBthE7Si9LGxlGRmwaA9KKrQyAMp+CShuxL2HphnUYfmQ+5Xfo1zL4yYz6NPerGL7BPvSrSIIbT0ANGv8DreS+jRuVgJEIS1cOV4j7lW11/Mx/OB6tT6yHOvibAMKDYpH5RcAPYA1oaN2o2kaGZR8A6Lexie3qemQu5UNA84tYrqYhQKXGJvrtxPU/oKYhMKiBnagI/cfeo0fNJ93ZHznbIyHAU4c33cDzBnJY+ntQI/2Vggpi5+k4m7qk8ebBmEr83t2b9dYaRrFxniaz+ZeUCdL8B9RVGJugDMtO2LBthNPyAB3CX8eqlRv1Skb+YpfZjgrHZv2hnvLWOl6XuvYq/lwgg9AT742wwnMbthV6z9jIXNiJkm2f9DewZc+E/zZV4r8l8Aq+wol7d5abgUBdMbaoXoxx8y3rqjdlqZzsPP3AChWDSsKSylGWrzY3SkiDni3LVVIa0/Vb6XVpyJo1q9O4ViQ2/49t5MorrqwuhrddEdbIT7TEefY3ssOwEU6BE0YurRe9BbzqD+H93PxtKQ1sQ2YzL3hpP69z/LRei7j1NlvqBRmYRSU83MSTw/gO/Ai2UvqRCWNSeGQAgf4Gtozyg2Zjgd7+Uq2e8rZ3VN9O5Y/UvEwhsnkI4CSZZuMP6F//2teri+BP7M3bd9heKeWvFlQK/l5BA+te5zArxWVKF1nYvNO4d+YnPqW3Wt1cfZrL36+so+R3lARsI3yI4Oxvnl2dunkhgcufVpcnzLERd8JsI1X8TfzxedYoHd5Nyysg1++m151+Rd9Rvviii6tX++WWwiZS3sTDsRM6Ot/Ty/uRXXbZTX7lDpcd78pcK6VR5W9b7qgP006UbHtlUAMLTEYoNLD0Phfecfvt9y7afXet3tXjyyC8XJ9vF6aRFZIRCxUCZTRywfnf7r3n3e+u3nm7Tq/vk7g8eTMTvU26ojSw7nkOq1eEjSDnSXGeC3+mV/DxWrcLvnVe7wtnfUEGVL8rODYCptEK9oFgI3yc4COnn65Xdy7hvbHs4L+tOMrvSWlY+RtG2Qkblo1wLh6iZKR8tpTZr3v8QpbT/+703i033VJdY2wEOqMVbIRpet7DvHLFyon3a9+w4bvQXBB+hE6YbQR7oe67AdZqZCoCVLZBwp/Lcc6LpE+V3qPpnYU0snw1hBfG73/AgaocjGRr1lQSO/8s60ZwmBxUBlVPk/tovO/0u/oayzOf/jsE93g3qe5v4RhpYC+Xni7lv2pMPbiRpWIMq+dJoWMj3Nx7uPQg6T2/+PnPF+6sr4T8i74Agn3w2sn6Hbs6rY64d31sZJg20Z+WyqCyEZhjJxecf0HvBc89VO+qXVh98F2jRdvIRYr6ESkdLztQO89h2YiSruyR9DjPSwjgXdl0xL773/8tO95GX445sPouqhvZ+JHh+47STigDRqy813hrdcD41CafTLzs0kurj5nwrmpFwY/gP94r5W1NrONHylFs7fgVGJmcACPVQQJgKgYNLHMHDF9x0FvwhRBeSn38G9+obyAernt/i1WZt1Jl0T04niSl9+w7dJOlroQGCkVWHuttRy63B61PF+Z0WE4Xl/2I89Afv967Yb+3y3gOY1mGl+uD9hFWnJcKcZdex3iPZg74QDdTfse+6g+I1dtxxx2rj31r1c7zLVr/vJTy4l4slQPniZMbpvOkc8Y5HiX9rvSB0nv1lZKFvNOZT8+97ZRT9LWjQ6t39+LwqwehbB+KfB+ZikkZkXhIv504rNo54Kc//f4o0+0nvs/NelE+97kWx/N+tieT/nNOtz1ZOk04D7zxIBFT9F/64pf02b/XV3u21Zda1Pnx1XNlr5V+XYpNYCOMULCR8laCNjdZOBe+hHN/Wfp0KefYkkb2J/oAwnOf9/zeH+mbzI945CMqH8LtJ25/0ChUMhlHs+pfclBz6P2Od/igNJ1OddAkP/1xvN2/nOTwiesqzz/TY6dKk/ScThmvDNM6foQpeV7jeIe+uPX9C7+vTyaeqO9gX9JbpA9PXKuPlkiq8tHyTOmpUnyG/Ug5G0bqkWkIlEXdH5URChXwcOk/SQGKLuSF1HwtAjlan1fad//99KmnJVVDS8WYKtHqoAE/Li0fW26zPpkNlUk5Xhk2k3UfVy59nK/H28SZShzfaQ2K631eOo7TdhqE89eKhQsWVh/jXrliVe/zn/1c78orf6yR4Zb6Nu22/lg65UR54cTeLMVZlqNX9tMYUlmGKbYRPPlpUiqnnpnYcsEuu+xcdcQ42auOOba33/779vbUJwEH5ZE4JYvJ1ok3mZTHOM6gMO/zcrI4g8IJs7iMHM9L9pfrju8wL8tw1kmvf5/jeDlov8NY8jH4FctX9j77qU/rYbNV+mLPjpUzvV33YSV2nJ/Q+qlS7KG0EfYTRlLDFHfEDlCiF0jpiFXX4kaWkx2qhvbxBz+xt2zZXvW0sWY73Isxa+I5v6z3S/++/m3iDwpzuNMrz+d9/eUzWTpOY9By0DGE9Ut5/kHHOP5U+/rjVH5EHZdbf3qbvq29Qh9//0bvvHPPqaJ50KQG+Jfy30zrr5T+vpQWl84XT6cxerUf4dRoZBMIUM44UOREqaFSOdarUNbrm4gOy3IDnzlnIcekp3a34jx4IYye9f+RHix9qHQP6c7SbaWUIaOIst5qcyhCmlRI5P9JuY4JR73bot30XbQJu5lzLs35cx6Vg27nrNfnFmFBo1nVWS3PlT5Guo90sXRH6QOklOFc2YiSnvAjL9G6y6eyW33Tef0uD97FYVlu4DPnLPDh2223Hecp/Qi3DF4sXSbdS7qLlE6Rpiir+/dz4UeUdDtlOljspwdKBX2T9J1ShO0FmsffYnt9jHpbfXyY6T+mIKrqU0XJz7AIgJWnhPlO7a0//Sl/caBCoG7cvqX1P5LypBPhnhamnOxcqUhzIThmhCX3bF7DhoTz6nOSWy7cfvvGRrbZOvZRoZmbn7vv1tTf7XdqVmOgjXxNZz1eyn1zyoaRiaeFPXKdKxvBj2CrNKqHST8qpfOHra7X94R1W+GBC+TsNXrdupki1p7IUAngR/hmbOVH9L/XO++4QwPW9ZQ9Pp4yukr6x9JvSwlj5GobwWaq8tIyMkMCQJ1OcJwogJ8jfbf04dJS3Asqw+bzOsaDDDIYM/Gyjln/ztYBzTZ+ea7+da7H6n04yY9IadhoVDkfYTgyymuuHadOUQk8bQMv1fq7pEuqPRt+BrHesHf+rWHz8J7suvvLwjlwmbPf6943aDmTOIOOGxTma2Jp4f7Z+6WnS3GW5IfpPuwDO3H+hnkdSvZ+wjW5kf1Vrb9HekhfLK7B2rdrXm6SJ+yEetYvLgMvy/0la/aX22U8r0+33/FmsuR81jI+z21w62C1lHLq9yO2E+2KzJQAoGcixHPlYMqA+7I40sdKt5FGRkvgCp3uK9JPS78vZfqGCoADpbJbR+msyo7YIl3DkVJGK78idYdGq5EREMAWsJF/lX5SermUekqjWtqIneYwHbhOMamUfgR7eYEUO3mqdHtpZLQEeBPbV6Wfkp7TnJpyoQNmH4KN2E6aKFnMlMBMG1jSKysH25rvq0YpOFAc6q5SCgeZTbr1EaP55brulL5Myj3KD0oRXy/Xzzr3pf53s8S4EO5lXipdJ91NSqOGw/J+RgM/kbIkDAPFcXn/pjgxrouRCG9VwVmuaNZpuCgHj1Y5J+fjXFatjkxg544YJ2UacG/pvtLFUjpniHnXW/PrF9Y8FfQS6Z7SD0hh2m/b2ynsaU04rJ2ny7ROWWEjsHDZsB/bu0ZKObmsXF4KmnYkQ5zJhOu7WYp90riulGIv2Cm2i12W5+S8CNc+aoEL5+V64LKH9NHSJVJz0+oEU9bnk3DNXDs2cKD0Ain8zZL91E0YP0lKnrADhLK4SrpKig/i/ib7iOsywY9ggw5jSdpWrW6U2Aav09FrpT+W2h6pq+SpvJbyvNoVmS0BgM9WMCSMx5V1tsdv7vhUCgxrdymV4xKpxfl6jAJeJyWvGBnht0s/LqV3R6cCh3WXFA7EWyn9kZT4hLOf9WEL14KDQl0GZUXY1Eo4jOsddxvB2fxQuo8UG7lYaqHOwPiJ0j+WUtZ2qNyzOkPKaPFRUhpU9uO0iHO59Eop5YZ92JlpdajSbyOcz3ZRLod60lkmZmYcBodxlCfoos+UMpNHp6pfHqyAk6Q0sLYT6u1ZUmzhIKl9C/YAEzpIF0rZtu1QfsMWzsW10OAjlAG2UfoSwgmLbCQBAM9WKACUAsKRol7XaiVszzchrzjAV0oXNxd3rJbHSWl0MSR6+xjz46Q7Sm+Tchwj2qulOMz9pDhgepjkk+MIv0lKOIZKpcFw+41VQRstNnTS5BpdIUjQ+7wkbHNKaSOwsH2UdlGub85rLc/NtXIv++VSGlfkT6S/L8VGyBc2guN7spSGlDDywjpOk/rAiJ2ZBfYhHHOrlCk5Riw4T+yKckSHVW5Oh/OWNuJwBQ/tXKS1KcI1YcOwK/0I2yjiZb01f35tJ8fokvaWHil9vxQbgTt1nzKmI75Uiq8gDGWW4QbpI6U7SfFJ2AcMkOulbBMXG4GRbaQsRwVvtJAOip3guxCHeb0KzM+mEaAAN1ZcIHYipDNfKwTXhSFhxIdJLc/TyslSjNoOEQf4UCkjVfKIYOBXSGloaXipMFQgjJ80V0hpYImP82VfWSmcjoKHIsNObygXNSARrhMOpcxnG/F1Hu4VLZ8lXSK9Worjo8yZ2ttDSllj/+SJcOxgBykdLRwndoAi7COM+BxHfNiwPRflORdp6lKHLlwnCodS5qudUN/xDdjEM5sLfomWNLB0zmh8XaaPaNYpZ45DrpFS/oxqb5diH2yTX/ZdKyU+YewrbWQuynQu0tRlRyDgQh8WDVeW+bbEeLmmp0oPllIBMNzF0udKEVeMRVqn8mDcHAcjGue10r2kHGvnqNVqlEvFIH2O8T7iWYfNQ0mPrQybxbDSo6wprydJn9LQpSwfLH12s42NUMZ7SneX2jHSUWWESkdtL6ltABsjXUYt3FcbZCPDuv7+dHS6sZb+/MyXbUN9vlZ2lVLW2MwhUq4Rf8GS0eyjpPYjWq3kSv3iYxih2k6IT7w1TRjh3ocNzZUf4byROSQw7AZ2Di91KEm/rEmlNKwji5Qx5gOkjFQxaoSKcJUUJ4qzxakipIHzpFIwomV7UEVQcGSMCBzVXCsOzvXjlVp3B4wl92VZ2o6wjbVS7OZBUmyEfVbshzDbB0vvcxoKiowBAXeaXt5cq/3EK5ptbIbG8uFS/AV2hJ/ARrhPyyzGYilxbA8cQweMWTCEY7wv9lEhGc8fO5DxvPqZXTV5pFIskXq0ShgOEnmy9BApjeT2UqZ1LBg38TD+XZpA0kJJg1ELUzpUICoF4VSMVApBGCOh/Cg7pu1sI5Q74ZTlQdLfkDKTQQPKPVbis99ynVZwnLYBlqTB/Tb2IbYR0rRWO/IzFgTsM35HV4tNUIY0nAizHHtI75AS75HSbaT4A4SOOn6EW1B0xGhgsRGEztdVUuJiIyxLP8J5ImNIgEai7eI8cl+Ne2cYsB0j68jR9aJysHtrHUfKcVSe26RUBhpYKo8dI8vVTRgVxY613K/gyBgQsI28UNfKtB9liY2gdoIv1zqyl9RTg+zHRm6R4hCZFvRIFTvAvnCchA2yEQVHxogAZYrgSxDKFNthyQNLL5EiO0j3l+I32I+dYAvcKsB2bCPYDPuvljK6Jf3YiSC0RexY2pKf/nzYsOlRHtnsLPNMOPIc6Z6NMorF8BH2M6XjYwh3paKyeGRCGPtQV0KtRsaEAOWHvKJeTHTA2LSNMELBRvaWMor1Mezn4RZGJZR9aSPYxzqp7dD2QbzYiSCMkVCGlN8yKQ9HIraNeqvXO0or/0vKPdbFUnfg8R/unDOSpeElLYQHndZKbTfYVexDENognt5oQ14G5QHDxmB/U3qgFCOmolhYZz+9zxdLqQRuTNmHUgGY6nGlwPg5ZlUTxjpK2q4YcZ6CMSaCk6T8sJHHSik724BWKxtgP43q0VIaU7aJg31Q7tgNjhOHyj7SwF6ukhKGEq+0EW1GxogAdkI5HiGlE045E4awpGwZtT5NyjZTwXTOsRG2sRsaX9sCx7OPxpVZMmyGsNiJILRFSkfSljyV+XBD96omkG2MuhRvv1qB3H9l+oYw1I6SSoHxozC7Ucq9tUGVQsGRMSTwsuaaKeN+sY0QZz8ptxBsI9iDO18cixJ2jfQmKUJYHGeFYix/KGt8AA2kp4f7M2Jf8wfaQWfe27YT2wZ2wDrhNMA0sMS1j2G/j9VqZJwJtHkEi5PDWB8m/b2mkDDqfiEMg364dLUUg6cicbwrgVarSkE8nOkqqStEWXHYn8ohCGMilDHlt0zK/VfEo5J6q/61jTxUm9jIGik2Qv3BDpjloNxJC6EBvkrKdmknsQ8BGUOxnfy2rp1RKuXabyfe5iE5/I7/E6vVKi6NKeXPPhTBjojHNmmytI2wjIw5AQynreK8HaYMMl2D03NYmWecpw0eB8o2ggNl6q90nhzPfx37RyapDIIyhmJ7sI149qI/K6WN0GHzcVtrHbvCThCcJHGvlpYPrcRxCsgYi+s3s1xTCeVMp+uRUtsC2wgNLEKHCxvhHwg/kSKEcazthLBICwjYUbQgK/fJAgaM0XLvlHsmiJ0hRlwKTtW9zyVa50ljKgf33JgKds9Sq5UzXd2EeWRSVgxXROJG5jcB28hWukzuvyN0qijvfvmFAmwjPLyCjVDuPNi0TopgDwhxr5Kyn7RsP7ENwRhDwUdSlo+SMoKdiSxTJGyDsud+LY0pHTFswP4CP0Lnvd9GiBNbEYQ2SFsbWDvDZ6iQ9m0K6p1a/pmUPGPAGDbycelfVWu1g91T6zhd4pQjVY67VspfMnw8lcWVwUsFRcaAgG3/13Wtv9pc77u1PLVZxz4oX+RD0vdUa/UIZS+t0xhT5tgDYnu6Wus8tMKxNLq2EeLGRgRhzISOGEInjA47gn/pL0vK2TZF53z3Jg4NLR119mMjpIfNZPQqCG0XG0Sb8okBezRxrNYvkD5eeqKUBhIpnR29y3OkX5Ouli6TLpLyNxymdUiP+OXIhPTtgMu0FBwZEwI4POQE6f9InyB9o5QGEinLlQbzQul/SFdJl0r3kHK7wCMTrVb30xi9ciz2UdqINiNjRoC6Txky+3WUFLlS+iYptwAQ9iOXSj9ardU/+2ixoxT7oKOOr7VN4GeYOfM2S9sby0hLCLSxgXXRPEQrH5D+mvS7TSCjDguVB9lB+iQpvcyzpT+UEkYPEydMY0rca6RUKvdEWaKuGFqNjAkBypNyY6r3fdLHSb8jRXCmFtvI7gr4FSmO8mzpxVJGJtdJSccOco3W6Yixjd2U9hHHKSBjJoxUkaOke0vfIX209KNS79NqJdyHx3d8SbpSis0slWIjNKbYAoKfsd3wwKRtB/uIjQhCm8Q34NuUJxsp98bOajJGw4qRe18TXC12bfbhTInHqBWjpyLY6Am7SkolwXGyv3Se2oyMEQHbAQ3mF5rrHmQjbmB3UxzfNmCakEaUpz89PazV6j4bo99BNsL+yPgRoK4j1Hc6Ycx0IDyrYRuqAvTDW7xofJn5Olf6KCkjWBpTbAIlHTph+KL4EUFou7SxgS3LjBG6DbsMZ93Oc6nW+U8rxs/ohVENjSlO1JVordZ9X82NK+kijlNv5XfcCDASoUzRyYROGI6Tst5W+iDpCinTf4RxLDbjh1YyehWMlgg+5MNNXuhkedTp7NmP0JjSSSM+Szpg2Aydc/sIGltuK7AdGxGEtgvG0GZxIzhVHl0pqCjbSzF+Glx6mYTRsDIyIZzK5Z4n22hkvAlM1bA6Z9gFtkB9YaSCXeEofSyO1KNXO2DixD4EYcyFcqTcUer+ZMLMBg0w8flbIB0xZjhoaLEdOmNrpPYh9iOxE0Fpq2A0kdoRPkAgqBTcS2F6mUqBg6RSUElwpqgrRBpYweiQUN44TuzE08PYCDaBjeBASxsp7US7ImNMgLJEpxL7AxpZOmHYAiNWwrET1rklQTr9nTDiRFpIIA1sXahMEzJKgcetUkatrDMy4WEnKkB6nILQYeF2Co4TZ8nDbkz9YTfMduA8+x2ngiIdIoBdoPgRbIXbBfgPwljnFgI+JH5EELoibb8HO5NypPFk5MpUMZWBqT+mh5HcV6s5dP0XG2H0yuiEdf7u5VEN9+f90IqdJ3GsWo20kAC+ohTKm2c48CXunDPTQSfsGimNLaNaj15tHywjLSXQtRFsWSm8TgXwyARHyYiEfVSI/pEJFSQVQhA6Jh69km1shKk+7IZbCWj/6NXOU7siLSSAfxjkB/Aj+FTsAT/CkoclB92fZ1+k5QS61sAOKk4/nEClYdrP0zqrtc79WE/rUCHsOAdVLu2OtJQAIxMa1HJkQmeL0Sv3Xj0qKW1EwZEOEaAThi9BsAdmwrAZGlduOxHmGY7YiWB0QbrWwNKI9guVAIEFI1Yc543S/pFJRq+C0gEZZCM4T4tHJtiK10vn6U6Y42fZTgL9dmJfypKnh+mcc++V6WEa1tJGMnoVkC6IjaILeSWP/ZWCMI9GMXocJhVhtdQjE/c67TgdX1EiLSQwyEbIJuHYBh0vbILRK9u+/+oOWOxDUFouk9kIZe+Oum2EBybdwGIjblxjJy03ErLXlQZ2sgrhImaEwpOhTOVwf40RLJUB5+lKkQohGB0Q24qXZJmyZ6YDG2FUwkNO3Eqw42SZaT9BaLnYJibzm4TTMfdT5vwDAdtIJ0wQuiiTGUpbWQzKL86TiuMGlpEJFcKVIs5TMCKVjdDxohOG4/TolWU6YYLQccGP4F8YsdL5wkZ4ihj7QPEjsRNB6JIManC6lH/ySuPK6INRCffVcKJUhn7HmRGsoHRUsBHsgVsI3FPjHhvb7oThOLGP2IggdFjwp/gPFH8yaPSq4EhXCKSBrRtYP4ywRgWP02Sah8qBeupPq5GOEqCe8HcLZjd4KhT7sI2kcRWMSNVRx18wcl0lZfSKjbgTZj+STpigdEW61sAOMm7uv9Lj/LGUqR0qBMoIJZVCECLV/VdGJJdLuZVgx9k/yxFU3SWAL6VRvUKKrWAjPEmMjaSjLghdFBqXLsmgBpbpv+XSH0lpWKkULFMpBKGDYhvx0ghwnCidLmY8cKCxEUHooPTbBgh4CI7bB9+X0tDiQ7ARGtjMcghCF6UrDawrRDliJ4zGlYrwn1KeHoaHe51UCo9gtRrpCAHbCtm1jXDP9WwpD7BgM6XjjI0ISEfEtuFlmW0a2G9L10i3lmIj+Jb4EUHoqnSlgXX5MuLol9UK+J6UiuBRSSpFP6XubJfO0+vYyA+kvGfWIxJsCTtxHK1GOkKAMu8vd94C9y0psxvYRWkng+IrSqTtBLrWwJaVgpEHI9qLpIxecZ5uWNmXkYkgRCoCl+iXmQ1GKZ4Wjo1UaDr5U/oRr68VCbTfPmwnnQTV9Ux3rYEdVN5M4yDliCQ9zppJfmsCjEoQj0psH3au9d78dpkA/gNfgo3QEXMHPTYiGF2VNLAbSt6j11SIDUyyVhPgvivi0UhspOaR3w0EsBE3qraTDXuz1kkC5UM/nQRQZBqnGcdZAMnqBAHbRWxkAklW+giUtmF76YuSza4RSAPbtRJPfkMgBEIgBEZCIA3sSDDnJCEQAiEQAl0jkAa2ayWe/IZACIRACIyEQBrYkWDOSUIgBEIgBLpGIA1s10o8+Q2BEAiBEBgJgTSwI8Gck4RACIRACHSNQBrYrpV48hsCIRACITASAmlgR4I5JwmBEAiBEOgagTSwXSvx5DcEQiAEQmAkBNLAjgRzThICIRACIdA1Amlgu1biyW8IhEAIhMBICKSBHQnmnCQEQiAEQqBrBNLAdq3Ek98QCIEQCIGREEgDOxLMOUkIhEAIhEDXCKSB7VqJJ78hEAIhEAIjIZAGdiSYc5IQCIEQCIGuEUgD27UST35DIARCIARGQiAN7Egw5yQhEAIhEAJdI5AGtmslnvyGQAiEQAiMhEAa2JFgzklCIARCIAS6RiANbNdKPPkNgRAIgRAYCYE0sCPBnJOEQAiEQAh0jUAa2K6VePIbAiEQAiEwEgJpYEeCOScJgRAIgRDoGoE0sF0r8eQ3BEIgBEJgJATSwI4Ec04SAiEQAiHQNQJpYLtW4slvCIRACITASAikgR0J5pwkBEIgBEKgawTSwHatxJPfEAiBEAiBkRBIAzsSzDlJCIRACIRA1wikge1aiSe/IRACIRACIyGQBnYkmHOSEAiBEAiBrhFIA9u1Ek9+QyAEQiAERkIgDexIMOckIRACIRACXSOQBrZrJZ78hkAIhEAIjIRAGtiRYM5JQiAEQiAEukYgDWzXSjz5DYEQCIEQGAmBNLAjwZyThEAIhEAIdI1AGtiulXjyGwIhEAIhMBICaWBHgjknCYEQCIEQ6BqBNLBdK/HkNwRCIARCYCQE0sCOBHNOEgIhEAIh0DUCaWC7VuLJbwiEQAiEwEgIpIEdCeacJARCIARCoGsE0sB2rcST3xAIgRAIgZEQSAM7Esw5SQiEQAiEQNcIpIHtWoknvyEQAiEQAiMhkAZ2JJhzkhAIgRAIga4RSAPbtRJPfkMgBEIgBEZCIA3sSDDnJCEQAiEQAl0jkAa2ayWe/IZACIRACIyEQBrYkWDOSUIgBEIgBLpGIA1s10o8+Q2BEAiBEBgJgTSwI8Gck4RACIRACHSNQBrYrpV48hsCIRACITASAmlgR4I5JwmBEAiBEOgagTSwXSvx5DcEQiAEQmAkBNLAjgRzThICIRACIdA1Amlgu1biyW8IhEAIhMBICKSBHQnmnCQEQiAEQqBrBNLAdq3Ek98QCIEQCIGREEgDOxLMOUkIhEAIhEDXCKSB7VqJJ78hEAIhEAIjIZAGdiSYc5IQCIEQCIGuEUgD27UST35DIARCIARGQiAN7Egw5yQhEAIhEAJdI9C1BnZ9U8As7y3Wu1buye/kBGIjk7PJng0EbCfxIxuYZK2PwJZ9223f3KLJIEuvm8GCtmc++ZsRAdvFVkXscr0IzmrHCOAjaFhZbtPk3baxdbOdRQhMEHDjMhHQ8pVblL810tul9Dx3kV4rRdwjrbfy21UCNynj2AS2gjxIel21FhtpMHR2YR9xlwhcKt1ByvoDpVdKPZrVaiQE6p5YlzjQofhfRYbpid4tpZJEQgAC2AijETtTbAT7wE4iIQABbOIBfShoXO/oC8tmCIRACIRACIRACITAsAnQE+uaDMqzRytdY5H8DibQbyOxj8GcuhzabyOwiJ102SKS9xAIgRAIgRAIgRAIgRAIgRAIgRAIgRAIgRAIgRAIgRAIgRAIgRAIgRAIgRAIgRAIgRAIgRAIgRAIgRAIgRAIgRCo/jAdDCEQAiEQAjMnMOgvOhydv+nMnGEnYvq9q23JLPnhTTx8xGBTXltGBeIdo+aTiiMYLRPshPKlrDemfEsbwd42Jg0dFhkjApQzNjOZb8EmsKvYgiBE2vWqxI11lP12MCidQWH9x2V7fAnMtnxxsvcMyO5s0xmQRILmIQEaVqRsWHfWNq9LJIxyv1X6M6nFDXEaWxPp4BLDaIPYsR2uzDxReon0w9LZGrfTofK8WvoQ6eek50k3dVSsJCLziMCRupbHSv9N+jXpTMuXEcovpUukr5LyVZVfSD8oXSe1DWk10gICZWfqCcrPc6UHSX9FupsUWyDOj6UXSc+Vfl56jRSZqV3VsfMbAvOQAE4P+VMpjSq6rxRx77PemvrX6eB8nc6vN4dQiSLjTYDGz/ItrVDG720CZlK+to99dMxlzfGk8YomjTL9JiiLMSZgm9hdefiElMbUfmGq5fWK90apxel4O8sQGCsCdmx8fu5qKcb/liYHszFup3NWk8aXmzQc3mxmMaYEynL8ovKAnfxFk5fp7MSN64GKv7o5ls/YPa45Pot2EbA9/JayxcyEG9SLtf6X0udJD5A+RspMCLMZZ0hvkDruV7XO5w6R2XT06yPyGwLziIAN+KO6Jgz8QqkryUwu0853qSLzLVDS+IPmwNmk0xySxTwk4DLm0v5dShmfyoZkqjJ24/o0xbOzXaV1GlvE++ut/I47AdsCjSv32rGTn0qPl5afu9Tm/QT/8XEpx6DMlDxQipT2V4fkNwTGhIArxe/qem3chzTX7n1TZcVO8nXN8Xx0e3FzgBvvqY7PvvlPoHRwM2lgiW+7eLbWudeKbf1QukyKeH+9ld9xJ+C6vkgZWSulvNdIue9qoczxKf1a2sJJ2m8/dIbWEaddb+U3BMaIgJ0nH8vGAWLcpzXXP10D62OJzgMvHPsxNiTTHVvHyu84ECjLeboGlrh2iNyT90jmfK1zKwIpHWodkt9xJ+D6/g/KCH7gDulTmkwxei1tqAm+z4LjbTfv1rob2UObWE7/PgdlIwTGgYCN9+26WAx7ldT3QKaqGK4Q3E+xI2XEgjjNeiu/40ygtIGpGljiOe4fa91O8ita56lhJI1rzaFNv67r+IE7pZT7O5sMbtUsZ7KwP6Gzz5PFpHNecaBtqwjKagjMfwKuIE/Upd4rxbBf3Fz2VA7R+6hMHHOldCYNc5N0FmNCoHRskzWwdo5k6W1S7AH9J6n32V4UFGkRAfuPv1KeKPOfSDf2NpFt5GVNWvgj/BJiO6q38hsCY0KgdKDn6JqpJP/YXPtkRu1jyt4mUzuIK1y9ld9xJ+CyJh+DGtiyvP9acdy4fqTIeBmnCM5qSwjQMPovWKc3edqYMretPVhprJZiSyc36bnxbTazCIHxIeDK8Ee6ZIz6RukezeXb6JvNauH4v6Ut4jNFnJ5mhaZ1P2X59zew3F+zfEwrblw9Rci+yTppPi7L8SXgsmV6+HYp5f/CJjv2Ec3mjBc+7kwdQXrcYkCww9IWq8D8tI+AjapNOcOQkbOkN0l5K9NzpIgNvt667+/zm81va4kiTOtEukHgLmWTWQzshoeakLdK3yylnuAQYw+C0FJxg7eP8reNlEaWkeymiNPkv7MIHf0dpfZRhEVaTKCNDSxOkHytkTJKQXi9GcLo1EbPNuuEYfS/K0U+VS+mbIybKFm0gICn63gy+KtSd8bIGq/Dw0bSsEKj3WK/4Huu1yq7zH4hG9sg+jie6UAWSfE1iM9Xb+W3lQTa2MBSUDbezzWl9jQt95di8N6n1YlG9He0vrf0FukXpIgrR72V37YRcPnyAoEHSb8hPUS6WvpxKfIC6buqtfvaTROURQsJbNvk6W4tUcS2Um/N/pfRMIKdOf0qID/tJtDWBtYjDkYkl0u5v/aipijLBpbRK+Injf9D6yulTCU7Da1GWkjAtv945Y3G9dFSRi3cdztS+lkp8gbp4VLswaNdrUZaTqD0E5uaVadFQ72pjfWmXkuOD4GhEPD9VkYgGPX3pQ7D4G30S7V+k5Q4z5Mijldv5bctBFzm5IfOF2VOJ4vlKukBUssDtILNsI8RyMFSJI1szaFtvy7XY5Qx24Oni90Zm22e7Ude2qR5vZZ7NYlsbJqzvYbED4E5IWDjfpxStxN9anMm9rlCvVbrVCjuk+wgRUpHXIfktw0EynJ1A0vZXypd2mQQu7DtPEbrN0uJs1K6qxTx/norv20g4DLleQ3K+y4p9+AR76u3Zv5rH3OKDiHNH0iZJkZKW6xD8hsCY0bARnyurhsD/+vm+ssK8/Vm32nNPleKZjOLFhGwPZAlHoDDJr4jfbAUKcve63a4xP1yFav+KdMqgrM6pgQ8otxX1/9zKeX9f5q8lP6iCbrfguOdBjuxD9vIv2md9PI3HUGItIeAK4b/E7taWdupyN6BWudBBoz/CU14WUmaoCxaQsAOj+zQWFLuf86GpPwfbB2yYeTyVgUQF31vs9MNcLOZRYsIfE95oax5exdiP1Jv3f+39Bm2C4ctUfTrpKR3cnOo4zSbWYTAeBKwkS/T5fPIPUbu/7tqdeJVeOew0UjphB2WZTsIlGXrEezbm6wNcqJlfB56wn7Qo5tjZvN+2uaQLOYxAdvA/9U1Us63SB/eXK99SbM5sXD4MoX4/irpuMN2nNZJiynng6SIj6m38hsCY0zAleZflAcM/cwmLzjHC5uw1zdh6Vk2IFq6KBtMN7CnNnm1nfRn3c6Qh54ulmJDTCE+UYrEZmoObfh1WdOo0rhS1h9uMjaonG1P/Id6hfQa6SFNfBaLpKulpOPbCxzj47QaCYHxJmDHeZiygaHfJqVCPKnYXqp1JIZfc2jrb1m+M21gYWEb2k/r2A92tErqe7d2zAqKjDkBlzW3Aihn9AVNnuiUl2Vte8IOyhmOk7TNW8G+KHUaT9U64vTrrfyGwJgTcIWgEqyWYvBHSxm5sO4RrSuLgiItJVCW8WwaWHB4BPNCrd8rxXb437SlTNthWY4fAfuLHXXpK6WU883SQ6UW4tBQYhM0upZXauUGKcfY17D+HimSxrXmkN+WEbBz/BvlC4P/lpS/5bDu3qnjKCjSUgJlIzjbBhYktpFTtI7toH763I5ZQZExJ+CG8DHKh5/d4K9+75cuniZvb9F+7MJ/DfznJj5plvbXBGcRAuNPwM7vKcoKxu8nh7lvsn2TvRh/A6LFi7KMPX33F01+7VSnyj7HOw1eqelG9ohZpDFV+tk3fwjYHrgtwP+kXdbrtP4ZKc9tPEvKyJZOOi+04eljHmZyXJaXS8v7srYfBUdCoB0ESqO+WFlyBfhAkz1XpnbkNrmYjEBpB+crEnbw3ibyTG3AnbUddFxpS89s0vH+ZjOLMSZgm+ABN24p0bjad0y1pEF+sfR9RfzjtW4p7dBhWbaQQJcKmrxSKR4vPbApy69quVbqfU1wFh0g8JvK40Ol35Ey8piNDeB4mQLkeEYnHHuVlHuys0lH0SPznIDLmsvcU/p0KU+QHyTdXfpLKbcOGKn+t5TbTzwxfIcUeYWUjvw20g9JeRVjbEQQIu0jgGH3y6Cw/jjZbjeBjbEBHG+/bEw6/Wlke/4RoFx9/728OsKwg8n2eTaDxpiG9/ekiMPrrfy2lkAXHQIVwvn2gwitLeBkbFIC2AGODhvgqeCNEY63s2R2hLQi7SXg8sZeBtmM95d+BTuLXbTXJpKzEAiBEAiBzUjAnTB37DfjpeTUIRACIRACIdAuAmlc21WeyU0IhEAIhEAIhEAIhEAIhEAIhEAIhEAIhEAIhEAIhEAIhEAIhEAIhEAIhEAIhEAIhEAIhEAIhEAIhEAIhEAIhEAIhEAIhEAIhEAIhEAIhEAIhEAIhEAIhEAIhEAIhEAIhEAIhEAIhEAIhEAIhEAIhEAIhEAIhEAIhEAIhEAIhEAIhEAIhEAIhEAIhEAIhEAIhEAIhEAIhEAIhEAIhEAIhEAIhEAIhEAIhEAIhEAIhEAIhEAIhEAIhEAIhEAIhEAIhEAIhEAIhEAIhEAIhEAIhEAIhEAIhEAIhEAIhEAIhEAIhEAIhEAIhEAIhEAIhEAIhEAIhEAIhEAIhEAIhEAIhEAIhEAIhEAIhEAIhEAIhEAIhEAIhEAIhEAIhEAIhEAIhEAIhEAIhEAIhEAIhEAIhEAIhEAIhEAIhEAIhEAIhEAIhEAIhEAIhEAIhEAIhEAIhEAIhEAIhEAIhEAIhEAIhEAIhEAIhEAIhEAIhEAIhEAIhEAIhEAIhEAIhEAIhEAIhEAIhEAIhEAIhEAIhEAIhEAIhEAIhEAIhEAIhEAIhEAIhEAIhEAIhEAIhEAIhEAIhEAIhEAIhEAIhEAIhEAIhEAIhEAIhEAIhEAIhEAIhEAIhEAIhEAIhEAIhEAIhEAIhEAIhEAIhEAIhEAIhEAIhEAIhEAIhEAIhEAIhEAIhEAIhEAIhEAIhEAIhEAIhEAIhEAIhEAIhEAIhEAIhEAIhEAIhEAIhEAIhEAIhEAIhEAIhEAIhEAIhEAIhEAIhEAIhEAIhEAIhEAIhEAIhEAIhEAIhEAIhEAIhEAIhEAIhEAIhEAIhEAIhEAIhEAIhEAIhEAIhEAIhEAIhEAIhEAIhEAIhEAIhEAIhEAIhEAIhEAIhEAIhEAIhEAIhEAIhEAIhEAIhEAIhEAIhEAIhEAIhEAIhEAIhEAIhEAIhEAIhEAIhEAIhEAIhEAIhEAIhEAIhEAIhEAIhEAIhEAIhEAIhEAIhEAIhEAIhEAIhEAIhEAIhEAIhEAIhEAIhEAIhEAIhEAIhEAIhEAIhEAIhEAIhEAIhEAIhEAIhEAIhEAIhEAIhEAIhEAIhEAIhEAIhEAIhEAIhEAIhEAIhEAIhEAIhEAIhEAIhEAIhEAIhEAIhEAIhEAIhEAIhEAIhEAIhEAIhEAIhEAIhEAIhEAIhEAIhEAIhEAIhEAIhEAIhEAIhEAIhEAIhEAIhEAIhEAIhEAIhEAIhEAIhEAIhEAIhEAIhEAIhEAIhEAIhEAIhEAIhEAIhEAIhEAIhEAIhEAIhEAIhEAIhEAIhEAIhEAIhEAIhEAIhEAIhEAIhEAIhEAIhEAIhEAIhEAIhEAIhEAIhEAIhEAIhEAIhEAIhEAIhEAIhEAIhEAIhEAIhEAIhEAIhEAIhEAIhEAIhEAIhEAIhEAIhEAIhEAIhEAIhEAIhEAIhEAIhEAIhEAIhEAIhEAIhEAIhEAIhEAIhEAIhEAIhEAIhEAIhEAIhEAIhEAIhEAIhEAIhEAIhEAIhEAIhEAIhEAIhEAIhEAIhEAIhEAIhEAIhEAIhEAIhEAIhEAIhEAIhEAIhEAIhEAIhEAIhEAIhEAIhEAIhEAIhEAIhEAIhEAIhEAIhEAIhEAIhEAIhEAIhEAIhEAIhEAIhEAIhEAIhEAIhEAIhEAIhMDmJvD/AaHa9R0XuHopAAAAAElFTkSuQmCC)\n",
        "\n",
        "### Encoder\n",
        "With multi-head attention out of the way, the hard parts are behind us. What remains is an additional feed forward network and two residual connections ([He et al., 2016](https://ieeexplore.ieee.org/document/7780459)) to form an encoder layer:\n",
        "\n",
        "$$\n",
        "\\begin{align}\n",
        "\\operatorname{mha-residual}\\colon \\mathbb{R}^{s\\times d_\\text{model}}\\to\\mathbb{R}^{s\\times d_\\text{model}} & \\quad\\text{via}\\quad x \\mapsto \\operatorname{LayerNorm}(\\operatorname{mha}(x)+x)\\\\\n",
        "\\operatorname{ffn-residual}\\colon \\mathbb{R}^{s\\times d_\\text{model}}\\to\\mathbb{R}^{s\\times d_\\text{model}} & \\quad\\text{via}\\quad x \\mapsto \\operatorname{LayerNorm}(\\operatorname{gelu}(x\\mathbf{W}^I+b^I)\\mathbf{W}^{O'}+b^{O'} + x)\\\\\n",
        "\\operatorname{encoder}\\colon \\mathbb{R}^{s\\times d_\\text{model}}\\to\\mathbb{R}^{s\\times d_\\text{model}} & = \\operatorname{ffn-redisual}\\circ\\operatorname{mha-residual}\n",
        "\\end{align}\n",
        "$$\n",
        "![Screenshot 2025-06-02 at 16.37.58.png](data:image/png;base64,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)"
      ],
      "metadata": {
        "id": "kymPeR0kjyY3"
      }
    },
    {
      "cell_type": "code",
      "source": [
        "from torch.nn import Module, Linear, LayerNorm, ModuleDict\n",
        "from torch import Tensor\n",
        "from torch.nn.functional import softmax\n",
        "import math\n",
        "\n",
        "class TransformerEncoder(Module):\n",
        "\n",
        "  def __init__(self, config: TransformerConfig) -> None:\n",
        "    \"\"\"\n",
        "    Initializes the weights for the transformer model. The trickiest part here\n",
        "    is to keep the same names as the Hugging Face transformer checkpoints.\n",
        "    \"\"\"\n",
        "    super().__init__()\n",
        "    self.config = config\n",
        "    # We already initialize all submodules for you here and you can simply\n",
        "    # access them like you would with member variabels. For example, to access\n",
        "    # the self-attention key matrix, you can use `self.attention.self.key`.\n",
        "    self.add_module(\"attention\", ModuleDict({\n",
        "              \"self\": ModuleDict({\n",
        "                  \"key\": Linear(self.config.model_dim, self.config.num_heads * self.config.key_dim),\n",
        "                  \"query\": Linear(self.config.model_dim, self.config.num_heads * self.config.key_dim),\n",
        "                  \"value\": Linear(self.config.model_dim, self.config.num_heads * self.config.value_dim),\n",
        "                  }),\n",
        "              \"output\": ModuleDict({\n",
        "                  \"dense\": Linear(self.config.num_heads * self.config.value_dim, self.config.model_dim),\n",
        "                  \"LayerNorm\": HFLayerNorm(self.config.model_dim),\n",
        "              })\n",
        "            })\n",
        "    )\n",
        "    self.add_module(\"intermediate\", ModuleDict({\n",
        "        \"dense\": Linear(self.config.model_dim, self.config.inner_dim)\n",
        "    }))\n",
        "    self.add_module(\"output\", ModuleDict({\n",
        "        \"dense\": Linear(self.config.inner_dim, self.config.model_dim),\n",
        "        \"LayerNorm\": HFLayerNorm(self.config.model_dim)\n",
        "    }))\n",
        "\n",
        "  def scaled_dot_product_attention(self, query: Tensor, key: Tensor, value: Tensor) -> Tensor:\n",
        "    \"\"\"\n",
        "    Calculate the scaled dot product attention (sdpa) of the given query, key,\n",
        "    and value tensors. Each tensor has at least rank 2 with the last two\n",
        "    dimensions beeing the sequence length (s), and number of attention heads\n",
        "    times the respective dimension (h*d), where d is self.config.key_dim for key\n",
        "    and query and self.config.value_dim for value. The output should have the\n",
        "    same rank as the input and the same shape as the value tensor.\n",
        "    \"\"\"\n",
        "    # Hint: if we transpose the tensors such that the heads are at the third\n",
        "    # last dimension, we can compute sdpa for all heads within the same tensor-\n",
        "    # operation\n",
        "    facq = rearrange(query, \"... s (h d) ->... h s d\", h=self.config.num_heads)\n",
        "    fack = rearrange(key, \"... s (h d) ->... h s d\", h=self.config.num_heads)\n",
        "    facv = rearrange(value, \"... s (h d) ->... h s d\", h=self.config.num_heads)\n",
        "    # Compute softmax((QK^T) / sqrt(d_k)) * V\n",
        "    attn = softmax((facq @ fack.transpose(-1, -2)) / math.sqrt(self.config.key_dim), -1) @ facv\n",
        "    return rearrange(attn, \"... h s d -> ... s (h d)\")\n",
        "\n",
        "  def multi_head_attention(self, query: Tensor, key: Tensor, value: Tensor) -> Tensor:\n",
        "    return self.attention.output.dense(self.scaled_dot_product_attention(query, key, value))\n",
        "\n",
        "  def forward(self, input: Tensor) -> Tensor:\n",
        "    mha = self.multi_head_attention(self.attention.self.query(input), self.attention.self.key(input), self.attention.self.value(input));\n",
        "    attention = self.attention.output.LayerNorm(mha + input);\n",
        "    intermed = gelu(self.intermediate.dense(attention));\n",
        "    return self.output.LayerNorm(self.output.dense(intermed) + attention);"
      ],
      "metadata": {
        "id": "ZMSMMhacKea_"
      },
      "execution_count": null,
      "outputs": []
    },
    {
      "cell_type": "markdown",
      "source": [
        "#### Further Reading\n",
        "- Kevin Clark, Urvashi Khandelwal, Omer Levy, and Christopher D. Manning. 2019. [What Does BERT Look at? An Analysis of BERT's Attention](https://aclanthology.org/W19-4828/). In *Proceedings of the 2019 ACL Workshop BlackboxNLP: Analyzing and Interpreting Neural Networks for NLP*, pages 276–286, Florence, Italy. Association for Computational Linguistics."
      ],
      "metadata": {
        "id": "EzjzWZDOYAE4"
      }
    },
    {
      "cell_type": "markdown",
      "source": [
        "## Bringing it all together: BERT and MLM Decoding\n",
        "\n",
        "The previous sections described and implemented the embedding and encoder layers. What remains is to bring these together and form BERT. Let $\\operatorname{embed}$ be BERT's embedding function as defined above, and $\\operatorname{encoder}_i$ denotes the $i$-th encoder layer for $1\\leq i\\leq \\ell$, where $\\ell$ is the number of encoding layers (a hyper parameter of the architecture). BERT is the sequential application of each of these functions:\n",
        "$$\\operatorname{BERT}\\colon x\\mapsto \\operatorname{encoder}_\\ell(\\dots \\operatorname{encoder}_1(\\operatorname{embed}(x)))$$"
      ],
      "metadata": {
        "id": "c8exncPLHcKF"
      }
    },
    {
      "cell_type": "code",
      "source": [
        "from torch import Tensor\n",
        "from torch.nn import Embedding, Module, ModuleDict, Parameter, Sequential\n",
        "\n",
        "class BERT(Module):\n",
        "  def __init__(self, config: TransformerConfig) -> None:\n",
        "    super().__init__()\n",
        "    self.embeddings = BERTEmbedding(config)\n",
        "    self.register_module(\"encoder\", ModuleDict({\"layer\": Sequential(*(TransformerEncoder(config) for _ in range(config.num_layers)))}))\n",
        "\n",
        "  def forward(self, input: Tensor) -> Tensor:\n",
        "    embeds = self.embeddings(input)\n",
        "    return self.encoder.layer(embeds)"
      ],
      "metadata": {
        "id": "2fB1BD1oUz9p"
      },
      "execution_count": null,
      "outputs": []
    },
    {
      "cell_type": "markdown",
      "source": [
        "## Masked Language Modeling (MLM)\n",
        "\n",
        "Finally, we want to see BERT in action and do something with it but before we do, let us first consider the task that BERT is trained on. Recall continuous bag of words modelling from the introduction, where the model is given a context and should predict the word \"in the middle\". And interesting observation is that the static embeddings trained in this way are not only effective at the task that they are trained for, which would be rather pointless, but are also proficient at capturing semantics such as how different words relate. As such, it makes sense to translate this task into the transformer domain. One such task is *masked language modeling (MLM)*.\n",
        "\n",
        "**Masked Language Modeling** gives each token at 15% chance to be selected and multiple tokens may be selected. Each selected token is then replaced with a special `[MASK]` token (\"masked out\") with an 80% probability, or replaced with a random word (10% probability), or kept as is (10% probability). The model is then tasked with reconstructing all selected tokens.\n",
        "\n",
        "Since BERT is trained on this task, we can recreate its decoder layer, which applies a linear transformation to BERT's output and then calculates the similarity between each output vector and the token embeddings, a $d_\\text{model}\\times v$ matrix, where $v$ is the vocabulary size. Ideally, for every token, the token with the highest inner product to the contextual embedding should be same token as in the unmodified input.\n",
        "\n",
        "## Questions\n",
        "1. What is the difference between a token being selected and left unchanged and a token not being selected?"
      ],
      "metadata": {
        "id": "RMmkLigFpkn2"
      }
    },
    {
      "cell_type": "code",
      "source": [
        "class MLMDecoder(Module):\n",
        "  def __init__(self, config: TransformerConfig, embeddings: BERTEmbedding) -> None:\n",
        "    super().__init__()\n",
        "    self.add_module(\"predictions\", ModuleDict({\n",
        "        \"transform\": ModuleDict({\n",
        "            \"dense\": Linear(config.model_dim, config.model_dim),\n",
        "            \"LayerNorm\": HFLayerNorm(config.model_dim),\n",
        "        }),\n",
        "    }))\n",
        "    self.predictions.register_parameter(\"bias\", Parameter(torch.zeros(config.vocab_size)))\n",
        "    self.embeddings = [embeddings]  # Don't register these as a submodule\n",
        "\n",
        "  def forward(self, input: Tensor) -> Tensor:\n",
        "    transformed = self.predictions.transform.LayerNorm(gelu(self.predictions.transform.dense(input)))\n",
        "    return transformed @ self.embeddings[0].word_embeddings.weight.T + self.predictions.bias\n",
        "\n",
        "class BERTMLM(Module):\n",
        "  def __init__(self) -> None:\n",
        "    super().__init__();\n",
        "    self.config = TransformerConfig()\n",
        "    self.bert = BERT(self.config)\n",
        "    self.cls = MLMDecoder(self.config, self.bert.embeddings)\n",
        "\n",
        "  def forward(self, input: Tensor) -> Tensor:\n",
        "    return self.cls(self.bert(input))"
      ],
      "metadata": {
        "id": "yfnmUXYWplit"
      },
      "execution_count": null,
      "outputs": []
    },
    {
      "cell_type": "markdown",
      "source": [
        "## Testing it all\n",
        "\n",
        "Finally, we can combine all of the above to check that our output matches the Hugging Face BERT reference implementation and see if BERT gives fitting outputs if we pass it a cloze such as `This [MASK] the way!`.\n",
        "\n",
        "The following code cell initializes the Hugging Face BERT model and calculates its outputs."
      ],
      "metadata": {
        "id": "ZXLjlCeGHhRD"
      }
    },
    {
      "cell_type": "code",
      "source": [
        "from transformers import AutoModelForMaskedLM, AutoTokenizer\n",
        "\n",
        "hftok = AutoTokenizer.from_pretrained(\"bert-base-uncased\")\n",
        "hfbert = AutoModelForMaskedLM.from_pretrained(\"bert-base-uncased\")\n",
        "\n",
        "input_ids = hftok(\"This [MASK] the way!\", return_tensors=\"pt\").input_ids\n",
        "\n",
        "hfout = hfbert(input_ids).logits\n",
        "print(\"================================\")\n",
        "print(\"Output by the HF implementation:\")\n",
        "print(hfout)"
      ],
      "metadata": {
        "colab": {
          "base_uri": "https://localhost:8080/",
          "height": 561,
          "referenced_widgets": [
            "341bf73f95cf4073b0f6ef4dbb894bb2",
            "8eca2e89185b4fd2a6ce2b01ec240929",
            "cdad19153fde4d6486f4f4940e7f8432",
            "96e6dc6340e74c3c8fbe002a1ee19caa",
            "286d707a52d04d9e848af53b956a8824",
            "c992e66871d143ffb0d90299d70d9d3d",
            "fc9e85315aed4b438c40e31fcfa3bef1",
            "3ef05975eeae49659027837765259819",
            "38ede7224a4b4d0aa46d681c01788c94",
            "f32d1b872ed046af9618f789b55279bc",
            "a0513ab7865b4d29aec47f1bfa2a3f20",
            "b9a2e636c4d649a1a692bcf00e5bfbe3",
            "d7314f136ca7403e80937c482e9ef678",
            "532d46c9e4f24c05b62d610099800fd7",
            "e3e9b656d82b443aae1115e9683b5ad4",
            "b3b52b9c30b1422caf82e70637664552",
            "5703bd1cb3104547bd8fe4f8045e6432",
            "b9cf164d3f5c4c0ca7b277460d4cbf69",
            "db0a4b33844144d4be1270ae92e250dd",
            "9c77917438ff4b8b93f9279d348193fd",
            "95973ca9c48541209f5586ca0e3be986",
            "26c55b96fba24e1e98310ca4fbfaa582",
            "0462f6cc416e4ce7940b0829e46046e7",
            "f3e95f173c2041b08b4e60f296de0b54",
            "6e1a3018dec74898879cc488d04484e6",
            "a2413558d2b64219817ec45b0d257651",
            "7d762e336fcc48f9acc8085f2788a7da",
            "f352a7642fb44edf83e37ec629896fd9",
            "579b163e1bd54ce284d83457cbc43555",
            "b2e34f1af4a54e988370f25b6385f1ce",
            "d7787d17ea76477992e1f92de0db78dd",
            "1ed3562ad9474d2cbf2739cc7ee3a6ea",
            "85726ae322c349c9a7090aab723786da",
            "361ea9a2465347dc99b7be2468032e75",
            "f9d4d51786004f1095f52e9adcc6fb69",
            "28805e8831be498bb5f0095dc1a7cdc2",
            "17d5491e9efe4bcbb9040aa6f9fbfb45",
            "681a864ec548443c9b5a749bab0a4951",
            "69bbca97aeea437da1f1ee47dd0278bc",
            "edc94978b90245d6937d13e580ae013e",
            "928f16a468344ca4b16fde4abd8a24be",
            "fce4dee968a3406cace779f9f156c30e",
            "480ddbbe66624d8d92b59bbc283723bf",
            "d90571b66c494b80b64430ebe53d025c",
            "103418ff9b40463ba6489069dd119f3e",
            "709b1983e8884686a0710cbe284114cf",
            "701b9aa4747e49ec8890b2921072bcab",
            "614672717dcb4835bbf4bb5f8a45c322",
            "c0762a310c284f2a9e9a484bdfa098fc",
            "66f0e8d6fbdd42f4a5336f9e43179960",
            "79baf2034c7946e1b8bae1865da50b69",
            "60921d4efdca43c4bcbebadd7b093cb2",
            "24bd2b1f39094c0e835f10fef7e9bc7e",
            "5a8a79bc8bda4d3d9d17ebe3825af983",
            "72de8c64477c4a77924189b0b243bfa2"
          ]
        },
        "id": "1sBLsyIyS0BN",
        "outputId": "f193c89e-5589-4cbd-92d0-8c7cf696db3c"
      },
      "execution_count": null,
      "outputs": [
        {
          "output_type": "stream",
          "name": "stderr",
          "text": [
            "/usr/local/lib/python3.11/dist-packages/huggingface_hub/utils/_auth.py:94: UserWarning: \n",
            "The secret `HF_TOKEN` does not exist in your Colab secrets.\n",
            "To authenticate with the Hugging Face Hub, create a token in your settings tab (https://huggingface.co/settings/tokens), set it as secret in your Google Colab and restart your session.\n",
            "You will be able to reuse this secret in all of your notebooks.\n",
            "Please note that authentication is recommended but still optional to access public models or datasets.\n",
            "  warnings.warn(\n"
          ]
        },
        {
          "output_type": "display_data",
          "data": {
            "text/plain": [
              "tokenizer_config.json:   0%|          | 0.00/48.0 [00:00<?, ?B/s]"
            ],
            "application/vnd.jupyter.widget-view+json": {
              "version_major": 2,
              "version_minor": 0,
              "model_id": "341bf73f95cf4073b0f6ef4dbb894bb2"
            }
          },
          "metadata": {}
        },
        {
          "output_type": "display_data",
          "data": {
            "text/plain": [
              "config.json:   0%|          | 0.00/570 [00:00<?, ?B/s]"
            ],
            "application/vnd.jupyter.widget-view+json": {
              "version_major": 2,
              "version_minor": 0,
              "model_id": "b9a2e636c4d649a1a692bcf00e5bfbe3"
            }
          },
          "metadata": {}
        },
        {
          "output_type": "display_data",
          "data": {
            "text/plain": [
              "vocab.txt:   0%|          | 0.00/232k [00:00<?, ?B/s]"
            ],
            "application/vnd.jupyter.widget-view+json": {
              "version_major": 2,
              "version_minor": 0,
              "model_id": "0462f6cc416e4ce7940b0829e46046e7"
            }
          },
          "metadata": {}
        },
        {
          "output_type": "display_data",
          "data": {
            "text/plain": [
              "tokenizer.json:   0%|          | 0.00/466k [00:00<?, ?B/s]"
            ],
            "application/vnd.jupyter.widget-view+json": {
              "version_major": 2,
              "version_minor": 0,
              "model_id": "361ea9a2465347dc99b7be2468032e75"
            }
          },
          "metadata": {}
        },
        {
          "output_type": "stream",
          "name": "stderr",
          "text": [
            "Xet Storage is enabled for this repo, but the 'hf_xet' package is not installed. Falling back to regular HTTP download. For better performance, install the package with: `pip install huggingface_hub[hf_xet]` or `pip install hf_xet`\n",
            "WARNING:huggingface_hub.file_download:Xet Storage is enabled for this repo, but the 'hf_xet' package is not installed. Falling back to regular HTTP download. For better performance, install the package with: `pip install huggingface_hub[hf_xet]` or `pip install hf_xet`\n"
          ]
        },
        {
          "output_type": "display_data",
          "data": {
            "text/plain": [
              "model.safetensors:   0%|          | 0.00/440M [00:00<?, ?B/s]"
            ],
            "application/vnd.jupyter.widget-view+json": {
              "version_major": 2,
              "version_minor": 0,
              "model_id": "103418ff9b40463ba6489069dd119f3e"
            }
          },
          "metadata": {}
        },
        {
          "output_type": "stream",
          "name": "stderr",
          "text": [
            "Some weights of the model checkpoint at bert-base-uncased were not used when initializing BertForMaskedLM: ['bert.pooler.dense.bias', 'bert.pooler.dense.weight', 'cls.seq_relationship.bias', 'cls.seq_relationship.weight']\n",
            "- This IS expected if you are initializing BertForMaskedLM from the checkpoint of a model trained on another task or with another architecture (e.g. initializing a BertForSequenceClassification model from a BertForPreTraining model).\n",
            "- This IS NOT expected if you are initializing BertForMaskedLM from the checkpoint of a model that you expect to be exactly identical (initializing a BertForSequenceClassification model from a BertForSequenceClassification model).\n"
          ]
        },
        {
          "output_type": "stream",
          "name": "stdout",
          "text": [
            "================================\n",
            "Output by the HF implementation:\n",
            "tensor([[[ -6.6970,  -6.6549,  -6.6774,  ...,  -6.0279,  -5.8682,  -4.0572],\n",
            "         [-15.1445, -14.9616, -14.9885,  ..., -14.4125, -12.3173,  -9.9740],\n",
            "         [ -8.8521,  -9.0771,  -8.9349,  ...,  -8.5388,  -6.2250,  -5.0249],\n",
            "         ...,\n",
            "         [-11.8810, -12.0242, -11.6084,  ..., -10.4685,  -9.6563,  -9.2717],\n",
            "         [-12.5029, -12.7621, -12.8687,  ..., -11.8793, -11.7760,  -6.8052],\n",
            "         [ -9.5091,  -9.5710,  -9.6611,  ...,  -7.6633,  -8.5134,  -7.3767]]],\n",
            "       grad_fn=<ViewBackward0>)\n"
          ]
        }
      ]
    },
    {
      "cell_type": "markdown",
      "source": [
        "And now for our own implementation..."
      ],
      "metadata": {
        "id": "QAoRXKkKtyg1"
      }
    },
    {
      "cell_type": "code",
      "source": [
        "import torch\n",
        "from safetensors.torch import load_model\n",
        "\n",
        "tokenizer = Tokenizer(vocab)\n",
        "input_ids = [list(tokenizer.encode(\"This [MASK] the way!\"))]\n",
        "\n",
        "bert = BERTMLM()\n",
        "load_model(bert, \"./model.safetensors\", strict=False)\n",
        "logits = bert(torch.tensor(input_ids))\n",
        "masked_idx = torch.where(torch.tensor(input_ids) == 103)[1]\n",
        "masked_logits = logits[0, masked_idx, :]\n",
        "masked_prob = torch.nn.functional.softmax(masked_logits, dim=-1)\n",
        "\n",
        "print(\"================================\")\n",
        "print(\"Output by our implementation:\")\n",
        "print(logits)\n",
        "if torch.allclose(hfout, logits, atol=1e-2):\n",
        "  print(\"Matches the HF implementation!\")\n",
        "else:\n",
        "  print(\"Does not match the HF implementation :(\")\n",
        "\n",
        "k = 3\n",
        "print()\n",
        "print(f\"Top {k} words to fill in the [MASK]:\")\n",
        "for token in torch.topk(masked_logits, k, dim=1).indices[0]:\n",
        "  tokens = input_ids[0][1:int(masked_idx)] + [int(token)] + input_ids[0][int(masked_idx)+1:-1]\n",
        "  words = tokenizer.decode(tokens)\n",
        "  print(f\"- [{masked_prob[0][token]*100:>4.1f}%] {' '.join(words)}\")"
      ],
      "metadata": {
        "colab": {
          "base_uri": "https://localhost:8080/"
        },
        "id": "Qrdl4JwRMQAw",
        "outputId": "9f5d2aad-58bf-4ccd-c871-ef6ca13b7bf3"
      },
      "execution_count": null,
      "outputs": [
        {
          "output_type": "stream",
          "name": "stdout",
          "text": [
            "================================\n",
            "Output by our implementation:\n",
            "tensor([[[ -6.6969,  -6.6547,  -6.6772,  ...,  -6.0278,  -5.8680,  -4.0570],\n",
            "         [-15.1448, -14.9618, -14.9887,  ..., -14.4128, -12.3172,  -9.9750],\n",
            "         [ -8.8520,  -9.0769,  -8.9348,  ...,  -8.5384,  -6.2248,  -5.0254],\n",
            "         ...,\n",
            "         [-11.8809, -12.0241, -11.6084,  ..., -10.4687,  -9.6568,  -9.2712],\n",
            "         [-12.5036, -12.7627, -12.8693,  ..., -11.8796, -11.7763,  -6.8077],\n",
            "         [ -9.5086,  -9.5706,  -9.6606,  ...,  -7.6631,  -8.5133,  -7.3766]]],\n",
            "       grad_fn=<AddBackward0>)\n",
            "Matches the HF implementation!\n",
            "\n",
            "Top 3 words to fill in the [MASK]:\n",
            "- [73.8%] this is the way !\n",
            "- [26.1%] this was the way !\n",
            "- [ 0.0%] this s the way !\n"
          ]
        }
      ]
    },
    {
      "cell_type": "markdown",
      "source": [
        "## Further Challenges\n",
        "These additional tasks are not part of the notebook but feel free to challenge yourself and implement them.\n",
        "\n",
        "1. **Unknown Tokens:** Our tokenizer does not yet handle the case that a word cannot be tokenized. WordPiece tokenization handles untokenizable words by tokenizing them as the special token `[UNK]`. Note that the entire word must be tokenized as `[UNK]`. For example `aac` in the example above would not be tokenized as `aa [UNK]` but as `[UNK]`.\n",
        "2. **Masking:** So far, we can only input a single input sequence of multiple input sequences of the same length into our model. If we input two sequences of different lengths, then one of them would produce garbage outputs since tokens attend to undefined (or padding tokens, `[PAD]`, which have to be implemented) beyond the sequence length. This is avoidable through *attention masking*. An attention mask is a boolean tensor that is `True` for every valid token. E.g., the two sequences `a b` and `a b c` could be batched as the input id tensor of shape $2\\times 3$ (ignoring `[CLS]` and `[SEP]` for now) and the attention mask\n",
        "$$\\begin{pmatrix}\\texttt{True}&\\texttt{True}&\\texttt{False}\\\\\\texttt{True}&\\texttt{True}&\\texttt{True}\\end{pmatrix}.$$\n",
        "You can then either pass the mask for every operation and modify attention to respect this by setting masked-out values in the attention matrix to a very small (negative) number (this is currently what Hugging Face does) or use PyTorch's [masked tensors](https://docs.pytorch.org/tutorials/prototype/maskedtensor_overview) (experimental)."
      ],
      "metadata": {
        "id": "NEcmMqUGoKxV"
      }
    }
  ]
}