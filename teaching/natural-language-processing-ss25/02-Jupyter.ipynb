{
 "cells": [
  {
   "cell_type": "markdown",
   "metadata": {},
   "source": [
    "# Information Retrieval Lab: Jupyter Tutorial"
   ]
  },
  {
   "cell_type": "markdown",
   "metadata": {},
   "source": [
    "### (Re)sources:\n",
    "- [Python Data Science Handbook](https://jakevdp.github.io/PythonDataScienceHandbook/index.html) _by Jake VanderPlas (Code released under the MIT License)_\n",
    "- [A Whirlwind Tour of Python](https://jakevdp.github.io/WhirlwindTourOfPython/) _by Jake VanderPlas released under the \"No Rights Reserved\" CC0 license (O’Reilly). Copyright 2016 O’Reilly Media, Inc., 978-1-491-96465-1_\n",
    "- [Python for Data Analysis](https://github.com/wesm/pydata-book) _by Wes McKinney (Code released under the MIT License)_\n",
    "- [Markdown Cheatsheet](https://github.com/adam-p/markdown-here/wiki/Markdown-Cheatsheet) by Adam Pritchard\n",
    "\n",
    "__Obligatory Wikipedia excerpts:__\n",
    "\n",
    "\n",
    ">_Project Jupyter's name is a reference to the three core programming languages supported by Jupyter, which are Julia, Python and R, and also a homage to Galileo's notebooks recording the discovery of the moons of Jupiter_\n",
    "\n",
    ">_Jupyter is language agnostic and it supports execution environments (aka kernels) in several dozen languages among which are Julia, R, Haskell, Ruby, and of course Python (via the IPython kernel)._\n",
    "\n",
    ">_A notebook interface (also called a computational notebook) is a virtual notebook environment used for literate programming._\n",
    "\n",
    ">_Literate programming is a programming paradigm introduced by Donald Knuth in which a computer program is given an explanation of its logic in a natural language, such as English, interspersed with snippets of macros and traditional source code, from which compilable source code can be generated._\n",
    "\n",
    ">_The literate programming paradigm, as conceived by Knuth, represents a move away from writing computer programs in the manner and order imposed by the computer, and instead enables programmers to develop programs in the order demanded by the logic and flow of their thoughts._"
   ]
  },
  {
   "cell_type": "markdown",
   "metadata": {},
   "source": [
    "### Navigating the Notebook:\n",
    ">_The Jupyter Notebook has two different keyboard input modes. Edit mode allows you to type code or text into a cell and is indicated by a green cell border. Command mode binds the keyboard to notebook level commands and is indicated by a grey cell border with a blue left margin._\n",
    "\n",
    "<kbd>Esc</kbd>: Move from edit mode to command mode<br>\n",
    "\n",
    "<kbd>Enter</kbd>: Move from command mode to edit mode<br>\n",
    "\n",
    "⚠️ Note that there are two kinds of notebook cells. What are you are reading right now are the contents of a __Markdown Cell__. Later, we will enter python code into a __Code Cell__.<br>\n",
    "\n",
    "\n",
    "⚠️ <kbd>H</kbd>: List all keyboard shortcuts<br>\n",
    "⚠️ <kbd>P</kbd>: Open the searchable Command Palette<br>\n",
    "\n",
    "#### Useful keyboard shortcuts in command mode:\n",
    "<kbd>d</kbd><kbd>d</kbd>: Delete highlighted cell<br>\n",
    "<kbd>Space</kbd>: Go to bottom<br>\n",
    "<kbd>Shift</kbd>+<kbd>Space</kbd>: Go to top<br>\n",
    "(<kbd>Shift</kbd>+)<kbd>L</kbd>: Toggle (all) line numbers<br>\n",
    "<kbd>M</kbd>: Convert cell to Markdown Cell<br>\n",
    "<kbd>Y</kbd>: Convert cell to Code Cell<br>\n",
    "<kbd>C</kbd>: Copy Cell<br>\n",
    "<kbd>P</kbd>: Paste Cell<br>\n",
    "<kbd>X</kbd>: Cut Cell<br>\n",
    "\n",
    "\n",
    "#### Useful keyboard shortcuts in edit mode:\n",
    "<kbd>Shift</kbd>+<kbd>Enter</kbd>: Execute highlighted cell then highlight the cell below it<br>\n",
    "<kbd>Ctrl</kbd>+<kbd>Enter</kbd>: Execute highlighted cell and stay there<br>\n",
    "<kbd>Alt</kbd>+<kbd>Enter</kbd>: Execute highlighted, create cell below and insert cursor into it<br>\n",
    "<kbd>Ctrl</kbd>+<kbd>]</kbd>: Indent selection<br>\n",
    "<kbd>Ctrl</kbd>+<kbd>[</kbd>: Dedent selection<br>\n",
    "<kbd>Ctrl</kbd>+<kbd>/</kbd>: Toggle comment ON/OFF (Both Markdown and Code)<br>\n",
    "<kbd>Shift</kbd>+<kbd>Tab</kbd>: Display function doctstring<br>"
   ]
  },
  {
   "cell_type": "markdown",
   "metadata": {},
   "source": [
    "### Running Bash Commands:\n",
    "\n",
    "In a code cell, prefixing a command with <kbd>!</kbd> is equivalent to running it in a terminal. Try running the following commands:"
   ]
  },
  {
   "cell_type": "code",
   "execution_count": null,
   "metadata": {},
   "outputs": [],
   "source": [
    "!whoami"
   ]
  },
  {
   "cell_type": "code",
   "execution_count": null,
   "metadata": {},
   "outputs": [],
   "source": [
    "!pwd"
   ]
  },
  {
   "cell_type": "code",
   "execution_count": null,
   "metadata": {},
   "outputs": [],
   "source": [
    "!ls -lah"
   ]
  },
  {
   "cell_type": "markdown",
   "metadata": {},
   "source": [
    "You can use python variables and pass those to your bash commands by using <kbd>$</kbd> or <kbd>{.}</kbd>"
   ]
  },
  {
   "cell_type": "code",
   "execution_count": null,
   "metadata": {},
   "outputs": [],
   "source": [
    "a = \"/\"\n",
    "!ls $a\n",
    "#!ls {a}"
   ]
  },
  {
   "cell_type": "markdown",
   "metadata": {},
   "source": [
    "You can even assign the returned output of a bash command to a python variable"
   ]
  },
  {
   "cell_type": "code",
   "execution_count": null,
   "metadata": {},
   "outputs": [],
   "source": [
    "a = \"/\"\n",
    "b = !ls $a\n",
    "print(b)"
   ]
  },
  {
   "cell_type": "markdown",
   "metadata": {},
   "source": [
    "People usually use this to install packages into their environments using the python package manager pip:"
   ]
  },
  {
   "cell_type": "code",
   "execution_count": null,
   "metadata": {},
   "outputs": [],
   "source": [
    "!pip install numpy"
   ]
  },
  {
   "cell_type": "markdown",
   "metadata": {},
   "source": [
    "### Notebook Magics:\n",
    "\n",
    "Commands specific to the IPython kernel and prefixed with a <kbd>%</kbd> (line magic) or a <kbd>%%</kbd> (cell magic)\n",
    "\n",
    "#### Line Magics:\n",
    "\n",
    "Prefix a line with <kbd>%</kbd> to enable behavior that affects that line.\n",
    "\n",
    "#### Cell Magics:\n",
    "\n",
    "Prefix  with <kbd>%%</kbd> to enable behavior that affects the entire cell. (Has to be the first thing in the cell)\n",
    "\n",
    "⚠️ You can use the `lsmagic` magic to list all available magics:"
   ]
  },
  {
   "cell_type": "code",
   "execution_count": null,
   "metadata": {},
   "outputs": [],
   "source": [
    "%lsmagic"
   ]
  },
  {
   "cell_type": "markdown",
   "metadata": {},
   "source": [
    "⚠️ You can prepend any magic command (or in fact any python object) with a <kbd>?</kbd> to bring up information in the pager."
   ]
  },
  {
   "cell_type": "code",
   "execution_count": null,
   "metadata": {},
   "outputs": [],
   "source": [
    "%time?"
   ]
  },
  {
   "cell_type": "code",
   "execution_count": null,
   "metadata": {},
   "outputs": [],
   "source": [
    "%timeit?"
   ]
  },
  {
   "cell_type": "code",
   "execution_count": null,
   "metadata": {},
   "outputs": [],
   "source": [
    "%prun?"
   ]
  },
  {
   "cell_type": "code",
   "execution_count": null,
   "metadata": {},
   "outputs": [],
   "source": [
    "%load_ext?"
   ]
  },
  {
   "cell_type": "markdown",
   "metadata": {},
   "source": [
    "⚠️ You can [define your own magic commands](https://ipython.readthedocs.io/en/stable/config/custommagics.html) or install and enable additional ones:"
   ]
  },
  {
   "cell_type": "code",
   "execution_count": null,
   "metadata": {},
   "outputs": [],
   "source": [
    "!pip install -U memory_profiler"
   ]
  },
  {
   "cell_type": "code",
   "execution_count": null,
   "metadata": {},
   "outputs": [],
   "source": [
    "%load_ext memory_profiler"
   ]
  },
  {
   "cell_type": "code",
   "execution_count": null,
   "metadata": {},
   "outputs": [],
   "source": [
    "%memit?"
   ]
  },
  {
   "cell_type": "code",
   "execution_count": null,
   "metadata": {},
   "outputs": [],
   "source": [
    "%mprun?"
   ]
  },
  {
   "cell_type": "code",
   "execution_count": null,
   "metadata": {},
   "outputs": [],
   "source": [
    "%time a=[i**2 for i in range(100)];"
   ]
  },
  {
   "cell_type": "code",
   "execution_count": null,
   "metadata": {},
   "outputs": [],
   "source": [
    "%timeit a=[i**2 for i in range(100)];"
   ]
  },
  {
   "cell_type": "code",
   "execution_count": null,
   "metadata": {},
   "outputs": [],
   "source": [
    "%%time\n",
    "a=[i**2 for i in range(1000)]\n",
    "b=[i**i for i in range(1000)]"
   ]
  },
  {
   "cell_type": "code",
   "execution_count": null,
   "metadata": {},
   "outputs": [],
   "source": [
    "%%timeit\n",
    "a=[i**2 for i in range(1000)]\n",
    "b=[i**i for i in range(1000)]"
   ]
  },
  {
   "cell_type": "code",
   "execution_count": null,
   "metadata": {},
   "outputs": [],
   "source": [
    "%prun a=[i**2 for i in range(10000000)]"
   ]
  },
  {
   "cell_type": "code",
   "execution_count": null,
   "metadata": {},
   "outputs": [],
   "source": [
    "%memit a=[i**2 for i in range(10000000)]"
   ]
  },
  {
   "cell_type": "code",
   "execution_count": null,
   "metadata": {},
   "outputs": [],
   "source": [
    "%%writefile?"
   ]
  },
  {
   "cell_type": "code",
   "execution_count": null,
   "metadata": {},
   "outputs": [],
   "source": [
    "%%writefile memory_profiler_demo.py\n",
    "def list_comp(N=1000):\n",
    "    a = [i**2 for i in range(N)] # [0, 1, 4, 9, 16, 25, 36, 49, 64, 81,...]\n",
    "    b = [i**3 for i in range(N)] # [0, 1, 8, 27, 64, 125, 216, 343, 512, 729,...]\n",
    "    c = [(i+j) for i,j in zip(a,b)] # [0, 2, 12, 36, 80, 150, 252, 392, 576, 810, ...]\n",
    "    return c"
   ]
  },
  {
   "cell_type": "code",
   "execution_count": null,
   "metadata": {},
   "outputs": [],
   "source": [
    "list_comp(215)"
   ]
  },
  {
   "cell_type": "code",
   "execution_count": null,
   "metadata": {},
   "outputs": [],
   "source": [
    "from memory_profiler_demo import list_comp\n",
    "%mprun -f list_comp list_comp(15000)"
   ]
  },
  {
   "cell_type": "code",
   "execution_count": null,
   "metadata": {},
   "outputs": [],
   "source": [
    "%%perl\n",
    "\n",
    "@list = (1,2,3,4,5);\n",
    "foreach $a (@list) {\n",
    "    print \"$a\\n\";\n",
    "}"
   ]
  },
  {
   "cell_type": "code",
   "execution_count": null,
   "metadata": {},
   "outputs": [],
   "source": [
    "%%bash\n",
    "for i in 1,2,3,4,5; do\n",
    "    echo $i\n",
    "done"
   ]
  },
  {
   "cell_type": "code",
   "execution_count": null,
   "metadata": {},
   "outputs": [],
   "source": [
    "%%svg\n",
    "<!-- Source: https://www.w3schools.com/graphics/tryit.asp?filename=trysvg_path2 -->        \n",
    "<svg height=\"400\" width=\"450\">\n",
    "<path id=\"lineAB\" d=\"M 100 350 l 150 -300\" stroke=\"red\" stroke-width=\"3\" fill=\"none\" />\n",
    "<path id=\"lineBC\" d=\"M 250 50 l 150 300\" stroke=\"red\" stroke-width=\"3\" fill=\"none\" />\n",
    "<path d=\"M 175 200 l 150 0\" stroke=\"green\" stroke-width=\"3\" fill=\"none\" />\n",
    "<path d=\"M 100 350 q 150 -300 300 0\" stroke=\"blue\" stroke-width=\"5\" fill=\"none\" />\n",
    "<!-- Mark relevant points -->\n",
    "<g stroke=\"black\" stroke-width=\"3\" fill=\"black\">\n",
    "<circle id=\"pointA\" cx=\"100\" cy=\"350\" r=\"3\" />\n",
    "<circle id=\"pointB\" cx=\"250\" cy=\"50\" r=\"3\" />\n",
    "<circle id=\"pointC\" cx=\"400\" cy=\"350\" r=\"3\" />\n",
    "</g>\n",
    "<!-- Label the points -->\n",
    "<g font-size=\"30\" font-family=\"sans-serif\" fill=\"black\" stroke=\"none\" text-anchor=\"middle\">\n",
    "<text x=\"100\" y=\"350\" dx=\"-30\">A</text>\n",
    "<text x=\"250\" y=\"50\" dy=\"-10\">B</text>\n",
    "<text x=\"400\" y=\"350\" dx=\"30\">C</text>\n",
    "</g>\n",
    "</svg>"
   ]
  },
  {
   "cell_type": "markdown",
   "metadata": {},
   "source": [
    "### Notebook Aesthetics and Rich Media:\n",
    "\n",
    "There are 23 classes in the [display module](https://ipython.readthedocs.io/en/stable/api/generated/IPython.display.html)\n",
    "\n",
    "The `display` function is implicitly called on the last expression of a cell"
   ]
  },
  {
   "cell_type": "code",
   "execution_count": 12,
   "metadata": {},
   "outputs": [
    {
     "data": {
      "text/plain": [
       "3"
      ]
     },
     "execution_count": 12,
     "metadata": {},
     "output_type": "execute_result"
    }
   ],
   "source": [
    "1\n",
    "2\n",
    "3"
   ]
  },
  {
   "cell_type": "code",
   "execution_count": 15,
   "metadata": {},
   "outputs": [
    {
     "data": {
      "text/plain": [
       "3"
      ]
     },
     "metadata": {},
     "output_type": "display_data"
    }
   ],
   "source": [
    "display(3)"
   ]
  },
  {
   "cell_type": "code",
   "execution_count": 14,
   "metadata": {},
   "outputs": [],
   "source": [
    "1\n",
    "2\n",
    "3; # Use a ; to suppress that functionality"
   ]
  },
  {
   "cell_type": "code",
   "execution_count": 21,
   "metadata": {},
   "outputs": [],
   "source": [
    "[1 for thing in range(100)]; #Sometimes display does weird things, try removing the semicolon"
   ]
  },
  {
   "cell_type": "code",
   "execution_count": 22,
   "metadata": {},
   "outputs": [
    {
     "name": "stdout",
     "output_type": "stream",
     "text": [
      "[1, 1, 1, 1, 1, 1, 1, 1, 1, 1, 1, 1, 1, 1, 1, 1, 1, 1, 1, 1, 1, 1, 1, 1, 1, 1, 1, 1, 1, 1, 1, 1, 1, 1, 1, 1, 1, 1, 1, 1, 1, 1, 1, 1, 1, 1, 1, 1, 1, 1, 1, 1, 1, 1, 1, 1, 1, 1, 1, 1, 1, 1, 1, 1, 1, 1, 1, 1, 1, 1, 1, 1, 1, 1, 1, 1, 1, 1, 1, 1, 1, 1, 1, 1, 1, 1, 1, 1, 1, 1, 1, 1, 1, 1, 1, 1, 1, 1, 1, 1]\n"
     ]
    }
   ],
   "source": [
    "print([1 for thing in range(100)]) #Print works better in this case"
   ]
  },
  {
   "cell_type": "code",
   "execution_count": 23,
   "metadata": {},
   "outputs": [],
   "source": [
    "display?"
   ]
  },
  {
   "cell_type": "code",
   "execution_count": null,
   "metadata": {},
   "outputs": [],
   "source": [
    "#MAKE PAGE WIDER\n",
    "from IPython.display import HTML\n",
    "display(HTML(\"<style>.container { width:80% !important; }</style>\"))"
   ]
  },
  {
   "cell_type": "markdown",
   "metadata": {},
   "source": [
    "#### Displaying Tables:\n",
    "\n",
    "| A | B | C |\n",
    "| --- | --- | --- |\n",
    "| 123 | 456 | 789 |\n",
    "| 123 | 456 | 789 |\n",
    "| 123 | 456 | 789 |\n",
    "| 123 | 456 | 789 |\n",
    "\n",
    "<br>\n",
    "<br>\n",
    "\n",
    "| Header left      | Header center | Header right     |\n",
    "| :---        |    :----:   |          ---: |\n",
    "| This is left aligned      | centered       | This text is right aligned   |\n",
    "| left   | also centered        | And more      |"
   ]
  },
  {
   "cell_type": "markdown",
   "metadata": {},
   "source": [
    "#### Displaying equations and Math notation with MathJax:"
   ]
  },
  {
   "cell_type": "markdown",
   "metadata": {},
   "source": [
    "__MathJax Code:__\n",
    "```\n",
    "\\begin{equation*}\n",
    "\\mathbf{V}_1 \\times \\mathbf{V}_2 =  \\begin{vmatrix}\n",
    "\\mathbf{i} & \\mathbf{j} & \\mathbf{k} \\\\\n",
    "\\frac{\\partial X}{\\partial u} &  \\frac{\\partial Y}{\\partial u} & 0 \\\\\n",
    "\\frac{\\partial X}{\\partial v} &  \\frac{\\partial Y}{\\partial v} & 0\n",
    "\\end{vmatrix}\n",
    "\\end{equation*}\n",
    "```\n",
    "__Rendered Display:__\n",
    "\n",
    "\\begin{equation*}\n",
    "\\mathbf{V}_1 \\times \\mathbf{V}_2 =  \\begin{vmatrix}\n",
    "\\mathbf{i} & \\mathbf{j} & \\mathbf{k} \\\\\n",
    "\\frac{\\partial X}{\\partial u} &  \\frac{\\partial Y}{\\partial u} & 0 \\\\\n",
    "\\frac{\\partial X}{\\partial v} &  \\frac{\\partial Y}{\\partial v} & 0\n",
    "\\end{vmatrix}\n",
    "\\end{equation*}\n",
    "\n",
    "\n",
    "\n",
    "You can also feature your equations, such as the Cauchy-Schwarz Inequality, $\\left( \\sum_{k=1}^n a_k b_k \\right)^2 \\leq \\left( \\sum_{k=1}^n a_k^2 \\right) \\left( \\sum_{k=1}^n b_k^2 \\right)$ inline as part of a sentence by enclosing the expression in <kbd>$</kbd>."
   ]
  },
  {
   "cell_type": "markdown",
   "metadata": {},
   "source": [
    "#### Display an algorithm using Markdown and inline MathJax:\n",
    "source: https://ai.meta.stackexchange.com/questions/1679/writing-algorithm-formulas-using-mathjax\n",
    "\n",
    "> Algorithm parameters: step size  $\\alpha \\in (0 , 1] , \\epsilon > 0$   \n",
    "Initialize  $Q  ( s, a ), \\  \\forall s \\in S^+ , a \\in A ( s ),$ arbitrarily except that $Q ( terminal , \\cdot ) = 0$    \n",
    ">\n",
    "> Loop for each episode:  \n",
    "$\\quad$Initialize $S$   \n",
    "$\\quad$Loop  for  each  step  of  episode:    \n",
    "$\\qquad$Choose  $A$ from $S$ using some policy derived from $Q$ (eg $\\epsilon$-greedy)   \n",
    "$\\qquad$Take action $A$, observe $R, S'$   |\n",
    "$\\qquad Q(S,A) \\leftarrow Q(S,A) + \\alpha[R+\\gamma \\max_a(S', a) - Q(S, A)]$   \n",
    "$\\qquad S \\leftarrow S'$    \n",
    "$\\quad$ until $S$ is terminal"
   ]
  },
  {
   "cell_type": "markdown",
   "metadata": {},
   "source": [
    "#### Play Sound:"
   ]
  },
  {
   "cell_type": "code",
   "execution_count": null,
   "metadata": {
    "scrolled": true
   },
   "outputs": [],
   "source": [
    "from IPython.display import Audio\n",
    "import numpy as np\n",
    "framerate = 44100\n",
    "t = np.linspace(0,5,framerate*5)\n",
    "dataleft = np.sin(2*np.pi*220*t)\n",
    "dataright = np.sin(2*np.pi*224*t)\n",
    "Audio([dataleft, dataright],rate=framerate)"
   ]
  },
  {
   "cell_type": "markdown",
   "metadata": {},
   "source": [
    "#### Embed a Youtube Video:"
   ]
  },
  {
   "cell_type": "code",
   "execution_count": null,
   "metadata": {},
   "outputs": [],
   "source": [
    "from IPython.display import YouTubeVideo\n",
    "YouTubeVideo('2eCHD6f_phE')"
   ]
  },
  {
   "cell_type": "markdown",
   "metadata": {},
   "source": [
    "#### Embed a Photo:\n",
    "![](https://scikit-learn.org/stable/_static/ml_map.png)"
   ]
  },
  {
   "cell_type": "markdown",
   "metadata": {},
   "source": [
    "#### Embed an arbitrary IFrame:"
   ]
  },
  {
   "cell_type": "code",
   "execution_count": null,
   "metadata": {},
   "outputs": [],
   "source": [
    "from IPython.display import IFrame\n",
    "IFrame('https://pandas.pydata.org/Pandas_Cheat_Sheet.pdf', width=700, height=600)"
   ]
  }
 ],
 "metadata": {
  "kernelspec": {
   "display_name": "Python 3",
   "language": "python",
   "name": "python3"
  },
  "language_info": {
   "codemirror_mode": {
    "name": "ipython",
    "version": 3
   },
   "file_extension": ".py",
   "mimetype": "text/x-python",
   "name": "python",
   "nbconvert_exporter": "python",
   "pygments_lexer": "ipython3",
   "version": "3.8.6"
  }
 },
 "nbformat": 4,
 "nbformat_minor": 4
}